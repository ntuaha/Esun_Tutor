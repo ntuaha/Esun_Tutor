{
 "cells": [
  {
   "cell_type": "markdown",
   "metadata": {},
   "source": [
    "## 處理流程 ETL\n",
    "- 下載檔案 Extract\n",
    "- 基本的檔案處理 ( 解壓縮, 轉換格式...等) Transformation\n",
    "- 資料格式處理 T\n",
    "- 資料輸出 Loading"
   ]
  },
  {
   "cell_type": "markdown",
   "metadata": {},
   "source": [
    "## 下載檔案"
   ]
  },
  {
   "cell_type": "code",
   "execution_count": 32,
   "metadata": {
    "collapsed": true
   },
   "outputs": [],
   "source": [
    "import requests\n",
    "def download_file(folder_path,url):\n",
    "    local_filename = folder_path+url.split('/')[-1]\n",
    "    # NOTE the stream=True parameter\n",
    "    r = requests.get(url, stream=True)\n",
    "    with open(local_filename, 'wb') as f:\n",
    "        for chunk in r.iter_content(chunk_size=1024): \n",
    "            if chunk: # filter out keep-alive new chunks\n",
    "                f.write(chunk)\n",
    "                #f.flush() commented by recommendation from J.F.Sebastian\n",
    "    return local_filename\n"
   ]
  },
  {
   "cell_type": "markdown",
   "metadata": {},
   "source": [
    "## 檔案處理"
   ]
  },
  {
   "cell_type": "code",
   "execution_count": 33,
   "metadata": {
    "collapsed": true
   },
   "outputs": [],
   "source": [
    "import zipfile\n",
    "def upzip(zip_path,unzip_path):\n",
    "    zf = zipfile.ZipFile(zip_path,'r',zipfile.ZIP_DEFLATED)#打开已存在的zip文件\n",
    "    zf.extractall(unzip_path)#解压到当前目录"
   ]
  },
  {
   "cell_type": "markdown",
   "metadata": {},
   "source": [
    "## 格式處理"
   ]
  },
  {
   "cell_type": "code",
   "execution_count": 34,
   "metadata": {
    "collapsed": true
   },
   "outputs": [],
   "source": [
    "import xlrd\n",
    "def extract_bank(row_s,d,sh):\n",
    "    bank = {\"銀行類別\":\"本國銀行\",\"時間\":d,\"業務項目\":\"進口開狀\"}\n",
    "    name_zh = sh.cell_value(rowx=row_s,colx = 0).replace(\"\\u3000\",\"\")\n",
    "    this_month = int(sh.cell_value(rowx=row_s,colx = 2).replace(\",\",\"\"))*1000\n",
    "    sum_month = int(sh.cell_value(rowx=row_s,colx = 5).replace(\",\",\"\"))*1000\n",
    "    bank[\"本月\"] = this_month\n",
    "    bank[\"本年累計\"] = sum_month\n",
    "    bank[\"銀行中文名稱\"] = name_zh\n",
    "    return bank\n"
   ]
  },
  {
   "cell_type": "markdown",
   "metadata": {},
   "source": [
    "## 寫出資料 Loading"
   ]
  },
  {
   "cell_type": "code",
   "execution_count": 35,
   "metadata": {
    "collapsed": true
   },
   "outputs": [],
   "source": [
    "def writeToLC(date,banks):\n",
    "    with open('./import_LC_'+date+'.csv','w+') as f:\n",
    "        f.write(\"銀行中文名稱,本月,本年累計,銀行類別,時間,業務項目\")\n",
    "        for bank in banks:\n",
    "            f.write(\"\\n\")\n",
    "            f.write(bank[\"銀行中文名稱\"]+\",\")\n",
    "            f.write(\"%d,\"%(bank[\"本月\"]))\n",
    "            f.write(\"%d,\"%(bank[\"本年累計\"]))\n",
    "            f.write(bank[\"銀行類別\"]+\",\")\n",
    "            f.write(bank[\"時間\"]+\",\")\n",
    "            f.write(bank[\"業務項目\"])"
   ]
  },
  {
   "cell_type": "markdown",
   "metadata": {},
   "source": [
    "## 完整流程"
   ]
  },
  {
   "cell_type": "code",
   "execution_count": 36,
   "metadata": {
    "collapsed": true
   },
   "outputs": [],
   "source": [
    "def month_job(date):\n",
    "    filepath = \"12081400(%d)\"%date\n",
    "    download_file(\"./\",\"http://www.banking.gov.tw/webdowndoc?file=/stat/lc/%s.zip\"%filepath)\n",
    "    upzip(filepath+\".zip\",\"./\")\n",
    "    book = xlrd.open_workbook(\"%s.xls\"%filepath)\n",
    "    sh = book.sheet_by_index(1)\n",
    "    banks = []\n",
    "    read_Flag = 0\n",
    "    index = 0\n",
    "\n",
    "    while 1:\n",
    "        ## 狀態控制\n",
    "        if read_Flag == 0 and sh.cell_value(rowx=index,colx = 0).replace(\"\\u3000\",\"\")==\"總計\":\n",
    "            read_Flag = 1\n",
    "        if read_Flag == 1 and sh.cell_value(rowx=index,colx = 0).replace(\"\\u3000\",\"\") ==\"\":\n",
    "            break\n",
    "        ## 資料處理\n",
    "        if read_Flag == 1:\n",
    "            banks.append(extract_bank(index,'%d'%(date+191100),sh))\n",
    "        index = index + 1\n",
    "    writeToLC('%d'%(date+191100),banks) "
   ]
  },
  {
   "cell_type": "code",
   "execution_count": 38,
   "metadata": {
    "collapsed": false
   },
   "outputs": [],
   "source": [
    "month_job(10511)\n",
    "month_job(10510)"
   ]
  },
  {
   "cell_type": "code",
   "execution_count": null,
   "metadata": {
    "collapsed": true
   },
   "outputs": [],
   "source": []
  }
 ],
 "metadata": {
  "kernelspec": {
   "display_name": "Python 3",
   "language": "python",
   "name": "python3"
  },
  "language_info": {
   "codemirror_mode": {
    "name": "ipython",
    "version": 3
   },
   "file_extension": ".py",
   "mimetype": "text/x-python",
   "name": "python",
   "nbconvert_exporter": "python",
   "pygments_lexer": "ipython3",
   "version": "3.5.2"
  }
 },
 "nbformat": 4,
 "nbformat_minor": 1
}
