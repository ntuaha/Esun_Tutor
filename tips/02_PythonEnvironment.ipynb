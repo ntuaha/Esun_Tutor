{
 "cells": [
  {
   "cell_type": "markdown",
   "metadata": {},
   "source": [
    "## 簡介\n",
    "主要是了解目前工作目錄的相關設定"
   ]
  },
  {
   "cell_type": "code",
   "execution_count": 3,
   "metadata": {
    "collapsed": true
   },
   "outputs": [],
   "source": [
    "import numpy as np\n",
    "import matplotlib as mp\n",
    "import pandas as pd\n",
    "%matplotlib inline"
   ]
  },
  {
   "cell_type": "markdown",
   "metadata": {},
   "source": [
    "## 2.1 了解目前工作目錄與設定工作目錄\n",
    "可以參考的blog\n",
    "http://wiki.alarmchang.com/index.php?title=Os.getcwd()_%E6%8B%BF%E7%9B%AE%E5%89%8D%E7%9A%84%E5%B7%A5%E4%BD%9C%E7%9B%AE%E9%8C%84%EF%BC%8C%E9%82%A3%E5%A6%82%E6%9E%9C%E8%A6%81%E6%8B%BF%E4%B8%8A%E4%B8%80%E5%B1%A4%E7%9A%84%E8%B7%AF%E5%BE%91%E6%80%8E%E9%BA%BC%E8%BE%A6%EF%BC%9F"
   ]
  },
  {
   "cell_type": "code",
   "execution_count": 6,
   "metadata": {
    "collapsed": false
   },
   "outputs": [
    {
     "data": {
      "text/plain": [
       "'/Users/aha/Desktop/Python/tips'"
      ]
     },
     "execution_count": 6,
     "metadata": {},
     "output_type": "execute_result"
    }
   ],
   "source": [
    "#目前工作目錄\n",
    "import os\n",
    "os.getcwd()"
   ]
  },
  {
   "cell_type": "code",
   "execution_count": 7,
   "metadata": {
    "collapsed": true
   },
   "outputs": [],
   "source": [
    "#設定工作目錄\n",
    "os.chdir('/Users/aha/Desktop/Python/')"
   ]
  },
  {
   "cell_type": "code",
   "execution_count": 8,
   "metadata": {
    "collapsed": false
   },
   "outputs": [
    {
     "data": {
      "text/plain": [
       "'/Users/aha/Desktop/Python'"
      ]
     },
     "execution_count": 8,
     "metadata": {},
     "output_type": "execute_result"
    }
   ],
   "source": [
    "os.getcwd()"
   ]
  },
  {
   "cell_type": "markdown",
   "metadata": {},
   "source": [
    "## 2.2 儲存工作狀態\n",
    "在python 不好做，沒有一個標準做法，但可以參考[stackoverflow的做法](https://stackoverflow.com/questions/2960864/how-can-i-save-all-the-variables-in-the-current-python-session)"
   ]
  },
  {
   "cell_type": "code",
   "execution_count": 10,
   "metadata": {
    "collapsed": true
   },
   "outputs": [],
   "source": [
    "# To Save\n",
    "import shelve\n",
    "T='Hiya'\n",
    "val=[1,2,3]\n",
    "def saveAll():\n",
    "    filename='/tmp/shelve.out'\n",
    "    my_shelf = shelve.open(filename,'n') # 'n' for new\n",
    "    for key in dir():\n",
    "        try:\n",
    "            my_shelf[key] = globals()[key]\n",
    "        except TypeError:\n",
    "            print('ERROR shelving: {0}'.format(key))\n",
    "    my_shelf.close()"
   ]
  },
  {
   "cell_type": "code",
   "execution_count": 11,
   "metadata": {
    "collapsed": false
   },
   "outputs": [
    {
     "name": "stdout",
     "output_type": "stream",
     "text": [
      "Hiya\n",
      "[1, 2, 3]\n"
     ]
    }
   ],
   "source": [
    "# To Load\n",
    "def loadAll():\n",
    "    my_shelf = shelve.open(filename)\n",
    "    for key in my_shelf:\n",
    "        globals()[key]=my_shelf[key]\n",
    "    my_shelf.close()\n",
    "\n",
    "print(T)\n",
    "print(val)"
   ]
  },
  {
   "cell_type": "markdown",
   "metadata": {},
   "source": [
    "## 2.3 瀏覽歷史記錄\n",
    "``` python\n",
    "history\n",
    "#印出全部的歷史命令，不止現在這個session\n",
    "%history -g\n",
    "```"
   ]
  },
  {
   "cell_type": "markdown",
   "metadata": {},
   "source": [
    "## 2.4 先前執行成果\n",
    "- 可以用 ln[no] 取得輸入指令\n",
    "- 用 $\\_\\_$ 取得上次顯示的成果\n",
    "- 用 $\\_N$取得第N個顯示的成果\n",
    "\n",
    "可以參考此說明[連結](https://ipython.org/ipython-doc/rel-0.10.2/html/interactive/tutorial.html)"
   ]
  },
  {
   "cell_type": "code",
   "execution_count": 21,
   "metadata": {
    "collapsed": false
   },
   "outputs": [],
   "source": [
    "a = 1"
   ]
  },
  {
   "cell_type": "code",
   "execution_count": 28,
   "metadata": {
    "collapsed": false
   },
   "outputs": [
    {
     "data": {
      "text/plain": [
       "'/Users/aha/Desktop/Python'"
      ]
     },
     "execution_count": 28,
     "metadata": {},
     "output_type": "execute_result"
    }
   ],
   "source": [
    "__"
   ]
  },
  {
   "cell_type": "code",
   "execution_count": 29,
   "metadata": {
    "collapsed": false
   },
   "outputs": [
    {
     "data": {
      "text/plain": [
       "'/Users/aha/Desktop/Python/tips'"
      ]
     },
     "execution_count": 29,
     "metadata": {},
     "output_type": "execute_result"
    }
   ],
   "source": [
    "_6"
   ]
  },
  {
   "cell_type": "markdown",
   "metadata": {},
   "source": [
    "## 2.5 套件搜尋路徑"
   ]
  },
  {
   "cell_type": "code",
   "execution_count": 32,
   "metadata": {
    "collapsed": false
   },
   "outputs": [
    {
     "data": {
      "text/plain": [
       "['',\n",
       " '/usr/local/Cellar/python3/3.5.2_2/Frameworks/Python.framework/Versions/3.5/lib/python35.zip',\n",
       " '/usr/local/Cellar/python3/3.5.2_2/Frameworks/Python.framework/Versions/3.5/lib/python3.5',\n",
       " '/usr/local/Cellar/python3/3.5.2_2/Frameworks/Python.framework/Versions/3.5/lib/python3.5/plat-darwin',\n",
       " '/usr/local/Cellar/python3/3.5.2_2/Frameworks/Python.framework/Versions/3.5/lib/python3.5/lib-dynload',\n",
       " '/Users/aha/Library/Python/3.5/lib/python/site-packages',\n",
       " '/usr/local/lib/python3.5/site-packages',\n",
       " '/usr/local/lib/python3.5/site-packages/IPython/extensions',\n",
       " '/Users/aha/.ipython']"
      ]
     },
     "execution_count": 32,
     "metadata": {},
     "output_type": "execute_result"
    }
   ],
   "source": [
    "import sys\n",
    "sys.path"
   ]
  },
  {
   "cell_type": "markdown",
   "metadata": {},
   "source": [
    "## 2.6 目前已經有import的套件\n",
    "可以參考這個[連結](https://stackoverflow.com/questions/4858100/how-to-list-imported-modules)\n",
    "```python\n",
    "import sys\n",
    "sys.modules.keys()\n",
    "```"
   ]
  },
  {
   "cell_type": "code",
   "execution_count": 37,
   "metadata": {
    "collapsed": false
   },
   "outputs": [
    {
     "name": "stdout",
     "output_type": "stream",
     "text": [
      "<generator object imports at 0x1083edd58>\n"
     ]
    }
   ],
   "source": [
    "import types\n",
    "def imports():\n",
    "    for name, val in globals().items():\n",
    "        if isinstance(val, types.ModuleType):\n",
    "            yield val.__name__\n",
    "print(imports())"
   ]
  },
  {
   "cell_type": "markdown",
   "metadata": {},
   "source": [
    "## 2.7 存取大家常用的資料集\n",
    "這個需要另外一個套件[scikit-learn](http://scikit-learn.org/stable/tutorial/basic/tutorial.html#loading-example-dataset)\n",
    "```python\n",
    "from sklearn import datasets\n",
    "iris = datasets.load_iris()\n",
    "#digits = datasets.load_digits()\n",
    "print(iris)\n",
    "```"
   ]
  },
  {
   "cell_type": "markdown",
   "metadata": {},
   "source": [
    "## 2.8 列出已經安裝的套件\n",
    "可以參考此說明[連結](https://stackoverflow.com/questions/739993/how-can-i-get-a-list-of-locally-installed-python-modules)\n",
    "```python\n",
    "import pip\n",
    "installed_packages = pip.get_installed_distributions()\n",
    "installed_packages_list = sorted([\"%s==%s\" % (i.key, i.version)\n",
    "     for i in installed_packages])\n",
    "print(installed_packages_list)\n",
    "```"
   ]
  },
  {
   "cell_type": "markdown",
   "metadata": {},
   "source": [
    "## 2.9 從pip 安裝套件\n",
    "在mac上還蠻簡單的\n",
    "```bash\n",
    "sudo -H pip(3) install -IU [package_name]\n",
    "```\n",
    "在Ubuntu 也差不多\n",
    "```bash\n",
    "sudo pip(3) install -IU [package_name]\n",
    "```\n"
   ]
  },
  {
   "cell_type": "markdown",
   "metadata": {},
   "source": [
    "## 2.10選擇 pip 要下載的地方\n",
    "1. TODO\n",
    "2. 其實也可以先下載,然後之後再統一安裝. 對於網路狀況很差的地方很好用(e.g., 公司內部)"
   ]
  },
  {
   "cell_type": "markdown",
   "metadata": {},
   "source": [
    "## 2.11執行script\n",
    "[據說](https://stackoverflow.com/questions/11744181/running-python-script-inside-ipython)只要使用%run就可以囉\n",
    "```ipython\n",
    "%run [file_path]\n",
    "```"
   ]
  },
  {
   "cell_type": "markdown",
   "metadata": {},
   "source": [
    "## 2.12 批次執行\n",
    "!一直都是我們的好夥伴\n",
    "\n",
    "```ipython\n",
    "!python 指令碼\n",
    "```"
   ]
  },
  {
   "cell_type": "markdown",
   "metadata": {},
   "source": [
    "## 2.13 取得與檢查環境變數\n",
    "取得\n",
    "```python\n",
    "os.environ\n",
    "```\n",
    "設定\n",
    "```python\n",
    "os.environ['xxx'] = oooo\n",
    "```"
   ]
  },
  {
   "cell_type": "code",
   "execution_count": 45,
   "metadata": {
    "collapsed": false
   },
   "outputs": [
    {
     "data": {
      "text/plain": [
       "'/Users/aha'"
      ]
     },
     "execution_count": 45,
     "metadata": {},
     "output_type": "execute_result"
    }
   ],
   "source": [
    "os.environ['HOME']"
   ]
  },
  {
   "cell_type": "code",
   "execution_count": 51,
   "metadata": {
    "collapsed": false
   },
   "outputs": [
    {
     "name": "stdout",
     "output_type": "stream",
     "text": [
      "123\r\n"
     ]
    }
   ],
   "source": [
    "os.environ['GG'] = '123'\n",
    "!echo $GG"
   ]
  },
  {
   "cell_type": "markdown",
   "metadata": {},
   "source": [
    "## 2.14 取得python的起始目錄\n",
    "直接參考此[連結](https://stackoverflow.com/questions/6767283/find-where-python-is-installed-if-it-isnt-default-dir)"
   ]
  },
  {
   "cell_type": "code",
   "execution_count": 56,
   "metadata": {
    "collapsed": false
   },
   "outputs": [
    {
     "data": {
      "text/plain": [
       "'/Users/aha/Library/Python/3.5/lib/python/site-packages'"
      ]
     },
     "execution_count": 56,
     "metadata": {},
     "output_type": "execute_result"
    }
   ],
   "source": [
    "import site\n",
    "site.getusersitepackages()"
   ]
  },
  {
   "cell_type": "markdown",
   "metadata": {},
   "source": [
    "## 2.15 起始時Python 就初始化\n",
    "可以參考此[連結](https://stackoverflow.com/questions/2078752/passing-options-to-python-executable-in-non-interactive-mode)\n",
    "\n",
    "在2.14提到的目錄下放置 **sitecustomize.py** 這個檔案執行相關內容即可\n",
    "例如:\n",
    "```python\n",
    "import warnings\n",
    "warnings.simplefilter(\"ignore\", DeprecationWarning)\n",
    "```"
   ]
  },
  {
   "cell_type": "code",
   "execution_count": null,
   "metadata": {
    "collapsed": true
   },
   "outputs": [],
   "source": []
  }
 ],
 "metadata": {
  "kernelspec": {
   "display_name": "Python 3",
   "language": "python",
   "name": "python3"
  },
  "language_info": {
   "codemirror_mode": {
    "name": "ipython",
    "version": 3
   },
   "file_extension": ".py",
   "mimetype": "text/x-python",
   "name": "python",
   "nbconvert_exporter": "python",
   "pygments_lexer": "ipython3",
   "version": "3.5.2"
  }
 },
 "nbformat": 4,
 "nbformat_minor": 1
}
