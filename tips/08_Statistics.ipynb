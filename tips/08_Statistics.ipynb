{
 "cells": [
  {
   "cell_type": "markdown",
   "metadata": {},
   "source": [
    "## 簡介\n",
    "### 虛無假設 null hypothesis\n",
    "就是什麼事情都沒有發生(nothing happened): 平均數不變, 治療無效果, 答案或者是模型沒有改變.\n",
    "\n",
    "### 對立假設 alternative hypothesis\n",
    "something happened: 平均數上升, 改善病患狀況, 模型變更好了\n",
    "\n",
    "### 步驟\n",
    "1. 設定 null hypothesis 包含 分佈 與 p 臨界值.\n",
    "2. 計算檢定統計量, 可能包含: 平均數等等，關鍵在於要知道樣本或母體的分配狀況\n",
    "3. 根據統計量與分配狀況, 計算 p \n",
    "4. 如果p 小於臨界值, 這表示我們要 rejecting the null hypothesis\n",
    "5. 如果p 大於臨界值, 這表示我們要 failing to reject the null hypothesis (這不表示 null hypothese 是對的)\n",
    "\n",
    "### 案例\n",
    "1. null hypothesis假設兩個變數獨立, 那麼 alternative hypothesis 就表示並非獨立\n",
    "2. 所以設定臨界值(顯著水準) $\\alpha = 0.05 $, 當 $ p < \\alpha $ 那我們就 rejecting the null hypothesis 表示我們相信 兩個變數並不是獨立的\n",
    "3. 顯著水準是可以自由調整的"
   ]
  },
  {
   "cell_type": "code",
   "execution_count": 2,
   "metadata": {
    "collapsed": true
   },
   "outputs": [],
   "source": [
    "import numpy as np\n",
    "import matplotlib as mp\n",
    "import pandas as pd\n",
    "%matplotlib inline\n",
    "import sklearn\n",
    "import os\n",
    "import sys\n",
    "import datetime\n",
    "import random"
   ]
  },
  {
   "cell_type": "code",
   "execution_count": null,
   "metadata": {
    "collapsed": true
   },
   "outputs": [],
   "source": []
  }
 ],
 "metadata": {
  "kernelspec": {
   "display_name": "Python 3",
   "language": "python",
   "name": "python3"
  },
  "language_info": {
   "codemirror_mode": {
    "name": "ipython",
    "version": 3
   },
   "file_extension": ".py",
   "mimetype": "text/x-python",
   "name": "python",
   "nbconvert_exporter": "python",
   "pygments_lexer": "ipython3",
   "version": "3.5.2"
  }
 },
 "nbformat": 4,
 "nbformat_minor": 1
}
