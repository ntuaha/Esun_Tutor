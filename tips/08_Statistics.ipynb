{
 "cells": [
  {
   "cell_type": "markdown",
   "metadata": {},
   "source": [
    "## 簡介\n",
    "### 虛無假設 null hypothesis\n",
    "就是什麼事情都沒有發生(nothing happened): 平均數不變, 治療無效果, 答案或者是模型沒有改變.\n",
    "\n",
    "### 對立假設 alternative hypothesis\n",
    "something happened: 平均數上升, 改善病患狀況, 模型變更好了\n",
    "\n",
    "### 步驟\n",
    "1. 設定 null hypothesis 包含 分佈 與 p 臨界值.\n",
    "2. 計算檢定統計量, 可能包含: 平均數等等，關鍵在於要知道樣本或母體的分配狀況\n",
    "3. 根據統計量與分配狀況, 計算 p \n",
    "4. 如果p 小於臨界值, 這表示我們要 rejecting the null hypothesis\n",
    "5. 如果p 大於臨界值, 這表示我們要 failing to reject the null hypothesis (這不表示 null hypothese 是對的)\n",
    "\n",
    "### 案例\n",
    "1. null hypothesis假設兩個變數獨立, 那麼 alternative hypothesis 就表示並非獨立\n",
    "2. 所以設定臨界值(顯著水準) $\\alpha = 0.05 $, 當 $ p < \\alpha $ 那我們就 rejecting the null hypothesis 表示我們相信 兩個變數並不是獨立的\n",
    "3. 顯著水準是可以自由調整的\n",
    "\n",
    "### 信賴區間\n",
    "可以用給定的信賴水準估計母體的參數值．"
   ]
  },
  {
   "cell_type": "code",
   "execution_count": 1,
   "metadata": {
    "collapsed": true
   },
   "outputs": [],
   "source": [
    "import numpy as np\n",
    "import matplotlib as mp\n",
    "import pandas as pd\n",
    "%matplotlib inline\n",
    "import sklearn\n",
    "import os\n",
    "import sys\n",
    "import datetime\n",
    "import random"
   ]
  },
  {
   "cell_type": "markdown",
   "metadata": {
    "collapsed": true
   },
   "source": [
    "## 8.1 匯總資料統計量摘要\n",
    "https://pandas.pydata.org/pandas-docs/stable/generated/pandas.DataFrame.describe.html"
   ]
  },
  {
   "cell_type": "code",
   "execution_count": 12,
   "metadata": {
    "collapsed": false
   },
   "outputs": [
    {
     "data": {
      "text/html": [
       "<div>\n",
       "<table border=\"1\" class=\"dataframe\">\n",
       "  <thead>\n",
       "    <tr style=\"text-align: right;\">\n",
       "      <th></th>\n",
       "      <th>A</th>\n",
       "      <th>B</th>\n",
       "    </tr>\n",
       "  </thead>\n",
       "  <tbody>\n",
       "    <tr>\n",
       "      <th>0</th>\n",
       "      <td>0</td>\n",
       "      <td>A</td>\n",
       "    </tr>\n",
       "    <tr>\n",
       "      <th>1</th>\n",
       "      <td>1</td>\n",
       "      <td>A</td>\n",
       "    </tr>\n",
       "    <tr>\n",
       "      <th>2</th>\n",
       "      <td>2</td>\n",
       "      <td>A</td>\n",
       "    </tr>\n",
       "    <tr>\n",
       "      <th>3</th>\n",
       "      <td>3</td>\n",
       "      <td>A</td>\n",
       "    </tr>\n",
       "    <tr>\n",
       "      <th>4</th>\n",
       "      <td>4</td>\n",
       "      <td>A</td>\n",
       "    </tr>\n",
       "    <tr>\n",
       "      <th>5</th>\n",
       "      <td>5</td>\n",
       "      <td>B</td>\n",
       "    </tr>\n",
       "    <tr>\n",
       "      <th>6</th>\n",
       "      <td>6</td>\n",
       "      <td>B</td>\n",
       "    </tr>\n",
       "    <tr>\n",
       "      <th>7</th>\n",
       "      <td>7</td>\n",
       "      <td>B</td>\n",
       "    </tr>\n",
       "    <tr>\n",
       "      <th>8</th>\n",
       "      <td>8</td>\n",
       "      <td>B</td>\n",
       "    </tr>\n",
       "    <tr>\n",
       "      <th>9</th>\n",
       "      <td>9</td>\n",
       "      <td>B</td>\n",
       "    </tr>\n",
       "  </tbody>\n",
       "</table>\n",
       "</div>"
      ],
      "text/plain": [
       "   A  B\n",
       "0  0  A\n",
       "1  1  A\n",
       "2  2  A\n",
       "3  3  A\n",
       "4  4  A\n",
       "5  5  B\n",
       "6  6  B\n",
       "7  7  B\n",
       "8  8  B\n",
       "9  9  B"
      ]
     },
     "execution_count": 12,
     "metadata": {},
     "output_type": "execute_result"
    }
   ],
   "source": [
    "a = pd.DataFrame({\"A\":np.arange(10),\"B\":np.repeat([\"A\",\"B\"],5)})\n",
    "a"
   ]
  },
  {
   "cell_type": "code",
   "execution_count": 10,
   "metadata": {
    "collapsed": false
   },
   "outputs": [
    {
     "data": {
      "text/html": [
       "<div>\n",
       "<table border=\"1\" class=\"dataframe\">\n",
       "  <thead>\n",
       "    <tr style=\"text-align: right;\">\n",
       "      <th></th>\n",
       "      <th>A</th>\n",
       "      <th>B</th>\n",
       "    </tr>\n",
       "  </thead>\n",
       "  <tbody>\n",
       "    <tr>\n",
       "      <th>count</th>\n",
       "      <td>10.00000</td>\n",
       "      <td>10</td>\n",
       "    </tr>\n",
       "    <tr>\n",
       "      <th>unique</th>\n",
       "      <td>NaN</td>\n",
       "      <td>2</td>\n",
       "    </tr>\n",
       "    <tr>\n",
       "      <th>top</th>\n",
       "      <td>NaN</td>\n",
       "      <td>B</td>\n",
       "    </tr>\n",
       "    <tr>\n",
       "      <th>freq</th>\n",
       "      <td>NaN</td>\n",
       "      <td>5</td>\n",
       "    </tr>\n",
       "    <tr>\n",
       "      <th>mean</th>\n",
       "      <td>4.50000</td>\n",
       "      <td>NaN</td>\n",
       "    </tr>\n",
       "    <tr>\n",
       "      <th>std</th>\n",
       "      <td>3.02765</td>\n",
       "      <td>NaN</td>\n",
       "    </tr>\n",
       "    <tr>\n",
       "      <th>min</th>\n",
       "      <td>0.00000</td>\n",
       "      <td>NaN</td>\n",
       "    </tr>\n",
       "    <tr>\n",
       "      <th>25%</th>\n",
       "      <td>2.25000</td>\n",
       "      <td>NaN</td>\n",
       "    </tr>\n",
       "    <tr>\n",
       "      <th>50%</th>\n",
       "      <td>4.50000</td>\n",
       "      <td>NaN</td>\n",
       "    </tr>\n",
       "    <tr>\n",
       "      <th>75%</th>\n",
       "      <td>6.75000</td>\n",
       "      <td>NaN</td>\n",
       "    </tr>\n",
       "    <tr>\n",
       "      <th>max</th>\n",
       "      <td>9.00000</td>\n",
       "      <td>NaN</td>\n",
       "    </tr>\n",
       "  </tbody>\n",
       "</table>\n",
       "</div>"
      ],
      "text/plain": [
       "               A    B\n",
       "count   10.00000   10\n",
       "unique       NaN    2\n",
       "top          NaN    B\n",
       "freq         NaN    5\n",
       "mean     4.50000  NaN\n",
       "std      3.02765  NaN\n",
       "min      0.00000  NaN\n",
       "25%      2.25000  NaN\n",
       "50%      4.50000  NaN\n",
       "75%      6.75000  NaN\n",
       "max      9.00000  NaN"
      ]
     },
     "execution_count": 10,
     "metadata": {},
     "output_type": "execute_result"
    }
   ],
   "source": [
    "# 透過include 強迫全秀\n",
    "a.describe(include='all')"
   ]
  },
  {
   "cell_type": "markdown",
   "metadata": {},
   "source": [
    "### 第二個方法\n",
    "https://docs.scipy.org/doc/scipy-0.19.0/reference/generated/scipy.stats.describe.html"
   ]
  },
  {
   "cell_type": "code",
   "execution_count": 14,
   "metadata": {
    "collapsed": false
   },
   "outputs": [
    {
     "data": {
      "text/plain": [
       "DescribeResult(nobs=10, minmax=(0, 9), mean=4.5, variance=9.1666666666666661, skewness=0.0, kurtosis=-1.2242424242424244)"
      ]
     },
     "execution_count": 14,
     "metadata": {},
     "output_type": "execute_result"
    }
   ],
   "source": [
    "from scipy import stats\n",
    "a = np.arange(10)\n",
    "stats.describe(a)"
   ]
  },
  {
   "cell_type": "markdown",
   "metadata": {},
   "source": [
    "## 8.2 計算特定子集的 相對次數\n",
    "例如想要找出大於兩個標準差的數字的個數"
   ]
  },
  {
   "cell_type": "code",
   "execution_count": 21,
   "metadata": {
    "collapsed": false
   },
   "outputs": [
    {
     "data": {
      "text/plain": [
       "array([  0.,   2.,   4.,   6.,   8.,  10.,  12.,  14.,  16.,  18.])"
      ]
     },
     "execution_count": 21,
     "metadata": {},
     "output_type": "execute_result"
    }
   ],
   "source": [
    "a = np.arange(10,dtype=np.float64)*2\n",
    "a"
   ]
  },
  {
   "cell_type": "code",
   "execution_count": 24,
   "metadata": {
    "collapsed": false
   },
   "outputs": [
    {
     "data": {
      "text/plain": [
       "0.40000000000000002"
      ]
     },
     "execution_count": 24,
     "metadata": {},
     "output_type": "execute_result"
    }
   ],
   "source": [
    "# 浮點數誤差\n",
    "np.mean(np.abs(a-np.mean(a))> np.std(a),dtype=np.float64)"
   ]
  },
  {
   "cell_type": "markdown",
   "metadata": {},
   "source": [
    "## 8.3 表列因子建立列連表\n",
    "https://pandas.pydata.org/pandas-docs/stable/generated/pandas.crosstab.html"
   ]
  },
  {
   "cell_type": "code",
   "execution_count": 31,
   "metadata": {
    "collapsed": false
   },
   "outputs": [],
   "source": [
    "foo = 'foo'\n",
    "bar = 'bar'\n",
    "one = 1 \n",
    "two = 2\n",
    "dull = 'dull'\n",
    "shiny = 'shiny'\n",
    "a = np.array([foo, foo, foo, foo, bar, bar,bar, bar, foo, foo, foo], dtype=object)\n",
    "b = np.array([one, one, one, two, one, one,one, two, two, two, one], dtype=object)\n",
    "c = np.array([dull, dull, shiny, dull, dull, shiny,shiny, dull, shiny, shiny, shiny], dtype=object)"
   ]
  },
  {
   "cell_type": "code",
   "execution_count": 32,
   "metadata": {
    "collapsed": false
   },
   "outputs": [
    {
     "data": {
      "text/html": [
       "<div>\n",
       "<table border=\"1\" class=\"dataframe\">\n",
       "  <thead>\n",
       "    <tr>\n",
       "      <th>col_0</th>\n",
       "      <th colspan=\"2\" halign=\"left\">1</th>\n",
       "      <th colspan=\"2\" halign=\"left\">2</th>\n",
       "    </tr>\n",
       "    <tr>\n",
       "      <th>col_1</th>\n",
       "      <th>dull</th>\n",
       "      <th>shiny</th>\n",
       "      <th>dull</th>\n",
       "      <th>shiny</th>\n",
       "    </tr>\n",
       "    <tr>\n",
       "      <th>row_0</th>\n",
       "      <th></th>\n",
       "      <th></th>\n",
       "      <th></th>\n",
       "      <th></th>\n",
       "    </tr>\n",
       "  </thead>\n",
       "  <tbody>\n",
       "    <tr>\n",
       "      <th>bar</th>\n",
       "      <td>1</td>\n",
       "      <td>2</td>\n",
       "      <td>1</td>\n",
       "      <td>0</td>\n",
       "    </tr>\n",
       "    <tr>\n",
       "      <th>foo</th>\n",
       "      <td>2</td>\n",
       "      <td>2</td>\n",
       "      <td>1</td>\n",
       "      <td>2</td>\n",
       "    </tr>\n",
       "  </tbody>\n",
       "</table>\n",
       "</div>"
      ],
      "text/plain": [
       "col_0    1          2      \n",
       "col_1 dull shiny dull shiny\n",
       "row_0                      \n",
       "bar      1     2    1     0\n",
       "foo      2     2    1     2"
      ]
     },
     "execution_count": 32,
     "metadata": {},
     "output_type": "execute_result"
    }
   ],
   "source": [
    "pd.crosstab(a,[b,c])"
   ]
  },
  {
   "cell_type": "markdown",
   "metadata": {},
   "source": [
    "## 8.4  確認變數之間的獨立性\n",
    "http://hamelg.blogspot.tw/2015/11/python-for-data-analysis-part-25-chi.html"
   ]
  },
  {
   "cell_type": "code",
   "execution_count": 35,
   "metadata": {
    "collapsed": false
   },
   "outputs": [],
   "source": [
    "# //TODO"
   ]
  },
  {
   "cell_type": "markdown",
   "metadata": {},
   "source": [
    "## 8.5 計算資料集的分位數\n",
    "https://docs.scipy.org/doc/numpy-dev/reference/generated/numpy.percentile.html"
   ]
  },
  {
   "cell_type": "code",
   "execution_count": 45,
   "metadata": {
    "collapsed": false
   },
   "outputs": [
    {
     "data": {
      "text/plain": [
       "array([ 0.        ,  0.01010101,  0.02020202,  0.03030303,  0.04040404,\n",
       "        0.05050505,  0.06060606,  0.07070707,  0.08080808,  0.09090909,\n",
       "        0.1010101 ,  0.11111111,  0.12121212,  0.13131313,  0.14141414,\n",
       "        0.15151515,  0.16161616,  0.17171717,  0.18181818,  0.19191919,\n",
       "        0.2020202 ,  0.21212121,  0.22222222,  0.23232323,  0.24242424,\n",
       "        0.25252525,  0.26262626,  0.27272727,  0.28282828,  0.29292929,\n",
       "        0.3030303 ,  0.31313131,  0.32323232,  0.33333333,  0.34343434,\n",
       "        0.35353535,  0.36363636,  0.37373737,  0.38383838,  0.39393939,\n",
       "        0.4040404 ,  0.41414141,  0.42424242,  0.43434343,  0.44444444,\n",
       "        0.45454545,  0.46464646,  0.47474747,  0.48484848,  0.49494949,\n",
       "        0.50505051,  0.51515152,  0.52525253,  0.53535354,  0.54545455,\n",
       "        0.55555556,  0.56565657,  0.57575758,  0.58585859,  0.5959596 ,\n",
       "        0.60606061,  0.61616162,  0.62626263,  0.63636364,  0.64646465,\n",
       "        0.65656566,  0.66666667,  0.67676768,  0.68686869,  0.6969697 ,\n",
       "        0.70707071,  0.71717172,  0.72727273,  0.73737374,  0.74747475,\n",
       "        0.75757576,  0.76767677,  0.77777778,  0.78787879,  0.7979798 ,\n",
       "        0.80808081,  0.81818182,  0.82828283,  0.83838384,  0.84848485,\n",
       "        0.85858586,  0.86868687,  0.87878788,  0.88888889,  0.8989899 ,\n",
       "        0.90909091,  0.91919192,  0.92929293,  0.93939394,  0.94949495,\n",
       "        0.95959596,  0.96969697,  0.97979798,  0.98989899,  1.        ])"
      ]
     },
     "execution_count": 45,
     "metadata": {},
     "output_type": "execute_result"
    }
   ],
   "source": [
    "a = np.linspace(0,1,100)\n",
    "a"
   ]
  },
  {
   "cell_type": "code",
   "execution_count": 46,
   "metadata": {
    "collapsed": false
   },
   "outputs": [
    {
     "data": {
      "text/plain": [
       "0.5"
      ]
     },
     "execution_count": 46,
     "metadata": {},
     "output_type": "execute_result"
    }
   ],
   "source": [
    "np.percentile(a,50)"
   ]
  },
  {
   "cell_type": "code",
   "execution_count": 47,
   "metadata": {
    "collapsed": false
   },
   "outputs": [
    {
     "data": {
      "text/plain": [
       "array([ 0.2,  0.5])"
      ]
     },
     "execution_count": 47,
     "metadata": {},
     "output_type": "execute_result"
    }
   ],
   "source": [
    "np.percentile(a,[20,50])"
   ]
  },
  {
   "cell_type": "markdown",
   "metadata": {},
   "source": [
    "## 8.6 反轉分位數\n",
    "找出有多少比例小於你所給予的數字"
   ]
  },
  {
   "cell_type": "code",
   "execution_count": 49,
   "metadata": {
    "collapsed": false
   },
   "outputs": [
    {
     "name": "stdout",
     "output_type": "stream",
     "text": [
      "[ 0.00791305  0.13835104  0.36701642  0.64019307  0.69162787  0.9606918\n",
      "  0.30717037  0.19778286  0.14175649  0.64856211]\n"
     ]
    }
   ],
   "source": [
    "a = np.random.random(10)\n",
    "print(a)"
   ]
  },
  {
   "cell_type": "code",
   "execution_count": 50,
   "metadata": {
    "collapsed": false
   },
   "outputs": [
    {
     "data": {
      "text/plain": [
       "0.40000000000000002"
      ]
     },
     "execution_count": 50,
     "metadata": {},
     "output_type": "execute_result"
    }
   ],
   "source": [
    "np.mean(a<0.3)"
   ]
  },
  {
   "cell_type": "markdown",
   "metadata": {},
   "source": [
    "## 8.7 將資料轉換成Z score\n",
    "公式 $ z = \\frac{x - mean(x)}{std(x)} $"
   ]
  },
  {
   "cell_type": "code",
   "execution_count": 52,
   "metadata": {
    "collapsed": false
   },
   "outputs": [
    {
     "data": {
      "text/plain": [
       "array([ 0,  1,  2,  3,  4,  5,  6,  7,  8,  9, 10, 11, 12, 13, 14, 15, 16,\n",
       "       17, 18, 19])"
      ]
     },
     "execution_count": 52,
     "metadata": {},
     "output_type": "execute_result"
    }
   ],
   "source": [
    "a = np.arange(20)\n",
    "a"
   ]
  },
  {
   "cell_type": "code",
   "execution_count": 54,
   "metadata": {
    "collapsed": false
   },
   "outputs": [
    {
     "data": {
      "text/plain": [
       "array([-1.64750894, -1.47408695, -1.30066495, -1.12724296, -0.95382097,\n",
       "       -0.78039897, -0.60697698, -0.43355498, -0.26013299, -0.086711  ,\n",
       "        0.086711  ,  0.26013299,  0.43355498,  0.60697698,  0.78039897,\n",
       "        0.95382097,  1.12724296,  1.30066495,  1.47408695,  1.64750894])"
      ]
     },
     "execution_count": 54,
     "metadata": {},
     "output_type": "execute_result"
    }
   ],
   "source": [
    "z = (a - np.mean(a))/np.std(a)\n",
    "z"
   ]
  },
  {
   "cell_type": "markdown",
   "metadata": {},
   "source": [
    "## 8.8 檢驗樣本平均數  (t-test)\n",
    "https://docs.scipy.org/doc/scipy-0.19.0/reference/generated/scipy.stats.ttest_ind.html\n",
    "https://docs.scipy.org/doc/scipy-0.19.0/reference/generated/scipy.stats.ttest_1samp.html#scipy.stats.ttest_1samp"
   ]
  },
  {
   "cell_type": "code",
   "execution_count": 56,
   "metadata": {
    "collapsed": false
   },
   "outputs": [
    {
     "data": {
      "text/plain": [
       "array([[ -4.46976756e+00,   2.23747986e+00],\n",
       "       [  3.01265677e+00,   1.99351998e+01],\n",
       "       [  6.96381504e-01,   8.02590763e+00],\n",
       "       [  1.12881422e+01,  -8.19430475e+00],\n",
       "       [ -4.06294214e+00,   5.40597577e-01],\n",
       "       [  7.49758326e+00,  -1.57148818e+00],\n",
       "       [ -1.44414717e+00,   1.01871511e+01],\n",
       "       [  4.65777598e+00,  -4.79148636e+00],\n",
       "       [ -1.49960303e+00,  -4.09743532e+00],\n",
       "       [  3.32305696e+00,   4.03947153e+00],\n",
       "       [  7.14723880e+00,   2.02604829e+00],\n",
       "       [  1.27751142e+01,  -1.03867073e+01],\n",
       "       [ -1.49519210e+01,   1.52315561e-02],\n",
       "       [  2.05524559e+01,   3.56715484e+00],\n",
       "       [ -4.80533143e+00,   6.66137409e+00],\n",
       "       [  1.11086989e+00,  -1.12748227e+01],\n",
       "       [ -1.60772481e+01,   8.80348065e+00],\n",
       "       [ -4.29292484e+00,   1.64598738e+00],\n",
       "       [  8.46555570e+00,  -1.44406425e+00],\n",
       "       [  2.54389177e+01,  -4.71895192e+00],\n",
       "       [  9.67603416e+00,   3.25855752e+00],\n",
       "       [ -2.40258078e+00,   1.81492883e+01],\n",
       "       [  1.32779776e+01,   1.09657968e+01],\n",
       "       [  2.18488899e+00,   6.23291307e+00],\n",
       "       [  6.50505861e+00,   6.31360889e+00],\n",
       "       [  1.34628406e+01,   6.55457847e+00],\n",
       "       [  9.70039752e-01,   2.91201956e+00],\n",
       "       [ -1.78801132e+01,  -3.75125061e+00],\n",
       "       [ -9.11721465e+00,   1.39255653e+01],\n",
       "       [ -1.46340308e+01,   8.50865313e+00],\n",
       "       [  5.91117252e+00,  -1.44663260e+01],\n",
       "       [ -4.49749489e+00,   5.08324236e+00],\n",
       "       [ -1.65393640e+00,   8.62210889e+00],\n",
       "       [  1.78661088e+01,   2.18900750e+00],\n",
       "       [  2.85730257e+00,   1.08194193e+01],\n",
       "       [  7.96329518e+00,   1.66325025e+01],\n",
       "       [ -5.18190400e-01,   1.73338771e+01],\n",
       "       [ -2.45388695e+00,   6.32682419e+00],\n",
       "       [  1.58915095e+01,   2.45469576e+01],\n",
       "       [  1.77383215e+00,   7.50265142e+00],\n",
       "       [  6.45904897e+00,   4.45097368e+00],\n",
       "       [  1.24542537e+01,   1.51698074e+01],\n",
       "       [  6.74587409e+00,   1.22260766e+01],\n",
       "       [  1.74959090e+01,   9.99790646e+00],\n",
       "       [  3.06359502e+01,   6.66999167e+00],\n",
       "       [  2.86086847e+00,   2.11918898e+01],\n",
       "       [ -1.03871081e+00,  -8.88651220e+00],\n",
       "       [  2.04381146e+00,   3.79055502e+00],\n",
       "       [  2.16051882e+01,   3.99999184e-01],\n",
       "       [  1.91323078e+00,   3.52100953e+00]])"
      ]
     },
     "execution_count": 56,
     "metadata": {},
     "output_type": "execute_result"
    }
   ],
   "source": [
    "from scipy import stats\n",
    "np.random.seed(7654567)  # fix seed to get the same result\n",
    "rvs = stats.norm.rvs(loc=5, scale=10, size=(50,2))\n",
    "rvs"
   ]
  },
  {
   "cell_type": "code",
   "execution_count": 57,
   "metadata": {
    "collapsed": false
   },
   "outputs": [
    {
     "data": {
      "text/plain": [
       "Ttest_1sampResult(statistic=array([-0.68014479, -0.04323899]), pvalue=array([ 0.49961383,  0.96568674]))"
      ]
     },
     "execution_count": 57,
     "metadata": {},
     "output_type": "execute_result"
    }
   ],
   "source": [
    "# static t 的數值, 轉換成p value\n",
    "stats.ttest_1samp(rvs,5.0)"
   ]
  },
  {
   "cell_type": "code",
   "execution_count": null,
   "metadata": {
    "collapsed": true
   },
   "outputs": [],
   "source": []
  }
 ],
 "metadata": {
  "kernelspec": {
   "display_name": "Python 3",
   "language": "python",
   "name": "python3"
  },
  "language_info": {
   "codemirror_mode": {
    "name": "ipython",
    "version": 3
   },
   "file_extension": ".py",
   "mimetype": "text/x-python",
   "name": "python",
   "nbconvert_exporter": "python",
   "pygments_lexer": "ipython3",
   "version": "3.5.2"
  }
 },
 "nbformat": 4,
 "nbformat_minor": 1
}
