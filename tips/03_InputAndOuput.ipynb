{
 "cells": [
  {
   "cell_type": "markdown",
   "metadata": {},
   "source": [
    "## 簡介\n",
    "所有的資料處理最基本的開始，輸入與輸出．不論是從檔案還是從網路還是從資料庫．"
   ]
  },
  {
   "cell_type": "code",
   "execution_count": 1,
   "metadata": {
    "collapsed": false
   },
   "outputs": [],
   "source": [
    "import numpy as np\n",
    "import matplotlib as mp\n",
    "import pandas as pd\n",
    "%matplotlib inline\n",
    "import sklearn\n",
    "import os\n",
    "import sys"
   ]
  },
  {
   "cell_type": "markdown",
   "metadata": {},
   "source": [
    "## 3.1 從鍵盤輸入\n",
    "有點廢話，就先這樣吧"
   ]
  },
  {
   "cell_type": "markdown",
   "metadata": {},
   "source": [
    "## 3.2 輸出時讓數字更少位數"
   ]
  },
  {
   "cell_type": "code",
   "execution_count": 2,
   "metadata": {
    "collapsed": false
   },
   "outputs": [
    {
     "data": {
      "text/plain": [
       "3.141592653589793"
      ]
     },
     "execution_count": 2,
     "metadata": {},
     "output_type": "execute_result"
    }
   ],
   "source": [
    "np.pi"
   ]
  },
  {
   "cell_type": "code",
   "execution_count": 3,
   "metadata": {
    "collapsed": false
   },
   "outputs": [
    {
     "data": {
      "text/plain": [
       "'3.142'"
      ]
     },
     "execution_count": 3,
     "metadata": {},
     "output_type": "execute_result"
    }
   ],
   "source": [
    "\"{:05.3f}\".format(np.pi)"
   ]
  },
  {
   "cell_type": "markdown",
   "metadata": {
    "collapsed": true
   },
   "source": [
    "## 3.3 將結果寫入檔案\n",
    "透過 [np.savetxt](https://docs.scipy.org/doc/numpy/reference/generated/numpy.savetxt.html)\n",
    "```python\n",
    "x = y = z = np.arange(0.0,5.0,1.0)\n",
    "np.savetxt('test.out', x, delimiter=',')\n",
    "```"
   ]
  },
  {
   "cell_type": "markdown",
   "metadata": {},
   "source": [
    "## 3.4 列出檔案清單"
   ]
  },
  {
   "cell_type": "code",
   "execution_count": 4,
   "metadata": {
    "collapsed": false
   },
   "outputs": [
    {
     "data": {
      "text/plain": [
       "['.ipynb_checkpoints',\n",
       " '01_BasicOperation.ipynb',\n",
       " '02_PythonEnvironment.ipynb',\n",
       " '03_InputAndOuput.ipynb',\n",
       " '04_Data Structure.ipynb']"
      ]
     },
     "execution_count": 4,
     "metadata": {},
     "output_type": "execute_result"
    }
   ],
   "source": [
    "os.listdir()"
   ]
  },
  {
   "cell_type": "markdown",
   "metadata": {},
   "source": [
    "## 3.5 讀取固定寬度\n",
    "參考[pandas.read_fwf](https://pandas.pydata.org/pandas-docs/stable/generated/pandas.read_fwf.html)\n"
   ]
  },
  {
   "cell_type": "markdown",
   "metadata": {},
   "source": [
    "## 3.6 讀取表列資料\n",
    "參考[pandas.read_table](https://pandas.pydata.org/pandas-docs/stable/generated/pandas.read_table.html)"
   ]
  },
  {
   "cell_type": "markdown",
   "metadata": {},
   "source": [
    "## 3.7讀取csv檔案\n",
    "- [pandas.read_csv](https://pandas.pydata.org/pandas-docs/stable/generated/pandas.read_csv.html)\n",
    "\n",
    "或者是\n",
    "```python\n",
    "my_data = np.genfromtxt('my_file.csv', delimiter=',')\n",
    "```"
   ]
  },
  {
   "cell_type": "markdown",
   "metadata": {
    "collapsed": true
   },
   "source": [
    "## 3.8 寫入資料入CSV\n",
    "- [pandas.to_csv](https://pandas.pydata.org/pandas-docs/stable/generated/pandas.DataFrame.to_csv.html)\n",
    "\n",
    "或者是\n",
    "```python\n",
    "a = np.asarray([ [1,2,3], [4,5,6], [7,8,9] ])\n",
    "numpy.savetxt(\"foo.csv\", a, delimiter=\",\")\n",
    "```"
   ]
  },
  {
   "cell_type": "markdown",
   "metadata": {},
   "source": [
    "## 3.9 從網路上讀取表格\n",
    "可以參考\n",
    "- pandas.read_csv\n",
    "- [pandas.read_html](https://pandas.pydata.org/pandas-docs/stable/generated/pandas.read_html.html) \n",
    "- [pandas.read_table](https://pandas.pydata.org/pandas-docs/stable/generated/pandas.read_table.html)\n",
    "\n",
    "包含 http, https, ftp, s3\n",
    "\n"
   ]
  },
  {
   "cell_type": "markdown",
   "metadata": {},
   "source": [
    "## 3.10 從HTML讀取表格\n",
    "參考 pandas.read_html"
   ]
  },
  {
   "cell_type": "markdown",
   "metadata": {},
   "source": [
    "## 3.11從檔案讀取多行資料\n",
    "可以使用 f.readlines() 然後透過 scanf 套件可以結構化讀取資料"
   ]
  },
  {
   "cell_type": "markdown",
   "metadata": {},
   "source": [
    "## 3.12 從PostgreSQL讀取資料"
   ]
  },
  {
   "cell_type": "code",
   "execution_count": 11,
   "metadata": {
    "collapsed": false
   },
   "outputs": [
    {
     "data": {
      "text/html": [
       "<div>\n",
       "<table border=\"1\" class=\"dataframe\">\n",
       "  <thead>\n",
       "    <tr style=\"text-align: right;\">\n",
       "      <th></th>\n",
       "      <th>title_pk</th>\n",
       "      <th>id</th>\n",
       "      <th>comment_id</th>\n",
       "      <th>comment_time</th>\n",
       "      <th>etl_dt</th>\n",
       "      <th>processdt</th>\n",
       "      <th>vision_type</th>\n",
       "      <th>pcb</th>\n",
       "      <th>picture_url</th>\n",
       "      <th>comment_ind</th>\n",
       "    </tr>\n",
       "  </thead>\n",
       "  <tbody>\n",
       "    <tr>\n",
       "      <th>0</th>\n",
       "      <td>1495052043845117_1495036237180031</td>\n",
       "      <td>None</td>\n",
       "      <td>1495036237180031</td>\n",
       "      <td>None</td>\n",
       "      <td>2016-11-07                                    ...</td>\n",
       "      <td>None</td>\n",
       "      <td>None</td>\n",
       "      <td>1495052043845117</td>\n",
       "      <td>https://www.facebook.com/photo.php?fbid=149503...</td>\n",
       "      <td>0</td>\n",
       "    </tr>\n",
       "    <tr>\n",
       "      <th>1</th>\n",
       "      <td>1495052043845117_1495036290513359</td>\n",
       "      <td>None</td>\n",
       "      <td>1495036290513359</td>\n",
       "      <td>None</td>\n",
       "      <td>2016-11-07                                    ...</td>\n",
       "      <td>None</td>\n",
       "      <td>None</td>\n",
       "      <td>1495052043845117</td>\n",
       "      <td>https://www.facebook.com/photo.php?fbid=149503...</td>\n",
       "      <td>0</td>\n",
       "    </tr>\n",
       "    <tr>\n",
       "      <th>2</th>\n",
       "      <td>1495052043845117_1495036387180016</td>\n",
       "      <td>None</td>\n",
       "      <td>1495036387180016</td>\n",
       "      <td>None</td>\n",
       "      <td>2016-11-07                                    ...</td>\n",
       "      <td>None</td>\n",
       "      <td>None</td>\n",
       "      <td>1495052043845117</td>\n",
       "      <td>https://www.facebook.com/photo.php?fbid=149503...</td>\n",
       "      <td>0</td>\n",
       "    </tr>\n",
       "    <tr>\n",
       "      <th>3</th>\n",
       "      <td>1495052043845117_1495036487180006</td>\n",
       "      <td>None</td>\n",
       "      <td>1495036487180006</td>\n",
       "      <td>None</td>\n",
       "      <td>2016-11-07                                    ...</td>\n",
       "      <td>None</td>\n",
       "      <td>None</td>\n",
       "      <td>1495052043845117</td>\n",
       "      <td>https://www.facebook.com/photo.php?fbid=149503...</td>\n",
       "      <td>0</td>\n",
       "    </tr>\n",
       "    <tr>\n",
       "      <th>4</th>\n",
       "      <td>1495052043845117_1495036653846656</td>\n",
       "      <td>None</td>\n",
       "      <td>1495036653846656</td>\n",
       "      <td>None</td>\n",
       "      <td>2016-11-07                                    ...</td>\n",
       "      <td>None</td>\n",
       "      <td>None</td>\n",
       "      <td>1495052043845117</td>\n",
       "      <td>https://www.facebook.com/photo.php?fbid=149503...</td>\n",
       "      <td>0</td>\n",
       "    </tr>\n",
       "  </tbody>\n",
       "</table>\n",
       "</div>"
      ],
      "text/plain": [
       "                            title_pk    id            comment_id comment_time  \\\n",
       "0  1495052043845117_1495036237180031  None  1495036237180031             None   \n",
       "1  1495052043845117_1495036290513359  None  1495036290513359             None   \n",
       "2  1495052043845117_1495036387180016  None  1495036387180016             None   \n",
       "3  1495052043845117_1495036487180006  None  1495036487180006             None   \n",
       "4  1495052043845117_1495036653846656  None  1495036653846656             None   \n",
       "\n",
       "                                              etl_dt processdt vision_type  \\\n",
       "0  2016-11-07                                    ...      None        None   \n",
       "1  2016-11-07                                    ...      None        None   \n",
       "2  2016-11-07                                    ...      None        None   \n",
       "3  2016-11-07                                    ...      None        None   \n",
       "4  2016-11-07                                    ...      None        None   \n",
       "\n",
       "                         pcb  \\\n",
       "0  1495052043845117            \n",
       "1  1495052043845117            \n",
       "2  1495052043845117            \n",
       "3  1495052043845117            \n",
       "4  1495052043845117            \n",
       "\n",
       "                                         picture_url comment_ind  \n",
       "0  https://www.facebook.com/photo.php?fbid=149503...        0     \n",
       "1  https://www.facebook.com/photo.php?fbid=149503...        0     \n",
       "2  https://www.facebook.com/photo.php?fbid=149503...        0     \n",
       "3  https://www.facebook.com/photo.php?fbid=149503...        0     \n",
       "4  https://www.facebook.com/photo.php?fbid=149503...        0     "
      ]
     },
     "execution_count": 11,
     "metadata": {},
     "output_type": "execute_result"
    }
   ],
   "source": [
    "from sqlalchemy import create_engine\n",
    "engine = create_engine('postgresql://[user]:[password]@[host]/[db]')\n",
    "pd.read_sql_query('select * from a limit 5;',con=engine)"
   ]
  },
  {
   "cell_type": "markdown",
   "metadata": {},
   "source": [
    "## 3.13 保存與傳送物件\n",
    "\n",
    "參考文件 [pickle](https://wiki.python.org/moin/UsingPickle)\n",
    "\n",
    "\n",
    "保存\n",
    "```python\n",
    "# Save a dictionary into a pickle file.\n",
    "import pickle\n",
    "favorite_color = { \"lion\": \"yellow\", \"kitty\": \"red\" }\n",
    "pickle.dump( favorite_color, open( \"save.p\", \"wb\" ) )\n",
    "```\n",
    "\n",
    "讀取\n",
    "```python\n",
    "# Load the dictionary back from the pickle file.\n",
    "favorite_color = pickle.load( open( \"save.p\", \"rb\" ) )\n",
    "```"
   ]
  },
  {
   "cell_type": "markdown",
   "metadata": {},
   "source": [
    "## 3.14 找到python的起始位置"
   ]
  },
  {
   "cell_type": "code",
   "execution_count": 5,
   "metadata": {
    "collapsed": false
   },
   "outputs": [
    {
     "name": "stdout",
     "output_type": "stream",
     "text": [
      "/usr/bin/python\r\n"
     ]
    }
   ],
   "source": [
    "!which python"
   ]
  },
  {
   "cell_type": "code",
   "execution_count": null,
   "metadata": {
    "collapsed": true
   },
   "outputs": [],
   "source": []
  }
 ],
 "metadata": {
  "kernelspec": {
   "display_name": "Python 3",
   "language": "python",
   "name": "python3"
  },
  "language_info": {
   "codemirror_mode": {
    "name": "ipython",
    "version": 3
   },
   "file_extension": ".py",
   "mimetype": "text/x-python",
   "name": "python",
   "nbconvert_exporter": "python",
   "pygments_lexer": "ipython3",
   "version": "3.5.2"
  }
 },
 "nbformat": 4,
 "nbformat_minor": 1
}
