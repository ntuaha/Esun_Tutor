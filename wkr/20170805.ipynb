{
 "cells": [
  {
   "cell_type": "code",
   "execution_count": 1,
   "metadata": {
    "collapsed": true
   },
   "outputs": [],
   "source": [
    "# numpy 數值處理# numpy 數值處理\n",
    "import numpy as np\n",
    "# pandas 資料框架，資料處理\n",
    "import pandas as pd\n",
    "# 趨勢 特徵 變化\n",
    "import matplotlib as mp\n",
    "import matplotlib.pyplot as plt\n",
    "import xlrd\n",
    "#%matplotlib inline\n",
    "#%whos\n",
    "\n",
    "x = np.linspace(0,1,100,endpoint=False)\n",
    "y = np.sin(x)\n",
    "\n",
    "with open ('test.csv','w+') as f:\n",
    "    for i in x :\n",
    "        f.write (str(i) + \",\" + str(np.sin(i)) + \"\\n\")\n",
    "        \n",
    "df = pd.read_csv('test.csv', comment=',')\n",
    "\n",
    "x = df['0.0']\n",
    "y = df['0.0.1']\n",
    "\n",
    "#下面就跟上次一樣\n",
    "a = x[y>0.4]\n",
    "b = y[y>0.4]\n",
    "a1 = x[y<=0.4]\n",
    "b1 = y[y<=0.4]\n",
    "\n",
    "plt.plot(a,b,'r*')\n",
    "plt.plot(a1,b1,'*')\n",
    "plt.xlim([0,5])\n",
    "plt.ylim([-2,2])\n",
    "plt.show()        "
   ]
  },
  {
   "cell_type": "code",
   "execution_count": null,
   "metadata": {
    "collapsed": true
   },
   "outputs": [],
   "source": []
  }
 ],
 "metadata": {
  "kernelspec": {
   "display_name": "Python 3",
   "language": "python",
   "name": "python3"
  },
  "language_info": {
   "codemirror_mode": {
    "name": "ipython",
    "version": 3
   },
   "file_extension": ".py",
   "mimetype": "text/x-python",
   "name": "python",
   "nbconvert_exporter": "python",
   "pygments_lexer": "ipython3",
   "version": "3.5.1"
  }
 },
 "nbformat": 4,
 "nbformat_minor": 0
}
