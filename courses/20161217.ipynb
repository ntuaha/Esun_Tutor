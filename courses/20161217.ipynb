{
 "cells": [
  {
   "cell_type": "markdown",
   "metadata": {},
   "source": [
    "# 第八次上課\n"
   ]
  },
  {
   "cell_type": "markdown",
   "metadata": {},
   "source": [
    "## 成員\n",
    "- 克柔\n",
    "- 佳君\n",
    "- 靜芬"
   ]
  },
  {
   "cell_type": "markdown",
   "metadata": {},
   "source": [
    "## 大綱\n",
    "- 分析資料結構\n",
    "- （未完成)建立完整的自動化流程\n",
    "- 確認資料結構\n",
    "- 下次作業"
   ]
  },
  {
   "cell_type": "markdown",
   "metadata": {},
   "source": [
    "## 核心概念\n",
    "- 將資料與呈現分開來, 例如:需要將整個資料美化\n",
    "- 將資料儲存成不用特定程式才能開啟的格式, 例如csv 與 json\n",
    "- 記得每次轉換都需要增加資料檢核點, 但要透過**程式檢核**\n",
    "- 可以將資料放進資料庫裡面"
   ]
  },
  {
   "cell_type": "markdown",
   "metadata": {},
   "source": [
    "### 分析資料結構"
   ]
  },
  {
   "cell_type": "code",
   "execution_count": 1,
   "metadata": {
    "collapsed": true
   },
   "outputs": [],
   "source": [
    "import xlrd\n",
    "book = xlrd.open_workbook(\"./22010.xls\")\n",
    "sh = book.sheet_by_index(0)"
   ]
  },
  {
   "cell_type": "code",
   "execution_count": 6,
   "metadata": {
    "collapsed": true
   },
   "outputs": [],
   "source": [
    "banks = []"
   ]
  },
  {
   "cell_type": "code",
   "execution_count": 8,
   "metadata": {
    "collapsed": false
   },
   "outputs": [],
   "source": [
    "bank = {\"銀行類別\":\"本國銀行\",\"時間\":\"201609\"}"
   ]
  },
  {
   "cell_type": "code",
   "execution_count": 10,
   "metadata": {
    "collapsed": false
   },
   "outputs": [
    {
     "data": {
      "text/plain": [
       "'臺灣銀行#'"
      ]
     },
     "execution_count": 10,
     "metadata": {},
     "output_type": "execute_result"
    }
   ],
   "source": [
    "name_zh = sh.cell_value(rowx=10,colx = 0).replace(\"\\u3000\",\"\")\n",
    "name_zh"
   ]
  },
  {
   "cell_type": "code",
   "execution_count": 11,
   "metadata": {
    "collapsed": true
   },
   "outputs": [],
   "source": [
    "if \"#\" in name_zh:\n",
    "    fhc_flag = \"T\"\n",
    "else:\n",
    "    fhc_flag = \"F\""
   ]
  },
  {
   "cell_type": "code",
   "execution_count": 12,
   "metadata": {
    "collapsed": false
   },
   "outputs": [
    {
     "data": {
      "text/plain": [
       "'T'"
      ]
     },
     "execution_count": 12,
     "metadata": {},
     "output_type": "execute_result"
    }
   ],
   "source": [
    "fhc_flag"
   ]
  },
  {
   "cell_type": "code",
   "execution_count": 14,
   "metadata": {
    "collapsed": false
   },
   "outputs": [
    {
     "data": {
      "text/plain": [
       "'臺灣銀行'"
      ]
     },
     "execution_count": 14,
     "metadata": {},
     "output_type": "execute_result"
    }
   ],
   "source": [
    "name_zh = name_zh.replace(\"#\",\"\")\n",
    "name_zh"
   ]
  },
  {
   "cell_type": "code",
   "execution_count": 16,
   "metadata": {
    "collapsed": false
   },
   "outputs": [
    {
     "data": {
      "text/plain": [
       "'Bank of Taiwan'"
      ]
     },
     "execution_count": 16,
     "metadata": {},
     "output_type": "execute_result"
    }
   ],
   "source": [
    "name_en = sh.cell_value(rowx=11,colx = 0).replace(\"\\u3000\",\"\")\n",
    "name_en"
   ]
  },
  {
   "cell_type": "code",
   "execution_count": 23,
   "metadata": {
    "collapsed": false
   },
   "outputs": [
    {
     "data": {
      "text/plain": [
       "1084455000000.0"
      ]
     },
     "execution_count": 23,
     "metadata": {},
     "output_type": "execute_result"
    }
   ],
   "source": [
    "md = sh.cell_value(rowx=10,colx = 1) * 1e6\n",
    "md"
   ]
  },
  {
   "cell_type": "code",
   "execution_count": 22,
   "metadata": {
    "collapsed": false
   },
   "outputs": [
    {
     "data": {
      "text/plain": [
       "1921331000000.0"
      ]
     },
     "execution_count": 22,
     "metadata": {},
     "output_type": "execute_result"
    }
   ],
   "source": [
    "fd = sh.cell_value(rowx=10,colx = 2) * 1e6\n",
    "fd"
   ]
  },
  {
   "cell_type": "code",
   "execution_count": 24,
   "metadata": {
    "collapsed": false
   },
   "outputs": [
    {
     "data": {
      "text/plain": [
       "596887000000.0"
      ]
     },
     "execution_count": 24,
     "metadata": {},
     "output_type": "execute_result"
    }
   ],
   "source": [
    "fy = sh.cell_value(rowx=10,colx = 3) * 1e6\n",
    "fy"
   ]
  },
  {
   "cell_type": "code",
   "execution_count": 25,
   "metadata": {
    "collapsed": false
   },
   "outputs": [
    {
     "data": {
      "text/plain": [
       "259162000000.0"
      ]
     },
     "execution_count": 25,
     "metadata": {},
     "output_type": "execute_result"
    }
   ],
   "source": [
    "dc = sh.cell_value(rowx=10,colx = 4) * 1e6 \n",
    "dc"
   ]
  },
  {
   "cell_type": "code",
   "execution_count": 27,
   "metadata": {
    "collapsed": false
   },
   "outputs": [
    {
     "data": {
      "text/plain": [
       "3861834000000.0"
      ]
     },
     "execution_count": 27,
     "metadata": {},
     "output_type": "execute_result"
    }
   ],
   "source": [
    "total = sh.cell_value(rowx=10,colx = 5) * 1e6 \n",
    "total"
   ]
  },
  {
   "cell_type": "code",
   "execution_count": 32,
   "metadata": {
    "collapsed": false
   },
   "outputs": [
    {
     "data": {
      "text/plain": [
       "3861835000000.0"
      ]
     },
     "execution_count": 32,
     "metadata": {},
     "output_type": "execute_result"
    }
   ],
   "source": [
    "md + fd + fy +dc\n",
    "\n"
   ]
  },
  {
   "cell_type": "code",
   "execution_count": 36,
   "metadata": {
    "collapsed": false
   },
   "outputs": [
    {
     "data": {
      "text/plain": [
       "{'公庫存款及其他': 259162000000.0,\n",
       " '外匯存款': 596887000000.0,\n",
       " '定期性存款': 1921331000000.0,\n",
       " '時間': '201609',\n",
       " '活期性存款': 1084455000000.0,\n",
       " '金控註記': 'T',\n",
       " '銀行中文名稱': '臺灣銀行',\n",
       " '銀行英文名稱': 'Bank of Taiwan',\n",
       " '銀行類別': '本國銀行'}"
      ]
     },
     "execution_count": 36,
     "metadata": {},
     "output_type": "execute_result"
    }
   ],
   "source": [
    "bank[\"活期性存款\"] = md\n",
    "bank[\"定期性存款\"] = fd\n",
    "bank[\"外匯存款\"] = fy\n",
    "bank[\"公庫存款及其他\"] = dc\n",
    "bank[\"銀行中文名稱\"] = name_zh\n",
    "bank[\"銀行英文名稱\"] = name_en\n",
    "bank[\"金控註記\"] = fhc_flag\n",
    "bank"
   ]
  },
  {
   "cell_type": "code",
   "execution_count": 38,
   "metadata": {
    "collapsed": false
   },
   "outputs": [],
   "source": [
    "banks.append(bank)"
   ]
  },
  {
   "cell_type": "code",
   "execution_count": 54,
   "metadata": {
    "collapsed": false
   },
   "outputs": [],
   "source": [
    "banks = []\n",
    "def extract_bank(row_s):\n",
    "    bank = {\"銀行類別\":\"本國銀行\",\"時間\":\"201609\"}\n",
    "    name_zh = sh.cell_value(rowx=row_s,colx = 0).replace(\"\\u3000\",\"\")\n",
    "    if \"#\" in name_zh:\n",
    "        fhc_flag = \"T\"\n",
    "    else:\n",
    "        fhc_flag = \"F\"\n",
    "    name_zh = name_zh.replace(\"#\",\"\")    \n",
    "    name_en = sh.cell_value(rowx=row_s+1,colx = 0).replace(\"\\u3000\",\"\")   \n",
    "    md = sh.cell_value(rowx=row_s,colx = 1) * 1e6\n",
    "    fd = sh.cell_value(rowx=row_s,colx = 2) * 1e6\n",
    "    fy = sh.cell_value(rowx=row_s,colx = 3) * 1e6\n",
    "    dc = sh.cell_value(rowx=row_s,colx = 4) * 1e6 \n",
    "    bank[\"活期性存款\"] = md\n",
    "    bank[\"定期性存款\"] = fd\n",
    "    bank[\"外匯存款\"] = fy\n",
    "    bank[\"公庫存款及其他\"] = dc\n",
    "    bank[\"銀行中文名稱\"] = name_zh\n",
    "    bank[\"銀行英文名稱\"] = name_en\n",
    "    bank[\"金控註記\"] = fhc_flag\n",
    "    return bank\n",
    "banks.append(extract_bank(10))\n",
    "banks.append(extract_bank(12))\n",
    "banks.append(extract_bank(14))\n",
    "banks.append(extract_bank(16))"
   ]
  },
  {
   "cell_type": "code",
   "execution_count": 55,
   "metadata": {
    "collapsed": false
   },
   "outputs": [
    {
     "data": {
      "text/plain": [
       "[{'公庫存款及其他': 259162000000.0,\n",
       "  '外匯存款': 596887000000.0,\n",
       "  '定期性存款': 1921331000000.0,\n",
       "  '時間': '201609',\n",
       "  '活期性存款': 1084455000000.0,\n",
       "  '金控註記': 'T',\n",
       "  '銀行中文名稱': '臺灣銀行',\n",
       "  '銀行英文名稱': 'Bank of Taiwan',\n",
       "  '銀行類別': '本國銀行'},\n",
       " {'公庫存款及其他': 169409000000.0,\n",
       "  '外匯存款': 214733000000.0,\n",
       "  '定期性存款': 1164519000000.0,\n",
       "  '時間': '201609',\n",
       "  '活期性存款': 684396000000.0,\n",
       "  '金控註記': 'F',\n",
       "  '銀行中文名稱': '臺灣土地銀行',\n",
       "  '銀行英文名稱': 'Land Bank of Taiwan',\n",
       "  '銀行類別': '本國銀行'},\n",
       " {'公庫存款及其他': 85831000000.0,\n",
       "  '外匯存款': 338137000000.0,\n",
       "  '定期性存款': 962083000000.0,\n",
       "  '時間': '201609',\n",
       "  '活期性存款': 1163493000000.0,\n",
       "  '金控註記': 'T',\n",
       "  '銀行中文名稱': '合作金庫商業銀行',\n",
       "  '銀行英文名稱': 'Taiwan Cooperative Bank',\n",
       "  '銀行類別': '本國銀行'},\n",
       " {'公庫存款及其他': 17707000000.0,\n",
       "  '外匯存款': 487300000000.0,\n",
       "  '定期性存款': 465782000000.0,\n",
       "  '時間': '201609',\n",
       "  '活期性存款': 945280000000.0,\n",
       "  '金控註記': 'T',\n",
       "  '銀行中文名稱': '第一商業銀行',\n",
       "  '銀行英文名稱': 'First Commercial Bank',\n",
       "  '銀行類別': '本國銀行'}]"
      ]
     },
     "execution_count": 55,
     "metadata": {},
     "output_type": "execute_result"
    }
   ],
   "source": [
    "banks"
   ]
  },
  {
   "cell_type": "code",
   "execution_count": 56,
   "metadata": {
    "collapsed": false
   },
   "outputs": [],
   "source": [
    "with open('./banks.csv','w+') as f:\n",
    "    f.write(\"銀行類別,時間,銀行中文名稱,銀行英文名稱,金控註記,活期性存款,定期性存款,外匯存款,公庫存款及其他\\n\")\n",
    "    for bank in banks:\n",
    "        f.write(bank[\"銀行類別\"]+\",\")\n",
    "        f.write(bank[\"時間\"]+\",\")\n",
    "        f.write(bank[\"銀行中文名稱\"]+\",\")\n",
    "        f.write(bank[\"銀行英文名稱\"]+\",\")\n",
    "        f.write(bank[\"金控註記\"]+\",\")\n",
    "#        f.write(\"%f,\"%(bank[\"活期性存款\"]))\n",
    "#        f.write(\"%f,\"%(bank[\"定期性存款\"]))\n",
    "#        f.write(\"%f,\"%(bank[\"外匯存款\"]))\n",
    "#        f.write(\"%f\\n\"%(bank[\"公庫存款及其他\"]))\n",
    "        f.write(\"%f,%f,%f,%f\\n\"%(bank[\"活期性存款\"],bank[\"定期性存款\"],bank[\"外匯存款\"],bank[\"公庫存款及其他\"]))\n"
   ]
  },
  {
   "cell_type": "markdown",
   "metadata": {
    "collapsed": true
   },
   "source": [
    "## 作業\n",
    "1. 請寫出你的資料欄位\n",
    "2. 請完成2210.csv\n",
    "3. (optional)請追加處理銀行類別與時間"
   ]
  },
  {
   "cell_type": "code",
   "execution_count": null,
   "metadata": {
    "collapsed": true
   },
   "outputs": [],
   "source": []
  }
 ],
 "metadata": {
  "kernelspec": {
   "display_name": "Python 3",
   "language": "python",
   "name": "python3"
  },
  "language_info": {
   "codemirror_mode": {
    "name": "ipython",
    "version": 3
   },
   "file_extension": ".py",
   "mimetype": "text/x-python",
   "name": "python",
   "nbconvert_exporter": "python",
   "pygments_lexer": "ipython3",
   "version": "3.5.2"
  }
 },
 "nbformat": 4,
 "nbformat_minor": 1
}
