{
 "cells": [
  {
   "cell_type": "code",
   "execution_count": 1,
   "metadata": {
    "collapsed": false
   },
   "outputs": [
    {
     "name": "stdout",
     "output_type": "stream",
     "text": [
      "[1, 2, 3, 3, 4, 5, 7, 9, 9]\n"
     ]
    }
   ],
   "source": [
    "class Sort:\n",
    "    def quicksort(self,a):    \n",
    "        self.a=a\n",
    "        left_pivot=[]\n",
    "        right_pivot=[]\n",
    "        middle_pivot=[]\n",
    "\n",
    "        if len(self.a)<=1:\n",
    "            return self.a\n",
    "        else:\n",
    "            pivot=self.a[0]\n",
    "            for i in range(len(self.a)):\n",
    "                if self.a[i]<pivot:\n",
    "                    left_pivot.append(self.a[i])\n",
    "                elif self.a[i]>pivot:\n",
    "                    right_pivot.append(self.a[i])\n",
    "                else:\n",
    "                    middle_pivot.append(self.a[i])\n",
    "                    \n",
    "        left_pivot=self.quicksort(left_pivot)\n",
    "        right_pivot=self.quicksort(right_pivot)\n",
    "        \n",
    "        return left_pivot+middle_pivot+ right_pivot\n",
    "\n",
    "    def sort(self,arr):\n",
    "        self.arr = arr\n",
    "        return self.quicksort(self.arr)\n",
    "\n",
    "s = Sort()\n",
    "a = [1,4,3,7,2,9,5,9,3]\n",
    "print (s.sort(a))"
   ]
  },
  {
   "cell_type": "code",
   "execution_count": null,
   "metadata": {
    "collapsed": true
   },
   "outputs": [],
   "source": []
  }
 ],
 "metadata": {
  "kernelspec": {
   "display_name": "Python 3",
   "language": "python",
   "name": "python3"
  },
  "language_info": {
   "codemirror_mode": {
    "name": "ipython",
    "version": 3
   },
   "file_extension": ".py",
   "mimetype": "text/x-python",
   "name": "python",
   "nbconvert_exporter": "python",
   "pygments_lexer": "ipython3",
   "version": "3.5.2"
  }
 },
 "nbformat": 4,
 "nbformat_minor": 1
}
