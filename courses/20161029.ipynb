{
 "cells": [
  {
   "cell_type": "code",
   "execution_count": 5,
   "metadata": {
    "collapsed": false,
    "scrolled": true
   },
   "outputs": [
    {
     "name": "stdout",
     "output_type": "stream",
     "text": [
      "Original array:1,4,3,7,2,9,5,9,3\n",
      "Origin Length:9\n",
      "Original array:4,3,7,2,9,5,9,3\n",
      "Origin Length:8\n",
      "Original array:7,9,5,9\n",
      "Origin Length:4\n",
      "Original array:9,9\n",
      "Origin Length:2\n",
      "Original array:\n",
      "Origin Length:0\n",
      "Original array:9\n",
      "Origin Length:1\n",
      "Sorted arr:9,9\n",
      "Original array:5\n",
      "Origin Length:1\n",
      "Sorted arr:5,7,9,9\n",
      "Original array:3,2,3\n",
      "Origin Length:3\n",
      "Original array:\n",
      "Origin Length:0\n",
      "Original array:2,3\n",
      "Origin Length:2\n",
      "Original array:3\n",
      "Origin Length:1\n",
      "Original array:\n",
      "Origin Length:0\n",
      "Sorted arr:2,3\n",
      "Sorted arr:2,3,3\n",
      "Sorted arr:2,3,3,4,5,7,9,9\n",
      "Original array:\n",
      "Origin Length:0\n",
      "Sorted arr:1,2,3,3,4,5,7,9,9\n",
      "[1, 2, 3, 3, 4, 5, 7, 9, 9]\n"
     ]
    }
   ],
   "source": [
    "class Sort:\n",
    "    def quicksort(self,a):\n",
    "        # a = [ 1, 2,3,...]\n",
    "        # print \"1,2,3,4...\"\n",
    "        # map(str,a) => [str(1),str(2),str(3),...]=>[\"1\",\"2\",\"3\",]\n",
    "        # \",\".join(arr) => \"1,2,3,...\"\n",
    "        \n",
    "        \n",
    "        print(\"Original array:\"+\",\".join(map(str,a)))\n",
    "        print(\"Origin Length:%d\"%len(a))\n",
    "        if len(a) == 0:\n",
    "            return a\n",
    "        if len(a) == 1:\n",
    "            return a\n",
    "        \n",
    "        pivot = a[0]\n",
    "        left_arr = []\n",
    "        right_arr = []  #  left_arr, pivot , right_arr  小 -> 基準值 -> 大\n",
    "        # a = [1,2,3,4]\n",
    "        # range(1,len(a))\n",
    "        # range(1,4) => 1<= x < 4\n",
    "        # [1,2,3]\n",
    "        for i in range(1,len(a)):\n",
    "            if(a[i]>pivot):\n",
    "                right_arr.append(a[i])\n",
    "            else:\n",
    "                left_arr.append(a[i])\n",
    "                \n",
    "        sorted_right_arr = self.quicksort(right_arr)\n",
    "        sorted_left_arr = self.quicksort(left_arr)\n",
    "        sorted_arr = sorted_left_arr +[pivot]+sorted_right_arr\n",
    "        print(\"Sorted arr:\"+\",\".join(map(str,sorted_arr)))\n",
    "        return sorted_arr\n",
    "\n",
    "        \n",
    "\n",
    "    def sort(self,arr):\n",
    "        self.arr = arr\n",
    "        return self.quicksort(self.arr)\n",
    "    \n",
    "s = Sort()\n",
    "a = [1,4,3,7,2,9,5,9,3]\n",
    "print (s.sort(a))"
   ]
  },
  {
   "cell_type": "code",
   "execution_count": 6,
   "metadata": {
    "collapsed": false
   },
   "outputs": [
    {
     "data": {
      "text/plain": [
       "[1, 2]"
      ]
     },
     "execution_count": 6,
     "metadata": {},
     "output_type": "execute_result"
    }
   ],
   "source": [
    "[1]+[]+[2]"
   ]
  },
  {
   "cell_type": "code",
   "execution_count": 2,
   "metadata": {
    "collapsed": true
   },
   "outputs": [],
   "source": [
    "a = [1,2,3]"
   ]
  },
  {
   "cell_type": "code",
   "execution_count": 3,
   "metadata": {
    "collapsed": false
   },
   "outputs": [
    {
     "data": {
      "text/plain": [
       "[1, 2, 3]"
      ]
     },
     "execution_count": 3,
     "metadata": {},
     "output_type": "execute_result"
    }
   ],
   "source": [
    "a"
   ]
  },
  {
   "cell_type": "code",
   "execution_count": 4,
   "metadata": {
    "collapsed": false
   },
   "outputs": [
    {
     "name": "stdout",
     "output_type": "stream",
     "text": [
      "[1, 2, 3]\n"
     ]
    }
   ],
   "source": [
    "print (a)"
   ]
  },
  {
   "cell_type": "code",
   "execution_count": null,
   "metadata": {
    "collapsed": true
   },
   "outputs": [],
   "source": []
  }
 ],
 "metadata": {
  "kernelspec": {
   "display_name": "Python 3",
   "language": "python",
   "name": "python3"
  },
  "language_info": {
   "codemirror_mode": {
    "name": "ipython",
    "version": 3
   },
   "file_extension": ".py",
   "mimetype": "text/x-python",
   "name": "python",
   "nbconvert_exporter": "python",
   "pygments_lexer": "ipython3",
   "version": "3.5.2"
  }
 },
 "nbformat": 4,
 "nbformat_minor": 1
}
