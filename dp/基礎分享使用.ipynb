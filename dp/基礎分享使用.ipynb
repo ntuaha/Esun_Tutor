{
 "cells": [
  {
   "cell_type": "markdown",
   "metadata": {},
   "source": [
    "## 引入函式庫"
   ]
  },
  {
   "cell_type": "code",
   "execution_count": 68,
   "metadata": {},
   "outputs": [],
   "source": [
    "import keras\n",
    "import numpy as np\n",
    "import matplotlib.image as mpimg\n",
    "import matplotlib.pyplot as plt\n",
    "%matplotlib inline\n",
    "from keras.models import Sequential\n",
    "from keras.optimizers import SGD\n",
    "from keras.layers import Dense,Activation"
   ]
  },
  {
   "cell_type": "markdown",
   "metadata": {},
   "source": [
    "## 準備資料"
   ]
  },
  {
   "cell_type": "code",
   "execution_count": 113,
   "metadata": {},
   "outputs": [
    {
     "name": "stdout",
     "output_type": "stream",
     "text": [
      "[[0.9125283  0.43128726 0.19645851]\n",
      " [0.41449017 0.53266034 0.00606159]\n",
      " [0.29088122 0.32387086 0.97117621]\n",
      " [0.69226    0.01841926 0.09116947]\n",
      " [0.59605212 0.77604877 0.70946161]\n",
      " [0.02272676 0.76927223 0.35026816]\n",
      " [0.65619447 0.35673275 0.79666304]\n",
      " [0.07478325 0.87394581 0.91402908]\n",
      " [0.1634202  0.43447103 0.48095017]\n",
      " [0.71777924 0.11792005 0.40904203]\n",
      " [0.59202784 0.50708118 0.7573172 ]\n",
      " [0.16390422 0.47768508 0.8924969 ]\n",
      " [0.50093516 0.56665612 0.9875392 ]\n",
      " [0.98721574 0.16094673 0.59176509]\n",
      " [0.93634788 0.81806579 0.70819287]\n",
      " [0.51010965 0.96817587 0.653228  ]\n",
      " [0.89885119 0.81905458 0.57061044]\n",
      " [0.07939537 0.88306512 0.55582791]\n",
      " [0.09175567 0.96584082 0.25468575]\n",
      " [0.41910822 0.5462093  0.53595666]\n",
      " [0.40085816 0.10899254 0.00840248]\n",
      " [0.15454114 0.06516376 0.47935107]\n",
      " [0.56062152 0.85298561 0.25373077]\n",
      " [0.41374101 0.58176563 0.61195842]\n",
      " [0.38062267 0.5759498  0.00268958]\n",
      " [0.1325626  0.60230364 0.01037769]\n",
      " [0.46405175 0.18086056 0.17965765]\n",
      " [0.9886429  0.94654125 0.80837955]\n",
      " [0.49692274 0.6065572  0.80471868]\n",
      " [0.46402675 0.62596481 0.27781775]\n",
      " [0.82426671 0.24390694 0.74087785]\n",
      " [0.66633506 0.37630219 0.9514021 ]\n",
      " [0.66289262 0.01339946 0.49687311]\n",
      " [0.87692617 0.81946309 0.53235159]\n",
      " [0.5152564  0.98641506 0.75248962]\n",
      " [0.61607168 0.91254508 0.92197434]\n",
      " [0.66052018 0.06420445 0.4013316 ]\n",
      " [0.56156849 0.80567699 0.74652383]\n",
      " [0.72072393 0.66805373 0.48612262]\n",
      " [0.03734546 0.10765799 0.702184  ]\n",
      " [0.36616202 0.56187611 0.74152657]\n",
      " [0.12136704 0.23217505 0.13478929]\n",
      " [0.67253163 0.11499206 0.75496697]\n",
      " [0.62172329 0.21335402 0.74089155]\n",
      " [0.89077927 0.09106737 0.15957726]\n",
      " [0.6761165  0.22935936 0.22235439]\n",
      " [0.45914985 0.09766734 0.76925337]\n",
      " [0.17842202 0.70283142 0.11863388]\n",
      " [0.03071698 0.39199428 0.90956922]\n",
      " [0.32788596 0.16043662 0.93461313]\n",
      " [0.99182517 0.79413567 0.14103514]\n",
      " [0.01652927 0.60788936 0.53869089]\n",
      " [0.02694389 0.69209171 0.25025763]\n",
      " [0.23737396 0.80011708 0.68867258]\n",
      " [0.67181781 0.61182084 0.79139481]\n",
      " [0.33113891 0.44098481 0.1508441 ]\n",
      " [0.80791665 0.4971189  0.47035436]\n",
      " [0.27339964 0.60830324 0.0615316 ]\n",
      " [0.48960581 0.68944795 0.24302539]\n",
      " [0.80332884 0.58352516 0.11874285]\n",
      " [0.09793747 0.36709012 0.70235206]\n",
      " [0.69363734 0.25294471 0.55151479]\n",
      " [0.25339079 0.82488202 0.46947918]\n",
      " [0.46981171 0.23867555 0.45169758]\n",
      " [0.1615058  0.64134813 0.36569415]\n",
      " [0.68658956 0.65193638 0.86236655]\n",
      " [0.68552661 0.24887654 0.46148599]\n",
      " [0.09009499 0.28890957 0.46844793]\n",
      " [0.78054861 0.60883131 0.42910247]\n",
      " [0.13554962 0.8064888  0.32803624]\n",
      " [0.72039928 0.18286248 0.71465911]\n",
      " [0.44549886 0.25129857 0.81757211]\n",
      " [0.86590438 0.7592243  0.63527533]\n",
      " [0.00512027 0.42183333 0.68927336]\n",
      " [0.6992685  0.81811549 0.08178687]\n",
      " [0.81976335 0.09292533 0.11315164]\n",
      " [0.64034347 0.57410721 0.30264905]\n",
      " [0.89099565 0.57310473 0.6495372 ]\n",
      " [0.57082456 0.64752478 0.33923936]\n",
      " [0.47620133 0.28891735 0.01470246]\n",
      " [0.19851062 0.76749183 0.40571447]\n",
      " [0.30750194 0.30269778 0.81671257]\n",
      " [0.88066115 0.44705256 0.43338038]\n",
      " [0.24427468 0.70141334 0.28276432]\n",
      " [0.33736609 0.26252675 0.11315417]\n",
      " [0.6323992  0.17501454 0.92133511]\n",
      " [0.02846053 0.32227229 0.99520107]\n",
      " [0.04500739 0.16012987 0.67974234]\n",
      " [0.87368889 0.50181525 0.45324853]\n",
      " [0.65735397 0.91017822 0.16225646]\n",
      " [0.06892201 0.01273151 0.4274507 ]\n",
      " [0.05142793 0.22493561 0.04196266]\n",
      " [0.65720958 0.58082614 0.85611649]\n",
      " [0.92938422 0.44304829 0.85778686]\n",
      " [0.61139244 0.41397422 0.45016703]\n",
      " [0.4664473  0.56591575 0.12928797]\n",
      " [0.93570716 0.49797658 0.2639212 ]\n",
      " [0.96672523 0.27079275 0.35730726]\n",
      " [0.74211379 0.08947658 0.07053188]\n",
      " [0.53487826 0.82366911 0.31958939]]\n"
     ]
    }
   ],
   "source": [
    "X = np.random.rand(100,3)\n",
    "print(X)"
   ]
  },
  {
   "cell_type": "code",
   "execution_count": 114,
   "metadata": {},
   "outputs": [],
   "source": [
    "W = np.array([0.4,0.5,0.1])"
   ]
  },
  {
   "cell_type": "code",
   "execution_count": 115,
   "metadata": {},
   "outputs": [
    {
     "name": "stdout",
     "output_type": "stream",
     "text": [
      "[1 0 0 0 1 0 1 1 0 0 1 0 1 1 1 1 1 1 1 0 0 0 1 1 0 0 0 1 1 1 1 1 0 1 1 1 0\n",
      " 1 1 0 1 0 0 0 0 0 0 0 0 0 1 0 0 1 1 0 1 0 1 1 0 0 1 0 0 1 0 0 1 0 0 0 1 0\n",
      " 1 0 1 1 1 0 1 0 1 0 0 0 0 0 1 1 0 0 1 1 0 0 1 1 0 1]\n",
      "(100,)\n"
     ]
    }
   ],
   "source": [
    "Y = np.dot(X,W)\n",
    "def f(x):\n",
    "    if x>0.5:\n",
    "        return 1\n",
    "    else:\n",
    "        return 0\n",
    "vf = np.vectorize(f)\n",
    "Y = vf(Y)\n",
    "print(Y)\n",
    "print(Y.shape)"
   ]
  },
  {
   "cell_type": "markdown",
   "metadata": {},
   "source": [
    "## 準備資料\n",
    "我們擁有一個$X$(100,3)與$Y$(100,)，現在要準備建立一個神經網路來進行模型建置．首先是要讓抽出 train data set 與 test data set，比例為 7:3 然後要將$Y$的資料用 one-hot vector作轉換，因為這裡的資料只有有過1與沒過0．所以透過 keras.to_categorical 就可以直接處理成功．"
   ]
  },
  {
   "cell_type": "markdown",
   "metadata": {},
   "source": [
    "### 資料參數"
   ]
  },
  {
   "cell_type": "code",
   "execution_count": 116,
   "metadata": {},
   "outputs": [],
   "source": [
    "size = 100\n",
    "train_size = 70"
   ]
  },
  {
   "cell_type": "markdown",
   "metadata": {},
   "source": [
    "### 抽出測試資料集"
   ]
  },
  {
   "cell_type": "code",
   "execution_count": 117,
   "metadata": {},
   "outputs": [],
   "source": [
    "mask_index = np.random.choice(size,train_size,replace=False)\n",
    "mask = np.ones(size,dtype=bool)\n",
    "mask[mask_index] = False\n",
    "mask = ~mask"
   ]
  },
  {
   "cell_type": "code",
   "execution_count": 118,
   "metadata": {},
   "outputs": [],
   "source": [
    "x_train = X[mask]\n",
    "y_train = keras.utils.to_categorical(Y[mask], num_classes=2)"
   ]
  },
  {
   "cell_type": "code",
   "execution_count": 119,
   "metadata": {},
   "outputs": [],
   "source": [
    "x_test = X[~mask]\n",
    "y_test = keras.utils.to_categorical(Y[~mask], num_classes=2)"
   ]
  },
  {
   "cell_type": "code",
   "execution_count": 120,
   "metadata": {},
   "outputs": [
    {
     "name": "stdout",
     "output_type": "stream",
     "text": [
      "(70, 3)\n",
      "(70, 2)\n",
      "(30, 3)\n",
      "(30, 2)\n"
     ]
    }
   ],
   "source": [
    "print(x_train.shape)\n",
    "print(y_train.shape)\n",
    "print(x_test.shape)\n",
    "print(y_test.shape)"
   ]
  },
  {
   "cell_type": "markdown",
   "metadata": {},
   "source": [
    "## 設計模型"
   ]
  },
  {
   "cell_type": "code",
   "execution_count": 121,
   "metadata": {},
   "outputs": [],
   "source": [
    "batch_size = 10   ## 每次計算都用10個樣本\n",
    "epochs = 100  ## 1 epoch 等於 70訓練樣本 / 10 每次計算的樣本數 = 7 次計算 = 1 epoch\n"
   ]
  },
  {
   "cell_type": "code",
   "execution_count": 124,
   "metadata": {},
   "outputs": [
    {
     "name": "stdout",
     "output_type": "stream",
     "text": [
      "_________________________________________________________________\n",
      "Layer (type)                 Output Shape              Param #   \n",
      "=================================================================\n",
      "dense_13 (Dense)             (None, 2)                 8         \n",
      "_________________________________________________________________\n",
      "activation_9 (Activation)    (None, 2)                 0         \n",
      "=================================================================\n",
      "Total params: 8\n",
      "Trainable params: 8\n",
      "Non-trainable params: 0\n",
      "_________________________________________________________________\n"
     ]
    }
   ],
   "source": [
    "model = Sequential()\n",
    "model.add(Dense(2, input_shape=(3,)))\n",
    "#model.add(Activation('sigmoid'))\n",
    "#model.add(Dense(2, use_bias=True))\n",
    "model.add(Activation('softmax')) \n",
    "model.summary()  #列出模型概況\n",
    "# 參數學習\n",
    "sgd = SGD(lr=0.01)\n",
    "# 誤差計算\n",
    "model.compile(loss='categorical_crossentropy',optimizer=sgd,metrics=['accuracy'])"
   ]
  },
  {
   "cell_type": "markdown",
   "metadata": {},
   "source": [
    "## 訓練"
   ]
  },
  {
   "cell_type": "code",
   "execution_count": 125,
   "metadata": {},
   "outputs": [
    {
     "name": "stdout",
     "output_type": "stream",
     "text": [
      "Train on 70 samples, validate on 30 samples\n",
      "Epoch 1/100\n",
      "70/70 [==============================] - 0s 5ms/step - loss: 0.6818 - acc: 0.5286 - val_loss: 0.7138 - val_acc: 0.5667\n",
      "Epoch 2/100\n",
      "70/70 [==============================] - 0s 178us/step - loss: 0.6799 - acc: 0.5286 - val_loss: 0.7121 - val_acc: 0.5667\n",
      "Epoch 3/100\n",
      "70/70 [==============================] - 0s 206us/step - loss: 0.6790 - acc: 0.5286 - val_loss: 0.7106 - val_acc: 0.5667\n",
      "Epoch 4/100\n",
      "70/70 [==============================] - 0s 227us/step - loss: 0.6776 - acc: 0.5286 - val_loss: 0.7090 - val_acc: 0.5667\n",
      "Epoch 5/100\n",
      "70/70 [==============================] - 0s 212us/step - loss: 0.6761 - acc: 0.5857 - val_loss: 0.7075 - val_acc: 0.5667\n",
      "Epoch 6/100\n",
      "70/70 [==============================] - 0s 252us/step - loss: 0.6750 - acc: 0.5571 - val_loss: 0.7060 - val_acc: 0.5667\n",
      "Epoch 7/100\n",
      "70/70 [==============================] - 0s 274us/step - loss: 0.6736 - acc: 0.6000 - val_loss: 0.7045 - val_acc: 0.5667\n",
      "Epoch 8/100\n",
      "70/70 [==============================] - 0s 234us/step - loss: 0.6723 - acc: 0.6000 - val_loss: 0.7032 - val_acc: 0.5667\n",
      "Epoch 9/100\n",
      "70/70 [==============================] - 0s 184us/step - loss: 0.6712 - acc: 0.6000 - val_loss: 0.7017 - val_acc: 0.5667\n",
      "Epoch 10/100\n",
      "70/70 [==============================] - 0s 170us/step - loss: 0.6697 - acc: 0.6143 - val_loss: 0.7004 - val_acc: 0.5667\n",
      "Epoch 11/100\n",
      "70/70 [==============================] - 0s 164us/step - loss: 0.6685 - acc: 0.6143 - val_loss: 0.6991 - val_acc: 0.6000\n",
      "Epoch 12/100\n",
      "70/70 [==============================] - 0s 248us/step - loss: 0.6670 - acc: 0.6143 - val_loss: 0.6977 - val_acc: 0.6000\n",
      "Epoch 13/100\n",
      "70/70 [==============================] - 0s 240us/step - loss: 0.6660 - acc: 0.6143 - val_loss: 0.6965 - val_acc: 0.6000\n",
      "Epoch 14/100\n",
      "70/70 [==============================] - 0s 212us/step - loss: 0.6650 - acc: 0.6143 - val_loss: 0.6952 - val_acc: 0.6000\n",
      "Epoch 15/100\n",
      "70/70 [==============================] - 0s 227us/step - loss: 0.6635 - acc: 0.6286 - val_loss: 0.6940 - val_acc: 0.6000\n",
      "Epoch 16/100\n",
      "70/70 [==============================] - 0s 236us/step - loss: 0.6622 - acc: 0.6429 - val_loss: 0.6928 - val_acc: 0.6000\n",
      "Epoch 17/100\n",
      "70/70 [==============================] - 0s 224us/step - loss: 0.6611 - acc: 0.6429 - val_loss: 0.6916 - val_acc: 0.6000\n",
      "Epoch 18/100\n",
      "70/70 [==============================] - 0s 230us/step - loss: 0.6601 - acc: 0.6429 - val_loss: 0.6904 - val_acc: 0.6000\n",
      "Epoch 19/100\n",
      "70/70 [==============================] - 0s 198us/step - loss: 0.6589 - acc: 0.6429 - val_loss: 0.6893 - val_acc: 0.6000\n",
      "Epoch 20/100\n",
      "70/70 [==============================] - 0s 181us/step - loss: 0.6579 - acc: 0.6429 - val_loss: 0.6881 - val_acc: 0.6000\n",
      "Epoch 21/100\n",
      "70/70 [==============================] - 0s 202us/step - loss: 0.6568 - acc: 0.6429 - val_loss: 0.6869 - val_acc: 0.6000\n",
      "Epoch 22/100\n",
      "70/70 [==============================] - 0s 192us/step - loss: 0.6554 - acc: 0.6429 - val_loss: 0.6858 - val_acc: 0.6000\n",
      "Epoch 23/100\n",
      "70/70 [==============================] - 0s 202us/step - loss: 0.6541 - acc: 0.6429 - val_loss: 0.6847 - val_acc: 0.6000\n",
      "Epoch 24/100\n",
      "70/70 [==============================] - 0s 221us/step - loss: 0.6531 - acc: 0.6429 - val_loss: 0.6836 - val_acc: 0.6000\n",
      "Epoch 25/100\n",
      "70/70 [==============================] - 0s 227us/step - loss: 0.6518 - acc: 0.6429 - val_loss: 0.6824 - val_acc: 0.6333\n",
      "Epoch 26/100\n",
      "70/70 [==============================] - 0s 207us/step - loss: 0.6508 - acc: 0.6429 - val_loss: 0.6814 - val_acc: 0.6333\n",
      "Epoch 27/100\n",
      "70/70 [==============================] - 0s 185us/step - loss: 0.6493 - acc: 0.6429 - val_loss: 0.6803 - val_acc: 0.6333\n",
      "Epoch 28/100\n",
      "70/70 [==============================] - 0s 222us/step - loss: 0.6484 - acc: 0.6429 - val_loss: 0.6793 - val_acc: 0.6333\n",
      "Epoch 29/100\n",
      "70/70 [==============================] - 0s 199us/step - loss: 0.6471 - acc: 0.6429 - val_loss: 0.6782 - val_acc: 0.6333\n",
      "Epoch 30/100\n",
      "70/70 [==============================] - 0s 206us/step - loss: 0.6463 - acc: 0.6429 - val_loss: 0.6772 - val_acc: 0.6333\n",
      "Epoch 31/100\n",
      "70/70 [==============================] - 0s 255us/step - loss: 0.6449 - acc: 0.6429 - val_loss: 0.6762 - val_acc: 0.6333\n",
      "Epoch 32/100\n",
      "70/70 [==============================] - 0s 204us/step - loss: 0.6445 - acc: 0.6429 - val_loss: 0.6751 - val_acc: 0.6333\n",
      "Epoch 33/100\n",
      "70/70 [==============================] - 0s 222us/step - loss: 0.6429 - acc: 0.6429 - val_loss: 0.6742 - val_acc: 0.6333\n",
      "Epoch 34/100\n",
      "70/70 [==============================] - 0s 209us/step - loss: 0.6414 - acc: 0.6429 - val_loss: 0.6732 - val_acc: 0.6333\n",
      "Epoch 35/100\n",
      "70/70 [==============================] - 0s 205us/step - loss: 0.6405 - acc: 0.6429 - val_loss: 0.6722 - val_acc: 0.6333\n",
      "Epoch 36/100\n",
      "70/70 [==============================] - 0s 229us/step - loss: 0.6393 - acc: 0.6429 - val_loss: 0.6713 - val_acc: 0.6333\n",
      "Epoch 37/100\n",
      "70/70 [==============================] - 0s 199us/step - loss: 0.6382 - acc: 0.6429 - val_loss: 0.6703 - val_acc: 0.6333\n",
      "Epoch 38/100\n",
      "70/70 [==============================] - 0s 198us/step - loss: 0.6375 - acc: 0.6429 - val_loss: 0.6693 - val_acc: 0.6333\n",
      "Epoch 39/100\n",
      "70/70 [==============================] - 0s 207us/step - loss: 0.6361 - acc: 0.6429 - val_loss: 0.6683 - val_acc: 0.6333\n",
      "Epoch 40/100\n",
      "70/70 [==============================] - 0s 204us/step - loss: 0.6349 - acc: 0.6429 - val_loss: 0.6674 - val_acc: 0.6333\n",
      "Epoch 41/100\n",
      "70/70 [==============================] - 0s 232us/step - loss: 0.6343 - acc: 0.6429 - val_loss: 0.6665 - val_acc: 0.6333\n",
      "Epoch 42/100\n",
      "70/70 [==============================] - 0s 213us/step - loss: 0.6327 - acc: 0.6429 - val_loss: 0.6655 - val_acc: 0.6333\n",
      "Epoch 43/100\n",
      "70/70 [==============================] - 0s 189us/step - loss: 0.6319 - acc: 0.6429 - val_loss: 0.6646 - val_acc: 0.6333\n",
      "Epoch 44/100\n",
      "70/70 [==============================] - 0s 213us/step - loss: 0.6309 - acc: 0.6429 - val_loss: 0.6637 - val_acc: 0.6333\n",
      "Epoch 45/100\n",
      "70/70 [==============================] - 0s 194us/step - loss: 0.6296 - acc: 0.6429 - val_loss: 0.6628 - val_acc: 0.6333\n",
      "Epoch 46/100\n",
      "70/70 [==============================] - 0s 189us/step - loss: 0.6285 - acc: 0.6429 - val_loss: 0.6618 - val_acc: 0.6333\n",
      "Epoch 47/100\n",
      "70/70 [==============================] - 0s 217us/step - loss: 0.6276 - acc: 0.6429 - val_loss: 0.6609 - val_acc: 0.6333\n",
      "Epoch 48/100\n",
      "70/70 [==============================] - 0s 223us/step - loss: 0.6266 - acc: 0.6429 - val_loss: 0.6600 - val_acc: 0.6333\n",
      "Epoch 49/100\n",
      "70/70 [==============================] - 0s 209us/step - loss: 0.6255 - acc: 0.6429 - val_loss: 0.6591 - val_acc: 0.6333\n",
      "Epoch 50/100\n",
      "70/70 [==============================] - 0s 214us/step - loss: 0.6243 - acc: 0.6429 - val_loss: 0.6582 - val_acc: 0.6333\n",
      "Epoch 51/100\n",
      "70/70 [==============================] - 0s 188us/step - loss: 0.6236 - acc: 0.6429 - val_loss: 0.6573 - val_acc: 0.6333\n",
      "Epoch 52/100\n",
      "70/70 [==============================] - 0s 219us/step - loss: 0.6225 - acc: 0.6429 - val_loss: 0.6563 - val_acc: 0.6333\n",
      "Epoch 53/100\n",
      "70/70 [==============================] - 0s 181us/step - loss: 0.6211 - acc: 0.6571 - val_loss: 0.6555 - val_acc: 0.6333\n",
      "Epoch 54/100\n",
      "70/70 [==============================] - 0s 202us/step - loss: 0.6200 - acc: 0.6571 - val_loss: 0.6546 - val_acc: 0.6333\n",
      "Epoch 55/100\n",
      "70/70 [==============================] - 0s 196us/step - loss: 0.6191 - acc: 0.6714 - val_loss: 0.6537 - val_acc: 0.6333\n",
      "Epoch 56/100\n",
      "70/70 [==============================] - 0s 191us/step - loss: 0.6180 - acc: 0.6714 - val_loss: 0.6529 - val_acc: 0.6333\n",
      "Epoch 57/100\n",
      "70/70 [==============================] - 0s 181us/step - loss: 0.6171 - acc: 0.6714 - val_loss: 0.6521 - val_acc: 0.6333\n",
      "Epoch 58/100\n",
      "70/70 [==============================] - 0s 212us/step - loss: 0.6160 - acc: 0.6714 - val_loss: 0.6512 - val_acc: 0.6333\n",
      "Epoch 59/100\n",
      "70/70 [==============================] - 0s 168us/step - loss: 0.6152 - acc: 0.6714 - val_loss: 0.6504 - val_acc: 0.6333\n",
      "Epoch 60/100\n",
      "70/70 [==============================] - 0s 211us/step - loss: 0.6139 - acc: 0.6714 - val_loss: 0.6495 - val_acc: 0.6333\n",
      "Epoch 61/100\n",
      "70/70 [==============================] - 0s 170us/step - loss: 0.6128 - acc: 0.6714 - val_loss: 0.6487 - val_acc: 0.6333\n"
     ]
    },
    {
     "name": "stdout",
     "output_type": "stream",
     "text": [
      "Epoch 62/100\n",
      "70/70 [==============================] - 0s 210us/step - loss: 0.6119 - acc: 0.6714 - val_loss: 0.6478 - val_acc: 0.6333\n",
      "Epoch 63/100\n",
      "70/70 [==============================] - 0s 174us/step - loss: 0.6109 - acc: 0.6714 - val_loss: 0.6470 - val_acc: 0.6333\n",
      "Epoch 64/100\n",
      "70/70 [==============================] - 0s 211us/step - loss: 0.6100 - acc: 0.6714 - val_loss: 0.6462 - val_acc: 0.6333\n",
      "Epoch 65/100\n",
      "70/70 [==============================] - 0s 222us/step - loss: 0.6093 - acc: 0.6714 - val_loss: 0.6453 - val_acc: 0.6333\n",
      "Epoch 66/100\n",
      "70/70 [==============================] - 0s 206us/step - loss: 0.6083 - acc: 0.6714 - val_loss: 0.6445 - val_acc: 0.6333\n",
      "Epoch 67/100\n",
      "70/70 [==============================] - 0s 197us/step - loss: 0.6073 - acc: 0.6714 - val_loss: 0.6437 - val_acc: 0.6333\n",
      "Epoch 68/100\n",
      "70/70 [==============================] - 0s 193us/step - loss: 0.6066 - acc: 0.6714 - val_loss: 0.6428 - val_acc: 0.6333\n",
      "Epoch 69/100\n",
      "70/70 [==============================] - 0s 198us/step - loss: 0.6049 - acc: 0.6857 - val_loss: 0.6420 - val_acc: 0.6333\n",
      "Epoch 70/100\n",
      "70/70 [==============================] - 0s 197us/step - loss: 0.6042 - acc: 0.6857 - val_loss: 0.6412 - val_acc: 0.6667\n",
      "Epoch 71/100\n",
      "70/70 [==============================] - 0s 191us/step - loss: 0.6031 - acc: 0.7000 - val_loss: 0.6404 - val_acc: 0.6667\n",
      "Epoch 72/100\n",
      "70/70 [==============================] - 0s 187us/step - loss: 0.6024 - acc: 0.6857 - val_loss: 0.6395 - val_acc: 0.6667\n",
      "Epoch 73/100\n",
      "70/70 [==============================] - 0s 196us/step - loss: 0.6010 - acc: 0.7143 - val_loss: 0.6388 - val_acc: 0.6667\n",
      "Epoch 74/100\n",
      "70/70 [==============================] - 0s 190us/step - loss: 0.6001 - acc: 0.7143 - val_loss: 0.6380 - val_acc: 0.6667\n",
      "Epoch 75/100\n",
      "70/70 [==============================] - 0s 188us/step - loss: 0.5993 - acc: 0.7143 - val_loss: 0.6372 - val_acc: 0.6667\n",
      "Epoch 76/100\n",
      "70/70 [==============================] - 0s 252us/step - loss: 0.5983 - acc: 0.7143 - val_loss: 0.6364 - val_acc: 0.6667\n",
      "Epoch 77/100\n",
      "70/70 [==============================] - 0s 242us/step - loss: 0.5974 - acc: 0.7143 - val_loss: 0.6356 - val_acc: 0.6667\n",
      "Epoch 78/100\n",
      "70/70 [==============================] - 0s 212us/step - loss: 0.5963 - acc: 0.7143 - val_loss: 0.6349 - val_acc: 0.6667\n",
      "Epoch 79/100\n",
      "70/70 [==============================] - 0s 201us/step - loss: 0.5954 - acc: 0.7286 - val_loss: 0.6341 - val_acc: 0.6667\n",
      "Epoch 80/100\n",
      "70/70 [==============================] - 0s 194us/step - loss: 0.5945 - acc: 0.7143 - val_loss: 0.6333 - val_acc: 0.6667\n",
      "Epoch 81/100\n",
      "70/70 [==============================] - 0s 223us/step - loss: 0.5934 - acc: 0.7286 - val_loss: 0.6325 - val_acc: 0.7000\n",
      "Epoch 82/100\n",
      "70/70 [==============================] - 0s 211us/step - loss: 0.5926 - acc: 0.7286 - val_loss: 0.6317 - val_acc: 0.7000\n",
      "Epoch 83/100\n",
      "70/70 [==============================] - 0s 206us/step - loss: 0.5917 - acc: 0.7286 - val_loss: 0.6310 - val_acc: 0.7000\n",
      "Epoch 84/100\n",
      "70/70 [==============================] - 0s 219us/step - loss: 0.5907 - acc: 0.7286 - val_loss: 0.6302 - val_acc: 0.7000\n",
      "Epoch 85/100\n",
      "70/70 [==============================] - 0s 196us/step - loss: 0.5897 - acc: 0.7286 - val_loss: 0.6294 - val_acc: 0.7000\n",
      "Epoch 86/100\n",
      "70/70 [==============================] - 0s 170us/step - loss: 0.5891 - acc: 0.7286 - val_loss: 0.6286 - val_acc: 0.7000\n",
      "Epoch 87/100\n",
      "70/70 [==============================] - 0s 191us/step - loss: 0.5879 - acc: 0.7286 - val_loss: 0.6279 - val_acc: 0.7000\n",
      "Epoch 88/100\n",
      "70/70 [==============================] - 0s 198us/step - loss: 0.5869 - acc: 0.7286 - val_loss: 0.6272 - val_acc: 0.7000\n",
      "Epoch 89/100\n",
      "70/70 [==============================] - 0s 221us/step - loss: 0.5861 - acc: 0.7286 - val_loss: 0.6264 - val_acc: 0.7000\n",
      "Epoch 90/100\n",
      "70/70 [==============================] - 0s 196us/step - loss: 0.5853 - acc: 0.7286 - val_loss: 0.6257 - val_acc: 0.7000\n",
      "Epoch 91/100\n",
      "70/70 [==============================] - 0s 211us/step - loss: 0.5842 - acc: 0.7286 - val_loss: 0.6249 - val_acc: 0.7000\n",
      "Epoch 92/100\n",
      "70/70 [==============================] - 0s 201us/step - loss: 0.5832 - acc: 0.7286 - val_loss: 0.6242 - val_acc: 0.7000\n",
      "Epoch 93/100\n",
      "70/70 [==============================] - 0s 196us/step - loss: 0.5825 - acc: 0.7286 - val_loss: 0.6234 - val_acc: 0.7000\n",
      "Epoch 94/100\n",
      "70/70 [==============================] - 0s 199us/step - loss: 0.5817 - acc: 0.7286 - val_loss: 0.6227 - val_acc: 0.7000\n",
      "Epoch 95/100\n",
      "70/70 [==============================] - 0s 193us/step - loss: 0.5808 - acc: 0.7286 - val_loss: 0.6220 - val_acc: 0.7000\n",
      "Epoch 96/100\n",
      "70/70 [==============================] - 0s 192us/step - loss: 0.5798 - acc: 0.7286 - val_loss: 0.6212 - val_acc: 0.7000\n",
      "Epoch 97/100\n",
      "70/70 [==============================] - 0s 181us/step - loss: 0.5792 - acc: 0.7286 - val_loss: 0.6205 - val_acc: 0.7000\n",
      "Epoch 98/100\n",
      "70/70 [==============================] - 0s 197us/step - loss: 0.5780 - acc: 0.7286 - val_loss: 0.6198 - val_acc: 0.7000\n",
      "Epoch 99/100\n",
      "70/70 [==============================] - 0s 189us/step - loss: 0.5771 - acc: 0.7286 - val_loss: 0.6191 - val_acc: 0.7000\n",
      "Epoch 100/100\n",
      "70/70 [==============================] - 0s 179us/step - loss: 0.5761 - acc: 0.7286 - val_loss: 0.6183 - val_acc: 0.7000\n"
     ]
    }
   ],
   "source": [
    "history = model.fit(x_train, y_train,batch_size=batch_size, epochs=epochs,verbose=1, validation_data=(x_test, y_test))"
   ]
  },
  {
   "cell_type": "markdown",
   "metadata": {},
   "source": [
    "## 模型預測"
   ]
  },
  {
   "cell_type": "code",
   "execution_count": 135,
   "metadata": {},
   "outputs": [
    {
     "name": "stdout",
     "output_type": "stream",
     "text": [
      "[[0.51320009 0.81112485 0.3292509 ]]\n"
     ]
    }
   ],
   "source": [
    "predict_x = np.random.rand(1,3)\n",
    "print(predict_x)"
   ]
  },
  {
   "cell_type": "code",
   "execution_count": 136,
   "metadata": {},
   "outputs": [
    {
     "data": {
      "text/plain": [
       "array([[0.41014126, 0.5898588 ]], dtype=float32)"
      ]
     },
     "execution_count": 136,
     "metadata": {},
     "output_type": "execute_result"
    }
   ],
   "source": [
    "model.predict(predict_x)"
   ]
  },
  {
   "cell_type": "code",
   "execution_count": 137,
   "metadata": {},
   "outputs": [
    {
     "data": {
      "text/plain": [
       "array([1])"
      ]
     },
     "execution_count": 137,
     "metadata": {},
     "output_type": "execute_result"
    }
   ],
   "source": [
    "model.predict_classes(predict_x)"
   ]
  },
  {
   "cell_type": "code",
   "execution_count": 138,
   "metadata": {},
   "outputs": [
    {
     "data": {
      "text/plain": [
       "array([0.64376755])"
      ]
     },
     "execution_count": 138,
     "metadata": {},
     "output_type": "execute_result"
    }
   ],
   "source": [
    "np.dot(predict_x,W)"
   ]
  },
  {
   "cell_type": "markdown",
   "metadata": {},
   "source": [
    "## 模型準確度圖"
   ]
  },
  {
   "cell_type": "code",
   "execution_count": 139,
   "metadata": {},
   "outputs": [
    {
     "data": {
      "image/png": "[encoded data removed]",
      "text/plain": [
       "<matplotlib.figure.Figure at 0x10fdffac8>"
      ]
     },
     "metadata": {},
     "output_type": "display_data"
    }
   ],
   "source": [
    "plt.plot(history.history['acc'])\n",
    "plt.plot(history.history['val_acc'])\n",
    "plt.title('model accuracy')\n",
    "plt.ylabel('accuracy')\n",
    "plt.xlabel('epoch')\n",
    "plt.legend(['train', 'test'], loc='upper left')\n",
    "plt.show()"
   ]
  },
  {
   "cell_type": "markdown",
   "metadata": {},
   "source": [
    "##  模型誤差圖"
   ]
  },
  {
   "cell_type": "code",
   "execution_count": 140,
   "metadata": {},
   "outputs": [
    {
     "data": {
      "image/png": "[encoded data removed]",
      "text/plain": [
       "<matplotlib.figure.Figure at 0x11bc09ef0>"
      ]
     },
     "metadata": {},
     "output_type": "display_data"
    }
   ],
   "source": [
    "plt.plot(history.history['loss'])\n",
    "plt.plot(history.history['val_loss'])\n",
    "plt.title('model loss')\n",
    "plt.ylabel('loss')\n",
    "plt.xlabel('epoch')\n",
    "plt.legend(['train', 'test'], loc='upper left')\n",
    "plt.show()"
   ]
  },
  {
   "cell_type": "code",
   "execution_count": 147,
   "metadata": {},
   "outputs": [
    {
     "data": {
      "text/plain": [
       "(3, 2)"
      ]
     },
     "execution_count": 147,
     "metadata": {},
     "output_type": "execute_result"
    }
   ],
   "source": [
    "model.get_weights()[0].shape"
   ]
  },
  {
   "cell_type": "code",
   "execution_count": 109,
   "metadata": {},
   "outputs": [],
   "source": [
    "import pandas as pd\n",
    "d = pd.read_csv('data.tsv',delimiter='\\t')\n",
    "x_train = d[d.columns[0:3]].as_matrix()\n",
    "y_train = keras.utils.to_categorical(d[d.columns[3]].as_matrix(),num_classes=2)"
   ]
  },
  {
   "cell_type": "code",
   "execution_count": 102,
   "metadata": {},
   "outputs": [
    {
     "data": {
      "text/plain": [
       "array([[1., 0.],\n",
       "       [1., 0.],\n",
       "       [1., 0.],\n",
       "       [1., 0.],\n",
       "       [1., 0.],\n",
       "       [1., 0.],\n",
       "       [1., 0.],\n",
       "       [1., 0.],\n",
       "       [1., 0.],\n",
       "       [1., 0.],\n",
       "       [1., 0.],\n",
       "       [1., 0.],\n",
       "       [1., 0.],\n",
       "       [1., 0.],\n",
       "       [1., 0.],\n",
       "       [0., 1.],\n",
       "       [0., 1.],\n",
       "       [0., 1.],\n",
       "       [0., 1.],\n",
       "       [0., 1.],\n",
       "       [0., 1.],\n",
       "       [0., 1.],\n",
       "       [0., 1.],\n",
       "       [0., 1.],\n",
       "       [0., 1.],\n",
       "       [0., 1.],\n",
       "       [0., 1.],\n",
       "       [0., 1.],\n",
       "       [0., 1.],\n",
       "       [0., 1.]])"
      ]
     },
     "execution_count": 102,
     "metadata": {},
     "output_type": "execute_result"
    }
   ],
   "source": []
  },
  {
   "cell_type": "code",
   "execution_count": 94,
   "metadata": {},
   "outputs": [],
   "source": []
  },
  {
   "cell_type": "code",
   "execution_count": 95,
   "metadata": {},
   "outputs": [
    {
     "data": {
      "text/plain": [
       "(30, 3)"
      ]
     },
     "execution_count": 95,
     "metadata": {},
     "output_type": "execute_result"
    }
   ],
   "source": [
    "X.shape"
   ]
  },
  {
   "cell_type": "code",
   "execution_count": 96,
   "metadata": {},
   "outputs": [
    {
     "data": {
      "text/plain": [
       "(30,)"
      ]
     },
     "execution_count": 96,
     "metadata": {},
     "output_type": "execute_result"
    }
   ],
   "source": [
    "Y.shape"
   ]
  },
  {
   "cell_type": "code",
   "execution_count": 110,
   "metadata": {},
   "outputs": [
    {
     "name": "stdout",
     "output_type": "stream",
     "text": [
      "Epoch 1/50\n",
      "30/30 [==============================] - 0s 6ms/step - loss: 1.1702 - acc: 0.0667\n",
      "Epoch 2/50\n",
      "30/30 [==============================] - 0s 862us/step - loss: 1.1072 - acc: 0.0667\n",
      "Epoch 3/50\n",
      "30/30 [==============================] - 0s 682us/step - loss: 1.0524 - acc: 0.0667\n",
      "Epoch 4/50\n",
      "30/30 [==============================] - 0s 660us/step - loss: 1.0033 - acc: 0.0667\n",
      "Epoch 5/50\n",
      "30/30 [==============================] - 0s 460us/step - loss: 0.9570 - acc: 0.0667\n",
      "Epoch 6/50\n",
      "30/30 [==============================] - 0s 458us/step - loss: 0.9164 - acc: 0.0667\n",
      "Epoch 7/50\n",
      "30/30 [==============================] - 0s 693us/step - loss: 0.8817 - acc: 0.0667\n",
      "Epoch 8/50\n",
      "30/30 [==============================] - 0s 596us/step - loss: 0.8482 - acc: 0.0667\n",
      "Epoch 9/50\n",
      "30/30 [==============================] - 0s 546us/step - loss: 0.8192 - acc: 0.0667\n",
      "Epoch 10/50\n",
      "30/30 [==============================] - 0s 481us/step - loss: 0.7929 - acc: 0.0667\n",
      "Epoch 11/50\n",
      "30/30 [==============================] - 0s 469us/step - loss: 0.7697 - acc: 0.0667\n",
      "Epoch 12/50\n",
      "30/30 [==============================] - 0s 459us/step - loss: 0.7482 - acc: 0.0667\n",
      "Epoch 13/50\n",
      "30/30 [==============================] - 0s 507us/step - loss: 0.7274 - acc: 0.4000\n",
      "Epoch 14/50\n",
      "30/30 [==============================] - 0s 572us/step - loss: 0.7099 - acc: 0.5000\n",
      "Epoch 15/50\n",
      "30/30 [==============================] - 0s 509us/step - loss: 0.6930 - acc: 0.5000\n",
      "Epoch 16/50\n",
      "30/30 [==============================] - 0s 542us/step - loss: 0.6778 - acc: 0.5000\n",
      "Epoch 17/50\n",
      "30/30 [==============================] - 0s 573us/step - loss: 0.6633 - acc: 0.5000\n",
      "Epoch 18/50\n",
      "30/30 [==============================] - 0s 548us/step - loss: 0.6514 - acc: 0.5000\n",
      "Epoch 19/50\n",
      "30/30 [==============================] - 0s 510us/step - loss: 0.6383 - acc: 0.5000\n",
      "Epoch 20/50\n",
      "30/30 [==============================] - 0s 612us/step - loss: 0.6265 - acc: 0.5000\n",
      "Epoch 21/50\n",
      "30/30 [==============================] - 0s 546us/step - loss: 0.6161 - acc: 0.5000\n",
      "Epoch 22/50\n",
      "30/30 [==============================] - 0s 490us/step - loss: 0.6053 - acc: 0.5000\n",
      "Epoch 23/50\n",
      "30/30 [==============================] - 0s 559us/step - loss: 0.5952 - acc: 0.5000\n",
      "Epoch 24/50\n",
      "30/30 [==============================] - 0s 511us/step - loss: 0.5856 - acc: 0.5000\n",
      "Epoch 25/50\n",
      "30/30 [==============================] - 0s 500us/step - loss: 0.5770 - acc: 0.5000\n",
      "Epoch 26/50\n",
      "30/30 [==============================] - 0s 560us/step - loss: 0.5689 - acc: 0.7667\n",
      "Epoch 27/50\n",
      "30/30 [==============================] - 0s 514us/step - loss: 0.5599 - acc: 0.9333\n",
      "Epoch 28/50\n",
      "30/30 [==============================] - 0s 534us/step - loss: 0.5521 - acc: 0.9333\n",
      "Epoch 29/50\n",
      "30/30 [==============================] - 0s 548us/step - loss: 0.5439 - acc: 0.9333\n",
      "Epoch 30/50\n",
      "30/30 [==============================] - 0s 516us/step - loss: 0.5369 - acc: 0.9333\n",
      "Epoch 31/50\n",
      "30/30 [==============================] - 0s 586us/step - loss: 0.5297 - acc: 0.9333\n",
      "Epoch 32/50\n",
      "30/30 [==============================] - 0s 572us/step - loss: 0.5227 - acc: 0.9333\n",
      "Epoch 33/50\n",
      "30/30 [==============================] - 0s 543us/step - loss: 0.5163 - acc: 0.9333\n",
      "Epoch 34/50\n",
      "30/30 [==============================] - 0s 549us/step - loss: 0.5103 - acc: 0.9333\n",
      "Epoch 35/50\n",
      "30/30 [==============================] - 0s 618us/step - loss: 0.5035 - acc: 0.9333\n",
      "Epoch 36/50\n",
      "30/30 [==============================] - 0s 575us/step - loss: 0.4974 - acc: 0.9333\n",
      "Epoch 37/50\n",
      "30/30 [==============================] - 0s 518us/step - loss: 0.4920 - acc: 0.9333\n",
      "Epoch 38/50\n",
      "30/30 [==============================] - 0s 574us/step - loss: 0.4863 - acc: 0.9333\n",
      "Epoch 39/50\n",
      "30/30 [==============================] - 0s 591us/step - loss: 0.4805 - acc: 0.9333\n",
      "Epoch 40/50\n",
      "30/30 [==============================] - 0s 489us/step - loss: 0.4749 - acc: 0.9333\n",
      "Epoch 41/50\n",
      "30/30 [==============================] - 0s 609us/step - loss: 0.4702 - acc: 0.9333\n",
      "Epoch 42/50\n",
      "30/30 [==============================] - 0s 617us/step - loss: 0.4653 - acc: 0.9333\n",
      "Epoch 43/50\n",
      "30/30 [==============================] - 0s 682us/step - loss: 0.4599 - acc: 0.9333\n",
      "Epoch 44/50\n",
      "30/30 [==============================] - 0s 551us/step - loss: 0.4552 - acc: 0.9333\n",
      "Epoch 45/50\n",
      "30/30 [==============================] - 0s 644us/step - loss: 0.4506 - acc: 0.9333\n",
      "Epoch 46/50\n",
      "30/30 [==============================] - 0s 531us/step - loss: 0.4463 - acc: 0.9333\n",
      "Epoch 47/50\n",
      "30/30 [==============================] - 0s 583us/step - loss: 0.4416 - acc: 0.9333\n",
      "Epoch 48/50\n",
      "30/30 [==============================] - 0s 698us/step - loss: 0.4373 - acc: 0.9333\n",
      "Epoch 49/50\n",
      "30/30 [==============================] - 0s 672us/step - loss: 0.4331 - acc: 0.9333\n",
      "Epoch 50/50\n",
      "30/30 [==============================] - 0s 655us/step - loss: 0.4291 - acc: 0.9333\n"
     ]
    },
    {
     "data": {
      "text/plain": [
       "<keras.callbacks.History at 0x11b06c438>"
      ]
     },
     "execution_count": 110,
     "metadata": {},
     "output_type": "execute_result"
    }
   ],
   "source": [
    "from keras.models import Sequential\n",
    "from keras.layers import Dense\n",
    "\n",
    "model = Sequential()\n",
    "model.add(Dense(units=2, activation='sigmoid', input_dim=3))\n",
    "model.add(Dense(units=2, activation='softmax'))\n",
    "model.compile(loss='categorical_crossentropy',optimizer='sgd',metrics=['accuracy'])\n",
    "model.fit(x_train, y_train, epochs=50, batch_size=3)"
   ]
  },
  {
   "cell_type": "code",
   "execution_count": 112,
   "metadata": {},
   "outputs": [
    {
     "data": {
      "text/plain": [
       "array([[0.4040768, 0.5959232]], dtype=float32)"
      ]
     },
     "execution_count": 112,
     "metadata": {},
     "output_type": "execute_result"
    }
   ],
   "source": [
    "classes = model.predict(np.array([10,5,3]).reshape(1,3), batch_size=1)\n",
    "classes"
   ]
  },
  {
   "cell_type": "code",
   "execution_count": null,
   "metadata": {},
   "outputs": [],
   "source": []
  }
 ],
 "metadata": {
  "kernelspec": {
   "display_name": "Python 3",
   "language": "python",
   "name": "python3"
  },
  "language_info": {
   "codemirror_mode": {
    "name": "ipython",
    "version": 3
   },
   "file_extension": ".py",
   "mimetype": "text/x-python",
   "name": "python",
   "nbconvert_exporter": "python",
   "pygments_lexer": "ipython3",
   "version": "3.6.4"
  }
 },
 "nbformat": 4,
 "nbformat_minor": 2
}
