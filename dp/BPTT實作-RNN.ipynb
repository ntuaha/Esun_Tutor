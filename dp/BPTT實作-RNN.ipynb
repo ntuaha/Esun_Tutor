{
 "cells": [
  {
   "cell_type": "code",
   "execution_count": 1,
   "metadata": {},
   "outputs": [],
   "source": [
    "import numpy as np\n",
    "import matplotlib.image as mpimg\n",
    "import matplotlib.pyplot as plt\n",
    "%matplotlib inline"
   ]
  },
  {
   "cell_type": "markdown",
   "metadata": {},
   "source": [
    "$ h_1 = f(U X +  W  h_0 ) $"
   ]
  },
  {
   "cell_type": "markdown",
   "metadata": {},
   "source": [
    "$ y_1 = g(V  h_1 )$"
   ]
  },
  {
   "cell_type": "markdown",
   "metadata": {},
   "source": [
    "### 向前傳遞"
   ]
  },
  {
   "cell_type": "markdown",
   "metadata": {},
   "source": [
    "### 初始化"
   ]
  },
  {
   "cell_type": "code",
   "execution_count": 38,
   "metadata": {},
   "outputs": [
    {
     "name": "stdout",
     "output_type": "stream",
     "text": [
      "X.shape:(2,)\n",
      "h.shape:(2, 1)\n",
      "h_bias.shape:(1, 2)\n",
      "v.shape:(2, 1)\n",
      "v_bias.shape:(1,)\n"
     ]
    }
   ],
   "source": [
    "X = np.array([1,2])\n",
    "h = np.array([0.0, 0.0]).reshape(2,1)\n",
    "h_bias = np.array([0.1,-0.1]).reshape(1,2)\n",
    "v = np.array([1.0,2.0]).reshape(2,1)\n",
    "v_bias = np.array([0.1])\n",
    "print(\"X.shape:%s\"%str(X.shape))\n",
    "print(\"h.shape:%s\"%str(h.shape))\n",
    "print(\"h_bias.shape:%s\"%str(h_bias.shape))\n",
    "print(\"v.shape:%s\"%str(v.shape))\n",
    "print(\"v_bias.shape:%s\"%str(v_bias.shape))"
   ]
  },
  {
   "cell_type": "markdown",
   "metadata": {},
   "source": [
    "### 環境設定"
   ]
  },
  {
   "cell_type": "code",
   "execution_count": 11,
   "metadata": {},
   "outputs": [
    {
     "name": "stdout",
     "output_type": "stream",
     "text": [
      "W.shape:(2, 2)\n",
      "U.shape:(1, 2)\n"
     ]
    }
   ],
   "source": [
    "W = np.array([[0.1,0.2],[0.3,0.4]])\n",
    "U = np.array([0.5,0.6]).reshape(1,2)\n",
    "print(\"W.shape:%s\"%str(W.shape))\n",
    "print(\"U.shape:%s\"%str(U.shape))"
   ]
  },
  {
   "cell_type": "code",
   "execution_count": 19,
   "metadata": {},
   "outputs": [
    {
     "name": "stdout",
     "output_type": "stream",
     "text": [
      "W_T.shape:(3, 2)\n"
     ]
    }
   ],
   "source": [
    "W_T = np.append(W,U,axis=0)\n",
    "print(\"W_T.shape:%s\"%str(W_T.shape))"
   ]
  },
  {
   "cell_type": "code",
   "execution_count": 39,
   "metadata": {},
   "outputs": [
    {
     "name": "stdout",
     "output_type": "stream",
     "text": [
      "step 0: h: [[0.53704957 0.46211716]],y: 1.561284\n",
      "step 1: h: [[0.85973818 0.88366641]],y: 2.727071\n"
     ]
    }
   ],
   "source": [
    "for i in range(X.shape[0]):\n",
    "    h = np.tanh(np.dot(np.append(h,X[i]),W_T) + h_bias)\n",
    "    y = np.dot(h,v) + v_bias\n",
    "    print(\"step %i: h: %s,y: %f\"%(i,str(h),y))"
   ]
  },
  {
   "cell_type": "code",
   "execution_count": null,
   "metadata": {},
   "outputs": [],
   "source": []
  }
 ],
 "metadata": {
  "kernelspec": {
   "display_name": "Python 3",
   "language": "python",
   "name": "python3"
  },
  "language_info": {
   "codemirror_mode": {
    "name": "ipython",
    "version": 3
   },
   "file_extension": ".py",
   "mimetype": "text/x-python",
   "name": "python",
   "nbconvert_exporter": "python",
   "pygments_lexer": "ipython3",
   "version": "3.6.4"
  }
 },
 "nbformat": 4,
 "nbformat_minor": 2
}
