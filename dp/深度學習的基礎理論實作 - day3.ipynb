{
 "cells": [
  {
   "cell_type": "markdown",
   "metadata": {},
   "source": [
    "20181113"
   ]
  },
  {
   "cell_type": "code",
   "execution_count": 31,
   "metadata": {},
   "outputs": [],
   "source": [
    "import numpy as np\n",
    "import matplotlib.pyplot as plt\n",
    "%matplotlib inline\n",
    "from sklearn import datasets\n",
    "from PIL import Image"
   ]
  },
  {
   "cell_type": "code",
   "execution_count": 32,
   "metadata": {},
   "outputs": [],
   "source": [
    "mnist = datasets.fetch_mldata('MNIST original')"
   ]
  },
  {
   "cell_type": "code",
   "execution_count": 33,
   "metadata": {},
   "outputs": [
    {
     "data": {
      "text/plain": [
       "1000.0"
      ]
     },
     "execution_count": 33,
     "metadata": {},
     "output_type": "execute_result"
    }
   ],
   "source": [
    "s = mnist.data.shape[0]\n",
    "c = np.zeros(s)\n",
    "c[np.random.choice(s,1000,replace=False)] = 1\n",
    "np.sum(c)"
   ]
  },
  {
   "cell_type": "code",
   "execution_count": 34,
   "metadata": {},
   "outputs": [],
   "source": [
    "def load_data(size):\n",
    "    mnist = datasets.fetch_mldata('MNIST original')\n",
    "    s = mnist.data.shape[0]\n",
    "    c = np.zeros(s)\n",
    "    c[np.random.choice(s,size,replace=False)] = 1\n",
    "    #n_train = size\n",
    "    data_train = mnist.data[c==1]\n",
    "    target_train = mnist.target[c==1]\n",
    "    data_test = mnist.data[c==0]\n",
    "    target_test = mnist.target[c==0]\n",
    "    return (data_train.astype(np.float32), target_train.astype(np.float32),data_test.astype(np.float32), target_test.astype(np.float32))\n",
    "\n",
    "def img_show(img):\n",
    "    pil_img = Image.fromarray(np.uint8(img))\n",
    "    pil_img.show()"
   ]
  },
  {
   "cell_type": "code",
   "execution_count": 3,
   "metadata": {},
   "outputs": [],
   "source": [
    "x_train, t_train, x_test, t_test  = load_data()"
   ]
  },
  {
   "cell_type": "code",
   "execution_count": 51,
   "metadata": {},
   "outputs": [],
   "source": [
    "import pickle\n",
    "def init_network():\n",
    "    with open('sample_weight.pkl','rb') as f:\n",
    "        network = pickle.load(f)\n",
    "    return network\n",
    "\n",
    "def sigmoid(x):\n",
    "    return 1/(1+np.exp(-x))\n",
    "# wrong ?\n",
    "def softmax_wrong(x):\n",
    "    c = np.max(x)\n",
    "    exp_a = np.exp(x-c) #防止溢位\n",
    "    sum_exp_a = np.sum(exp_a)\n",
    "    return exp_a / sum_exp_a\n",
    "\n",
    "def softmax(x):\n",
    "    if x.ndim == 2:\n",
    "        x = x.T\n",
    "        x = x - np.max(x, axis=0)\n",
    "        y = np.exp(x) / np.sum(np.exp(x), axis=0)\n",
    "        return y.T \n",
    "\n",
    "    x = x - np.max(x) \n",
    "    return np.exp(x) / np.sum(np.exp(x))\n",
    "\n",
    "\n",
    "\n",
    "def predict(network,x):\n",
    "    W1,W2,W3 = network['W1'],network['W2'],network['W3']\n",
    "    b1,b2,b3 = network['b1'],network['b2'],network['b3'] \n",
    "    \n",
    "    a1 = np.dot(x,W1) + b1\n",
    "    z1 = sigmoid(a1)\n",
    "    a2 = np.dot(z1,W2) + b2\n",
    "    z2 = sigmoid(a2)\n",
    "    a3 = np.dot(z2,W3) + b3\n",
    "    y = softmax(a3) # 輸出層\n",
    "    return y"
   ]
  },
  {
   "cell_type": "code",
   "execution_count": 6,
   "metadata": {},
   "outputs": [],
   "source": [
    "network = init_network()"
   ]
  },
  {
   "cell_type": "code",
   "execution_count": 9,
   "metadata": {},
   "outputs": [
    {
     "name": "stdout",
     "output_type": "stream",
     "text": [
      "CPU times: user 4 µs, sys: 1 µs, total: 5 µs\n",
      "Wall time: 7.87 µs\n",
      "Accuracy:0.932219\n"
     ]
    }
   ],
   "source": [
    "%time\n",
    "x_test_2 = x_test/256 # 0~1 normalize\n",
    "accuracy_cnt = 0\n",
    "for i in range(len(x_test_2)):\n",
    "    y = predict(network,x_test_2[i])\n",
    "    p = np.argmax(y)\n",
    "    if p == t_test[i]:\n",
    "        accuracy_cnt += 1\n",
    "print(\"Accuracy:%f\"%(float(accuracy_cnt)/len(x_test_2)))"
   ]
  },
  {
   "cell_type": "code",
   "execution_count": 10,
   "metadata": {},
   "outputs": [
    {
     "data": {
      "text/plain": [
       "7.0"
      ]
     },
     "execution_count": 10,
     "metadata": {},
     "output_type": "execute_result"
    }
   ],
   "source": [
    "index = 41654\n",
    "t_test[index]"
   ]
  },
  {
   "cell_type": "code",
   "execution_count": 11,
   "metadata": {},
   "outputs": [
    {
     "data": {
      "image/png": "[encoded data removed]",
      "text/plain": [
       "<matplotlib.figure.Figure at 0x1121d6b00>"
      ]
     },
     "metadata": {},
     "output_type": "display_data"
    }
   ],
   "source": [
    "plt.matshow(np.uint8(x_test[index]).reshape(28,28), cmap=plt.cm.gray)\n",
    "plt.show()"
   ]
  },
  {
   "cell_type": "code",
   "execution_count": 12,
   "metadata": {},
   "outputs": [
    {
     "data": {
      "text/plain": [
       "7"
      ]
     },
     "execution_count": 12,
     "metadata": {},
     "output_type": "execute_result"
    }
   ],
   "source": [
    "# 預測輸出結果\n",
    "y = predict(network,x_test_2[index])\n",
    "np.argmax(y)"
   ]
  },
  {
   "cell_type": "code",
   "execution_count": 13,
   "metadata": {},
   "outputs": [
    {
     "name": "stdout",
     "output_type": "stream",
     "text": [
      "CPU times: user 3 µs, sys: 0 ns, total: 3 µs\n",
      "Wall time: 8.11 µs\n",
      "Accuracy:0.932219\n"
     ]
    }
   ],
   "source": [
    "%time\n",
    "batch_size = 100\n",
    "accuracy_cnt = 0\n",
    "for i in range(0,len(x_test),batch_size):\n",
    "    x_batch = x_test_2[i:i+batch_size]\n",
    "    y_batch = predict(network,x_batch)\n",
    "    p = np.argmax(y_batch,axis =1)\n",
    "    accuracy_cnt += np.sum(p == t_test[i:i+batch_size])\n",
    "print(\"Accuracy:%f\"%(float(accuracy_cnt)/len(x_test_2)))"
   ]
  },
  {
   "cell_type": "code",
   "execution_count": 39,
   "metadata": {},
   "outputs": [],
   "source": [
    "def mean_squared_error(y,t):\n",
    "    return 0.5 * np.sum((y-t)**2)\n",
    "\n",
    "def cross_entropy_error(y,t):\n",
    "    delta = 1e-7\n",
    "    return -np.sum(t*np.log(y+delta))\n",
    "\n",
    "def one_hot_label(y,size):\n",
    "    a = np.zeros([y.shape[0],size])\n",
    "    for i in range(y.shape[0]):\n",
    "        a[i,int(y[i])] = 1\n",
    "    return a"
   ]
  },
  {
   "cell_type": "code",
   "execution_count": null,
   "metadata": {},
   "outputs": [],
   "source": [
    "b = one_hot_label(t_test,10)\n",
    "b.shape"
   ]
  },
  {
   "cell_type": "code",
   "execution_count": 18,
   "metadata": {},
   "outputs": [],
   "source": [
    "train = x_test/256\n",
    "test = t_test\n",
    "train_size = train.shape[0]\n",
    "batch_size = 10\n",
    "# 最後選出的資料集\n",
    "batch_mask = np.random.choice(train_size,batch_size)\n",
    "x_batch = train[batch_mask]\n",
    "t_batch = train[batch_mask]"
   ]
  },
  {
   "cell_type": "code",
   "execution_count": 54,
   "metadata": {},
   "outputs": [],
   "source": [
    "# one_hot_vector version\n",
    "def cross_entorpy_error(y,t):\n",
    "    if y.ndim == 1:\n",
    "        t = t.reshape(1,t.size)\n",
    "        y = y.reshape(1,y.size)\n",
    "    batch_size = y.shape[0]\n",
    "    return -np.sum(t*np.log(y))/batch_size"
   ]
  },
  {
   "cell_type": "code",
   "execution_count": 55,
   "metadata": {},
   "outputs": [],
   "source": [
    "def numerical_diff(f,x):\n",
    "    h = 1e-4 # 容許在float32底下運作\n",
    "    return (f(x+h)-f(x-h))/(2*h)\n",
    "\n",
    "def function_2(x):\n",
    "    return np.sum(x**2)\n",
    "\n",
    "# https://github.com/oreilly-japan/deep-learning-from-scratch/blob/master/common/gradient.py\n",
    "def numerical_gradient(f,x):\n",
    "    h = 1e-4\n",
    "    grad = np.zeros_like(x)\n",
    "    it = np.nditer(x, flags=['multi_index'], op_flags=['readwrite'])\n",
    "    while not it.finished:\n",
    "        idx = it.multi_index\n",
    "        tmp_val = x[idx]\n",
    "        x[idx] = float(tmp_val)+h\n",
    "        fxh1= f(x)\n",
    "        \n",
    "        x[idx] = float(tmp_val)-h\n",
    "        fxh2= f(x)\n",
    "        \n",
    "        grad[idx] = (fxh1 - fxh2) / (2*h)\n",
    "        x[idx] = tmp_val\n",
    "        it.iternext() \n",
    "    return grad\n",
    "\n",
    "def gradient_descent(f,init_x,lr=0.01,step_num = 100):\n",
    "    x = init_x\n",
    "    for i in range(step_num):\n",
    "        grad = numerical_gradient(f,x)\n",
    "        x -= lr * grad\n",
    "    return x"
   ]
  },
  {
   "cell_type": "markdown",
   "metadata": {},
   "source": [
    "驗證day3 都可以運作"
   ]
  },
  {
   "cell_type": "code",
   "execution_count": 73,
   "metadata": {},
   "outputs": [
    {
     "data": {
      "text/plain": [
       "array([-6.11110793e-10,  8.14814391e-10])"
      ]
     },
     "execution_count": 73,
     "metadata": {},
     "output_type": "execute_result"
    }
   ],
   "source": [
    "init_x = np.array([-3.0,4.0])\n",
    "gradient_descent(function_2,init_x=init_x,lr=0.1,step_num=100)"
   ]
  },
  {
   "cell_type": "markdown",
   "metadata": {},
   "source": [
    "### 開始學習\n",
    "\n",
    "$$ \\bf{W} = \n",
    "  \\begin{pmatrix}\n",
    "    w_{11} & w_{21} & w_{31} \\\\\n",
    "    w_{12} & w_{22} & w_{32} \n",
    "  \\end{pmatrix} $$\n",
    "\n",
    "$$ \\frac{\\partial L}{\\partial \\bf{W}} = \n",
    "  \\begin{pmatrix}\n",
    "    \\frac{\\partial L}{\\partial w_{11}} &     \\frac{\\partial L}{\\partial w_{21}} &     \\frac{\\partial L}{\\partial w_{31}} \\\\\n",
    "\\frac{\\partial L}{\\partial w_{12}} &     \\frac{\\partial L}{\\partial w_{22}} &     \\frac{\\partial L}{\\partial w_{32}} \n",
    "  \\end{pmatrix} $$\n"
   ]
  },
  {
   "cell_type": "markdown",
   "metadata": {},
   "source": [
    "建立簡單神經網路"
   ]
  },
  {
   "cell_type": "code",
   "execution_count": 52,
   "metadata": {},
   "outputs": [],
   "source": [
    "class SimpleNet:\n",
    "    def __init__(self):\n",
    "        #self.W = np.random.rand(2,3) ## 以常態分佈初始化\n",
    "        self.W = np.array([[0.47355232,0.9977393,0.84668094],\n",
    "       [0.85557411,0.03563661,0.69422093]])\n",
    "    def predict(self,x):\n",
    "        return np.dot(x,self.W)\n",
    "    def loss(self,x,t):\n",
    "        z = self.predict(x)\n",
    "        y = softmax(z)\n",
    "        loss = cross_entorpy_error(y,t)\n",
    "        return loss\n",
    "net = SimpleNet()"
   ]
  },
  {
   "cell_type": "code",
   "execution_count": 37,
   "metadata": {},
   "outputs": [
    {
     "data": {
      "text/plain": [
       "array([[0.47355232, 0.9977393 , 0.84668094],\n",
       "       [0.85557411, 0.03563661, 0.69422093]])"
      ]
     },
     "execution_count": 37,
     "metadata": {},
     "output_type": "execute_result"
    }
   ],
   "source": [
    "net.W"
   ]
  },
  {
   "cell_type": "code",
   "execution_count": 68,
   "metadata": {},
   "outputs": [
    {
     "data": {
      "text/plain": [
       "array([1.05414809, 0.63071653, 1.1328074 ])"
      ]
     },
     "execution_count": 68,
     "metadata": {},
     "output_type": "execute_result"
    }
   ],
   "source": [
    "x = np.array([0.6,0.9])\n",
    "p = net.predict(x)\n",
    "p"
   ]
  },
  {
   "cell_type": "code",
   "execution_count": 69,
   "metadata": {},
   "outputs": [
    {
     "data": {
      "text/plain": [
       "2"
      ]
     },
     "execution_count": 69,
     "metadata": {},
     "output_type": "execute_result"
    }
   ],
   "source": [
    "np.argmax(p)"
   ]
  },
  {
   "cell_type": "code",
   "execution_count": 92,
   "metadata": {},
   "outputs": [
    {
     "data": {
      "text/plain": [
       "0.9281123899431699"
      ]
     },
     "execution_count": 92,
     "metadata": {},
     "output_type": "execute_result"
    }
   ],
   "source": [
    "t = np.array([0,0,1])\n",
    "net.loss(x,t)"
   ]
  },
  {
   "cell_type": "code",
   "execution_count": 96,
   "metadata": {},
   "outputs": [
    {
     "data": {
      "text/plain": [
       "array([[ 0.21928102,  0.14354988, -0.36283089],\n",
       "       [ 0.32892153,  0.21532481, -0.54424634]])"
      ]
     },
     "execution_count": 96,
     "metadata": {},
     "output_type": "execute_result"
    }
   ],
   "source": [
    "# 要留意這裡有目標數值也要帶入 t\n",
    "def f(W):\n",
    "    t = np.array([0,0,1])\n",
    "    return net.loss(x,t)\n",
    "f = lambda w : net.loss(x,t) #另外一種寫法, 感覺不怎麼好用\n",
    "dW = numerical_gradient(f,net.W)\n",
    "dW"
   ]
  },
  {
   "cell_type": "markdown",
   "metadata": {},
   "source": [
    "### 執行學習演算法 stochastic gradient descent, SGD\n",
    "1. 小批次選取資料\n",
    "2. 計算梯度\n",
    "3. 更新資料\n",
    "4. 重複執行"
   ]
  },
  {
   "cell_type": "code",
   "execution_count": 56,
   "metadata": {},
   "outputs": [],
   "source": [
    "class TwoLayerNet:\n",
    "    def __init__(self,input_size,hidden_size,output_size,weight_init_std=0.01):\n",
    "        self.params = {}\n",
    "        self.params['W1'] = weight_init_std* np.random.randn(input_size,hidden_size)\n",
    "        self.params['b1'] = np.zeros(hidden_size)\n",
    "        self.params['W2'] = weight_init_std* np.random.randn(hidden_size,output_size)\n",
    "        self.params['b2'] = np.zeros(output_size)\n",
    "        \n",
    "        \n",
    "    def predict(self,x):\n",
    "        W1,W2 = self.params['W1'],self.params['W2']\n",
    "        b1,b2 = self.params['b1'],self.params['b2']        \n",
    "        \n",
    "        a1 = np.dot(x,W1) + b1\n",
    "        z1 = sigmoid(a1)\n",
    "        a2 = np.dot(z1,W2) + b2\n",
    "        z2 = sigmoid(a2)\n",
    "        y = softmax(z2)\n",
    "        \n",
    "        return y\n",
    "    \n",
    "    \n",
    "    def loss(self,x,t):\n",
    "        y = self.predict(x)\n",
    "        return cross_entorpy_error(y,t)\n",
    "    \n",
    "    \n",
    "    def accuracy(self,x,t):\n",
    "        y = self.predict(x)\n",
    "        y = np.argmax(y,axis=1)\n",
    "        t = np.argmax(t,axis=1)\n",
    "        accuracy = np.sum(y==t) / float(x.shape[0])\n",
    "        return accuracy\n",
    "    \n",
    "    def numerical_gradient(self,x,t):\n",
    "        loss_w = lambda W: self.loss(x,t)\n",
    "        grads = {}\n",
    "        grads[\"W1\"] = numerical_gradient(loss_w,self.params['W1'])\n",
    "        grads[\"W2\"] = numerical_gradient(loss_w,self.params['W2'])\n",
    "        grads[\"b1\"] = numerical_gradient(loss_w,self.params['b1'])\n",
    "        grads[\"b2\"] = numerical_gradient(loss_w,self.params['b1'])\n",
    "        return grads\n",
    "\n",
    "    #額外增加的\n",
    "    def gradient(self, x, t):\n",
    "        W1, W2 = self.params['W1'], self.params['W2']\n",
    "        b1, b2 = self.params['b1'], self.params['b2']\n",
    "        grads = {}\n",
    "        \n",
    "        batch_num = x.shape[0]\n",
    "        \n",
    "        # forward\n",
    "        a1 = np.dot(x, W1) + b1\n",
    "        z1 = sigmoid(a1)\n",
    "        a2 = np.dot(z1, W2) + b2\n",
    "        y = softmax(a2)\n",
    "        \n",
    "        # backward\n",
    "        dy = (y - t) / batch_num\n",
    "        grads['W2'] = np.dot(z1.T, dy)\n",
    "        grads['b2'] = np.sum(dy, axis=0)\n",
    "        \n",
    "        da1 = np.dot(dy, W2.T)\n",
    "        dz1 = sigmoid_grad(a1) * da1\n",
    "        grads['W1'] = np.dot(x.T, dz1)\n",
    "        grads['b1'] = np.sum(dz1, axis=0)\n",
    "\n",
    "        return grads\n",
    "    \n",
    "#為了加速增加的\n",
    "def sigmoid_grad(x):\n",
    "    return (1.0 - sigmoid(x)) * sigmoid(x)"
   ]
  },
  {
   "cell_type": "code",
   "execution_count": 57,
   "metadata": {},
   "outputs": [],
   "source": [
    "net = TwoLayerNet(input_size=784,hidden_size=100,output_size=10)"
   ]
  },
  {
   "cell_type": "code",
   "execution_count": 58,
   "metadata": {},
   "outputs": [
    {
     "data": {
      "text/plain": [
       "(784, 100)"
      ]
     },
     "execution_count": 58,
     "metadata": {},
     "output_type": "execute_result"
    }
   ],
   "source": [
    "net.params['W1'].shape"
   ]
  },
  {
   "cell_type": "code",
   "execution_count": 59,
   "metadata": {},
   "outputs": [],
   "source": [
    "x = np.random.rand(100,784)\n",
    "t = np.random.rand(100,10)\n",
    "y = net.predict(x)"
   ]
  },
  {
   "cell_type": "code",
   "execution_count": 60,
   "metadata": {},
   "outputs": [
    {
     "data": {
      "text/plain": [
       "array([3, 4, 0, 9, 6, 7, 3, 3, 5, 4, 5, 8, 6, 3, 6, 4, 8, 2, 0, 0, 0, 4,\n",
       "       6, 6, 2, 6, 8, 4, 1, 0, 5, 9, 6, 6, 1, 5, 7, 7, 6, 3, 6, 9, 7, 4,\n",
       "       1, 9, 8, 4, 3, 0, 0, 2, 8, 4, 1, 0, 4, 1, 5, 6, 6, 4, 7, 2, 4, 8,\n",
       "       9, 3, 6, 7, 2, 7, 2, 7, 8, 1, 7, 1, 7, 6, 7, 1, 2, 2, 7, 6, 1, 1,\n",
       "       3, 2, 5, 2, 8, 5, 6, 1, 2, 3, 4, 1])"
      ]
     },
     "execution_count": 60,
     "metadata": {},
     "output_type": "execute_result"
    }
   ],
   "source": [
    "np.argmax(t,axis=1)"
   ]
  },
  {
   "cell_type": "code",
   "execution_count": 61,
   "metadata": {},
   "outputs": [
    {
     "name": "stdout",
     "output_type": "stream",
     "text": [
      "CPU times: user 4 µs, sys: 1e+03 ns, total: 5 µs\n",
      "Wall time: 10 µs\n"
     ]
    },
    {
     "ename": "KeyboardInterrupt",
     "evalue": "",
     "output_type": "error",
     "traceback": [
      "\u001b[0;31m---------------------------------------------------------------------------\u001b[0m",
      "\u001b[0;31mKeyboardInterrupt\u001b[0m                         Traceback (most recent call last)",
      "\u001b[0;32m<ipython-input-61-272cd4e136b0>\u001b[0m in \u001b[0;36m<module>\u001b[0;34m()\u001b[0m\n\u001b[1;32m      1\u001b[0m \u001b[0mget_ipython\u001b[0m\u001b[0;34m(\u001b[0m\u001b[0;34m)\u001b[0m\u001b[0;34m.\u001b[0m\u001b[0mrun_line_magic\u001b[0m\u001b[0;34m(\u001b[0m\u001b[0;34m'time'\u001b[0m\u001b[0;34m,\u001b[0m \u001b[0;34m''\u001b[0m\u001b[0;34m)\u001b[0m\u001b[0;34m\u001b[0m\u001b[0m\n\u001b[0;32m----> 2\u001b[0;31m \u001b[0mgards\u001b[0m \u001b[0;34m=\u001b[0m \u001b[0mnet\u001b[0m\u001b[0;34m.\u001b[0m\u001b[0mnumerical_gradient\u001b[0m\u001b[0;34m(\u001b[0m\u001b[0mx\u001b[0m\u001b[0;34m,\u001b[0m\u001b[0mt\u001b[0m\u001b[0;34m)\u001b[0m\u001b[0;34m\u001b[0m\u001b[0m\n\u001b[0m\u001b[1;32m      3\u001b[0m \u001b[0mgards\u001b[0m\u001b[0;34m\u001b[0m\u001b[0m\n",
      "\u001b[0;32m<ipython-input-56-4bf24b7f8e8d>\u001b[0m in \u001b[0;36mnumerical_gradient\u001b[0;34m(self, x, t)\u001b[0m\n\u001b[1;32m     36\u001b[0m         \u001b[0mloss_w\u001b[0m \u001b[0;34m=\u001b[0m \u001b[0;32mlambda\u001b[0m \u001b[0mW\u001b[0m\u001b[0;34m:\u001b[0m \u001b[0mself\u001b[0m\u001b[0;34m.\u001b[0m\u001b[0mloss\u001b[0m\u001b[0;34m(\u001b[0m\u001b[0mx\u001b[0m\u001b[0;34m,\u001b[0m\u001b[0mt\u001b[0m\u001b[0;34m)\u001b[0m\u001b[0;34m\u001b[0m\u001b[0m\n\u001b[1;32m     37\u001b[0m         \u001b[0mgrads\u001b[0m \u001b[0;34m=\u001b[0m \u001b[0;34m{\u001b[0m\u001b[0;34m}\u001b[0m\u001b[0;34m\u001b[0m\u001b[0m\n\u001b[0;32m---> 38\u001b[0;31m         \u001b[0mgrads\u001b[0m\u001b[0;34m[\u001b[0m\u001b[0;34m\"W1\"\u001b[0m\u001b[0;34m]\u001b[0m \u001b[0;34m=\u001b[0m \u001b[0mnumerical_gradient\u001b[0m\u001b[0;34m(\u001b[0m\u001b[0mloss_w\u001b[0m\u001b[0;34m,\u001b[0m\u001b[0mself\u001b[0m\u001b[0;34m.\u001b[0m\u001b[0mparams\u001b[0m\u001b[0;34m[\u001b[0m\u001b[0;34m'W1'\u001b[0m\u001b[0;34m]\u001b[0m\u001b[0;34m)\u001b[0m\u001b[0;34m\u001b[0m\u001b[0m\n\u001b[0m\u001b[1;32m     39\u001b[0m         \u001b[0mgrads\u001b[0m\u001b[0;34m[\u001b[0m\u001b[0;34m\"W2\"\u001b[0m\u001b[0;34m]\u001b[0m \u001b[0;34m=\u001b[0m \u001b[0mnumerical_gradient\u001b[0m\u001b[0;34m(\u001b[0m\u001b[0mloss_w\u001b[0m\u001b[0;34m,\u001b[0m\u001b[0mself\u001b[0m\u001b[0;34m.\u001b[0m\u001b[0mparams\u001b[0m\u001b[0;34m[\u001b[0m\u001b[0;34m'W2'\u001b[0m\u001b[0;34m]\u001b[0m\u001b[0;34m)\u001b[0m\u001b[0;34m\u001b[0m\u001b[0m\n\u001b[1;32m     40\u001b[0m         \u001b[0mgrads\u001b[0m\u001b[0;34m[\u001b[0m\u001b[0;34m\"b1\"\u001b[0m\u001b[0;34m]\u001b[0m \u001b[0;34m=\u001b[0m \u001b[0mnumerical_gradient\u001b[0m\u001b[0;34m(\u001b[0m\u001b[0mloss_w\u001b[0m\u001b[0;34m,\u001b[0m\u001b[0mself\u001b[0m\u001b[0;34m.\u001b[0m\u001b[0mparams\u001b[0m\u001b[0;34m[\u001b[0m\u001b[0;34m'b1'\u001b[0m\u001b[0;34m]\u001b[0m\u001b[0;34m)\u001b[0m\u001b[0;34m\u001b[0m\u001b[0m\n",
      "\u001b[0;32m<ipython-input-55-2262566c8c21>\u001b[0m in \u001b[0;36mnumerical_gradient\u001b[0;34m(f, x)\u001b[0m\n\u001b[1;32m     15\u001b[0m         \u001b[0mtmp_val\u001b[0m \u001b[0;34m=\u001b[0m \u001b[0mx\u001b[0m\u001b[0;34m[\u001b[0m\u001b[0midx\u001b[0m\u001b[0;34m]\u001b[0m\u001b[0;34m\u001b[0m\u001b[0m\n\u001b[1;32m     16\u001b[0m         \u001b[0mx\u001b[0m\u001b[0;34m[\u001b[0m\u001b[0midx\u001b[0m\u001b[0;34m]\u001b[0m \u001b[0;34m=\u001b[0m \u001b[0mfloat\u001b[0m\u001b[0;34m(\u001b[0m\u001b[0mtmp_val\u001b[0m\u001b[0;34m)\u001b[0m\u001b[0;34m+\u001b[0m\u001b[0mh\u001b[0m\u001b[0;34m\u001b[0m\u001b[0m\n\u001b[0;32m---> 17\u001b[0;31m         \u001b[0mfxh1\u001b[0m\u001b[0;34m=\u001b[0m \u001b[0mf\u001b[0m\u001b[0;34m(\u001b[0m\u001b[0mx\u001b[0m\u001b[0;34m)\u001b[0m\u001b[0;34m\u001b[0m\u001b[0m\n\u001b[0m\u001b[1;32m     18\u001b[0m \u001b[0;34m\u001b[0m\u001b[0m\n\u001b[1;32m     19\u001b[0m         \u001b[0mx\u001b[0m\u001b[0;34m[\u001b[0m\u001b[0midx\u001b[0m\u001b[0;34m]\u001b[0m \u001b[0;34m=\u001b[0m \u001b[0mfloat\u001b[0m\u001b[0;34m(\u001b[0m\u001b[0mtmp_val\u001b[0m\u001b[0;34m)\u001b[0m\u001b[0;34m-\u001b[0m\u001b[0mh\u001b[0m\u001b[0;34m\u001b[0m\u001b[0m\n",
      "\u001b[0;32m<ipython-input-56-4bf24b7f8e8d>\u001b[0m in \u001b[0;36m<lambda>\u001b[0;34m(W)\u001b[0m\n\u001b[1;32m     34\u001b[0m \u001b[0;34m\u001b[0m\u001b[0m\n\u001b[1;32m     35\u001b[0m     \u001b[0;32mdef\u001b[0m \u001b[0mnumerical_gradient\u001b[0m\u001b[0;34m(\u001b[0m\u001b[0mself\u001b[0m\u001b[0;34m,\u001b[0m\u001b[0mx\u001b[0m\u001b[0;34m,\u001b[0m\u001b[0mt\u001b[0m\u001b[0;34m)\u001b[0m\u001b[0;34m:\u001b[0m\u001b[0;34m\u001b[0m\u001b[0m\n\u001b[0;32m---> 36\u001b[0;31m         \u001b[0mloss_w\u001b[0m \u001b[0;34m=\u001b[0m \u001b[0;32mlambda\u001b[0m \u001b[0mW\u001b[0m\u001b[0;34m:\u001b[0m \u001b[0mself\u001b[0m\u001b[0;34m.\u001b[0m\u001b[0mloss\u001b[0m\u001b[0;34m(\u001b[0m\u001b[0mx\u001b[0m\u001b[0;34m,\u001b[0m\u001b[0mt\u001b[0m\u001b[0;34m)\u001b[0m\u001b[0;34m\u001b[0m\u001b[0m\n\u001b[0m\u001b[1;32m     37\u001b[0m         \u001b[0mgrads\u001b[0m \u001b[0;34m=\u001b[0m \u001b[0;34m{\u001b[0m\u001b[0;34m}\u001b[0m\u001b[0;34m\u001b[0m\u001b[0m\n\u001b[1;32m     38\u001b[0m         \u001b[0mgrads\u001b[0m\u001b[0;34m[\u001b[0m\u001b[0;34m\"W1\"\u001b[0m\u001b[0;34m]\u001b[0m \u001b[0;34m=\u001b[0m \u001b[0mnumerical_gradient\u001b[0m\u001b[0;34m(\u001b[0m\u001b[0mloss_w\u001b[0m\u001b[0;34m,\u001b[0m\u001b[0mself\u001b[0m\u001b[0;34m.\u001b[0m\u001b[0mparams\u001b[0m\u001b[0;34m[\u001b[0m\u001b[0;34m'W1'\u001b[0m\u001b[0;34m]\u001b[0m\u001b[0;34m)\u001b[0m\u001b[0;34m\u001b[0m\u001b[0m\n",
      "\u001b[0;32m<ipython-input-56-4bf24b7f8e8d>\u001b[0m in \u001b[0;36mloss\u001b[0;34m(self, x, t)\u001b[0m\n\u001b[1;32m     22\u001b[0m \u001b[0;34m\u001b[0m\u001b[0m\n\u001b[1;32m     23\u001b[0m     \u001b[0;32mdef\u001b[0m \u001b[0mloss\u001b[0m\u001b[0;34m(\u001b[0m\u001b[0mself\u001b[0m\u001b[0;34m,\u001b[0m\u001b[0mx\u001b[0m\u001b[0;34m,\u001b[0m\u001b[0mt\u001b[0m\u001b[0;34m)\u001b[0m\u001b[0;34m:\u001b[0m\u001b[0;34m\u001b[0m\u001b[0m\n\u001b[0;32m---> 24\u001b[0;31m         \u001b[0my\u001b[0m \u001b[0;34m=\u001b[0m \u001b[0mself\u001b[0m\u001b[0;34m.\u001b[0m\u001b[0mpredict\u001b[0m\u001b[0;34m(\u001b[0m\u001b[0mx\u001b[0m\u001b[0;34m)\u001b[0m\u001b[0;34m\u001b[0m\u001b[0m\n\u001b[0m\u001b[1;32m     25\u001b[0m         \u001b[0;32mreturn\u001b[0m \u001b[0mcross_entorpy_error\u001b[0m\u001b[0;34m(\u001b[0m\u001b[0my\u001b[0m\u001b[0;34m,\u001b[0m\u001b[0mt\u001b[0m\u001b[0;34m)\u001b[0m\u001b[0;34m\u001b[0m\u001b[0m\n\u001b[1;32m     26\u001b[0m \u001b[0;34m\u001b[0m\u001b[0m\n",
      "\u001b[0;32m<ipython-input-56-4bf24b7f8e8d>\u001b[0m in \u001b[0;36mpredict\u001b[0;34m(self, x)\u001b[0m\n\u001b[1;32m     12\u001b[0m         \u001b[0mb1\u001b[0m\u001b[0;34m,\u001b[0m\u001b[0mb2\u001b[0m \u001b[0;34m=\u001b[0m \u001b[0mself\u001b[0m\u001b[0;34m.\u001b[0m\u001b[0mparams\u001b[0m\u001b[0;34m[\u001b[0m\u001b[0;34m'b1'\u001b[0m\u001b[0;34m]\u001b[0m\u001b[0;34m,\u001b[0m\u001b[0mself\u001b[0m\u001b[0;34m.\u001b[0m\u001b[0mparams\u001b[0m\u001b[0;34m[\u001b[0m\u001b[0;34m'b2'\u001b[0m\u001b[0;34m]\u001b[0m\u001b[0;34m\u001b[0m\u001b[0m\n\u001b[1;32m     13\u001b[0m \u001b[0;34m\u001b[0m\u001b[0m\n\u001b[0;32m---> 14\u001b[0;31m         \u001b[0ma1\u001b[0m \u001b[0;34m=\u001b[0m \u001b[0mnp\u001b[0m\u001b[0;34m.\u001b[0m\u001b[0mdot\u001b[0m\u001b[0;34m(\u001b[0m\u001b[0mx\u001b[0m\u001b[0;34m,\u001b[0m\u001b[0mW1\u001b[0m\u001b[0;34m)\u001b[0m \u001b[0;34m+\u001b[0m \u001b[0mb1\u001b[0m\u001b[0;34m\u001b[0m\u001b[0m\n\u001b[0m\u001b[1;32m     15\u001b[0m         \u001b[0mz1\u001b[0m \u001b[0;34m=\u001b[0m \u001b[0msigmoid\u001b[0m\u001b[0;34m(\u001b[0m\u001b[0ma1\u001b[0m\u001b[0;34m)\u001b[0m\u001b[0;34m\u001b[0m\u001b[0m\n\u001b[1;32m     16\u001b[0m         \u001b[0ma2\u001b[0m \u001b[0;34m=\u001b[0m \u001b[0mnp\u001b[0m\u001b[0;34m.\u001b[0m\u001b[0mdot\u001b[0m\u001b[0;34m(\u001b[0m\u001b[0mz1\u001b[0m\u001b[0;34m,\u001b[0m\u001b[0mW2\u001b[0m\u001b[0;34m)\u001b[0m \u001b[0;34m+\u001b[0m \u001b[0mb2\u001b[0m\u001b[0;34m\u001b[0m\u001b[0m\n",
      "\u001b[0;31mKeyboardInterrupt\u001b[0m: "
     ]
    }
   ],
   "source": [
    "%time\n",
    "gards = net.numerical_gradient(x,t)\n",
    "gards"
   ]
  },
  {
   "cell_type": "markdown",
   "metadata": {},
   "source": [
    "## 執行小批次學習"
   ]
  },
  {
   "cell_type": "code",
   "execution_count": 131,
   "metadata": {},
   "outputs": [
    {
     "data": {
      "text/plain": [
       "{'W1': array([[ 3.96943168e-05,  2.65811455e-04, -2.07106930e-03, ...,\n",
       "         -1.68227579e-03, -1.46975585e-03,  1.97589136e-03],\n",
       "        [ 3.02439888e-05,  2.80991004e-04, -2.11397352e-03, ...,\n",
       "         -1.65866764e-03, -1.44191173e-03,  1.89394567e-03],\n",
       "        [ 4.80666745e-05,  3.89544991e-04, -2.24893973e-03, ...,\n",
       "         -1.62999128e-03, -1.53731220e-03,  2.12651090e-03],\n",
       "        ...,\n",
       "        [ 1.20072459e-06,  4.60504606e-04, -2.31594835e-03, ...,\n",
       "         -1.72337192e-03, -1.66112567e-03,  2.12767889e-03],\n",
       "        [ 4.13308893e-05,  3.45733676e-04, -2.35789668e-03, ...,\n",
       "         -1.87625791e-03, -1.61333643e-03,  2.18701532e-03],\n",
       "        [ 7.45120805e-06,  3.12423669e-04, -2.15619644e-03, ...,\n",
       "         -1.70001652e-03, -1.44196046e-03,  1.97910400e-03]]),\n",
       " 'W2': array([[-0.2212197 , -0.22003496, -0.23655291, -0.25662745, -0.24141125,\n",
       "         -0.23457678, -0.23696842, -0.22688089, -0.24233266, -0.24323878],\n",
       "        [-0.22334808, -0.22314552, -0.23858839, -0.25947246, -0.24396737,\n",
       "         -0.2378377 , -0.2404498 , -0.2290042 , -0.24583127, -0.24492681],\n",
       "        [-0.24684603, -0.24404485, -0.26062617, -0.28399864, -0.26711931,\n",
       "         -0.26115515, -0.26298955, -0.25088355, -0.26806105, -0.2689741 ],\n",
       "        [-0.22554757, -0.22496711, -0.23945936, -0.26075948, -0.2458427 ,\n",
       "         -0.23835584, -0.24064736, -0.22951793, -0.24655463, -0.24754813],\n",
       "        [-0.23802976, -0.23818102, -0.25437092, -0.27459034, -0.25968402,\n",
       "         -0.25279853, -0.25488305, -0.24451691, -0.2603321 , -0.26102122],\n",
       "        [-0.23912171, -0.23678171, -0.25404104, -0.27615335, -0.26009079,\n",
       "         -0.25257026, -0.25606151, -0.24395757, -0.26145172, -0.26163106],\n",
       "        [-0.20443976, -0.20422589, -0.21783154, -0.23494685, -0.22394512,\n",
       "         -0.21720676, -0.21837232, -0.20978974, -0.22238945, -0.22510767],\n",
       "        [-0.23051084, -0.22931915, -0.24541704, -0.26629617, -0.25197646,\n",
       "         -0.24463644, -0.24804172, -0.23652348, -0.2524781 , -0.25266405],\n",
       "        [-0.25128142, -0.25071327, -0.26947927, -0.2918148 , -0.27430492,\n",
       "         -0.26834028, -0.27014123, -0.25763777, -0.27607775, -0.27628956],\n",
       "        [-0.23425983, -0.23226529, -0.24875262, -0.269982  , -0.25465093,\n",
       "         -0.24737438, -0.24907343, -0.23857212, -0.25589537, -0.25621728],\n",
       "        [-0.23955305, -0.23747846, -0.25475581, -0.27783632, -0.26106084,\n",
       "         -0.25437367, -0.25674874, -0.24505488, -0.26368264, -0.26198788],\n",
       "        [-0.23339791, -0.23175056, -0.2494243 , -0.26938857, -0.25413363,\n",
       "         -0.24870165, -0.249919  , -0.23952446, -0.2554409 , -0.25554153],\n",
       "        [-0.22485881, -0.2245449 , -0.24078403, -0.26058831, -0.24594025,\n",
       "         -0.23930488, -0.24145052, -0.22981371, -0.24841518, -0.247779  ],\n",
       "        [-0.22900683, -0.22763139, -0.24383633, -0.26530983, -0.24908559,\n",
       "         -0.24372269, -0.24439523, -0.23468052, -0.25072617, -0.25109124],\n",
       "        [-0.24697769, -0.24556057, -0.26377494, -0.28420295, -0.26839412,\n",
       "         -0.26241085, -0.26339994, -0.25185686, -0.26942732, -0.27174058],\n",
       "        [-0.22753978, -0.22554121, -0.24092135, -0.26190767, -0.24688904,\n",
       "         -0.24040661, -0.24223269, -0.2318933 , -0.24741439, -0.24822074],\n",
       "        [-0.22539516, -0.22503949, -0.24082475, -0.26069165, -0.24596915,\n",
       "         -0.24016665, -0.24201582, -0.23110617, -0.2464571 , -0.2468909 ],\n",
       "        [-0.25987626, -0.25843814, -0.27687922, -0.30115402, -0.28275511,\n",
       "         -0.2758355 , -0.2791364 , -0.26640802, -0.28531958, -0.28437836],\n",
       "        [-0.24325497, -0.2422691 , -0.25933982, -0.28116823, -0.26518412,\n",
       "         -0.25783341, -0.26028329, -0.2485101 , -0.26708562, -0.26688391],\n",
       "        [-0.21784221, -0.21594072, -0.23134718, -0.25130444, -0.23681631,\n",
       "         -0.23005904, -0.23289961, -0.22289612, -0.2374623 , -0.23861735],\n",
       "        [-0.24449908, -0.24226556, -0.25940881, -0.28193269, -0.26568163,\n",
       "         -0.25831135, -0.25976583, -0.24891697, -0.26641668, -0.268051  ],\n",
       "        [-0.19864101, -0.19785106, -0.21195342, -0.22909313, -0.2167072 ,\n",
       "         -0.21031902, -0.21294055, -0.20354189, -0.21643586, -0.21677341],\n",
       "        [-0.26404314, -0.2603769 , -0.2802433 , -0.30393395, -0.28654327,\n",
       "         -0.27934143, -0.28161953, -0.26873798, -0.28814872, -0.28835416],\n",
       "        [-0.2323695 , -0.23093116, -0.24722024, -0.26904021, -0.25328423,\n",
       "         -0.24715479, -0.24908972, -0.23638376, -0.25514783, -0.25407923],\n",
       "        [-0.22672785, -0.22483038, -0.24163155, -0.2616186 , -0.24615976,\n",
       "         -0.24023596, -0.24237003, -0.23133401, -0.24758991, -0.24793198],\n",
       "        [-0.2273683 , -0.22593776, -0.24280275, -0.26318481, -0.2481565 ,\n",
       "         -0.24081528, -0.24250728, -0.23279673, -0.24879516, -0.24963392],\n",
       "        [-0.25182938, -0.25028465, -0.26686237, -0.29090038, -0.27342953,\n",
       "         -0.26738425, -0.26932381, -0.25704694, -0.2753496 , -0.27574052],\n",
       "        [-0.22556509, -0.22474488, -0.24050808, -0.26130373, -0.24511247,\n",
       "         -0.24022829, -0.24176144, -0.23154302, -0.24735909, -0.24778931],\n",
       "        [-0.20846135, -0.20727074, -0.22223763, -0.24196789, -0.22679091,\n",
       "         -0.22139204, -0.22427345, -0.21378718, -0.22791933, -0.22900928],\n",
       "        [-0.2665803 , -0.2641561 , -0.28324181, -0.30784234, -0.2907648 ,\n",
       "         -0.28335675, -0.28552693, -0.27227066, -0.29218114, -0.29118462],\n",
       "        [-0.24432659, -0.2412742 , -0.25867855, -0.28136222, -0.2658217 ,\n",
       "         -0.25822673, -0.26054895, -0.24918876, -0.26726322, -0.26695647],\n",
       "        [-0.24637308, -0.24346224, -0.26023818, -0.28359239, -0.26734265,\n",
       "         -0.26109043, -0.26288997, -0.25057022, -0.26873783, -0.26782215],\n",
       "        [-0.22852045, -0.22653872, -0.24366459, -0.26305437, -0.24800453,\n",
       "         -0.24214752, -0.24456775, -0.23408326, -0.25082646, -0.25031562],\n",
       "        [-0.23517063, -0.23393724, -0.25123016, -0.27345298, -0.25563822,\n",
       "         -0.24981012, -0.25189273, -0.23995455, -0.25784796, -0.25843797],\n",
       "        [-0.26207728, -0.26044436, -0.27870549, -0.30320164, -0.28499843,\n",
       "         -0.27739149, -0.28106613, -0.2674477 , -0.28623505, -0.28666888],\n",
       "        [-0.21649016, -0.21440106, -0.22973855, -0.25056612, -0.23444603,\n",
       "         -0.2287901 , -0.23236633, -0.22071412, -0.23715789, -0.23602233],\n",
       "        [-0.24696324, -0.24612323, -0.262905  , -0.28503936, -0.26881386,\n",
       "         -0.26187884, -0.26475424, -0.25303456, -0.27027768, -0.27083533],\n",
       "        [-0.22050821, -0.21926903, -0.23423209, -0.25384749, -0.23903317,\n",
       "         -0.23369615, -0.23537754, -0.22428861, -0.24065192, -0.24126328],\n",
       "        [-0.23184891, -0.23057882, -0.24692846, -0.2688085 , -0.25240464,\n",
       "         -0.24591633, -0.24862144, -0.23737552, -0.25489384, -0.25461314],\n",
       "        [-0.21559346, -0.21322593, -0.22876145, -0.24988209, -0.23420475,\n",
       "         -0.22915627, -0.23035468, -0.21990588, -0.23567679, -0.23499325],\n",
       "        [-0.22566401, -0.22457738, -0.24019287, -0.26121599, -0.24552699,\n",
       "         -0.2388098 , -0.24078737, -0.23075728, -0.24705654, -0.24694651],\n",
       "        [-0.24432456, -0.24358517, -0.26090562, -0.28227146, -0.265448  ,\n",
       "         -0.25894606, -0.26261079, -0.24996367, -0.26730396, -0.26711666],\n",
       "        [-0.23080569, -0.22939009, -0.24446661, -0.26576321, -0.25020302,\n",
       "         -0.2449699 , -0.24639797, -0.23478226, -0.25218108, -0.25239662],\n",
       "        [-0.20914651, -0.20668956, -0.22203217, -0.23900336, -0.22608722,\n",
       "         -0.22141394, -0.22306907, -0.21309001, -0.22685283, -0.22767746],\n",
       "        [-0.1962207 , -0.19482907, -0.2095711 , -0.22843419, -0.21494649,\n",
       "         -0.20993648, -0.21090487, -0.20106339, -0.2168766 , -0.21599499],\n",
       "        [-0.24486082, -0.2422288 , -0.26150625, -0.28357402, -0.26641131,\n",
       "         -0.25993835, -0.26247374, -0.25058522, -0.26799835, -0.26788797],\n",
       "        [-0.2388461 , -0.23663266, -0.25364366, -0.27551469, -0.25950141,\n",
       "         -0.25162341, -0.25557242, -0.24251982, -0.260524  , -0.26191546],\n",
       "        [-0.25424312, -0.25174872, -0.27171178, -0.29338648, -0.27743862,\n",
       "         -0.27085432, -0.27359571, -0.26160996, -0.28000629, -0.2795404 ],\n",
       "        [-0.24637661, -0.24434052, -0.26146018, -0.28346785, -0.266729  ,\n",
       "         -0.26132194, -0.26336284, -0.25242828, -0.26810972, -0.26931378],\n",
       "        [-0.24287262, -0.24053369, -0.25799765, -0.28022168, -0.26222896,\n",
       "         -0.25665682, -0.25949018, -0.24678719, -0.26586106, -0.26540333],\n",
       "        [-0.23218041, -0.23023159, -0.24544047, -0.26732033, -0.25131069,\n",
       "         -0.24658038, -0.24735358, -0.23598447, -0.25252457, -0.25407919],\n",
       "        [-0.24075496, -0.23866488, -0.256765  , -0.27700191, -0.26261069,\n",
       "         -0.25645506, -0.25781223, -0.2463489 , -0.26270429, -0.263787  ],\n",
       "        [-0.2369109 , -0.2359597 , -0.25228741, -0.27450757, -0.25854453,\n",
       "         -0.2511116 , -0.25326611, -0.24277756, -0.25848883, -0.25984841],\n",
       "        [-0.24191112, -0.24162144, -0.25814142, -0.27971459, -0.26297544,\n",
       "         -0.25730209, -0.25998824, -0.24751137, -0.26515587, -0.26422171],\n",
       "        [-0.2211694 , -0.22033649, -0.23596386, -0.25565219, -0.2415612 ,\n",
       "         -0.23495021, -0.23724948, -0.22695022, -0.24295857, -0.24258306],\n",
       "        [-0.19862607, -0.19630927, -0.21131809, -0.22972183, -0.21587648,\n",
       "         -0.21116909, -0.21355964, -0.203752  , -0.21833805, -0.21788835],\n",
       "        [-0.23737308, -0.23661452, -0.25423809, -0.27646341, -0.25995167,\n",
       "         -0.25431331, -0.25658921, -0.24392563, -0.26237636, -0.26118706],\n",
       "        [-0.2146169 , -0.21327405, -0.22800784, -0.24822975, -0.23447675,\n",
       "         -0.22821129, -0.23060612, -0.21979299, -0.23546457, -0.23470807],\n",
       "        [-0.26392985, -0.26299531, -0.27978305, -0.30596247, -0.28770125,\n",
       "         -0.2810694 , -0.28232261, -0.26986113, -0.28951854, -0.2889411 ],\n",
       "        [-0.23035244, -0.22911501, -0.24642805, -0.26574157, -0.25041933,\n",
       "         -0.24484981, -0.24690951, -0.23674161, -0.25261953, -0.25229846],\n",
       "        [-0.22502783, -0.22480902, -0.23971841, -0.26101679, -0.24483118,\n",
       "         -0.23999238, -0.24095772, -0.23110668, -0.2465825 , -0.24645989],\n",
       "        [-0.21151946, -0.20882467, -0.22425086, -0.24434422, -0.22908829,\n",
       "         -0.2224991 , -0.22452357, -0.21390612, -0.23006372, -0.23152621],\n",
       "        [-0.25469203, -0.25259411, -0.27143128, -0.29530989, -0.27799693,\n",
       "         -0.27139192, -0.27408645, -0.26026502, -0.27785478, -0.27856129],\n",
       "        [-0.23657289, -0.23447937, -0.25163081, -0.27306479, -0.25784561,\n",
       "         -0.25105868, -0.25361196, -0.24079918, -0.25774239, -0.25918099],\n",
       "        [-0.23831561, -0.23726574, -0.25444307, -0.27583523, -0.25931052,\n",
       "         -0.25364947, -0.25477079, -0.24349937, -0.26151627, -0.26100358],\n",
       "        [-0.22843635, -0.22686054, -0.24134158, -0.26367888, -0.24809643,\n",
       "         -0.24218552, -0.24503978, -0.23204265, -0.25001943, -0.24920188],\n",
       "        [-0.24976689, -0.24760857, -0.26507514, -0.2886181 , -0.27140208,\n",
       "         -0.26494377, -0.26755315, -0.25597993, -0.27358506, -0.27279718],\n",
       "        [-0.25148534, -0.25065652, -0.26687331, -0.28997335, -0.27351615,\n",
       "         -0.26671394, -0.26855511, -0.25731733, -0.27592395, -0.27612015],\n",
       "        [-0.22160311, -0.22031884, -0.23626153, -0.25618037, -0.24148872,\n",
       "         -0.2365224 , -0.23782039, -0.22651402, -0.24232768, -0.24420299],\n",
       "        [-0.23048565, -0.2278936 , -0.24439315, -0.26682437, -0.25022681,\n",
       "         -0.24418382, -0.24613353, -0.23384978, -0.2526457 , -0.25248936],\n",
       "        [-0.24077206, -0.23866403, -0.25620182, -0.27716263, -0.26106379,\n",
       "         -0.25488493, -0.25667503, -0.24477263, -0.26286289, -0.26334738],\n",
       "        [-0.23705915, -0.23608514, -0.25321916, -0.27433201, -0.25860736,\n",
       "         -0.25195154, -0.25529601, -0.24357486, -0.26055177, -0.25950675],\n",
       "        [-0.24290199, -0.24135568, -0.25842638, -0.28024047, -0.26363614,\n",
       "         -0.25929177, -0.26046261, -0.2495031 , -0.26611331, -0.26623655],\n",
       "        [-0.2368929 , -0.23463444, -0.25221616, -0.27261535, -0.25772798,\n",
       "         -0.25163151, -0.25292546, -0.24191329, -0.25867738, -0.25880222],\n",
       "        [-0.23834285, -0.23426845, -0.25384335, -0.27504529, -0.25861665,\n",
       "         -0.25354425, -0.25528975, -0.24398018, -0.26072964, -0.26084732],\n",
       "        [-0.22618252, -0.22404276, -0.24086716, -0.26157802, -0.24683297,\n",
       "         -0.24175774, -0.24323109, -0.23180002, -0.24744189, -0.2469766 ],\n",
       "        [-0.23053942, -0.22841587, -0.24506636, -0.26644182, -0.24945259,\n",
       "         -0.24425094, -0.24613573, -0.23514666, -0.25092305, -0.25161392],\n",
       "        [-0.22486656, -0.22309979, -0.2387669 , -0.25785316, -0.24361737,\n",
       "         -0.23890041, -0.23966355, -0.23037495, -0.24526512, -0.24598989],\n",
       "        [-0.23336247, -0.23072771, -0.24807123, -0.2682597 , -0.25330022,\n",
       "         -0.24724913, -0.2493293 , -0.23840049, -0.25458183, -0.25500019],\n",
       "        [-0.23271881, -0.23064958, -0.24750841, -0.26875253, -0.25337167,\n",
       "         -0.24618279, -0.24952488, -0.238267  , -0.25605169, -0.25475327],\n",
       "        [-0.24178689, -0.24065528, -0.25767323, -0.27912992, -0.26353805,\n",
       "         -0.25583759, -0.25904811, -0.2476249 , -0.26506492, -0.26512986],\n",
       "        [-0.23586751, -0.23349539, -0.25052733, -0.27149917, -0.25550838,\n",
       "         -0.24999533, -0.25117924, -0.24025978, -0.25646753, -0.25696246],\n",
       "        [-0.22219185, -0.2205297 , -0.23641448, -0.25636652, -0.24065051,\n",
       "         -0.23454519, -0.23669148, -0.2265237 , -0.24322224, -0.24297377],\n",
       "        [-0.23871412, -0.2368947 , -0.25430926, -0.27418079, -0.25957226,\n",
       "         -0.25352467, -0.25510375, -0.24403281, -0.26007405, -0.26182643],\n",
       "        [-0.20570358, -0.20420542, -0.21896605, -0.23701617, -0.22406297,\n",
       "         -0.21980127, -0.22060053, -0.21037945, -0.22501166, -0.22548994],\n",
       "        [-0.20937431, -0.20792275, -0.2218387 , -0.24175105, -0.22752315,\n",
       "         -0.22202435, -0.22401661, -0.21447837, -0.22776616, -0.22811653],\n",
       "        [-0.24559867, -0.24451612, -0.2612892 , -0.28389462, -0.26803742,\n",
       "         -0.26125244, -0.263361  , -0.25063948, -0.26911364, -0.26853912],\n",
       "        [-0.21907343, -0.21863156, -0.23411077, -0.25423258, -0.23941717,\n",
       "         -0.23318133, -0.23582597, -0.22383054, -0.24072299, -0.24082277],\n",
       "        [-0.22817508, -0.22675851, -0.24443124, -0.26439922, -0.24946841,\n",
       "         -0.24389967, -0.2446094 , -0.23367728, -0.2500019 , -0.25105873],\n",
       "        [-0.22707145, -0.22428953, -0.24217364, -0.26108337, -0.24593303,\n",
       "         -0.24022632, -0.24124755, -0.23161915, -0.2476536 , -0.24989811],\n",
       "        [-0.22508128, -0.22210729, -0.2393317 , -0.26016227, -0.24305203,\n",
       "         -0.23961395, -0.24089342, -0.22990244, -0.2460377 , -0.24630518],\n",
       "        [-0.26459056, -0.26212087, -0.28187014, -0.30605432, -0.28835406,\n",
       "         -0.28042554, -0.28319449, -0.27080217, -0.28985607, -0.28834497],\n",
       "        [-0.24190083, -0.24173091, -0.25649694, -0.27907345, -0.2639355 ,\n",
       "         -0.25748423, -0.25928141, -0.24787741, -0.26473676, -0.26400584],\n",
       "        [-0.20231029, -0.20283102, -0.21648161, -0.23440022, -0.22094183,\n",
       "         -0.21550689, -0.21734757, -0.20693144, -0.22194543, -0.22249926],\n",
       "        [-0.19768035, -0.19615022, -0.20987521, -0.22753826, -0.21453122,\n",
       "         -0.21025203, -0.21154128, -0.20239772, -0.21661538, -0.21671121],\n",
       "        [-0.22504982, -0.22291553, -0.23884801, -0.2586698 , -0.24443591,\n",
       "         -0.23809383, -0.23946322, -0.22999959, -0.24513009, -0.24555758],\n",
       "        [-0.23794402, -0.23541188, -0.25314124, -0.27352797, -0.25850852,\n",
       "         -0.25168474, -0.25311964, -0.24338986, -0.25959742, -0.26026585],\n",
       "        [-0.24342695, -0.24092573, -0.25813753, -0.28031158, -0.2639683 ,\n",
       "         -0.25708789, -0.25972282, -0.24747186, -0.26519401, -0.26597447],\n",
       "        [-0.2147832 , -0.21261933, -0.22836464, -0.24736364, -0.23273231,\n",
       "         -0.22727276, -0.22940577, -0.2185668 , -0.23433484, -0.23433748],\n",
       "        [-0.2238691 , -0.22253764, -0.23804441, -0.25735996, -0.24261322,\n",
       "         -0.23697877, -0.23898513, -0.22797527, -0.24366341, -0.24501697]]),\n",
       " 'b1': array([ 1.00254716e-04,  5.12658512e-04, -4.57375573e-03, -1.15967542e-03,\n",
       "        -7.06251087e-04, -2.76585562e-03, -3.22068839e-03,  2.00430659e-03,\n",
       "        -2.92968138e-03,  2.69460969e-03, -5.13850739e-03, -6.37148071e-03,\n",
       "        -9.33588135e-04,  4.28377165e-03,  3.24823314e-03, -2.45453653e-03,\n",
       "        -1.84559525e-03,  6.69239494e-03,  3.53194447e-03, -3.29888509e-05,\n",
       "        -1.92332877e-03,  6.75229340e-04, -5.09499189e-03, -4.23630645e-03,\n",
       "        -1.58489117e-03,  2.05835647e-03, -5.99333352e-03,  5.45987060e-03,\n",
       "        -2.57682814e-04,  3.35645870e-03, -6.93072608e-05,  3.35524158e-03,\n",
       "         4.60370547e-03,  1.63139878e-03,  1.37642093e-03, -8.33987684e-03,\n",
       "        -1.87487238e-03,  3.00662660e-03, -2.21650454e-03,  1.38966701e-03,\n",
       "        -3.27985499e-03, -2.46497047e-03, -1.14971659e-03,  2.74282351e-04,\n",
       "         5.27686507e-03, -6.61544030e-03, -2.91817381e-03, -4.41004597e-03,\n",
       "        -7.41560749e-03, -3.03120972e-03, -1.75443071e-03, -6.57531366e-04,\n",
       "         1.23834647e-03,  4.65718964e-03,  1.49848883e-04, -3.94461856e-03,\n",
       "         4.74251048e-03, -2.35635584e-03,  4.09822256e-04, -4.84800551e-03,\n",
       "         8.19766373e-03,  6.76678921e-03,  1.62009963e-03, -6.20935623e-03,\n",
       "         5.28850528e-03, -1.83544253e-03, -2.19925093e-03,  8.54248172e-04,\n",
       "        -1.40287789e-03, -1.66620960e-03, -4.42329858e-03,  5.47616333e-04,\n",
       "        -6.05535310e-04,  3.29735440e-03,  4.80180306e-03,  3.19228592e-04,\n",
       "         2.30082423e-03,  3.79892725e-03, -3.93584214e-03, -9.46172483e-04,\n",
       "        -4.58960789e-03,  2.04036169e-03, -5.49820273e-03,  1.09161290e-03,\n",
       "        -1.32060603e-04,  3.62369889e-03,  3.71385418e-03, -5.18960330e-05,\n",
       "        -9.57553856e-04,  4.77447827e-04,  8.14295964e-03,  3.25252337e-03,\n",
       "        -1.11261545e-03, -6.05701118e-03,  4.00704708e-04, -3.03821368e-04,\n",
       "         5.85079147e-04, -3.51707812e-03, -3.16582136e-03,  4.21807399e-03]),\n",
       " 'b2': array([-0.46362615, -0.46050954, -0.49347008, -0.53559725, -0.5044351 ,\n",
       "        -0.49226642, -0.49623248, -0.4739444 , -0.50717628, -0.50763851])}"
      ]
     },
     "execution_count": 131,
     "metadata": {},
     "output_type": "execute_result"
    }
   ],
   "source": [
    "gards = net.gradient(x,t)\n",
    "gards"
   ]
  },
  {
   "cell_type": "code",
   "execution_count": 62,
   "metadata": {},
   "outputs": [
    {
     "name": "stdout",
     "output_type": "stream",
     "text": [
      "(10000, 784)\n",
      "(10000, 10)\n",
      "(60000, 784)\n",
      "(60000, 10)\n"
     ]
    }
   ],
   "source": [
    "def fix(x_train,t_train,x_test,t_test):    \n",
    "    return x_train/255.0,one_hot_label(t_train,10),x_test/255.0,one_hot_label(t_test,10)\n",
    "#修改輸入的值 preprocessing\n",
    "(x_train,t_train,x_test,t_test) = load_data(10000)\n",
    "(x_train_aha,t_train_aha,x_test_aha,t_test_aha) = fix(x_train,t_train,x_test,t_test)\n",
    "print(x_train_aha.shape)\n",
    "print(t_train_aha.shape)\n",
    "print(x_test_aha.shape)\n",
    "print(t_test_aha.shape)"
   ]
  },
  {
   "cell_type": "code",
   "execution_count": 63,
   "metadata": {},
   "outputs": [],
   "source": [
    "#保存紀錄訓練狀況\n",
    "train_loss_list = []"
   ]
  },
  {
   "cell_type": "code",
   "execution_count": 64,
   "metadata": {},
   "outputs": [],
   "source": [
    "# meta parameter\n",
    "iters_num = 10000\n",
    "train_size = x_train.shape[0]\n",
    "batch_size = 100\n",
    "learning_rate = 0.1"
   ]
  },
  {
   "cell_type": "code",
   "execution_count": 65,
   "metadata": {},
   "outputs": [],
   "source": [
    "network = TwoLayerNet(input_size=784,hidden_size=50,output_size=10)"
   ]
  },
  {
   "cell_type": "code",
   "execution_count": 50,
   "metadata": {},
   "outputs": [
    {
     "ename": "NameError",
     "evalue": "name 'sigmoid' is not defined",
     "output_type": "error",
     "traceback": [
      "\u001b[0;31m---------------------------------------------------------------------------\u001b[0m",
      "\u001b[0;31mNameError\u001b[0m                                 Traceback (most recent call last)",
      "\u001b[0;32m<ipython-input-50-908c2e5c6d8a>\u001b[0m in \u001b[0;36m<module>\u001b[0;34m()\u001b[0m\n\u001b[1;32m      6\u001b[0m     \u001b[0;31m#計算梯度\u001b[0m\u001b[0;34m\u001b[0m\u001b[0;34m\u001b[0m\u001b[0m\n\u001b[1;32m      7\u001b[0m     \u001b[0;31m#grad = network.numerical_gradient(x_batch,t_batch) 好慢啊\u001b[0m\u001b[0;34m\u001b[0m\u001b[0;34m\u001b[0m\u001b[0m\n\u001b[0;32m----> 8\u001b[0;31m     \u001b[0mgrad\u001b[0m \u001b[0;34m=\u001b[0m \u001b[0mnetwork\u001b[0m\u001b[0;34m.\u001b[0m\u001b[0mgradient\u001b[0m\u001b[0;34m(\u001b[0m\u001b[0mx_batch\u001b[0m\u001b[0;34m,\u001b[0m\u001b[0mt_batch\u001b[0m\u001b[0;34m)\u001b[0m\u001b[0;34m\u001b[0m\u001b[0m\n\u001b[0m\u001b[1;32m      9\u001b[0m \u001b[0;34m\u001b[0m\u001b[0m\n\u001b[1;32m     10\u001b[0m     \u001b[0;32mfor\u001b[0m \u001b[0mkey\u001b[0m \u001b[0;32min\u001b[0m \u001b[0;34m(\u001b[0m\u001b[0;34m'W1'\u001b[0m\u001b[0;34m,\u001b[0m\u001b[0;34m'b1'\u001b[0m\u001b[0;34m,\u001b[0m\u001b[0;34m'W2'\u001b[0m\u001b[0;34m,\u001b[0m\u001b[0;34m'b2'\u001b[0m\u001b[0;34m)\u001b[0m\u001b[0;34m:\u001b[0m\u001b[0;34m\u001b[0m\u001b[0m\n",
      "\u001b[0;32m<ipython-input-23-4bf24b7f8e8d>\u001b[0m in \u001b[0;36mgradient\u001b[0;34m(self, x, t)\u001b[0m\n\u001b[1;32m     52\u001b[0m         \u001b[0;31m# forward\u001b[0m\u001b[0;34m\u001b[0m\u001b[0;34m\u001b[0m\u001b[0m\n\u001b[1;32m     53\u001b[0m         \u001b[0ma1\u001b[0m \u001b[0;34m=\u001b[0m \u001b[0mnp\u001b[0m\u001b[0;34m.\u001b[0m\u001b[0mdot\u001b[0m\u001b[0;34m(\u001b[0m\u001b[0mx\u001b[0m\u001b[0;34m,\u001b[0m \u001b[0mW1\u001b[0m\u001b[0;34m)\u001b[0m \u001b[0;34m+\u001b[0m \u001b[0mb1\u001b[0m\u001b[0;34m\u001b[0m\u001b[0m\n\u001b[0;32m---> 54\u001b[0;31m         \u001b[0mz1\u001b[0m \u001b[0;34m=\u001b[0m \u001b[0msigmoid\u001b[0m\u001b[0;34m(\u001b[0m\u001b[0ma1\u001b[0m\u001b[0;34m)\u001b[0m\u001b[0;34m\u001b[0m\u001b[0m\n\u001b[0m\u001b[1;32m     55\u001b[0m         \u001b[0ma2\u001b[0m \u001b[0;34m=\u001b[0m \u001b[0mnp\u001b[0m\u001b[0;34m.\u001b[0m\u001b[0mdot\u001b[0m\u001b[0;34m(\u001b[0m\u001b[0mz1\u001b[0m\u001b[0;34m,\u001b[0m \u001b[0mW2\u001b[0m\u001b[0;34m)\u001b[0m \u001b[0;34m+\u001b[0m \u001b[0mb2\u001b[0m\u001b[0;34m\u001b[0m\u001b[0m\n\u001b[1;32m     56\u001b[0m         \u001b[0my\u001b[0m \u001b[0;34m=\u001b[0m \u001b[0msoftmax\u001b[0m\u001b[0;34m(\u001b[0m\u001b[0ma2\u001b[0m\u001b[0;34m)\u001b[0m\u001b[0;34m\u001b[0m\u001b[0m\n",
      "\u001b[0;31mNameError\u001b[0m: name 'sigmoid' is not defined"
     ]
    }
   ],
   "source": [
    "for i in range(iters_num):\n",
    "    batch_mask = np.random.choice(train_size,batch_size)\n",
    "    x_batch = x_train_aha[batch_mask]\n",
    "    t_batch = t_train_aha[batch_mask]\n",
    "    \n",
    "    #計算梯度\n",
    "    #grad = network.numerical_gradient(x_batch,t_batch) 好慢啊\n",
    "    grad = network.gradient(x_batch,t_batch)\n",
    "    \n",
    "    for key in ('W1','b1','W2','b2'):\n",
    "        network.params[key] -= learning_rate * grad[key]\n",
    "    \n",
    "    loss = network.loss(x_batch,t_batch)\n",
    "    train_loss_list.append(loss)"
   ]
  },
  {
   "cell_type": "code",
   "execution_count": 152,
   "metadata": {},
   "outputs": [
    {
     "data": {
      "image/png": "[encoded data removed]",
      "text/plain": [
       "<matplotlib.figure.Figure at 0x13be51a20>"
      ]
     },
     "metadata": {},
     "output_type": "display_data"
    }
   ],
   "source": [
    "plt.plot(train_loss_list)\n",
    "plt.xlim(9990,10000)\n",
    "plt.show()"
   ]
  },
  {
   "cell_type": "markdown",
   "metadata": {},
   "source": [
    "## 用測試資料做評估\n",
    "epoch 定義為，假設每次小批次訓練為100, 整體資料數量為10000。那表示每使用100次小批次訓練就能看完所有資料集。這時候 1 epoch = 100\n"
   ]
  },
  {
   "cell_type": "code",
   "execution_count": 66,
   "metadata": {},
   "outputs": [],
   "source": [
    "train_acc_list = [] \n",
    "test_acc_list = []\n",
    "train_loss_list = []\n",
    "iter_per_epoch = max(train_size/batch_size,1)"
   ]
  },
  {
   "cell_type": "code",
   "execution_count": 67,
   "metadata": {},
   "outputs": [
    {
     "name": "stdout",
     "output_type": "stream",
     "text": [
      "train acc, test acc | 0.113600 , 0.112350\n",
      "train acc, test acc | 0.099000 , 0.099467\n",
      "train acc, test acc | 0.276200 , 0.269633\n",
      "train acc, test acc | 0.517300 , 0.508883\n",
      "train acc, test acc | 0.674100 , 0.675067\n",
      "train acc, test acc | 0.727200 , 0.727667\n",
      "train acc, test acc | 0.796600 , 0.794983\n",
      "train acc, test acc | 0.817000 , 0.814933\n",
      "train acc, test acc | 0.820000 , 0.818150\n",
      "train acc, test acc | 0.852100 , 0.850633\n",
      "train acc, test acc | 0.863600 , 0.859633\n",
      "train acc, test acc | 0.874100 , 0.868583\n",
      "train acc, test acc | 0.881500 , 0.876900\n",
      "train acc, test acc | 0.884000 , 0.881100\n",
      "train acc, test acc | 0.890600 , 0.886017\n",
      "train acc, test acc | 0.891700 , 0.888600\n",
      "train acc, test acc | 0.897200 , 0.892967\n",
      "train acc, test acc | 0.901300 , 0.894983\n",
      "train acc, test acc | 0.903200 , 0.895700\n",
      "train acc, test acc | 0.905600 , 0.899367\n",
      "train acc, test acc | 0.908000 , 0.900350\n",
      "train acc, test acc | 0.907700 , 0.901033\n",
      "train acc, test acc | 0.911600 , 0.902333\n",
      "train acc, test acc | 0.912900 , 0.903800\n",
      "train acc, test acc | 0.916500 , 0.904650\n",
      "train acc, test acc | 0.917000 , 0.906850\n",
      "train acc, test acc | 0.918400 , 0.906733\n",
      "train acc, test acc | 0.920700 , 0.908167\n",
      "train acc, test acc | 0.921200 , 0.908733\n",
      "train acc, test acc | 0.923000 , 0.910117\n",
      "train acc, test acc | 0.921400 , 0.910150\n",
      "train acc, test acc | 0.922600 , 0.910717\n",
      "train acc, test acc | 0.924700 , 0.911583\n",
      "train acc, test acc | 0.925200 , 0.912767\n",
      "train acc, test acc | 0.925600 , 0.913683\n",
      "train acc, test acc | 0.926700 , 0.914317\n",
      "train acc, test acc | 0.928400 , 0.914800\n",
      "train acc, test acc | 0.928100 , 0.915150\n",
      "train acc, test acc | 0.929800 , 0.915883\n",
      "train acc, test acc | 0.932100 , 0.916883\n",
      "train acc, test acc | 0.932000 , 0.917483\n",
      "train acc, test acc | 0.932300 , 0.918033\n",
      "train acc, test acc | 0.933300 , 0.919000\n",
      "train acc, test acc | 0.935000 , 0.918417\n",
      "train acc, test acc | 0.934400 , 0.919017\n",
      "train acc, test acc | 0.936100 , 0.920000\n",
      "train acc, test acc | 0.936800 , 0.920450\n",
      "train acc, test acc | 0.936800 , 0.921250\n",
      "train acc, test acc | 0.937100 , 0.921183\n",
      "train acc, test acc | 0.937700 , 0.921617\n",
      "train acc, test acc | 0.937000 , 0.921867\n",
      "train acc, test acc | 0.938900 , 0.921717\n",
      "train acc, test acc | 0.939800 , 0.922033\n",
      "train acc, test acc | 0.940900 , 0.923100\n",
      "train acc, test acc | 0.939700 , 0.923083\n",
      "train acc, test acc | 0.940800 , 0.923767\n",
      "train acc, test acc | 0.942900 , 0.924017\n",
      "train acc, test acc | 0.941700 , 0.924750\n",
      "train acc, test acc | 0.942900 , 0.924667\n",
      "train acc, test acc | 0.943200 , 0.925083\n",
      "train acc, test acc | 0.943400 , 0.925817\n",
      "train acc, test acc | 0.943200 , 0.926233\n",
      "train acc, test acc | 0.945300 , 0.926400\n",
      "train acc, test acc | 0.945700 , 0.926883\n",
      "train acc, test acc | 0.945600 , 0.927200\n",
      "train acc, test acc | 0.945600 , 0.927283\n",
      "train acc, test acc | 0.945900 , 0.927583\n",
      "train acc, test acc | 0.947300 , 0.928067\n",
      "train acc, test acc | 0.948400 , 0.928450\n",
      "train acc, test acc | 0.948100 , 0.928867\n",
      "train acc, test acc | 0.949200 , 0.929033\n",
      "train acc, test acc | 0.950000 , 0.928417\n",
      "train acc, test acc | 0.949700 , 0.929633\n",
      "train acc, test acc | 0.950200 , 0.930217\n",
      "train acc, test acc | 0.951100 , 0.930600\n",
      "train acc, test acc | 0.951900 , 0.930633\n",
      "train acc, test acc | 0.952600 , 0.930817\n",
      "train acc, test acc | 0.952800 , 0.930867\n",
      "train acc, test acc | 0.953700 , 0.931350\n",
      "train acc, test acc | 0.953300 , 0.931283\n",
      "train acc, test acc | 0.954400 , 0.931317\n",
      "train acc, test acc | 0.954400 , 0.931883\n",
      "train acc, test acc | 0.954000 , 0.931483\n",
      "train acc, test acc | 0.955400 , 0.932267\n",
      "train acc, test acc | 0.954800 , 0.932450\n",
      "train acc, test acc | 0.955000 , 0.932367\n",
      "train acc, test acc | 0.956100 , 0.933133\n",
      "train acc, test acc | 0.957100 , 0.933267\n",
      "train acc, test acc | 0.956900 , 0.933200\n",
      "train acc, test acc | 0.956800 , 0.933300\n",
      "train acc, test acc | 0.958100 , 0.933650\n",
      "train acc, test acc | 0.958800 , 0.934200\n",
      "train acc, test acc | 0.960300 , 0.933500\n",
      "train acc, test acc | 0.960300 , 0.934483\n",
      "train acc, test acc | 0.960000 , 0.934517\n",
      "train acc, test acc | 0.961300 , 0.934500\n",
      "train acc, test acc | 0.961200 , 0.934850\n",
      "train acc, test acc | 0.961000 , 0.934633\n",
      "train acc, test acc | 0.961800 , 0.935333\n",
      "train acc, test acc | 0.962800 , 0.935083\n"
     ]
    }
   ],
   "source": [
    "for i in range(iters_num):\n",
    "    batch_mask = np.random.choice(train_size,batch_size)\n",
    "    x_batch = x_train_aha[batch_mask]\n",
    "    t_batch = t_train_aha[batch_mask]\n",
    "    \n",
    "    #計算梯度\n",
    "    #grad = network.numerical_gradient(x_batch,t_batch) 好慢啊\n",
    "    grad = network.gradient(x_batch,t_batch)\n",
    "    \n",
    "    for key in ('W1','b1','W2','b2'):\n",
    "        network.params[key] -= learning_rate * grad[key]\n",
    "    \n",
    "    loss = network.loss(x_batch,t_batch)\n",
    "    train_loss_list.append(loss)\n",
    "    \n",
    "    if i % iter_per_epoch == 0 :\n",
    "        train_acc = network.accuracy(x_train_aha,t_train_aha)\n",
    "        test_acc = network.accuracy(x_test_aha,t_test_aha)\n",
    "        train_acc_list.append(train_acc)\n",
    "        test_acc_list.append(test_acc)\n",
    "        print(\"train acc, test acc | %f , %f\"%(train_acc,test_acc) )"
   ]
  },
  {
   "cell_type": "code",
   "execution_count": 68,
   "metadata": {},
   "outputs": [
    {
     "data": {
      "image/png": "[encoded data removed]",
      "text/plain": [
       "<matplotlib.figure.Figure at 0x1136c7940>"
      ]
     },
     "metadata": {},
     "output_type": "display_data"
    }
   ],
   "source": [
    "#https://github.com/oreilly-japan/deep-learning-from-scratch/blob/master/ch04/train_neuralnet.py\n",
    "markers = {'train': 'o', 'test': 's'}\n",
    "x = np.arange(len(train_acc_list))\n",
    "plt.plot(x, train_acc_list, label='train acc')\n",
    "plt.plot(x, test_acc_list, label='test acc', linestyle='--')\n",
    "plt.xlabel(\"epochs\")\n",
    "plt.ylabel(\"accuracy\")\n",
    "plt.ylim(0, 1.0)\n",
    "plt.legend(loc='lower right')\n",
    "plt.show()"
   ]
  },
  {
   "cell_type": "code",
   "execution_count": 18,
   "metadata": {},
   "outputs": [],
   "source": [
    "from PIL import Image\n",
    "import matplotlib.image as mpimg\n",
    "import matplotlib.pyplot as plt\n",
    "import numpy as np\n",
    "\n",
    "def rgb2gray(rgb):\n",
    "    return np.dot(rgb[...,:3], [0.299, 0.587, 0.114])\n",
    "I5 = Image.open(\"./5.png\")"
   ]
  },
  {
   "cell_type": "code",
   "execution_count": 13,
   "metadata": {},
   "outputs": [
    {
     "name": "stdout",
     "output_type": "stream",
     "text": [
      "(28, 28, 4)\n"
     ]
    }
   ],
   "source": [
    "# https://stackoverflow.com/questions/12201577/how-can-i-convert-an-rgb-image-into-grayscale-in-python\n",
    "I5_s = I5.resize((28,28),Image.ANTIALIAS)\n",
    "I5_sa = np.array(I5_s)\n",
    "print(I5_sa.shape)"
   ]
  },
  {
   "cell_type": "code",
   "execution_count": 15,
   "metadata": {},
   "outputs": [
    {
     "name": "stdout",
     "output_type": "stream",
     "text": [
      "(28, 28)\n"
     ]
    }
   ],
   "source": [
    "# https://stackoverflow.com/questions/384759/how-to-convert-a-pil-image-into-a-numpy-array\n",
    "I = rgb2gray(I5_sa)\n"
   ]
  },
  {
   "cell_type": "code",
   "execution_count": 19,
   "metadata": {},
   "outputs": [
    {
     "data": {
      "image/png": "[encoded data removed]",
      "text/plain": [
       "<matplotlib.figure.Figure at 0x10c92ce48>"
      ]
     },
     "metadata": {},
     "output_type": "display_data"
    }
   ],
   "source": [
    "plt.imshow(I, cmap = plt.get_cmap('gray'))\n",
    "plt.show()"
   ]
  },
  {
   "cell_type": "code",
   "execution_count": 77,
   "metadata": {},
   "outputs": [
    {
     "data": {
      "text/plain": [
       "5"
      ]
     },
     "execution_count": 77,
     "metadata": {},
     "output_type": "execute_result"
    }
   ],
   "source": [
    "np.argmax(network.predict(1-I.reshape(1,784)/255))"
   ]
  },
  {
   "cell_type": "code",
   "execution_count": 78,
   "metadata": {},
   "outputs": [
    {
     "data": {
      "text/plain": [
       "251.8110676020408"
      ]
     },
     "execution_count": 78,
     "metadata": {},
     "output_type": "execute_result"
    }
   ],
   "source": [
    "if(np.mean(I)>128"
   ]
  },
  {
   "cell_type": "code",
   "execution_count": null,
   "metadata": {},
   "outputs": [],
   "source": []
  }
 ],
 "metadata": {
  "kernelspec": {
   "display_name": "Python 3",
   "language": "python",
   "name": "python3"
  },
  "language_info": {
   "codemirror_mode": {
    "name": "ipython",
    "version": 3
   },
   "file_extension": ".py",
   "mimetype": "text/x-python",
   "name": "python",
   "nbconvert_exporter": "python",
   "pygments_lexer": "ipython3",
   "version": "3.6.3"
  }
 },
 "nbformat": 4,
 "nbformat_minor": 2
}
