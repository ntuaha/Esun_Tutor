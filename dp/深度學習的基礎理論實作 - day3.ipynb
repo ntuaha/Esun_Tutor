{
 "cells": [
  {
   "cell_type": "markdown",
   "metadata": {},
   "source": [
    "20181113"
   ]
  },
  {
   "cell_type": "code",
   "execution_count": 1,
   "metadata": {},
   "outputs": [],
   "source": [
    "import numpy as np\n",
    "import matplotlib.pyplot as plt\n",
    "%matplotlib inline\n",
    "from sklearn import datasets\n",
    "from PIL import Image"
   ]
  },
  {
   "cell_type": "code",
   "execution_count": 194,
   "metadata": {},
   "outputs": [],
   "source": [
    "mnist = datasets.fetch_mldata('MNIST original')"
   ]
  },
  {
   "cell_type": "code",
   "execution_count": 215,
   "metadata": {},
   "outputs": [
    {
     "data": {
      "text/plain": [
       "1000.0"
      ]
     },
     "execution_count": 215,
     "metadata": {},
     "output_type": "execute_result"
    }
   ],
   "source": [
    "s = mnist.data.shape[0]\n",
    "c = np.zeros(s)\n",
    "c[np.random.choice(s,1000,replace=False)] = 1\n",
    "np.sum(c)"
   ]
  },
  {
   "cell_type": "code",
   "execution_count": 216,
   "metadata": {},
   "outputs": [],
   "source": [
    "def load_data(size):\n",
    "    mnist = datasets.fetch_mldata('MNIST original')\n",
    "    s = mnist.data.shape[0]\n",
    "    c = np.zeros(s)\n",
    "    c[np.random.choice(s,size,replace=False)] = 1\n",
    "    #n_train = size\n",
    "    data_train = mnist.data[c==1]\n",
    "    target_train = mnist.target[c==1]\n",
    "    data_test = mnist.data[c==0]\n",
    "    target_test = mnist.target[c==0]\n",
    "    return (data_train.astype(np.float32), target_train.astype(np.float32),data_test.astype(np.float32), target_test.astype(np.float32))\n",
    "\n",
    "def img_show(img):\n",
    "    pil_img = Image.fromarray(np.uint8(img))\n",
    "    pil_img.show()"
   ]
  },
  {
   "cell_type": "code",
   "execution_count": 3,
   "metadata": {},
   "outputs": [],
   "source": [
    "x_train, t_train, x_test, t_test  = load_data()"
   ]
  },
  {
   "cell_type": "code",
   "execution_count": 178,
   "metadata": {},
   "outputs": [],
   "source": [
    "import pickle\n",
    "def init_network():\n",
    "    with open('sample_weight.pkl','rb') as f:\n",
    "        network = pickle.load(f)\n",
    "    return network\n",
    "\n",
    "def sigmoid(x):\n",
    "    return 1/(1+np.exp(-x))\n",
    "# wrong ?\n",
    "def softmax_wrong(x):\n",
    "    c = np.max(x)\n",
    "    exp_a = np.exp(x-c) #防止溢位\n",
    "    sum_exp_a = np.sum(exp_a)\n",
    "    return exp_a / sum_exp_a\n",
    "\n",
    "def softmax(x):\n",
    "    if x.ndim == 2:\n",
    "        x = x.T\n",
    "        x = x - np.max(x, axis=0)\n",
    "        y = np.exp(x) / np.sum(np.exp(x), axis=0)\n",
    "        return y.T \n",
    "\n",
    "    x = x - np.max(x) \n",
    "    return np.exp(x) / np.sum(np.exp(x))\n",
    "\n",
    "\n",
    "\n",
    "def predict(network,x):\n",
    "    W1,W2,W3 = network['W1'],network['W2'],network['W3']\n",
    "    b1,b2,b3 = network['b1'],network['b2'],network['b3'] \n",
    "    \n",
    "    a1 = np.dot(x,W1) + b1\n",
    "    z1 = sigmoid(a1)\n",
    "    a2 = np.dot(z1,W2) + b2\n",
    "    z2 = sigmoid(a2)\n",
    "    a3 = np.dot(z2,W3) + b3\n",
    "    y = softmax(a3) # 輸出層\n",
    "    return y"
   ]
  },
  {
   "cell_type": "code",
   "execution_count": 6,
   "metadata": {},
   "outputs": [],
   "source": [
    "network = init_network()"
   ]
  },
  {
   "cell_type": "code",
   "execution_count": 9,
   "metadata": {},
   "outputs": [
    {
     "name": "stdout",
     "output_type": "stream",
     "text": [
      "CPU times: user 4 µs, sys: 1 µs, total: 5 µs\n",
      "Wall time: 7.87 µs\n",
      "Accuracy:0.932219\n"
     ]
    }
   ],
   "source": [
    "%time\n",
    "x_test_2 = x_test/256 # 0~1 normalize\n",
    "accuracy_cnt = 0\n",
    "for i in range(len(x_test_2)):\n",
    "    y = predict(network,x_test_2[i])\n",
    "    p = np.argmax(y)\n",
    "    if p == t_test[i]:\n",
    "        accuracy_cnt += 1\n",
    "print(\"Accuracy:%f\"%(float(accuracy_cnt)/len(x_test_2)))"
   ]
  },
  {
   "cell_type": "code",
   "execution_count": 10,
   "metadata": {},
   "outputs": [
    {
     "data": {
      "text/plain": [
       "7.0"
      ]
     },
     "execution_count": 10,
     "metadata": {},
     "output_type": "execute_result"
    }
   ],
   "source": [
    "index = 41654\n",
    "t_test[index]"
   ]
  },
  {
   "cell_type": "code",
   "execution_count": 11,
   "metadata": {},
   "outputs": [
    {
     "data": {
      "image/png": "[encoded data removed]",
      "text/plain": [
       "<matplotlib.figure.Figure at 0x1121d6b00>"
      ]
     },
     "metadata": {},
     "output_type": "display_data"
    }
   ],
   "source": [
    "plt.matshow(np.uint8(x_test[index]).reshape(28,28), cmap=plt.cm.gray)\n",
    "plt.show()"
   ]
  },
  {
   "cell_type": "code",
   "execution_count": 12,
   "metadata": {},
   "outputs": [
    {
     "data": {
      "text/plain": [
       "7"
      ]
     },
     "execution_count": 12,
     "metadata": {},
     "output_type": "execute_result"
    }
   ],
   "source": [
    "# 預測輸出結果\n",
    "y = predict(network,x_test_2[index])\n",
    "np.argmax(y)"
   ]
  },
  {
   "cell_type": "code",
   "execution_count": 13,
   "metadata": {},
   "outputs": [
    {
     "name": "stdout",
     "output_type": "stream",
     "text": [
      "CPU times: user 3 µs, sys: 0 ns, total: 3 µs\n",
      "Wall time: 8.11 µs\n",
      "Accuracy:0.932219\n"
     ]
    }
   ],
   "source": [
    "%time\n",
    "batch_size = 100\n",
    "accuracy_cnt = 0\n",
    "for i in range(0,len(x_test),batch_size):\n",
    "    x_batch = x_test_2[i:i+batch_size]\n",
    "    y_batch = predict(network,x_batch)\n",
    "    p = np.argmax(y_batch,axis =1)\n",
    "    accuracy_cnt += np.sum(p == t_test[i:i+batch_size])\n",
    "print(\"Accuracy:%f\"%(float(accuracy_cnt)/len(x_test_2)))"
   ]
  },
  {
   "cell_type": "code",
   "execution_count": 171,
   "metadata": {},
   "outputs": [],
   "source": [
    "def mean_squared_error(y,t):\n",
    "    return 0.5 * np.sum((y-t)**2)\n",
    "\n",
    "def cross_entropy_error(y,t):\n",
    "    delta = 1e-7\n",
    "    return -np.sum(t*np.log(y+delta))\n",
    "\n",
    "def one_hot_label(y,size):\n",
    "    a = np.zeros([y.shape[0],size])\n",
    "    for i in range(y.shape[0]):\n",
    "        a[i,int(y[i])] = 1\n",
    "    return a"
   ]
  },
  {
   "cell_type": "code",
   "execution_count": null,
   "metadata": {},
   "outputs": [],
   "source": [
    "b = one_hot_label(t_test,10)\n",
    "b.shape"
   ]
  },
  {
   "cell_type": "code",
   "execution_count": 18,
   "metadata": {},
   "outputs": [],
   "source": [
    "train = x_test/256\n",
    "test = t_test\n",
    "train_size = train.shape[0]\n",
    "batch_size = 10\n",
    "# 最後選出的資料集\n",
    "batch_mask = np.random.choice(train_size,batch_size)\n",
    "x_batch = train[batch_mask]\n",
    "t_batch = train[batch_mask]"
   ]
  },
  {
   "cell_type": "code",
   "execution_count": 19,
   "metadata": {},
   "outputs": [],
   "source": [
    "# one_hot_vector version\n",
    "def cross_entorpy_error(y,t):\n",
    "    if y.ndim == 1:\n",
    "        t = t.reshape(1,t.size)\n",
    "        y = y.reshape(1,y.size)\n",
    "    batch_size = y.shape[0]\n",
    "    return -np.sum(t*np.log(y))/batch_size"
   ]
  },
  {
   "cell_type": "code",
   "execution_count": 91,
   "metadata": {},
   "outputs": [],
   "source": [
    "def numerical_diff(f,x):\n",
    "    h = 1e-4 # 容許在float32底下運作\n",
    "    return (f(x+h)-f(x-h))/(2*h)\n",
    "\n",
    "def function_2(x):\n",
    "    return np.sum(x**2)\n",
    "\n",
    "# https://github.com/oreilly-japan/deep-learning-from-scratch/blob/master/common/gradient.py\n",
    "def numerical_gradient(f,x):\n",
    "    h = 1e-4\n",
    "    grad = np.zeros_like(x)\n",
    "    it = np.nditer(x, flags=['multi_index'], op_flags=['readwrite'])\n",
    "    while not it.finished:\n",
    "        idx = it.multi_index\n",
    "        tmp_val = x[idx]\n",
    "        x[idx] = float(tmp_val)+h\n",
    "        fxh1= f(x)\n",
    "        \n",
    "        x[idx] = float(tmp_val)-h\n",
    "        fxh2= f(x)\n",
    "        \n",
    "        grad[idx] = (fxh1 - fxh2) / (2*h)\n",
    "        x[idx] = tmp_val\n",
    "        it.iternext() \n",
    "    return grad\n",
    "\n",
    "def gradient_descent(f,init_x,lr=0.01,step_num = 100):\n",
    "    x = init_x\n",
    "    for i in range(step_num):\n",
    "        grad = numerical_gradient(f,x)\n",
    "        x -= lr * grad\n",
    "    return x"
   ]
  },
  {
   "cell_type": "markdown",
   "metadata": {},
   "source": [
    "驗證day3 都可以運作"
   ]
  },
  {
   "cell_type": "code",
   "execution_count": 73,
   "metadata": {},
   "outputs": [
    {
     "data": {
      "text/plain": [
       "array([-6.11110793e-10,  8.14814391e-10])"
      ]
     },
     "execution_count": 73,
     "metadata": {},
     "output_type": "execute_result"
    }
   ],
   "source": [
    "init_x = np.array([-3.0,4.0])\n",
    "gradient_descent(function_2,init_x=init_x,lr=0.1,step_num=100)"
   ]
  },
  {
   "cell_type": "markdown",
   "metadata": {},
   "source": [
    "### 開始學習\n",
    "\n",
    "$$ \\bf{W} = \n",
    "  \\begin{pmatrix}\n",
    "    w_{11} & w_{21} & w_{31} \\\\\n",
    "    w_{12} & w_{22} & w_{32} \n",
    "  \\end{pmatrix} $$\n",
    "\n",
    "$$ \\frac{\\partial L}{\\partial \\bf{W}} = \n",
    "  \\begin{pmatrix}\n",
    "    \\frac{\\partial L}{\\partial w_{11}} &     \\frac{\\partial L}{\\partial w_{21}} &     \\frac{\\partial L}{\\partial w_{31}} \\\\\n",
    "\\frac{\\partial L}{\\partial w_{12}} &     \\frac{\\partial L}{\\partial w_{22}} &     \\frac{\\partial L}{\\partial w_{32}} \n",
    "  \\end{pmatrix} $$\n"
   ]
  },
  {
   "cell_type": "markdown",
   "metadata": {},
   "source": [
    "建立簡單神經網路"
   ]
  },
  {
   "cell_type": "code",
   "execution_count": 52,
   "metadata": {},
   "outputs": [],
   "source": [
    "class SimpleNet:\n",
    "    def __init__(self):\n",
    "        #self.W = np.random.rand(2,3) ## 以常態分佈初始化\n",
    "        self.W = np.array([[0.47355232,0.9977393,0.84668094],\n",
    "       [0.85557411,0.03563661,0.69422093]])\n",
    "    def predict(self,x):\n",
    "        return np.dot(x,self.W)\n",
    "    def loss(self,x,t):\n",
    "        z = self.predict(x)\n",
    "        y = softmax(z)\n",
    "        loss = cross_entorpy_error(y,t)\n",
    "        return loss\n",
    "net = SimpleNet()"
   ]
  },
  {
   "cell_type": "code",
   "execution_count": 37,
   "metadata": {},
   "outputs": [
    {
     "data": {
      "text/plain": [
       "array([[0.47355232, 0.9977393 , 0.84668094],\n",
       "       [0.85557411, 0.03563661, 0.69422093]])"
      ]
     },
     "execution_count": 37,
     "metadata": {},
     "output_type": "execute_result"
    }
   ],
   "source": [
    "net.W"
   ]
  },
  {
   "cell_type": "code",
   "execution_count": 68,
   "metadata": {},
   "outputs": [
    {
     "data": {
      "text/plain": [
       "array([1.05414809, 0.63071653, 1.1328074 ])"
      ]
     },
     "execution_count": 68,
     "metadata": {},
     "output_type": "execute_result"
    }
   ],
   "source": [
    "x = np.array([0.6,0.9])\n",
    "p = net.predict(x)\n",
    "p"
   ]
  },
  {
   "cell_type": "code",
   "execution_count": 69,
   "metadata": {},
   "outputs": [
    {
     "data": {
      "text/plain": [
       "2"
      ]
     },
     "execution_count": 69,
     "metadata": {},
     "output_type": "execute_result"
    }
   ],
   "source": [
    "np.argmax(p)"
   ]
  },
  {
   "cell_type": "code",
   "execution_count": 92,
   "metadata": {},
   "outputs": [
    {
     "data": {
      "text/plain": [
       "0.9281123899431699"
      ]
     },
     "execution_count": 92,
     "metadata": {},
     "output_type": "execute_result"
    }
   ],
   "source": [
    "t = np.array([0,0,1])\n",
    "net.loss(x,t)"
   ]
  },
  {
   "cell_type": "code",
   "execution_count": 96,
   "metadata": {},
   "outputs": [
    {
     "data": {
      "text/plain": [
       "array([[ 0.21928102,  0.14354988, -0.36283089],\n",
       "       [ 0.32892153,  0.21532481, -0.54424634]])"
      ]
     },
     "execution_count": 96,
     "metadata": {},
     "output_type": "execute_result"
    }
   ],
   "source": [
    "# 要留意這裡有目標數值也要帶入 t\n",
    "def f(W):\n",
    "    t = np.array([0,0,1])\n",
    "    return net.loss(x,t)\n",
    "f = lambda w : net.loss(x,t) #另外一種寫法, 感覺不怎麼好用\n",
    "dW = numerical_gradient(f,net.W)\n",
    "dW"
   ]
  },
  {
   "cell_type": "markdown",
   "metadata": {},
   "source": [
    "### 執行學習演算法 stochastic gradient descent, SGD\n",
    "1. 小批次選取資料\n",
    "2. 計算梯度\n",
    "3. 更新資料\n",
    "4. 重複執行"
   ]
  },
  {
   "cell_type": "code",
   "execution_count": 179,
   "metadata": {},
   "outputs": [],
   "source": [
    "class TwoLayerNet:\n",
    "    def __init__(self,input_size,hidden_size,output_size,weight_init_std=0.01):\n",
    "        self.params = {}\n",
    "        self.params['W1'] = weight_init_std* np.random.randn(input_size,hidden_size)\n",
    "        self.params['b1'] = np.zeros(hidden_size)\n",
    "        self.params['W2'] = weight_init_std* np.random.randn(hidden_size,output_size)\n",
    "        self.params['b2'] = np.zeros(output_size)\n",
    "        \n",
    "        \n",
    "    def predict(self,x):\n",
    "        W1,W2 = self.params['W1'],self.params['W2']\n",
    "        b1,b2 = self.params['b1'],self.params['b2']        \n",
    "        \n",
    "        a1 = np.dot(x,W1) + b1\n",
    "        z1 = sigmoid(a1)\n",
    "        a2 = np.dot(z1,W2) + b2\n",
    "        z2 = sigmoid(a2)\n",
    "        y = softmax(z2)\n",
    "        \n",
    "        return y\n",
    "    \n",
    "    \n",
    "    def loss(self,x,t):\n",
    "        y = self.predict(x)\n",
    "        return cross_entorpy_error(y,t)\n",
    "    \n",
    "    \n",
    "    def accuracy(self,x,t):\n",
    "        y = self.predict(x)\n",
    "        y = np.argmax(y,axis=1)\n",
    "        t = np.argmax(t,axis=1)\n",
    "        accuracy = np.sum(y==t) / float(x.shape[0])\n",
    "        return accuracy\n",
    "    \n",
    "    def numerical_gradient(self,x,t):\n",
    "        loss_w = lambda W: self.loss(x,t)\n",
    "        grads = {}\n",
    "        grads[\"W1\"] = numerical_gradient(loss_w,self.params['W1'])\n",
    "        grads[\"W2\"] = numerical_gradient(loss_w,self.params['W2'])\n",
    "        grads[\"b1\"] = numerical_gradient(loss_w,self.params['b1'])\n",
    "        grads[\"b2\"] = numerical_gradient(loss_w,self.params['b1'])\n",
    "        return grads\n",
    "\n",
    "    #額外增加的\n",
    "    def gradient(self, x, t):\n",
    "        W1, W2 = self.params['W1'], self.params['W2']\n",
    "        b1, b2 = self.params['b1'], self.params['b2']\n",
    "        grads = {}\n",
    "        \n",
    "        batch_num = x.shape[0]\n",
    "        \n",
    "        # forward\n",
    "        a1 = np.dot(x, W1) + b1\n",
    "        z1 = sigmoid(a1)\n",
    "        a2 = np.dot(z1, W2) + b2\n",
    "        y = softmax(a2)\n",
    "        \n",
    "        # backward\n",
    "        dy = (y - t) / batch_num\n",
    "        grads['W2'] = np.dot(z1.T, dy)\n",
    "        grads['b2'] = np.sum(dy, axis=0)\n",
    "        \n",
    "        da1 = np.dot(dy, W2.T)\n",
    "        dz1 = sigmoid_grad(a1) * da1\n",
    "        grads['W1'] = np.dot(x.T, dz1)\n",
    "        grads['b1'] = np.sum(dz1, axis=0)\n",
    "\n",
    "        return grads\n",
    "    \n",
    "#為了加速增加的\n",
    "def sigmoid_grad(x):\n",
    "    return (1.0 - sigmoid(x)) * sigmoid(x)"
   ]
  },
  {
   "cell_type": "code",
   "execution_count": 128,
   "metadata": {},
   "outputs": [],
   "source": [
    "net = TwoLayerNet(input_size=784,hidden_size=100,output_size=10)"
   ]
  },
  {
   "cell_type": "code",
   "execution_count": 129,
   "metadata": {},
   "outputs": [
    {
     "data": {
      "text/plain": [
       "(784, 100)"
      ]
     },
     "execution_count": 129,
     "metadata": {},
     "output_type": "execute_result"
    }
   ],
   "source": [
    "net.params['W1'].shape"
   ]
  },
  {
   "cell_type": "code",
   "execution_count": 122,
   "metadata": {},
   "outputs": [],
   "source": [
    "x = np.random.rand(100,784)\n",
    "t = np.random.rand(100,10)\n",
    "y = net.predict(x)"
   ]
  },
  {
   "cell_type": "code",
   "execution_count": 123,
   "metadata": {},
   "outputs": [
    {
     "data": {
      "text/plain": [
       "array([8, 6, 3, 7, 5, 6, 9, 3, 6, 2, 0, 0, 1, 7, 3, 7, 9, 0, 6, 6, 0, 5,\n",
       "       7, 2, 8, 1, 3, 5, 4, 6, 0, 8, 2, 4, 6, 5, 9, 7, 6, 9, 2, 6, 7, 1,\n",
       "       3, 4, 2, 7, 5, 7, 4, 4, 5, 2, 0, 2, 8, 3, 1, 7, 5, 4, 7, 0, 9, 3,\n",
       "       7, 3, 7, 5, 9, 4, 1, 3, 4, 9, 5, 5, 2, 3, 8, 1, 5, 4, 3, 9, 6, 9,\n",
       "       9, 5, 0, 1, 3, 3, 4, 6, 6, 8, 6, 3])"
      ]
     },
     "execution_count": 123,
     "metadata": {},
     "output_type": "execute_result"
    }
   ],
   "source": [
    "np.argmax(t,axis=1)"
   ]
  },
  {
   "cell_type": "code",
   "execution_count": 132,
   "metadata": {},
   "outputs": [
    {
     "name": "stdout",
     "output_type": "stream",
     "text": [
      "CPU times: user 3 µs, sys: 1e+03 ns, total: 4 µs\n",
      "Wall time: 24.1 µs\n"
     ]
    },
    {
     "data": {
      "text/plain": [
       "{'W1': array([[-8.73697559e-06,  2.89258040e-05, -1.80842363e-05, ...,\n",
       "         -2.39813502e-05, -3.41557893e-05,  6.51987264e-05],\n",
       "        [-1.27692346e-05,  2.93646707e-05,  1.53818291e-05, ...,\n",
       "          1.68904180e-05,  2.31185737e-06,  6.87698787e-06],\n",
       "        [-8.73320971e-06,  5.56524427e-05, -6.78891610e-06, ...,\n",
       "          3.33823635e-05, -1.36103750e-05,  5.48535084e-05],\n",
       "        ...,\n",
       "        [-2.22672725e-05,  6.97226454e-05,  2.52012811e-05, ...,\n",
       "          4.86891238e-05, -1.22861721e-05,  1.34388856e-05],\n",
       "        [-1.18358301e-05,  4.18496526e-05,  4.51677806e-06, ...,\n",
       "          1.86510363e-06, -7.36964267e-06,  3.75082010e-05],\n",
       "        [-1.82954096e-05,  3.75345266e-05,  9.44382350e-07, ...,\n",
       "          3.39785089e-06, -5.56887869e-07,  3.17466231e-05]]),\n",
       " 'W2': array([[ 3.06700507e-03,  4.91763540e-03,  2.97869249e-04,\n",
       "         -4.71028621e-03, -1.82774080e-03,  1.54383990e-04,\n",
       "         -4.77097473e-05,  2.67426746e-03, -2.30044822e-03,\n",
       "         -2.76438637e-03],\n",
       "        [ 3.26459272e-03,  4.88940742e-03,  5.32105986e-04,\n",
       "         -4.67842032e-03, -1.73468855e-03,  7.43603934e-05,\n",
       "         -1.77818791e-04,  2.88597693e-03, -2.44633000e-03,\n",
       "         -2.46094814e-03],\n",
       "        [ 3.01743960e-03,  5.44177350e-03,  7.52516485e-04,\n",
       "         -5.07919257e-03, -1.88036299e-03, -8.67429861e-05,\n",
       "         -1.05749827e-04,  3.14243600e-03, -2.38508633e-03,\n",
       "         -2.87682496e-03],\n",
       "        [ 2.97042746e-03,  4.69659970e-03,  5.73962105e-04,\n",
       "         -4.74014104e-03, -1.94780370e-03,  2.02048795e-04,\n",
       "          3.18381410e-05,  3.01770445e-03, -2.37216788e-03,\n",
       "         -2.86207790e-03],\n",
       "        [ 3.33331762e-03,  4.96862754e-03,  3.92778077e-04,\n",
       "         -4.65108844e-03, -1.91584959e-03,  1.00067830e-04,\n",
       "          4.72084594e-06,  2.81208230e-03, -2.33911745e-03,\n",
       "         -2.76681543e-03],\n",
       "        [ 3.11791176e-03,  5.37785450e-03,  5.34707780e-04,\n",
       "         -4.98243878e-03, -1.95908335e-03,  2.15600728e-04,\n",
       "         -2.30617410e-04,  3.01108891e-03, -2.56047510e-03,\n",
       "         -2.86150851e-03],\n",
       "        [ 2.81068953e-03,  4.30013277e-03,  4.45373622e-04,\n",
       "         -3.82409326e-03, -1.92424693e-03,  1.27637989e-05,\n",
       "          8.73054518e-05,  2.41749024e-03, -1.75946337e-03,\n",
       "         -2.65816354e-03],\n",
       "        [ 3.22857197e-03,  5.14774680e-03,  6.11648723e-04,\n",
       "         -4.59695151e-03, -1.97731737e-03,  1.42404097e-04,\n",
       "         -2.95934655e-04,  2.79183773e-03, -2.35589042e-03,\n",
       "         -2.65022742e-03],\n",
       "        [ 3.69085829e-03,  5.60357424e-03,  3.53033975e-04,\n",
       "         -5.21856606e-03, -1.89047846e-03, -8.78496564e-05,\n",
       "         -8.74171491e-05,  3.26626242e-03, -2.61023562e-03,\n",
       "         -2.93378029e-03],\n",
       "        [ 2.99526938e-03,  5.13312717e-03,  4.94238996e-04,\n",
       "         -4.80244896e-03, -1.94116996e-03,  1.66480483e-04,\n",
       "          1.59044262e-04,  2.99561567e-03, -2.50815205e-03,\n",
       "         -2.83865386e-03],\n",
       "        [ 3.29644447e-03,  5.49737507e-03,  6.47378471e-04,\n",
       "         -5.11115868e-03, -1.91457964e-03,  5.32140376e-05,\n",
       "         -1.11728475e-04,  3.02786635e-03, -2.83221254e-03,\n",
       "         -2.66605202e-03],\n",
       "        [ 3.20439874e-03,  5.25527074e-03,  3.19890425e-04,\n",
       "         -4.66064666e-03, -1.81775651e-03, -1.71534289e-04,\n",
       "         -5.85933435e-05,  2.75112395e-03, -2.40036407e-03,\n",
       "         -2.67617871e-03],\n",
       "        [ 3.29803822e-03,  4.96215662e-03,  4.01998506e-04,\n",
       "         -4.53830882e-03, -1.81530655e-03,  1.21722117e-04,\n",
       "         -1.07027276e-05,  3.10236963e-03, -2.68136908e-03,\n",
       "         -2.76461396e-03],\n",
       "        [ 3.19552004e-03,  5.14915200e-03,  5.89826676e-04,\n",
       "         -4.76771834e-03, -1.66557548e-03, -4.18812718e-05,\n",
       "          2.00444532e-04,  2.83584317e-03, -2.32632274e-03,\n",
       "         -2.66412137e-03],\n",
       "        [ 3.32918496e-03,  5.41630790e-03,  3.15859445e-04,\n",
       "         -4.78002590e-03, -1.85410723e-03, -5.38400258e-05,\n",
       "          1.40348533e-04,  3.24903141e-03, -2.38265191e-03,\n",
       "         -3.22579481e-03],\n",
       "        [ 2.85235789e-03,  4.94232872e-03,  5.95273235e-04,\n",
       "         -4.64048572e-03, -1.82856297e-03,  7.22800664e-05,\n",
       "          2.04924788e-05,  2.81040876e-03, -2.20830099e-03,\n",
       "         -2.65257327e-03],\n",
       "        [ 3.14031968e-03,  4.81351993e-03,  3.67308566e-04,\n",
       "         -4.58871831e-03, -1.84697630e-03, -1.17828058e-04,\n",
       "         -1.76361397e-04,  2.75458675e-03, -2.21588461e-03,\n",
       "         -2.56672482e-03],\n",
       "        [ 3.58217921e-03,  5.76705268e-03,  5.80794115e-04,\n",
       "         -5.47573212e-03, -1.95768791e-03,  9.32714528e-05,\n",
       "         -2.67054006e-04,  3.14997077e-03, -2.88368948e-03,\n",
       "         -2.92761751e-03],\n",
       "        [ 3.27662974e-03,  5.23009657e-03,  4.23802220e-04,\n",
       "         -5.02209883e-03, -2.03758230e-03,  1.00133590e-04,\n",
       "         -7.73994557e-05,  3.08533799e-03, -2.77897609e-03,\n",
       "         -2.98933596e-03],\n",
       "        [ 2.84686752e-03,  4.84824071e-03,  5.15312593e-04,\n",
       "         -4.46417552e-03, -1.74632639e-03,  2.11433182e-04,\n",
       "         -1.10115117e-04,  2.58698677e-03, -2.14572932e-03,\n",
       "         -2.66773885e-03],\n",
       "        [ 3.07813380e-03,  5.34614475e-03,  5.20877776e-04,\n",
       "         -5.09859046e-03, -2.04911942e-03,  9.39695610e-05,\n",
       "          1.66041474e-04,  3.09826191e-03, -2.49986009e-03,\n",
       "         -3.16908654e-03],\n",
       "        [ 2.67562985e-03,  4.26644004e-03,  3.00998053e-04,\n",
       "         -3.97449412e-03, -1.70383451e-03,  1.38320608e-04,\n",
       "         -1.62092562e-04,  2.36679860e-03, -1.85355194e-03,\n",
       "         -2.15128111e-03],\n",
       "        [ 3.40458456e-03,  6.16860675e-03,  6.19240730e-04,\n",
       "         -5.29101804e-03, -2.03867511e-03,  8.72146799e-05,\n",
       "         -1.16263621e-05,  3.44657497e-03, -2.72842996e-03,\n",
       "         -3.06226653e-03],\n",
       "        [ 3.18665240e-03,  5.17781878e-03,  5.90533666e-04,\n",
       "         -4.85351254e-03, -1.88136248e-03, -6.17826856e-05,\n",
       "         -1.30277904e-04,  3.25649015e-03, -2.60152007e-03,\n",
       "         -2.58416488e-03],\n",
       "        [ 2.98067128e-03,  5.04379454e-03,  3.42130875e-04,\n",
       "         -4.64384662e-03, -1.72056975e-03,  3.96181576e-05,\n",
       "         -8.94145202e-05,  2.87419397e-03, -2.32646766e-03,\n",
       "         -2.65429854e-03],\n",
       "        [ 3.06883354e-03,  5.02163402e-03,  3.01830561e-04,\n",
       "         -4.78276625e-03, -1.97131317e-03,  1.44658578e-04,\n",
       "          1.28196227e-04,  2.76088400e-03, -2.37970610e-03,\n",
       "         -2.83329907e-03],\n",
       "        [ 3.39576907e-03,  5.54932246e-03,  8.47028723e-04,\n",
       "         -5.15056755e-03, -1.82960846e-03, -7.94038613e-06,\n",
       "         -4.26862101e-05,  3.25356439e-03, -2.58543466e-03,\n",
       "         -2.95347956e-03],\n",
       "        [ 3.21984430e-03,  5.01181074e-03,  5.70387719e-04,\n",
       "         -4.61770775e-03, -1.51093513e-03, -1.03122488e-05,\n",
       "          1.04224895e-05,  2.76918783e-03, -2.32017481e-03,\n",
       "         -2.67025765e-03],\n",
       "        [ 2.91647350e-03,  4.67925837e-03,  4.75070827e-04,\n",
       "         -4.44746306e-03, -1.52167683e-03,  8.57620464e-05,\n",
       "         -2.61050950e-04,  2.54871132e-03, -2.03232677e-03,\n",
       "         -2.52892132e-03],\n",
       "        [ 3.60530130e-03,  6.08134339e-03,  7.20015869e-04,\n",
       "         -5.41767044e-03, -2.25687458e-03, -7.54487672e-05,\n",
       "         -1.41744927e-04,  3.41293351e-03, -2.90279029e-03,\n",
       "         -2.93971301e-03],\n",
       "        [ 3.09068632e-03,  5.56249734e-03,  6.72260079e-04,\n",
       "         -4.98727267e-03, -2.11485656e-03,  8.44152837e-05,\n",
       "         -6.05983885e-05,  2.99922764e-03, -2.74191873e-03,\n",
       "         -2.92652832e-03],\n",
       "        [ 2.98961996e-03,  5.43673977e-03,  7.00203806e-04,\n",
       "         -5.12679236e-03, -2.08380992e-03, -2.18018279e-04,\n",
       "         -2.29817623e-04,  3.07110007e-03, -2.70088123e-03,\n",
       "         -2.73488062e-03],\n",
       "        [ 3.10406080e-03,  5.20294090e-03,  4.15863823e-04,\n",
       "         -4.42120804e-03, -1.60919477e-03,  1.37472931e-04,\n",
       "         -5.90734928e-05,  2.76822284e-03, -2.56459010e-03,\n",
       "         -2.68211171e-03],\n",
       "        [ 3.30959352e-03,  5.27111247e-03,  4.26246132e-04,\n",
       "         -5.11825604e-03, -1.64512389e-03,  1.03172688e-04,\n",
       "          3.57825769e-06,  3.20101758e-03, -2.45484014e-03,\n",
       "         -2.85509486e-03],\n",
       "        [ 3.52557223e-03,  5.77297850e-03,  6.27391863e-04,\n",
       "         -5.48414889e-03, -2.02312460e-03,  2.01651389e-04,\n",
       "         -2.48245513e-04,  3.39264275e-03, -2.61929515e-03,\n",
       "         -3.00889432e-03],\n",
       "        [ 2.74486794e-03,  4.78135753e-03,  4.69126462e-04,\n",
       "         -4.72778090e-03, -1.59515302e-03,  8.53377458e-05,\n",
       "         -4.23134239e-04,  2.68505154e-03, -2.50929883e-03,\n",
       "         -2.45681179e-03],\n",
       "        [ 3.43359275e-03,  5.37960211e-03,  6.35960227e-04,\n",
       "         -4.88613370e-03, -1.85791571e-03,  1.81047852e-04,\n",
       "         -9.59335011e-05,  3.05748017e-03, -2.49443900e-03,\n",
       "         -2.89936967e-03],\n",
       "        [ 2.87548495e-03,  4.73062766e-03,  5.01988211e-04,\n",
       "         -4.39164943e-03, -1.60294331e-03,  2.67551314e-06,\n",
       "         -2.44887133e-05,  2.94691549e-03, -2.24887653e-03,\n",
       "         -2.63758146e-03],\n",
       "        [ 3.21372312e-03,  5.16070990e-03,  5.58681634e-04,\n",
       "         -4.90024927e-03, -1.76449806e-03,  1.43972514e-04,\n",
       "         -1.17650174e-04,  2.90373201e-03, -2.64089778e-03,\n",
       "         -2.81984985e-03],\n",
       "        [ 2.87860189e-03,  4.98215552e-03,  6.21518907e-04,\n",
       "         -4.64842831e-03, -1.62524582e-03, -9.69578196e-05,\n",
       "         -1.15271703e-05,  2.79511958e-03, -2.22891412e-03,\n",
       "         -2.28933004e-03],\n",
       "        [ 2.95747395e-03,  4.80991837e-03,  4.06906047e-04,\n",
       "         -4.83784955e-03, -1.85288489e-03,  1.04685967e-04,\n",
       "          1.29653444e-05,  2.72385293e-03, -2.48198024e-03,\n",
       "         -2.69597340e-03],\n",
       "        [ 3.23318670e-03,  5.13075683e-03,  2.59935717e-04,\n",
       "         -5.06995594e-03, -1.87912281e-03,  4.78130957e-05,\n",
       "         -4.32539302e-04,  2.94987313e-03, -2.61033627e-03,\n",
       "         -2.82504175e-03],\n",
       "        [ 3.05307754e-03,  5.02503010e-03,  7.45390132e-04,\n",
       "         -4.56809776e-03, -1.63639292e-03, -4.38307879e-05,\n",
       "          1.10734888e-05,  3.12348114e-03, -2.38332142e-03,\n",
       "         -2.68469510e-03],\n",
       "        [ 2.54230628e-03,  4.61611478e-03,  3.19619176e-04,\n",
       "         -3.91366729e-03, -1.54989277e-03, -1.24245076e-04,\n",
       "         -1.66252079e-04,  2.51639001e-03, -1.96884333e-03,\n",
       "         -2.39798990e-03],\n",
       "        [ 2.90894651e-03,  4.64010991e-03,  5.18295202e-04,\n",
       "         -4.18799733e-03, -1.63615848e-03, -1.40229623e-04,\n",
       "         -2.96371283e-05,  2.60858460e-03, -2.33404513e-03,\n",
       "         -2.32551603e-03],\n",
       "        [ 3.28609229e-03,  5.66161173e-03,  3.00291383e-04,\n",
       "         -5.20503093e-03, -1.93253474e-03, -1.22780008e-05,\n",
       "         -2.08016075e-04,  2.98439900e-03, -2.59695700e-03,\n",
       "         -2.83229159e-03],\n",
       "        [ 3.15639166e-03,  5.38354318e-03,  6.02310237e-04,\n",
       "         -4.85412201e-03, -1.84258187e-03,  4.21217869e-04,\n",
       "         -1.39381910e-04,  3.33891762e-03, -2.35923519e-03,\n",
       "         -2.96306442e-03],\n",
       "        [ 3.63437238e-03,  6.04681293e-03,  4.92054646e-04,\n",
       "         -4.91505872e-03, -1.98825020e-03, -2.68294897e-05,\n",
       "         -2.57031374e-04,  2.96984645e-03, -2.90898747e-03,\n",
       "         -3.06610566e-03],\n",
       "        [ 3.14126783e-03,  5.37352893e-03,  5.49530199e-04,\n",
       "         -4.94103599e-03, -1.77741107e-03, -1.22070993e-04,\n",
       "         -1.93980760e-04,  2.76224306e-03, -2.39185137e-03,\n",
       "         -2.95585320e-03],\n",
       "        [ 3.13207856e-03,  5.41737545e-03,  5.14741210e-04,\n",
       "         -5.03037505e-03, -1.53974714e-03,  1.52997011e-04,\n",
       "         -1.22973560e-04,  3.27195306e-03, -2.71267613e-03,\n",
       "         -2.85792002e-03],\n",
       "        [ 2.92012651e-03,  5.03105362e-03,  7.16318596e-04,\n",
       "         -4.74317137e-03, -1.70284974e-03, -2.34320794e-04,\n",
       "         -1.41296397e-05,  3.03701910e-03, -2.25932144e-03,\n",
       "         -2.89588701e-03],\n",
       "        [ 3.35406675e-03,  5.56810928e-03,  5.09691453e-04,\n",
       "         -4.53817748e-03, -1.94274115e-03, -1.06431202e-04,\n",
       "         -1.46134127e-05,  3.06855636e-03, -2.23070845e-03,\n",
       "         -2.75995706e-03],\n",
       "        [ 3.22002485e-03,  5.12116323e-03,  5.14334602e-04,\n",
       "         -5.02965758e-03, -2.02415613e-03,  1.26421789e-04,\n",
       "          1.14159704e-05,  2.84782725e-03, -2.26987147e-03,\n",
       "         -2.86372934e-03],\n",
       "        [ 3.34359431e-03,  5.11543991e-03,  4.48693172e-04,\n",
       "         -4.93295168e-03, -1.75544301e-03, -3.82645737e-05,\n",
       "         -2.76743997e-04,  3.06090165e-03, -2.56542776e-03,\n",
       "         -2.59183238e-03],\n",
       "        [ 3.17680264e-03,  4.94197334e-03,  5.43831860e-04,\n",
       "         -4.36799713e-03, -1.76748955e-03,  1.58885598e-04,\n",
       "         -1.94258476e-05,  2.75587610e-03, -2.35994225e-03,\n",
       "         -2.50428904e-03],\n",
       "        [ 2.83710680e-03,  4.81385836e-03,  6.20934877e-04,\n",
       "         -3.97089295e-03, -1.33742471e-03,  8.53448157e-05,\n",
       "         -1.56672613e-04,  2.47527808e-03, -2.17110657e-03,\n",
       "         -2.27238978e-03],\n",
       "        [ 3.62431010e-03,  5.49045691e-03,  5.55503270e-04,\n",
       "         -4.98904782e-03, -1.85518466e-03, -1.50330699e-04,\n",
       "         -2.92379738e-04,  3.08921916e-03, -2.72253541e-03,\n",
       "         -2.68189019e-03],\n",
       "        [ 3.03567383e-03,  4.88082339e-03,  7.20877757e-04,\n",
       "         -4.32431403e-03, -1.78054172e-03,  5.14800647e-05,\n",
       "         -1.62717235e-04,  2.73448446e-03, -2.26311524e-03,\n",
       "         -2.30515891e-03],\n",
       "        [ 3.61469624e-03,  5.70216020e-03,  9.20096070e-04,\n",
       "         -5.61223008e-03, -2.14514841e-03, -1.61661369e-04,\n",
       "         -2.42259546e-06,  3.35122120e-03, -2.88849449e-03,\n",
       "         -3.02777956e-03],\n",
       "        [ 3.20285043e-03,  5.13103657e-03,  2.92058395e-04,\n",
       "         -4.52576536e-03, -1.65424133e-03,  2.25963248e-05,\n",
       "         -8.01252042e-05,  2.67004808e-03, -2.45684578e-03,\n",
       "         -2.62408356e-03],\n",
       "        [ 3.18029290e-03,  4.81797699e-03,  5.90972427e-04,\n",
       "         -4.72328708e-03, -1.61424165e-03, -1.26422464e-04,\n",
       "          3.51661456e-05,  2.70190966e-03, -2.29913706e-03,\n",
       "         -2.51068631e-03],\n",
       "        [ 2.64353616e-03,  4.79568634e-03,  4.72809916e-04,\n",
       "         -4.54069188e-03, -1.60264957e-03,  3.04103516e-04,\n",
       "          1.74837105e-04,  3.01944016e-03, -2.07730491e-03,\n",
       "         -2.66907367e-03],\n",
       "        [ 3.60476040e-03,  5.92046330e-03,  6.46022897e-04,\n",
       "         -5.31154217e-03, -2.04445953e-03, -7.85105314e-05,\n",
       "         -2.95652036e-04,  3.39015838e-03, -2.28837827e-03,\n",
       "         -2.73959177e-03],\n",
       "        [ 3.18907972e-03,  5.37234012e-03,  5.61105509e-04,\n",
       "         -4.78650634e-03, -1.96497446e-03,  2.31590391e-05,\n",
       "         -1.91885938e-04,  3.22437781e-03, -2.19844633e-03,\n",
       "         -2.81175058e-03],\n",
       "        [ 3.32363363e-03,  5.26157919e-03,  4.38496457e-04,\n",
       "         -4.89813093e-03, -1.75936638e-03, -5.01695041e-05,\n",
       "          9.64728741e-05,  3.12963607e-03, -2.57237513e-03,\n",
       "         -2.70047678e-03],\n",
       "        [ 3.00849042e-03,  5.00345248e-03,  8.77842794e-04,\n",
       "         -4.69592361e-03, -1.74874206e-03,  1.05826459e-05,\n",
       "         -2.95392653e-04,  3.15989620e-03, -2.47938576e-03,\n",
       "         -2.51987490e-03],\n",
       "        [ 3.28780310e-03,  5.57754504e-03,  6.58782504e-04,\n",
       "         -5.21537906e-03, -1.94858742e-03, -2.60644839e-05,\n",
       "         -2.32613395e-04,  2.88606710e-03, -2.76747247e-03,\n",
       "         -2.83777197e-03],\n",
       "        [ 3.32273988e-03,  5.29265872e-03,  6.81963073e-04,\n",
       "         -5.08133692e-03, -2.01195377e-03, -6.73985312e-07,\n",
       "         -1.23372601e-05,  3.02398949e-03, -2.88851123e-03,\n",
       "         -3.20665208e-03],\n",
       "        [ 3.09697377e-03,  4.97545862e-03,  4.98407111e-04,\n",
       "         -4.47103027e-03, -1.72069328e-03, -2.04965467e-04,\n",
       "         -1.33232412e-04,  2.89444355e-03, -2.17337057e-03,\n",
       "         -2.88011535e-03],\n",
       "        [ 3.01324079e-03,  5.27567636e-03,  6.41432329e-04,\n",
       "         -4.95545709e-03, -1.76303072e-03,  3.15404947e-05,\n",
       "         -4.42382486e-05,  3.23422110e-03, -2.61923262e-03,\n",
       "         -2.82746264e-03],\n",
       "        [ 3.05925912e-03,  5.27076946e-03,  3.54602179e-04,\n",
       "         -4.87432750e-03, -1.84781797e-03, -6.49137633e-06,\n",
       "         -2.55139199e-05,  3.16715131e-03, -2.56033140e-03,\n",
       "         -2.93857635e-03],\n",
       "        [ 3.27811438e-03,  5.18723141e-03,  3.77937859e-04,\n",
       "         -4.88875394e-03, -1.94473952e-03,  1.20603971e-05,\n",
       "         -3.99863964e-04,  2.74473951e-03, -2.69095459e-03,\n",
       "         -2.68429581e-03],\n",
       "        [ 3.31491758e-03,  5.40659073e-03,  6.00955765e-04,\n",
       "         -4.84175558e-03, -1.70117083e-03, -3.14507673e-04,\n",
       "         -1.73036661e-04,  2.78638794e-03, -2.58611163e-03,\n",
       "         -2.87762926e-03],\n",
       "        [ 3.14772773e-03,  5.37270655e-03,  4.53149305e-04,\n",
       "         -4.63531748e-03, -1.89777580e-03, -8.13209411e-05,\n",
       "          1.81599091e-05,  2.98484675e-03, -2.39411492e-03,\n",
       "         -2.67935899e-03],\n",
       "        [ 3.13815576e-03,  5.82621904e-03,  4.06379570e-04,\n",
       "         -4.88320683e-03, -1.76570225e-03, -2.03717399e-04,\n",
       "         -2.14548059e-04,  2.82757103e-03, -2.55470511e-03,\n",
       "         -2.83914908e-03],\n",
       "        [ 3.14139548e-03,  5.26512999e-03,  5.57929951e-04,\n",
       "         -4.60947405e-03, -1.86488439e-03, -3.16459641e-04,\n",
       "         -2.79775278e-04,  2.78233774e-03, -2.26493952e-03,\n",
       "         -2.39194545e-03],\n",
       "        [ 2.96040771e-03,  5.10475584e-03,  4.33434586e-04,\n",
       "         -4.89974617e-03, -1.60871075e-03, -2.48610732e-05,\n",
       "         -8.47818526e-05,  2.87015190e-03, -2.22832345e-03,\n",
       "         -2.64730254e-03],\n",
       "        [ 3.03366949e-03,  5.05246867e-03,  6.37846149e-04,\n",
       "         -4.12314623e-03, -1.49866214e-03, -4.18000567e-05,\n",
       "          1.68692793e-04,  2.69415033e-03, -2.15725823e-03,\n",
       "         -2.57942641e-03],\n",
       "        [ 2.99556429e-03,  5.28705318e-03,  4.36282797e-04,\n",
       "         -4.60027508e-03, -1.82820205e-03, -2.82723533e-05,\n",
       "         -1.32046978e-04,  2.81031543e-03, -2.40337297e-03,\n",
       "         -2.75763519e-03],\n",
       "        [ 3.22711941e-03,  5.37896565e-03,  6.48750671e-04,\n",
       "         -4.65164025e-03, -1.77530765e-03,  3.09706323e-04,\n",
       "         -1.09141460e-04,  2.91549330e-03, -2.69986550e-03,\n",
       "         -2.62580986e-03],\n",
       "        [ 3.33741273e-03,  5.31872974e-03,  5.28146877e-04,\n",
       "         -4.82485355e-03, -1.93300341e-03,  2.90533215e-04,\n",
       "         -7.94995003e-05,  2.99499089e-03, -2.57965571e-03,\n",
       "         -2.85569566e-03],\n",
       "        [ 2.91627245e-03,  5.15705022e-03,  3.79158678e-04,\n",
       "         -4.85302774e-03, -1.83153450e-03, -1.63580296e-04,\n",
       "         -3.95376532e-05,  2.90219834e-03, -2.32841376e-03,\n",
       "         -2.70401074e-03],\n",
       "        [ 2.87889002e-03,  4.85043977e-03,  3.88418293e-04,\n",
       "         -4.58938338e-03, -1.58237306e-03,  2.17591030e-04,\n",
       "          7.73188447e-05,  2.81958446e-03, -2.46763847e-03,\n",
       "         -2.64362082e-03],\n",
       "        [ 3.20785777e-03,  5.33692774e-03,  4.55042546e-04,\n",
       "         -4.50163093e-03, -1.84168893e-03, -3.51606388e-05,\n",
       "         -3.77191611e-06,  2.97968832e-03, -2.22865374e-03,\n",
       "         -2.92256527e-03],\n",
       "        [ 2.79617950e-03,  4.61424154e-03,  4.68471448e-04,\n",
       "         -4.03457033e-03, -1.65150627e-03, -3.32024150e-04,\n",
       "         -1.64531464e-04,  2.57685105e-03, -2.11426055e-03,\n",
       "         -2.45432858e-03],\n",
       "        [ 2.76527715e-03,  4.59529499e-03,  6.52825456e-04,\n",
       "         -4.31497792e-03, -1.62761285e-03,  5.13253440e-06,\n",
       "         -1.19093890e-04,  2.45409996e-03, -1.91736024e-03,\n",
       "         -2.22979498e-03],\n",
       "        [ 3.38148375e-03,  5.37711948e-03,  6.39461462e-04,\n",
       "         -5.00035853e-03, -2.05805492e-03, -5.82294746e-05,\n",
       "         -1.46342600e-04,  3.25620533e-03, -2.59639645e-03,\n",
       "         -2.71661204e-03],\n",
       "        [ 3.18614756e-03,  4.84022454e-03,  4.83433666e-04,\n",
       "         -4.53640340e-03, -1.74747271e-03,  8.31169444e-05,\n",
       "         -1.84966602e-04,  3.01218510e-03, -2.31435450e-03,\n",
       "         -2.57516213e-03],\n",
       "        [ 3.37680156e-03,  5.33986434e-03,  4.14337791e-04,\n",
       "         -4.56711696e-03, -1.78729739e-03, -1.12597007e-04,\n",
       "          1.20102222e-04,  3.05973405e-03, -2.17166789e-03,\n",
       "         -2.68202420e-03],\n",
       "        [ 2.90762390e-03,  5.19238551e-03,  2.20318590e-04,\n",
       "         -4.49665439e-03, -1.65056122e-03,  5.48618573e-05,\n",
       "          2.04894164e-04,  2.81607136e-03, -2.32876314e-03,\n",
       "         -3.13273489e-03],\n",
       "        [ 2.92997182e-03,  5.24909950e-03,  4.46209221e-04,\n",
       "         -4.75092367e-03, -1.40780955e-03, -2.70704348e-04,\n",
       "         -1.89173868e-04,  2.76142529e-03, -2.40010991e-03,\n",
       "         -2.70763490e-03],\n",
       "        [ 3.46326495e-03,  5.93461426e-03,  4.12709547e-04,\n",
       "         -5.62116703e-03, -2.29447874e-03,  1.34772549e-05,\n",
       "         -2.06629416e-04,  3.12997528e-03, -2.95948016e-03,\n",
       "         -2.86519629e-03],\n",
       "        [ 3.30009197e-03,  5.04082397e-03,  8.12905583e-04,\n",
       "         -4.81940013e-03, -2.04138466e-03, -1.29843869e-04,\n",
       "         -1.46787578e-04,  2.92285726e-03, -2.50692878e-03,\n",
       "         -2.58377302e-03],\n",
       "        [ 2.97609702e-03,  4.27240433e-03,  4.09320862e-04,\n",
       "         -4.06095978e-03, -1.54110037e-03,  6.82742041e-05,\n",
       "         -2.87879232e-05,  2.75896429e-03, -2.01441292e-03,\n",
       "         -2.37109038e-03],\n",
       "        [ 2.69613562e-03,  4.46664462e-03,  5.97373138e-04,\n",
       "         -3.80911100e-03, -1.37936510e-03, -6.58657839e-05,\n",
       "         -3.45337625e-05,  2.43002169e-03, -2.11701881e-03,\n",
       "         -2.35324041e-03],\n",
       "        [ 2.87558574e-03,  4.98374668e-03,  5.03885111e-04,\n",
       "         -4.44135068e-03, -1.81578240e-03,  4.66180694e-05,\n",
       "          1.05577698e-04,  2.67387822e-03, -2.23539448e-03,\n",
       "         -2.58266940e-03],\n",
       "        [ 3.01235225e-03,  5.30925547e-03,  3.52168605e-04,\n",
       "         -4.73378822e-03, -1.96518464e-03,  3.33835004e-05,\n",
       "          9.89390259e-05,  2.74503670e-03, -2.49705963e-03,\n",
       "         -2.91838049e-03],\n",
       "        [ 3.17332113e-03,  5.50356230e-03,  6.62568524e-04,\n",
       "         -4.86944508e-03, -1.79374513e-03,  2.25998598e-04,\n",
       "          1.77820425e-06,  3.28386324e-03, -2.36656874e-03,\n",
       "         -2.82229536e-03],\n",
       "        [ 2.76330958e-03,  4.80780532e-03,  3.97195414e-04,\n",
       "         -4.34267491e-03, -1.57574682e-03,  5.36677902e-05,\n",
       "         -9.66873870e-05,  2.80650603e-03, -2.21085294e-03,\n",
       "         -2.44149856e-03],\n",
       "        [ 2.82191923e-03,  4.72074383e-03,  3.49321247e-04,\n",
       "         -4.46921057e-03, -1.70997577e-03, -2.59439048e-05,\n",
       "         -1.28812623e-04,  2.82477689e-03, -2.21681837e-03,\n",
       "         -2.79447026e-03]]),\n",
       " 'b1': array([-1.73871939e-05,  4.28399360e-05, -7.37138350e-06,  3.21381322e-05,\n",
       "         8.62402771e-05,  1.43730716e-05, -3.82311427e-05, -5.06717512e-05,\n",
       "        -4.06920719e-06, -7.83000331e-06, -6.04715922e-05, -3.76683573e-05,\n",
       "        -5.05069764e-05, -1.53654867e-06, -3.27400329e-06,  2.42766518e-05,\n",
       "         4.10746992e-06,  4.41854553e-05, -7.29805549e-06, -2.76834555e-06,\n",
       "         2.75873191e-05,  4.12973833e-05,  3.97321287e-05,  1.16683907e-05,\n",
       "        -2.29794139e-05, -4.20990176e-05, -2.16044782e-05, -6.74140921e-05,\n",
       "        -5.98165428e-05,  4.89850649e-05,  1.49684460e-04, -1.03721831e-05,\n",
       "        -5.96480376e-05, -4.39641923e-05,  5.01405495e-05,  6.41912834e-05,\n",
       "         4.73999506e-06, -1.32423850e-05,  6.06232931e-05,  5.47334622e-06,\n",
       "         2.40898856e-06,  2.19421281e-05, -4.04304146e-05,  6.08702422e-05,\n",
       "        -1.91570493e-05, -2.75910850e-06,  4.75861484e-05, -1.11959508e-05,\n",
       "        -1.96886063e-05,  9.77490089e-05,  9.31963484e-05, -5.90579319e-05,\n",
       "         2.06983941e-05, -5.26164357e-05,  5.29462341e-05,  2.24794761e-05,\n",
       "        -3.87980847e-05,  2.74954104e-05, -4.30221192e-05, -3.98207334e-05,\n",
       "         1.87624138e-05,  3.83995413e-05, -3.39348105e-05,  3.21545457e-05,\n",
       "        -4.21594137e-05,  2.70958367e-05,  4.93280083e-05,  1.13048415e-05,\n",
       "        -1.99640127e-05, -4.62219774e-05,  5.90908655e-06, -6.13867712e-05,\n",
       "         1.04209654e-04,  5.52671864e-05, -1.85707094e-05,  4.80724793e-05,\n",
       "        -4.14161150e-05, -7.37625072e-06,  2.90354762e-05,  7.43146344e-05,\n",
       "        -8.19227353e-06,  6.72527278e-05, -1.01321973e-05,  2.55952415e-05,\n",
       "         2.24902408e-05,  9.19619936e-07, -5.33303890e-05, -6.72074307e-05,\n",
       "        -3.01256264e-05, -7.30737426e-05, -8.74223360e-06,  8.88853435e-07,\n",
       "        -5.66656411e-05,  8.19499135e-05,  2.95465696e-05, -2.62877720e-05,\n",
       "         5.39755263e-05,  2.22524221e-05, -3.36077122e-05,  7.96915955e-05]),\n",
       " 'b2': array([-1.73871939e-05,  4.28399360e-05, -7.37138350e-06,  3.21381322e-05,\n",
       "         8.62402771e-05,  1.43730716e-05, -3.82311427e-05, -5.06717512e-05,\n",
       "        -4.06920719e-06, -7.83000331e-06, -6.04715922e-05, -3.76683573e-05,\n",
       "        -5.05069764e-05, -1.53654867e-06, -3.27400329e-06,  2.42766518e-05,\n",
       "         4.10746992e-06,  4.41854553e-05, -7.29805549e-06, -2.76834555e-06,\n",
       "         2.75873191e-05,  4.12973833e-05,  3.97321287e-05,  1.16683907e-05,\n",
       "        -2.29794139e-05, -4.20990176e-05, -2.16044782e-05, -6.74140921e-05,\n",
       "        -5.98165428e-05,  4.89850649e-05,  1.49684460e-04, -1.03721831e-05,\n",
       "        -5.96480376e-05, -4.39641923e-05,  5.01405495e-05,  6.41912834e-05,\n",
       "         4.73999506e-06, -1.32423850e-05,  6.06232931e-05,  5.47334622e-06,\n",
       "         2.40898856e-06,  2.19421281e-05, -4.04304146e-05,  6.08702422e-05,\n",
       "        -1.91570493e-05, -2.75910850e-06,  4.75861484e-05, -1.11959508e-05,\n",
       "        -1.96886063e-05,  9.77490089e-05,  9.31963484e-05, -5.90579319e-05,\n",
       "         2.06983941e-05, -5.26164357e-05,  5.29462341e-05,  2.24794761e-05,\n",
       "        -3.87980847e-05,  2.74954104e-05, -4.30221192e-05, -3.98207334e-05,\n",
       "         1.87624138e-05,  3.83995413e-05, -3.39348105e-05,  3.21545457e-05,\n",
       "        -4.21594137e-05,  2.70958367e-05,  4.93280083e-05,  1.13048415e-05,\n",
       "        -1.99640127e-05, -4.62219774e-05,  5.90908655e-06, -6.13867712e-05,\n",
       "         1.04209654e-04,  5.52671864e-05, -1.85707094e-05,  4.80724793e-05,\n",
       "        -4.14161150e-05, -7.37625072e-06,  2.90354762e-05,  7.43146344e-05,\n",
       "        -8.19227353e-06,  6.72527278e-05, -1.01321973e-05,  2.55952415e-05,\n",
       "         2.24902408e-05,  9.19619936e-07, -5.33303890e-05, -6.72074307e-05,\n",
       "        -3.01256264e-05, -7.30737426e-05, -8.74223360e-06,  8.88853435e-07,\n",
       "        -5.66656411e-05,  8.19499135e-05,  2.95465696e-05, -2.62877720e-05,\n",
       "         5.39755263e-05,  2.22524221e-05, -3.36077122e-05,  7.96915955e-05])}"
      ]
     },
     "execution_count": 132,
     "metadata": {},
     "output_type": "execute_result"
    }
   ],
   "source": [
    "%time\n",
    "gards = net.numerical_gradient(x,t)\n",
    "gards"
   ]
  },
  {
   "cell_type": "markdown",
   "metadata": {},
   "source": [
    "## 執行小批次學習"
   ]
  },
  {
   "cell_type": "code",
   "execution_count": 131,
   "metadata": {},
   "outputs": [
    {
     "data": {
      "text/plain": [
       "{'W1': array([[ 3.96943168e-05,  2.65811455e-04, -2.07106930e-03, ...,\n",
       "         -1.68227579e-03, -1.46975585e-03,  1.97589136e-03],\n",
       "        [ 3.02439888e-05,  2.80991004e-04, -2.11397352e-03, ...,\n",
       "         -1.65866764e-03, -1.44191173e-03,  1.89394567e-03],\n",
       "        [ 4.80666745e-05,  3.89544991e-04, -2.24893973e-03, ...,\n",
       "         -1.62999128e-03, -1.53731220e-03,  2.12651090e-03],\n",
       "        ...,\n",
       "        [ 1.20072459e-06,  4.60504606e-04, -2.31594835e-03, ...,\n",
       "         -1.72337192e-03, -1.66112567e-03,  2.12767889e-03],\n",
       "        [ 4.13308893e-05,  3.45733676e-04, -2.35789668e-03, ...,\n",
       "         -1.87625791e-03, -1.61333643e-03,  2.18701532e-03],\n",
       "        [ 7.45120805e-06,  3.12423669e-04, -2.15619644e-03, ...,\n",
       "         -1.70001652e-03, -1.44196046e-03,  1.97910400e-03]]),\n",
       " 'W2': array([[-0.2212197 , -0.22003496, -0.23655291, -0.25662745, -0.24141125,\n",
       "         -0.23457678, -0.23696842, -0.22688089, -0.24233266, -0.24323878],\n",
       "        [-0.22334808, -0.22314552, -0.23858839, -0.25947246, -0.24396737,\n",
       "         -0.2378377 , -0.2404498 , -0.2290042 , -0.24583127, -0.24492681],\n",
       "        [-0.24684603, -0.24404485, -0.26062617, -0.28399864, -0.26711931,\n",
       "         -0.26115515, -0.26298955, -0.25088355, -0.26806105, -0.2689741 ],\n",
       "        [-0.22554757, -0.22496711, -0.23945936, -0.26075948, -0.2458427 ,\n",
       "         -0.23835584, -0.24064736, -0.22951793, -0.24655463, -0.24754813],\n",
       "        [-0.23802976, -0.23818102, -0.25437092, -0.27459034, -0.25968402,\n",
       "         -0.25279853, -0.25488305, -0.24451691, -0.2603321 , -0.26102122],\n",
       "        [-0.23912171, -0.23678171, -0.25404104, -0.27615335, -0.26009079,\n",
       "         -0.25257026, -0.25606151, -0.24395757, -0.26145172, -0.26163106],\n",
       "        [-0.20443976, -0.20422589, -0.21783154, -0.23494685, -0.22394512,\n",
       "         -0.21720676, -0.21837232, -0.20978974, -0.22238945, -0.22510767],\n",
       "        [-0.23051084, -0.22931915, -0.24541704, -0.26629617, -0.25197646,\n",
       "         -0.24463644, -0.24804172, -0.23652348, -0.2524781 , -0.25266405],\n",
       "        [-0.25128142, -0.25071327, -0.26947927, -0.2918148 , -0.27430492,\n",
       "         -0.26834028, -0.27014123, -0.25763777, -0.27607775, -0.27628956],\n",
       "        [-0.23425983, -0.23226529, -0.24875262, -0.269982  , -0.25465093,\n",
       "         -0.24737438, -0.24907343, -0.23857212, -0.25589537, -0.25621728],\n",
       "        [-0.23955305, -0.23747846, -0.25475581, -0.27783632, -0.26106084,\n",
       "         -0.25437367, -0.25674874, -0.24505488, -0.26368264, -0.26198788],\n",
       "        [-0.23339791, -0.23175056, -0.2494243 , -0.26938857, -0.25413363,\n",
       "         -0.24870165, -0.249919  , -0.23952446, -0.2554409 , -0.25554153],\n",
       "        [-0.22485881, -0.2245449 , -0.24078403, -0.26058831, -0.24594025,\n",
       "         -0.23930488, -0.24145052, -0.22981371, -0.24841518, -0.247779  ],\n",
       "        [-0.22900683, -0.22763139, -0.24383633, -0.26530983, -0.24908559,\n",
       "         -0.24372269, -0.24439523, -0.23468052, -0.25072617, -0.25109124],\n",
       "        [-0.24697769, -0.24556057, -0.26377494, -0.28420295, -0.26839412,\n",
       "         -0.26241085, -0.26339994, -0.25185686, -0.26942732, -0.27174058],\n",
       "        [-0.22753978, -0.22554121, -0.24092135, -0.26190767, -0.24688904,\n",
       "         -0.24040661, -0.24223269, -0.2318933 , -0.24741439, -0.24822074],\n",
       "        [-0.22539516, -0.22503949, -0.24082475, -0.26069165, -0.24596915,\n",
       "         -0.24016665, -0.24201582, -0.23110617, -0.2464571 , -0.2468909 ],\n",
       "        [-0.25987626, -0.25843814, -0.27687922, -0.30115402, -0.28275511,\n",
       "         -0.2758355 , -0.2791364 , -0.26640802, -0.28531958, -0.28437836],\n",
       "        [-0.24325497, -0.2422691 , -0.25933982, -0.28116823, -0.26518412,\n",
       "         -0.25783341, -0.26028329, -0.2485101 , -0.26708562, -0.26688391],\n",
       "        [-0.21784221, -0.21594072, -0.23134718, -0.25130444, -0.23681631,\n",
       "         -0.23005904, -0.23289961, -0.22289612, -0.2374623 , -0.23861735],\n",
       "        [-0.24449908, -0.24226556, -0.25940881, -0.28193269, -0.26568163,\n",
       "         -0.25831135, -0.25976583, -0.24891697, -0.26641668, -0.268051  ],\n",
       "        [-0.19864101, -0.19785106, -0.21195342, -0.22909313, -0.2167072 ,\n",
       "         -0.21031902, -0.21294055, -0.20354189, -0.21643586, -0.21677341],\n",
       "        [-0.26404314, -0.2603769 , -0.2802433 , -0.30393395, -0.28654327,\n",
       "         -0.27934143, -0.28161953, -0.26873798, -0.28814872, -0.28835416],\n",
       "        [-0.2323695 , -0.23093116, -0.24722024, -0.26904021, -0.25328423,\n",
       "         -0.24715479, -0.24908972, -0.23638376, -0.25514783, -0.25407923],\n",
       "        [-0.22672785, -0.22483038, -0.24163155, -0.2616186 , -0.24615976,\n",
       "         -0.24023596, -0.24237003, -0.23133401, -0.24758991, -0.24793198],\n",
       "        [-0.2273683 , -0.22593776, -0.24280275, -0.26318481, -0.2481565 ,\n",
       "         -0.24081528, -0.24250728, -0.23279673, -0.24879516, -0.24963392],\n",
       "        [-0.25182938, -0.25028465, -0.26686237, -0.29090038, -0.27342953,\n",
       "         -0.26738425, -0.26932381, -0.25704694, -0.2753496 , -0.27574052],\n",
       "        [-0.22556509, -0.22474488, -0.24050808, -0.26130373, -0.24511247,\n",
       "         -0.24022829, -0.24176144, -0.23154302, -0.24735909, -0.24778931],\n",
       "        [-0.20846135, -0.20727074, -0.22223763, -0.24196789, -0.22679091,\n",
       "         -0.22139204, -0.22427345, -0.21378718, -0.22791933, -0.22900928],\n",
       "        [-0.2665803 , -0.2641561 , -0.28324181, -0.30784234, -0.2907648 ,\n",
       "         -0.28335675, -0.28552693, -0.27227066, -0.29218114, -0.29118462],\n",
       "        [-0.24432659, -0.2412742 , -0.25867855, -0.28136222, -0.2658217 ,\n",
       "         -0.25822673, -0.26054895, -0.24918876, -0.26726322, -0.26695647],\n",
       "        [-0.24637308, -0.24346224, -0.26023818, -0.28359239, -0.26734265,\n",
       "         -0.26109043, -0.26288997, -0.25057022, -0.26873783, -0.26782215],\n",
       "        [-0.22852045, -0.22653872, -0.24366459, -0.26305437, -0.24800453,\n",
       "         -0.24214752, -0.24456775, -0.23408326, -0.25082646, -0.25031562],\n",
       "        [-0.23517063, -0.23393724, -0.25123016, -0.27345298, -0.25563822,\n",
       "         -0.24981012, -0.25189273, -0.23995455, -0.25784796, -0.25843797],\n",
       "        [-0.26207728, -0.26044436, -0.27870549, -0.30320164, -0.28499843,\n",
       "         -0.27739149, -0.28106613, -0.2674477 , -0.28623505, -0.28666888],\n",
       "        [-0.21649016, -0.21440106, -0.22973855, -0.25056612, -0.23444603,\n",
       "         -0.2287901 , -0.23236633, -0.22071412, -0.23715789, -0.23602233],\n",
       "        [-0.24696324, -0.24612323, -0.262905  , -0.28503936, -0.26881386,\n",
       "         -0.26187884, -0.26475424, -0.25303456, -0.27027768, -0.27083533],\n",
       "        [-0.22050821, -0.21926903, -0.23423209, -0.25384749, -0.23903317,\n",
       "         -0.23369615, -0.23537754, -0.22428861, -0.24065192, -0.24126328],\n",
       "        [-0.23184891, -0.23057882, -0.24692846, -0.2688085 , -0.25240464,\n",
       "         -0.24591633, -0.24862144, -0.23737552, -0.25489384, -0.25461314],\n",
       "        [-0.21559346, -0.21322593, -0.22876145, -0.24988209, -0.23420475,\n",
       "         -0.22915627, -0.23035468, -0.21990588, -0.23567679, -0.23499325],\n",
       "        [-0.22566401, -0.22457738, -0.24019287, -0.26121599, -0.24552699,\n",
       "         -0.2388098 , -0.24078737, -0.23075728, -0.24705654, -0.24694651],\n",
       "        [-0.24432456, -0.24358517, -0.26090562, -0.28227146, -0.265448  ,\n",
       "         -0.25894606, -0.26261079, -0.24996367, -0.26730396, -0.26711666],\n",
       "        [-0.23080569, -0.22939009, -0.24446661, -0.26576321, -0.25020302,\n",
       "         -0.2449699 , -0.24639797, -0.23478226, -0.25218108, -0.25239662],\n",
       "        [-0.20914651, -0.20668956, -0.22203217, -0.23900336, -0.22608722,\n",
       "         -0.22141394, -0.22306907, -0.21309001, -0.22685283, -0.22767746],\n",
       "        [-0.1962207 , -0.19482907, -0.2095711 , -0.22843419, -0.21494649,\n",
       "         -0.20993648, -0.21090487, -0.20106339, -0.2168766 , -0.21599499],\n",
       "        [-0.24486082, -0.2422288 , -0.26150625, -0.28357402, -0.26641131,\n",
       "         -0.25993835, -0.26247374, -0.25058522, -0.26799835, -0.26788797],\n",
       "        [-0.2388461 , -0.23663266, -0.25364366, -0.27551469, -0.25950141,\n",
       "         -0.25162341, -0.25557242, -0.24251982, -0.260524  , -0.26191546],\n",
       "        [-0.25424312, -0.25174872, -0.27171178, -0.29338648, -0.27743862,\n",
       "         -0.27085432, -0.27359571, -0.26160996, -0.28000629, -0.2795404 ],\n",
       "        [-0.24637661, -0.24434052, -0.26146018, -0.28346785, -0.266729  ,\n",
       "         -0.26132194, -0.26336284, -0.25242828, -0.26810972, -0.26931378],\n",
       "        [-0.24287262, -0.24053369, -0.25799765, -0.28022168, -0.26222896,\n",
       "         -0.25665682, -0.25949018, -0.24678719, -0.26586106, -0.26540333],\n",
       "        [-0.23218041, -0.23023159, -0.24544047, -0.26732033, -0.25131069,\n",
       "         -0.24658038, -0.24735358, -0.23598447, -0.25252457, -0.25407919],\n",
       "        [-0.24075496, -0.23866488, -0.256765  , -0.27700191, -0.26261069,\n",
       "         -0.25645506, -0.25781223, -0.2463489 , -0.26270429, -0.263787  ],\n",
       "        [-0.2369109 , -0.2359597 , -0.25228741, -0.27450757, -0.25854453,\n",
       "         -0.2511116 , -0.25326611, -0.24277756, -0.25848883, -0.25984841],\n",
       "        [-0.24191112, -0.24162144, -0.25814142, -0.27971459, -0.26297544,\n",
       "         -0.25730209, -0.25998824, -0.24751137, -0.26515587, -0.26422171],\n",
       "        [-0.2211694 , -0.22033649, -0.23596386, -0.25565219, -0.2415612 ,\n",
       "         -0.23495021, -0.23724948, -0.22695022, -0.24295857, -0.24258306],\n",
       "        [-0.19862607, -0.19630927, -0.21131809, -0.22972183, -0.21587648,\n",
       "         -0.21116909, -0.21355964, -0.203752  , -0.21833805, -0.21788835],\n",
       "        [-0.23737308, -0.23661452, -0.25423809, -0.27646341, -0.25995167,\n",
       "         -0.25431331, -0.25658921, -0.24392563, -0.26237636, -0.26118706],\n",
       "        [-0.2146169 , -0.21327405, -0.22800784, -0.24822975, -0.23447675,\n",
       "         -0.22821129, -0.23060612, -0.21979299, -0.23546457, -0.23470807],\n",
       "        [-0.26392985, -0.26299531, -0.27978305, -0.30596247, -0.28770125,\n",
       "         -0.2810694 , -0.28232261, -0.26986113, -0.28951854, -0.2889411 ],\n",
       "        [-0.23035244, -0.22911501, -0.24642805, -0.26574157, -0.25041933,\n",
       "         -0.24484981, -0.24690951, -0.23674161, -0.25261953, -0.25229846],\n",
       "        [-0.22502783, -0.22480902, -0.23971841, -0.26101679, -0.24483118,\n",
       "         -0.23999238, -0.24095772, -0.23110668, -0.2465825 , -0.24645989],\n",
       "        [-0.21151946, -0.20882467, -0.22425086, -0.24434422, -0.22908829,\n",
       "         -0.2224991 , -0.22452357, -0.21390612, -0.23006372, -0.23152621],\n",
       "        [-0.25469203, -0.25259411, -0.27143128, -0.29530989, -0.27799693,\n",
       "         -0.27139192, -0.27408645, -0.26026502, -0.27785478, -0.27856129],\n",
       "        [-0.23657289, -0.23447937, -0.25163081, -0.27306479, -0.25784561,\n",
       "         -0.25105868, -0.25361196, -0.24079918, -0.25774239, -0.25918099],\n",
       "        [-0.23831561, -0.23726574, -0.25444307, -0.27583523, -0.25931052,\n",
       "         -0.25364947, -0.25477079, -0.24349937, -0.26151627, -0.26100358],\n",
       "        [-0.22843635, -0.22686054, -0.24134158, -0.26367888, -0.24809643,\n",
       "         -0.24218552, -0.24503978, -0.23204265, -0.25001943, -0.24920188],\n",
       "        [-0.24976689, -0.24760857, -0.26507514, -0.2886181 , -0.27140208,\n",
       "         -0.26494377, -0.26755315, -0.25597993, -0.27358506, -0.27279718],\n",
       "        [-0.25148534, -0.25065652, -0.26687331, -0.28997335, -0.27351615,\n",
       "         -0.26671394, -0.26855511, -0.25731733, -0.27592395, -0.27612015],\n",
       "        [-0.22160311, -0.22031884, -0.23626153, -0.25618037, -0.24148872,\n",
       "         -0.2365224 , -0.23782039, -0.22651402, -0.24232768, -0.24420299],\n",
       "        [-0.23048565, -0.2278936 , -0.24439315, -0.26682437, -0.25022681,\n",
       "         -0.24418382, -0.24613353, -0.23384978, -0.2526457 , -0.25248936],\n",
       "        [-0.24077206, -0.23866403, -0.25620182, -0.27716263, -0.26106379,\n",
       "         -0.25488493, -0.25667503, -0.24477263, -0.26286289, -0.26334738],\n",
       "        [-0.23705915, -0.23608514, -0.25321916, -0.27433201, -0.25860736,\n",
       "         -0.25195154, -0.25529601, -0.24357486, -0.26055177, -0.25950675],\n",
       "        [-0.24290199, -0.24135568, -0.25842638, -0.28024047, -0.26363614,\n",
       "         -0.25929177, -0.26046261, -0.2495031 , -0.26611331, -0.26623655],\n",
       "        [-0.2368929 , -0.23463444, -0.25221616, -0.27261535, -0.25772798,\n",
       "         -0.25163151, -0.25292546, -0.24191329, -0.25867738, -0.25880222],\n",
       "        [-0.23834285, -0.23426845, -0.25384335, -0.27504529, -0.25861665,\n",
       "         -0.25354425, -0.25528975, -0.24398018, -0.26072964, -0.26084732],\n",
       "        [-0.22618252, -0.22404276, -0.24086716, -0.26157802, -0.24683297,\n",
       "         -0.24175774, -0.24323109, -0.23180002, -0.24744189, -0.2469766 ],\n",
       "        [-0.23053942, -0.22841587, -0.24506636, -0.26644182, -0.24945259,\n",
       "         -0.24425094, -0.24613573, -0.23514666, -0.25092305, -0.25161392],\n",
       "        [-0.22486656, -0.22309979, -0.2387669 , -0.25785316, -0.24361737,\n",
       "         -0.23890041, -0.23966355, -0.23037495, -0.24526512, -0.24598989],\n",
       "        [-0.23336247, -0.23072771, -0.24807123, -0.2682597 , -0.25330022,\n",
       "         -0.24724913, -0.2493293 , -0.23840049, -0.25458183, -0.25500019],\n",
       "        [-0.23271881, -0.23064958, -0.24750841, -0.26875253, -0.25337167,\n",
       "         -0.24618279, -0.24952488, -0.238267  , -0.25605169, -0.25475327],\n",
       "        [-0.24178689, -0.24065528, -0.25767323, -0.27912992, -0.26353805,\n",
       "         -0.25583759, -0.25904811, -0.2476249 , -0.26506492, -0.26512986],\n",
       "        [-0.23586751, -0.23349539, -0.25052733, -0.27149917, -0.25550838,\n",
       "         -0.24999533, -0.25117924, -0.24025978, -0.25646753, -0.25696246],\n",
       "        [-0.22219185, -0.2205297 , -0.23641448, -0.25636652, -0.24065051,\n",
       "         -0.23454519, -0.23669148, -0.2265237 , -0.24322224, -0.24297377],\n",
       "        [-0.23871412, -0.2368947 , -0.25430926, -0.27418079, -0.25957226,\n",
       "         -0.25352467, -0.25510375, -0.24403281, -0.26007405, -0.26182643],\n",
       "        [-0.20570358, -0.20420542, -0.21896605, -0.23701617, -0.22406297,\n",
       "         -0.21980127, -0.22060053, -0.21037945, -0.22501166, -0.22548994],\n",
       "        [-0.20937431, -0.20792275, -0.2218387 , -0.24175105, -0.22752315,\n",
       "         -0.22202435, -0.22401661, -0.21447837, -0.22776616, -0.22811653],\n",
       "        [-0.24559867, -0.24451612, -0.2612892 , -0.28389462, -0.26803742,\n",
       "         -0.26125244, -0.263361  , -0.25063948, -0.26911364, -0.26853912],\n",
       "        [-0.21907343, -0.21863156, -0.23411077, -0.25423258, -0.23941717,\n",
       "         -0.23318133, -0.23582597, -0.22383054, -0.24072299, -0.24082277],\n",
       "        [-0.22817508, -0.22675851, -0.24443124, -0.26439922, -0.24946841,\n",
       "         -0.24389967, -0.2446094 , -0.23367728, -0.2500019 , -0.25105873],\n",
       "        [-0.22707145, -0.22428953, -0.24217364, -0.26108337, -0.24593303,\n",
       "         -0.24022632, -0.24124755, -0.23161915, -0.2476536 , -0.24989811],\n",
       "        [-0.22508128, -0.22210729, -0.2393317 , -0.26016227, -0.24305203,\n",
       "         -0.23961395, -0.24089342, -0.22990244, -0.2460377 , -0.24630518],\n",
       "        [-0.26459056, -0.26212087, -0.28187014, -0.30605432, -0.28835406,\n",
       "         -0.28042554, -0.28319449, -0.27080217, -0.28985607, -0.28834497],\n",
       "        [-0.24190083, -0.24173091, -0.25649694, -0.27907345, -0.2639355 ,\n",
       "         -0.25748423, -0.25928141, -0.24787741, -0.26473676, -0.26400584],\n",
       "        [-0.20231029, -0.20283102, -0.21648161, -0.23440022, -0.22094183,\n",
       "         -0.21550689, -0.21734757, -0.20693144, -0.22194543, -0.22249926],\n",
       "        [-0.19768035, -0.19615022, -0.20987521, -0.22753826, -0.21453122,\n",
       "         -0.21025203, -0.21154128, -0.20239772, -0.21661538, -0.21671121],\n",
       "        [-0.22504982, -0.22291553, -0.23884801, -0.2586698 , -0.24443591,\n",
       "         -0.23809383, -0.23946322, -0.22999959, -0.24513009, -0.24555758],\n",
       "        [-0.23794402, -0.23541188, -0.25314124, -0.27352797, -0.25850852,\n",
       "         -0.25168474, -0.25311964, -0.24338986, -0.25959742, -0.26026585],\n",
       "        [-0.24342695, -0.24092573, -0.25813753, -0.28031158, -0.2639683 ,\n",
       "         -0.25708789, -0.25972282, -0.24747186, -0.26519401, -0.26597447],\n",
       "        [-0.2147832 , -0.21261933, -0.22836464, -0.24736364, -0.23273231,\n",
       "         -0.22727276, -0.22940577, -0.2185668 , -0.23433484, -0.23433748],\n",
       "        [-0.2238691 , -0.22253764, -0.23804441, -0.25735996, -0.24261322,\n",
       "         -0.23697877, -0.23898513, -0.22797527, -0.24366341, -0.24501697]]),\n",
       " 'b1': array([ 1.00254716e-04,  5.12658512e-04, -4.57375573e-03, -1.15967542e-03,\n",
       "        -7.06251087e-04, -2.76585562e-03, -3.22068839e-03,  2.00430659e-03,\n",
       "        -2.92968138e-03,  2.69460969e-03, -5.13850739e-03, -6.37148071e-03,\n",
       "        -9.33588135e-04,  4.28377165e-03,  3.24823314e-03, -2.45453653e-03,\n",
       "        -1.84559525e-03,  6.69239494e-03,  3.53194447e-03, -3.29888509e-05,\n",
       "        -1.92332877e-03,  6.75229340e-04, -5.09499189e-03, -4.23630645e-03,\n",
       "        -1.58489117e-03,  2.05835647e-03, -5.99333352e-03,  5.45987060e-03,\n",
       "        -2.57682814e-04,  3.35645870e-03, -6.93072608e-05,  3.35524158e-03,\n",
       "         4.60370547e-03,  1.63139878e-03,  1.37642093e-03, -8.33987684e-03,\n",
       "        -1.87487238e-03,  3.00662660e-03, -2.21650454e-03,  1.38966701e-03,\n",
       "        -3.27985499e-03, -2.46497047e-03, -1.14971659e-03,  2.74282351e-04,\n",
       "         5.27686507e-03, -6.61544030e-03, -2.91817381e-03, -4.41004597e-03,\n",
       "        -7.41560749e-03, -3.03120972e-03, -1.75443071e-03, -6.57531366e-04,\n",
       "         1.23834647e-03,  4.65718964e-03,  1.49848883e-04, -3.94461856e-03,\n",
       "         4.74251048e-03, -2.35635584e-03,  4.09822256e-04, -4.84800551e-03,\n",
       "         8.19766373e-03,  6.76678921e-03,  1.62009963e-03, -6.20935623e-03,\n",
       "         5.28850528e-03, -1.83544253e-03, -2.19925093e-03,  8.54248172e-04,\n",
       "        -1.40287789e-03, -1.66620960e-03, -4.42329858e-03,  5.47616333e-04,\n",
       "        -6.05535310e-04,  3.29735440e-03,  4.80180306e-03,  3.19228592e-04,\n",
       "         2.30082423e-03,  3.79892725e-03, -3.93584214e-03, -9.46172483e-04,\n",
       "        -4.58960789e-03,  2.04036169e-03, -5.49820273e-03,  1.09161290e-03,\n",
       "        -1.32060603e-04,  3.62369889e-03,  3.71385418e-03, -5.18960330e-05,\n",
       "        -9.57553856e-04,  4.77447827e-04,  8.14295964e-03,  3.25252337e-03,\n",
       "        -1.11261545e-03, -6.05701118e-03,  4.00704708e-04, -3.03821368e-04,\n",
       "         5.85079147e-04, -3.51707812e-03, -3.16582136e-03,  4.21807399e-03]),\n",
       " 'b2': array([-0.46362615, -0.46050954, -0.49347008, -0.53559725, -0.5044351 ,\n",
       "        -0.49226642, -0.49623248, -0.4739444 , -0.50717628, -0.50763851])}"
      ]
     },
     "execution_count": 131,
     "metadata": {},
     "output_type": "execute_result"
    }
   ],
   "source": [
    "gards = net.gradient(x,t)\n",
    "gards"
   ]
  },
  {
   "cell_type": "code",
   "execution_count": 217,
   "metadata": {},
   "outputs": [
    {
     "name": "stdout",
     "output_type": "stream",
     "text": [
      "(10000, 784)\n",
      "(10000, 10)\n",
      "(60000, 784)\n",
      "(60000, 10)\n"
     ]
    }
   ],
   "source": [
    "def fix(x_train,t_train,x_test,t_test):    \n",
    "    return x_train/255.0,one_hot_label(t_train,10),x_test/255.0,one_hot_label(t_test,10)\n",
    "#修改輸入的值 preprocessing\n",
    "(x_train,t_train,x_test,t_test) = load_data(10000)\n",
    "(x_train_aha,t_train_aha,x_test_aha,t_test_aha) = fix(x_train,t_train,x_test,t_test)\n",
    "print(x_train_aha.shape)\n",
    "print(t_train_aha.shape)\n",
    "print(x_test_aha.shape)\n",
    "print(t_test_aha.shape)"
   ]
  },
  {
   "cell_type": "code",
   "execution_count": 138,
   "metadata": {},
   "outputs": [],
   "source": [
    "#保存紀錄訓練狀況\n",
    "train_loss_list = []"
   ]
  },
  {
   "cell_type": "code",
   "execution_count": 143,
   "metadata": {},
   "outputs": [],
   "source": [
    "# meta parameter\n",
    "iters_num = 10000\n",
    "train_size = x_train.shape[0]\n",
    "batch_size = 100\n",
    "learning_rate = 0.1"
   ]
  },
  {
   "cell_type": "code",
   "execution_count": 222,
   "metadata": {},
   "outputs": [],
   "source": [
    "network = TwoLayerNet(input_size=784,hidden_size=50,output_size=10)"
   ]
  },
  {
   "cell_type": "code",
   "execution_count": 147,
   "metadata": {},
   "outputs": [],
   "source": [
    "for i in range(iters_num):\n",
    "    batch_mask = np.random.choice(train_size,batch_size)\n",
    "    x_batch = x_train_aha[batch_mask]\n",
    "    t_batch = t_train_aha[batch_mask]\n",
    "    \n",
    "    #計算梯度\n",
    "    #grad = network.numerical_gradient(x_batch,t_batch) 好慢啊\n",
    "    grad = network.gradient(x_batch,t_batch)\n",
    "    \n",
    "    for key in ('W1','b1','W2','b2'):\n",
    "        network.params[key] -= learning_rate * grad[key]\n",
    "    \n",
    "    loss = network.loss(x_batch,t_batch)\n",
    "    train_loss_list.append(loss)"
   ]
  },
  {
   "cell_type": "code",
   "execution_count": 152,
   "metadata": {},
   "outputs": [
    {
     "data": {
      "image/png": "[encoded data removed]",
      "text/plain": [
       "<matplotlib.figure.Figure at 0x13be51a20>"
      ]
     },
     "metadata": {},
     "output_type": "display_data"
    }
   ],
   "source": [
    "plt.plot(train_loss_list)\n",
    "plt.xlim(9990,10000)\n",
    "plt.show()"
   ]
  },
  {
   "cell_type": "markdown",
   "metadata": {},
   "source": [
    "## 用測試資料做評估\n",
    "epoch 定義為，假設每次小批次訓練為100, 整體資料數量為10000。那表示每使用100次小批次訓練就能看完所有資料集。這時候 1 epoch = 100\n"
   ]
  },
  {
   "cell_type": "code",
   "execution_count": 223,
   "metadata": {},
   "outputs": [],
   "source": [
    "train_acc_list = [] \n",
    "test_acc_list = []\n",
    "train_loss_list = []\n",
    "iter_per_epoch = max(train_size/batch_size,1)"
   ]
  },
  {
   "cell_type": "code",
   "execution_count": 224,
   "metadata": {},
   "outputs": [
    {
     "name": "stdout",
     "output_type": "stream",
     "text": [
      "train acc, test acc | 0.092300 , 0.089833\n",
      "train acc, test acc | 0.113600 , 0.112500\n",
      "train acc, test acc | 0.220900 , 0.215367\n",
      "train acc, test acc | 0.477600 , 0.482417\n",
      "train acc, test acc | 0.666200 , 0.669500\n",
      "train acc, test acc | 0.736500 , 0.737350\n",
      "train acc, test acc | 0.793800 , 0.793483\n",
      "train acc, test acc | 0.815400 , 0.820333\n",
      "train acc, test acc | 0.838100 , 0.842300\n",
      "train acc, test acc | 0.853000 , 0.855433\n",
      "train acc, test acc | 0.861700 , 0.864050\n",
      "train acc, test acc | 0.872600 , 0.872450\n",
      "train acc, test acc | 0.882100 , 0.878083\n",
      "train acc, test acc | 0.887200 , 0.883900\n",
      "train acc, test acc | 0.888600 , 0.886317\n",
      "train acc, test acc | 0.893600 , 0.888567\n",
      "train acc, test acc | 0.895900 , 0.892367\n",
      "train acc, test acc | 0.897300 , 0.893383\n",
      "train acc, test acc | 0.899400 , 0.896100\n",
      "train acc, test acc | 0.903300 , 0.898283\n",
      "train acc, test acc | 0.905200 , 0.899767\n",
      "train acc, test acc | 0.906800 , 0.902150\n",
      "train acc, test acc | 0.908800 , 0.903267\n",
      "train acc, test acc | 0.910600 , 0.905200\n",
      "train acc, test acc | 0.911800 , 0.905917\n",
      "train acc, test acc | 0.914100 , 0.905800\n",
      "train acc, test acc | 0.914200 , 0.907817\n",
      "train acc, test acc | 0.916800 , 0.907800\n",
      "train acc, test acc | 0.918500 , 0.909817\n",
      "train acc, test acc | 0.919800 , 0.910283\n",
      "train acc, test acc | 0.920500 , 0.911633\n",
      "train acc, test acc | 0.921400 , 0.912100\n",
      "train acc, test acc | 0.922800 , 0.913067\n",
      "train acc, test acc | 0.925000 , 0.914617\n",
      "train acc, test acc | 0.924900 , 0.914233\n",
      "train acc, test acc | 0.926700 , 0.914733\n",
      "train acc, test acc | 0.928300 , 0.915633\n",
      "train acc, test acc | 0.927500 , 0.916067\n",
      "train acc, test acc | 0.928000 , 0.916450\n",
      "train acc, test acc | 0.929700 , 0.916733\n",
      "train acc, test acc | 0.930800 , 0.918633\n",
      "train acc, test acc | 0.929500 , 0.917567\n",
      "train acc, test acc | 0.931800 , 0.919183\n",
      "train acc, test acc | 0.931700 , 0.919900\n",
      "train acc, test acc | 0.934200 , 0.920533\n",
      "train acc, test acc | 0.934200 , 0.920950\n",
      "train acc, test acc | 0.934200 , 0.921167\n",
      "train acc, test acc | 0.935800 , 0.921667\n",
      "train acc, test acc | 0.935300 , 0.922050\n",
      "train acc, test acc | 0.934900 , 0.921917\n",
      "train acc, test acc | 0.936200 , 0.922517\n",
      "train acc, test acc | 0.937500 , 0.922717\n",
      "train acc, test acc | 0.938100 , 0.923633\n",
      "train acc, test acc | 0.939200 , 0.922633\n",
      "train acc, test acc | 0.939500 , 0.924883\n",
      "train acc, test acc | 0.939800 , 0.924650\n",
      "train acc, test acc | 0.940600 , 0.924650\n",
      "train acc, test acc | 0.942200 , 0.924567\n",
      "train acc, test acc | 0.942200 , 0.925283\n",
      "train acc, test acc | 0.942300 , 0.925233\n",
      "train acc, test acc | 0.943700 , 0.925817\n",
      "train acc, test acc | 0.944000 , 0.926450\n",
      "train acc, test acc | 0.943500 , 0.926583\n",
      "train acc, test acc | 0.944300 , 0.926717\n",
      "train acc, test acc | 0.945200 , 0.927783\n",
      "train acc, test acc | 0.945800 , 0.928400\n",
      "train acc, test acc | 0.946300 , 0.928983\n",
      "train acc, test acc | 0.947700 , 0.928650\n",
      "train acc, test acc | 0.946700 , 0.928033\n",
      "train acc, test acc | 0.948100 , 0.929183\n",
      "train acc, test acc | 0.948800 , 0.929350\n",
      "train acc, test acc | 0.949000 , 0.929550\n",
      "train acc, test acc | 0.950200 , 0.930167\n",
      "train acc, test acc | 0.949800 , 0.929883\n",
      "train acc, test acc | 0.950500 , 0.929633\n",
      "train acc, test acc | 0.950800 , 0.930583\n",
      "train acc, test acc | 0.951700 , 0.930667\n",
      "train acc, test acc | 0.952400 , 0.931450\n",
      "train acc, test acc | 0.954100 , 0.930583\n",
      "train acc, test acc | 0.954000 , 0.932083\n",
      "train acc, test acc | 0.954200 , 0.932517\n",
      "train acc, test acc | 0.954800 , 0.932267\n",
      "train acc, test acc | 0.955700 , 0.932467\n",
      "train acc, test acc | 0.956700 , 0.932517\n",
      "train acc, test acc | 0.956200 , 0.932717\n",
      "train acc, test acc | 0.956900 , 0.932517\n",
      "train acc, test acc | 0.958300 , 0.932967\n",
      "train acc, test acc | 0.957400 , 0.933317\n",
      "train acc, test acc | 0.957500 , 0.933800\n",
      "train acc, test acc | 0.958700 , 0.934067\n",
      "train acc, test acc | 0.960000 , 0.934100\n",
      "train acc, test acc | 0.959800 , 0.933233\n",
      "train acc, test acc | 0.961000 , 0.934500\n",
      "train acc, test acc | 0.959800 , 0.934650\n",
      "train acc, test acc | 0.961000 , 0.934983\n",
      "train acc, test acc | 0.962400 , 0.935417\n",
      "train acc, test acc | 0.961800 , 0.935783\n",
      "train acc, test acc | 0.962400 , 0.935350\n",
      "train acc, test acc | 0.961900 , 0.935567\n",
      "train acc, test acc | 0.964400 , 0.936100\n"
     ]
    }
   ],
   "source": [
    "for i in range(iters_num):\n",
    "    batch_mask = np.random.choice(train_size,batch_size)\n",
    "    x_batch = x_train_aha[batch_mask]\n",
    "    t_batch = t_train_aha[batch_mask]\n",
    "    \n",
    "    #計算梯度\n",
    "    #grad = network.numerical_gradient(x_batch,t_batch) 好慢啊\n",
    "    grad = network.gradient(x_batch,t_batch)\n",
    "    \n",
    "    for key in ('W1','b1','W2','b2'):\n",
    "        network.params[key] -= learning_rate * grad[key]\n",
    "    \n",
    "    loss = network.loss(x_batch,t_batch)\n",
    "    train_loss_list.append(loss)\n",
    "    \n",
    "    if i % iter_per_epoch == 0 :\n",
    "        train_acc = network.accuracy(x_train_aha,t_train_aha)\n",
    "        test_acc = network.accuracy(x_test_aha,t_test_aha)\n",
    "        train_acc_list.append(train_acc)\n",
    "        test_acc_list.append(test_acc)\n",
    "        print(\"train acc, test acc | %f , %f\"%(train_acc,test_acc) )"
   ]
  },
  {
   "cell_type": "code",
   "execution_count": 225,
   "metadata": {},
   "outputs": [
    {
     "data": {
      "image/png": "[encoded data removed]",
      "text/plain": [
       "<matplotlib.figure.Figure at 0x1142c4f28>"
      ]
     },
     "metadata": {},
     "output_type": "display_data"
    }
   ],
   "source": [
    "#https://github.com/oreilly-japan/deep-learning-from-scratch/blob/master/ch04/train_neuralnet.py\n",
    "markers = {'train': 'o', 'test': 's'}\n",
    "x = np.arange(len(train_acc_list))\n",
    "plt.plot(x, train_acc_list, label='train acc')\n",
    "plt.plot(x, test_acc_list, label='test acc', linestyle='--')\n",
    "plt.xlabel(\"epochs\")\n",
    "plt.ylabel(\"accuracy\")\n",
    "plt.ylim(0, 1.0)\n",
    "plt.legend(loc='lower right')\n",
    "plt.show()"
   ]
  }
 ],
 "metadata": {
  "kernelspec": {
   "display_name": "Python 3",
   "language": "python",
   "name": "python3"
  },
  "language_info": {
   "codemirror_mode": {
    "name": "ipython",
    "version": 3
   },
   "file_extension": ".py",
   "mimetype": "text/x-python",
   "name": "python",
   "nbconvert_exporter": "python",
   "pygments_lexer": "ipython3",
   "version": "3.6.3"
  }
 },
 "nbformat": 4,
 "nbformat_minor": 2
}
