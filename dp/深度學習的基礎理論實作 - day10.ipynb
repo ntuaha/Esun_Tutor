{
 "cells": [
  {
   "cell_type": "markdown",
   "metadata": {},
   "source": [
    "20180304"
   ]
  },
  {
   "cell_type": "code",
   "execution_count": 1,
   "metadata": {},
   "outputs": [],
   "source": [
    "import pickle\n",
    "from Vision.TwoLayer import TwoLayerNet\n",
    "from Vision.util import *\n",
    "from PIL import Image\n",
    "import matplotlib.image as mpimg\n",
    "import matplotlib.pyplot as plt\n",
    "import numpy as np\n",
    "%matplotlib inline"
   ]
  },
  {
   "cell_type": "code",
   "execution_count": 2,
   "metadata": {},
   "outputs": [
    {
     "data": {
      "text/plain": [
       "array([4, 6])"
      ]
     },
     "execution_count": 2,
     "metadata": {},
     "output_type": "execute_result"
    }
   ],
   "source": [
    "test = np.array([[1,2],[3,4]])\n",
    "np.sum(test,axis=0)"
   ]
  },
  {
   "cell_type": "code",
   "execution_count": 3,
   "metadata": {},
   "outputs": [],
   "source": [
    "from Vision.Layers import *\n",
    "from sklearn import datasets\n",
    "from PIL import Image\n",
    "from collections import OrderedDict"
   ]
  },
  {
   "cell_type": "code",
   "execution_count": 4,
   "metadata": {},
   "outputs": [],
   "source": [
    "#取出資料集\n",
    "def load_data(size):\n",
    "    mnist = datasets.fetch_mldata('MNIST original')\n",
    "    s = mnist.data.shape[0]\n",
    "    c = np.zeros(s)\n",
    "    c[np.random.choice(s,size,replace=False)] = 1\n",
    "    #n_train = size\n",
    "    data_train = mnist.data[c==1]\n",
    "    target_train = mnist.target[c==1]\n",
    "    data_test = mnist.data[c==0]\n",
    "    target_test = mnist.target[c==0]\n",
    "    return (data_train.astype(np.float32), target_train.astype(np.float32),data_test.astype(np.float32), target_test.astype(np.float32))\n"
   ]
  },
  {
   "cell_type": "code",
   "execution_count": 5,
   "metadata": {},
   "outputs": [],
   "source": [
    "(x_train,t_train,x_test,t_test) = load_data(20000)"
   ]
  },
  {
   "cell_type": "code",
   "execution_count": 6,
   "metadata": {},
   "outputs": [],
   "source": [
    "def one_hot_label(y,size):\n",
    "    a = np.zeros([y.shape[0],size])\n",
    "    for i in range(y.shape[0]):\n",
    "        a[i,int(y[i])] = 1\n",
    "    #t = y.astype(np.int)\n",
    "    #a[:,t] = 1\n",
    "    return a"
   ]
  },
  {
   "cell_type": "code",
   "execution_count": 7,
   "metadata": {},
   "outputs": [
    {
     "data": {
      "text/plain": [
       "array([1., 0., 0., 0., 0., 0., 0., 0., 0., 0.])"
      ]
     },
     "execution_count": 7,
     "metadata": {},
     "output_type": "execute_result"
    }
   ],
   "source": [
    "t_train_2 = one_hot_label(t_train,10)\n",
    "x_train_2 = x_train / 255\n",
    "t_train_2[0]"
   ]
  },
  {
   "cell_type": "code",
   "execution_count": 8,
   "metadata": {},
   "outputs": [],
   "source": [
    "class Model:\n",
    "    def __init__(self,input_size,hidden_size,output_size,weight_init_std=0.01):\n",
    "        self.params = {}\n",
    "        self.params['W1'] = weight_init_std * np.random.randn(input_size,hidden_size)\n",
    "        self.params['b1'] = np.zeros(hidden_size)\n",
    "        self.params['W2'] = weight_init_std * np.random.randn(hidden_size,output_size)\n",
    "        self.params['b2'] = np.zeros(output_size)\n",
    "        \n",
    "        self.layers = OrderedDict()\n",
    "        self.layers['Affine1'] = Affine(W = self.params['W1'],b=self.params['b1'])\n",
    "        self.layers['ReLU1'] = ReLU()\n",
    "        self.layers['Affine2'] = Affine(W = self.params['W2'],b=self.params['b2'])\n",
    "        #self.layers['ReLU2'] = Vision.Layers.ReLU()\n",
    "        self.last_layers = SoftmaxWithLoss()\n",
    "        \n",
    "    def predict(self,x):\n",
    "        for layer in self.layers.values():\n",
    "            x = layer.forward(x)\n",
    "        return x\n",
    "    \n",
    "    def loss(self,x,t):\n",
    "        y = self.predict(x)\n",
    "        loss = self.last_layers.forward(y,t)\n",
    "        return loss\n",
    "    \n",
    "    def accuracy(self,x,t):\n",
    "        y = self.predict(x)\n",
    "        y = np.argmax(y,axis=1)\n",
    "        if t.ndim != 1:\n",
    "            t = np.argmax(t,axis=1)\n",
    "        accuracy = np.sum(y==t) / float(x.shape[0])\n",
    "        return accuracy\n",
    "    \n",
    "    def grads(self,x,t):\n",
    "        loss = self.loss(x,t)\n",
    "        dout = self.last_layers.backward()\n",
    "        layers = list(self.layers.values())\n",
    "        layers.reverse()\n",
    "        for layer in layers:\n",
    "            dout = layer.backward(dout)\n",
    "            \n",
    "        grads = {}\n",
    "        grads['W1'] = self.layers['Affine1'].dW\n",
    "        grads['b1'] = self.layers['Affine1'].db\n",
    "        grads['W2'] = self.layers['Affine2'].dW\n",
    "        grads['b2'] = self.layers['Affine2'].db\n",
    "        return grads\n",
    "            \n",
    "            \n",
    "        "
   ]
  },
  {
   "cell_type": "code",
   "execution_count": 9,
   "metadata": {},
   "outputs": [
    {
     "name": "stdout",
     "output_type": "stream",
     "text": [
      "(784, 100)\n",
      "++\n",
      "(100, 10)\n",
      "++\n"
     ]
    }
   ],
   "source": [
    "model = Model(28*28,100,10)\n",
    "iters_num = 10000\n",
    "train_size = x_train.shape[0]\n",
    "batch_size = 100\n",
    "learning_rate = 0.1\n",
    "train_loss_list = []\n",
    "train_acc_list = []\n",
    "test_acc_list = []\n",
    "iter_per_epoch = max(train_size/batch_size,1)\n",
    "optimizer = SGD(learning_rate)"
   ]
  },
  {
   "cell_type": "code",
   "execution_count": 10,
   "metadata": {},
   "outputs": [
    {
     "name": "stdout",
     "output_type": "stream",
     "text": [
      "train acc, test acc | 0.121400 , 0.120100\n",
      "train acc, test acc | 0.856950 , 0.858800\n",
      "train acc, test acc | 0.891900 , 0.892140\n",
      "train acc, test acc | 0.909850 , 0.906420\n",
      "train acc, test acc | 0.914850 , 0.909400\n",
      "train acc, test acc | 0.923050 , 0.917160\n",
      "train acc, test acc | 0.931200 , 0.923740\n",
      "train acc, test acc | 0.936250 , 0.927240\n",
      "train acc, test acc | 0.940750 , 0.930220\n",
      "train acc, test acc | 0.946200 , 0.934920\n",
      "train acc, test acc | 0.948950 , 0.935880\n",
      "train acc, test acc | 0.952400 , 0.938800\n",
      "train acc, test acc | 0.955450 , 0.940280\n",
      "train acc, test acc | 0.957750 , 0.942820\n",
      "train acc, test acc | 0.960850 , 0.944000\n",
      "train acc, test acc | 0.962850 , 0.945980\n",
      "train acc, test acc | 0.964300 , 0.946900\n",
      "train acc, test acc | 0.968000 , 0.949460\n",
      "train acc, test acc | 0.968900 , 0.948500\n",
      "train acc, test acc | 0.971400 , 0.951000\n",
      "train acc, test acc | 0.971750 , 0.950780\n",
      "train acc, test acc | 0.973600 , 0.951180\n",
      "train acc, test acc | 0.974250 , 0.951160\n",
      "train acc, test acc | 0.977650 , 0.954620\n",
      "train acc, test acc | 0.978050 , 0.954580\n",
      "train acc, test acc | 0.980100 , 0.955760\n",
      "train acc, test acc | 0.980200 , 0.955620\n",
      "train acc, test acc | 0.982500 , 0.956260\n",
      "train acc, test acc | 0.982400 , 0.957240\n",
      "train acc, test acc | 0.985150 , 0.957760\n",
      "train acc, test acc | 0.984300 , 0.957040\n",
      "train acc, test acc | 0.985450 , 0.957560\n",
      "train acc, test acc | 0.986900 , 0.958520\n",
      "train acc, test acc | 0.987450 , 0.958760\n",
      "train acc, test acc | 0.988800 , 0.958960\n",
      "train acc, test acc | 0.989000 , 0.959140\n",
      "train acc, test acc | 0.988900 , 0.958880\n",
      "train acc, test acc | 0.990050 , 0.959200\n",
      "train acc, test acc | 0.990250 , 0.960020\n",
      "train acc, test acc | 0.991300 , 0.961000\n",
      "train acc, test acc | 0.992050 , 0.961200\n",
      "train acc, test acc | 0.992800 , 0.960800\n",
      "train acc, test acc | 0.992750 , 0.960240\n",
      "train acc, test acc | 0.993400 , 0.960800\n",
      "train acc, test acc | 0.994400 , 0.960780\n",
      "train acc, test acc | 0.993850 , 0.960160\n",
      "train acc, test acc | 0.994000 , 0.961440\n",
      "train acc, test acc | 0.994350 , 0.961020\n",
      "train acc, test acc | 0.994650 , 0.961540\n",
      "train acc, test acc | 0.994400 , 0.961940\n"
     ]
    },
    {
     "data": {
      "image/png": "[encoded data removed]",
      "text/plain": [
       "<matplotlib.figure.Figure at 0x115c865c0>"
      ]
     },
     "metadata": {},
     "output_type": "display_data"
    }
   ],
   "source": [
    "for i in range(iters_num):\n",
    "    batch_mask = np.random.choice(train_size,batch_size)\n",
    "    x_batch = x_train_2[batch_mask]\n",
    "    t_batch = t_train_2[batch_mask]\n",
    "    grad = model.grads(x_batch,t_batch)\n",
    "    optimizer.update(model.params,grad)\n",
    "    #for key in ('W1','b1','W2','b2'):\n",
    "    #    model.params[key] -= learning_rate * grad[key]\n",
    "    #更新參數後的誤差\n",
    "    loss = model.loss(x_batch,t_batch)\n",
    "    train_loss_list.append(loss)\n",
    "    \n",
    "    if i % iter_per_epoch == 0:\n",
    "        train_acc = model.accuracy(x_train_2,t_train_2)\n",
    "        test_acc = model.accuracy(x_test/255,one_hot_label(t_test,10))\n",
    "        train_acc_list.append(train_acc)\n",
    "        test_acc_list.append(test_acc)\n",
    "        print(\"train acc, test acc | %f , %f\"%(train_acc,test_acc) )\n",
    "\n",
    "#https://github.com/oreilly-japan/deep-learning-from-scratch/blob/master/ch04/train_neuralnet.py\n",
    "markers = {'train': 'o', 'test': 's'}\n",
    "x = np.arange(len(train_acc_list))\n",
    "plt.plot(x, train_acc_list, label='train acc')\n",
    "plt.plot(x, test_acc_list, label='test acc', linestyle='--')\n",
    "plt.xlabel(\"epochs\")\n",
    "plt.ylabel(\"accuracy\")\n",
    "plt.ylim(0, 1.0)\n",
    "plt.legend(loc='lower right')\n",
    "plt.show()"
   ]
  },
  {
   "cell_type": "code",
   "execution_count": 11,
   "metadata": {},
   "outputs": [
    {
     "data": {
      "image/png": "[encoded data removed]",
      "text/plain": [
       "<matplotlib.figure.Figure at 0x115c64780>"
      ]
     },
     "metadata": {},
     "output_type": "display_data"
    },
    {
     "name": "stdout",
     "output_type": "stream",
     "text": [
      "0\n",
      "0\n"
     ]
    }
   ],
   "source": [
    "def show(index):\n",
    "    plt.matshow(np.uint8(x_test[index]).reshape(28,28), cmap=plt.cm.gray)\n",
    "    plt.show()\n",
    "    print(int(t_test[index]))\n",
    "    print(np.argmax(model.predict(x_test[index]/255)))\n",
    "show(1234)"
   ]
  },
  {
   "cell_type": "markdown",
   "metadata": {},
   "source": [
    "##  卷積層"
   ]
  },
  {
   "cell_type": "code",
   "execution_count": 3,
   "metadata": {},
   "outputs": [],
   "source": [
    "def sigmoid(x):\n",
    "    return 1/(1+np.exp(-x))"
   ]
  },
  {
   "cell_type": "code",
   "execution_count": 4,
   "metadata": {},
   "outputs": [
    {
     "data": {
      "text/plain": [
       "(10, 1, 28, 28)"
      ]
     },
     "execution_count": 4,
     "metadata": {},
     "output_type": "execute_result"
    }
   ],
   "source": [
    "x = np.random.rand(10,1,28,28)\n",
    "x.shape"
   ]
  },
  {
   "cell_type": "code",
   "execution_count": 5,
   "metadata": {},
   "outputs": [
    {
     "data": {
      "text/plain": [
       "array([[1, 2],\n",
       "       [3, 4]])"
      ]
     },
     "execution_count": 5,
     "metadata": {},
     "output_type": "execute_result"
    }
   ],
   "source": [
    "# https://github.com/oreilly-japan/deep-learning-from-scratch/blob/master/common/util.py\n",
    "test = np.array([[1,2],[3,4]])\n",
    "test"
   ]
  },
  {
   "cell_type": "code",
   "execution_count": 13,
   "metadata": {},
   "outputs": [
    {
     "data": {
      "text/plain": [
       "array([[1, 2],\n",
       "       [3, 4]])"
      ]
     },
     "execution_count": 13,
     "metadata": {},
     "output_type": "execute_result"
    }
   ],
   "source": [
    "pad = 1\n",
    "np.pad(test,[(0,0), (0,0)],'constant')"
   ]
  },
  {
   "cell_type": "code",
   "execution_count": 9,
   "metadata": {},
   "outputs": [],
   "source": [
    "def im2col(input_data, filter_h, filter_w, stride=1, pad=0):\n",
    "    \"\"\"\n",
    "    Parameters\n",
    "    ----------\n",
    "    input_data : (批次數,色塊,高,寬)\n",
    "    filter_h : 高\n",
    "    filter_w : 寬\n",
    "    stride : 步幅\n",
    "    pad : 填補\n",
    "    \n",
    "    Returns\n",
    "    -------\n",
    "    col : 回傳2維\n",
    "    \"\"\"\n",
    "    N, C, H, W = input_data.shape\n",
    "    #算出輸出高度\n",
    "    out_h = (H + 2*pad - filter_h)//stride + 1\n",
    "    #算出輸出寬度\n",
    "    out_w = (W + 2*pad - filter_w)//stride + 1\n",
    "    #'constant' 表示都補上0\n",
    "    # 前兩個不針對批次數與色塊補值\n",
    "    img = np.pad(input_data, [(0,0), (0,0), (pad, pad), (pad, pad)], 'constant')\n",
    "    # 建立輸出用\n",
    "    col = np.zeros((N, C, filter_h, filter_w, out_h, out_w))\n",
    "\n",
    "    for y in range(filter_h):\n",
    "        y_max = y + stride*out_h\n",
    "        for x in range(filter_w):\n",
    "            x_max = x + stride*out_w\n",
    "            col[:, :, y, x, :, :] = img[:, :, y:y_max:stride, x:x_max:stride]\n",
    "\n",
    "    col = col.transpose(0, 4, 5, 1, 2, 3).reshape(N*out_h*out_w, -1)\n",
    "    return col"
   ]
  },
  {
   "cell_type": "code",
   "execution_count": 10,
   "metadata": {},
   "outputs": [],
   "source": [
    "def col2im(col, input_shape, filter_h, filter_w, stride=1, pad=0):\n",
    "    \"\"\"\n",
    "    Parameters\n",
    "    ----------\n",
    "    col :\n",
    "    input_shape : 入力データの形状（例：(10, 1, 28, 28)）\n",
    "    filter_h :\n",
    "    filter_w\n",
    "    stride\n",
    "    pad\n",
    "    Returns\n",
    "    -------\n",
    "    \"\"\"\n",
    "    N, C, H, W = input_shape\n",
    "    out_h = (H + 2*pad - filter_h)//stride + 1\n",
    "    out_w = (W + 2*pad - filter_w)//stride + 1\n",
    "    col = col.reshape(N, out_h, out_w, C, filter_h, filter_w).transpose(0, 3, 4, 5, 1, 2)\n",
    "\n",
    "    img = np.zeros((N, C, H + 2*pad + stride - 1, W + 2*pad + stride - 1))\n",
    "    for y in range(filter_h):\n",
    "        y_max = y + stride*out_h\n",
    "        for x in range(filter_w):\n",
    "            x_max = x + stride*out_w\n",
    "            img[:, :, y:y_max:stride, x:x_max:stride] += col[:, :, y, x, :, :]\n",
    "\n",
    "    return img[:, :, pad:H + pad, pad:W + pad]"
   ]
  },
  {
   "cell_type": "code",
   "execution_count": 11,
   "metadata": {},
   "outputs": [],
   "source": [
    "#https://github.com/oreilly-japan/deep-learning-from-scratch/blob/master/common/layers.py\n",
    "from Vision.Layers import *\n",
    "class Convolution:\n",
    "    def __init__(self, W, b, stride=1, pad=0):\n",
    "        self.W = W\n",
    "        self.b = b\n",
    "        self.stride = stride\n",
    "        self.pad = pad\n",
    "        \n",
    "        # 中間データ（backward時に使用）\n",
    "        self.x = None   \n",
    "        self.col = None\n",
    "        self.col_W = None\n",
    "        \n",
    "        # 重み・バイアスパラメータの勾配\n",
    "        self.dW = None\n",
    "        self.db = None\n",
    "\n",
    "    def forward(self, x):\n",
    "        FN, C, FH, FW = self.W.shape\n",
    "        #print(x.shape)\n",
    "        #print(self.W.shape)\n",
    "        N, C, H, W = x.shape\n",
    "\n",
    "        out_h = 1 + int((H + 2*self.pad - FH) / self.stride)\n",
    "        out_w = 1 + int((W + 2*self.pad - FW) / self.stride)\n",
    "\n",
    "        col = im2col(x, FH, FW, self.stride, self.pad)\n",
    "        col_W = self.W.reshape(FN, -1).T\n",
    "\n",
    "        out = np.dot(col, col_W) + self.b\n",
    "        out = out.reshape(N, out_h, out_w, -1).transpose(0, 3, 1, 2)\n",
    "\n",
    "        self.x = x\n",
    "        self.col = col\n",
    "        self.col_W = col_W\n",
    "\n",
    "        return out\n",
    "\n",
    "    def backward(self, dout):\n",
    "        FN, C, FH, FW = self.W.shape\n",
    "        dout = dout.transpose(0,2,3,1).reshape(-1, FN)\n",
    "\n",
    "        self.db = np.sum(dout, axis=0)\n",
    "        self.dW = np.dot(self.col.T, dout)\n",
    "        self.dW = self.dW.transpose(1, 0).reshape(FN, C, FH, FW)\n",
    "\n",
    "        dcol = np.dot(dout, self.col_W.T)\n",
    "        dx = col2im(dcol, self.x.shape, FH, FW, self.stride, self.pad)\n",
    "\n",
    "        return dx\n",
    "\n",
    "\n",
    "class Pooling:\n",
    "    def __init__(self, pool_h, pool_w, stride=1, pad=0):\n",
    "        self.pool_h = pool_h\n",
    "        self.pool_w = pool_w\n",
    "        self.stride = stride\n",
    "        self.pad = pad\n",
    "        \n",
    "        self.x = None\n",
    "        self.arg_max = None\n",
    "\n",
    "    def forward(self, x):\n",
    "        N, C, H, W = x.shape\n",
    "        out_h = int(1 + (H - self.pool_h) / self.stride)\n",
    "        out_w = int(1 + (W - self.pool_w) / self.stride)\n",
    "\n",
    "        col = im2col(x, self.pool_h, self.pool_w, self.stride, self.pad)\n",
    "        col = col.reshape(-1, self.pool_h*self.pool_w)\n",
    "\n",
    "        arg_max = np.argmax(col, axis=1)\n",
    "        out = np.max(col, axis=1)\n",
    "        out = out.reshape(N, out_h, out_w, C).transpose(0, 3, 1, 2)\n",
    "\n",
    "        self.x = x\n",
    "        self.arg_max = arg_max\n",
    "\n",
    "        return out\n",
    "\n",
    "    def backward(self, dout):\n",
    "        dout = dout.transpose(0, 2, 3, 1)\n",
    "        \n",
    "        pool_size = self.pool_h * self.pool_w\n",
    "        dmax = np.zeros((dout.size, pool_size))\n",
    "        dmax[np.arange(self.arg_max.size), self.arg_max.flatten()] = dout.flatten()\n",
    "        dmax = dmax.reshape(dout.shape + (pool_size,)) \n",
    "        \n",
    "        dcol = dmax.reshape(dmax.shape[0] * dmax.shape[1] * dmax.shape[2], -1)\n",
    "        dx = col2im(dcol, self.x.shape, self.pool_h, self.pool_w, self.stride, self.pad)\n",
    "        \n",
    "        return dx"
   ]
  },
  {
   "cell_type": "code",
   "execution_count": 12,
   "metadata": {},
   "outputs": [],
   "source": [
    "from Vision.Layers import *\n",
    "class SimpleCovNet:\n",
    "    def __init__(self, input_dim=(1, 28, 28), conv_param={'filter_num':30, 'filter_size':5, 'pad':0, 'stride':1},hidden_size=100, output_size=10, weight_init_std=0.01):\n",
    "        filter_num = conv_param['filter_num']\n",
    "        filter_size = conv_param['filter_size']\n",
    "        filter_pad = conv_param['pad']\n",
    "        filter_stride = conv_param['stride']\n",
    "        input_size = input_dim[1]\n",
    "        conv_output_size = (input_size - filter_size + 2*filter_pad) / filter_stride + 1\n",
    "        pool_output_size = int(filter_num * (conv_output_size/2) * (conv_output_size/2))\n",
    "\n",
    "        # 重みの初期化\n",
    "        self.params = {}\n",
    "        self.params['W1'] = weight_init_std * \\\n",
    "                            np.random.randn(filter_num, input_dim[0], filter_size, filter_size)\n",
    "        self.params['b1'] = np.zeros(filter_num)\n",
    "        self.params['W2'] = weight_init_std * \\\n",
    "                            np.random.randn(pool_output_size, hidden_size)\n",
    "        self.params['b2'] = np.zeros(hidden_size)\n",
    "        self.params['W3'] = weight_init_std * \\\n",
    "                            np.random.randn(hidden_size, output_size)\n",
    "        self.params['b3'] = np.zeros(output_size)\n",
    "\n",
    "        # レイヤの生成\n",
    "        self.layers = OrderedDict()\n",
    "        self.layers['Conv1'] = Convolution(self.params['W1'], self.params['b1'],\n",
    "                                           conv_param['stride'], conv_param['pad'])\n",
    "        self.layers['Relu1'] = ReLU()\n",
    "        self.layers['Pool1'] = Pooling(pool_h=2, pool_w=2, stride=2)\n",
    "        self.layers['Affine1'] = Affine(self.params['W2'], self.params['b2'])\n",
    "        self.layers['Relu2'] = ReLU()\n",
    "        self.layers['Affine2'] = Affine(self.params['W3'], self.params['b3'])\n",
    "\n",
    "        self.last_layer = SoftmaxWithLoss()\n",
    "\n",
    "\n",
    "    def predict(self, x):\n",
    "        for layer in self.layers.values():\n",
    "            x = layer.forward(x)\n",
    "\n",
    "        return x\n",
    "\n",
    "    def loss(self, x, t):\n",
    "        y = self.predict(x)\n",
    "        return self.last_layer.forward(y, t)\n",
    "\n",
    "    def accuracy(self, x, t, batch_size=100):\n",
    "        if t.ndim != 1 : t = np.argmax(t, axis=1)\n",
    "        \n",
    "        acc = 0.0\n",
    "        \n",
    "        for i in range(int(x.shape[0] / batch_size)):\n",
    "            tx = x[i*batch_size:(i+1)*batch_size]\n",
    "            tt = t[i*batch_size:(i+1)*batch_size]\n",
    "            y = self.predict(tx)\n",
    "            y = np.argmax(y, axis=1)\n",
    "            acc += np.sum(y == tt) \n",
    "        \n",
    "        return acc / x.shape[0]\n",
    "\n",
    "    def numerical_gradient(self, x, t):\n",
    "        \"\"\"勾配を求める（数値微分）\n",
    "        Parameters\n",
    "        ----------\n",
    "        x : 入力データ\n",
    "        t : 教師ラベル\n",
    "        Returns\n",
    "        -------\n",
    "        各層の勾配を持ったディクショナリ変数\n",
    "            grads['W1']、grads['W2']、...は各層の重み\n",
    "            grads['b1']、grads['b2']、...は各層のバイアス\n",
    "        \"\"\"\n",
    "        loss_w = lambda w: self.loss(x, t)\n",
    "\n",
    "        grads = {}\n",
    "        for idx in (1, 2, 3):\n",
    "            grads['W' + str(idx)] = numerical_gradient(loss_w, self.params['W' + str(idx)])\n",
    "            grads['b' + str(idx)] = numerical_gradient(loss_w, self.params['b' + str(idx)])\n",
    "\n",
    "        return grads\n",
    "\n",
    "    def gradient(self, x, t):\n",
    "        \"\"\"勾配を求める（誤差逆伝搬法）\n",
    "        Parameters\n",
    "        ----------\n",
    "        x : 入力データ\n",
    "        t : 教師ラベル\n",
    "        Returns\n",
    "        -------\n",
    "        各層の勾配を持ったディクショナリ変数\n",
    "            grads['W1']、grads['W2']、...は各層の重み\n",
    "            grads['b1']、grads['b2']、...は各層のバイアス\n",
    "        \"\"\"\n",
    "        # forward\n",
    "        self.loss(x, t)\n",
    "\n",
    "        # backward\n",
    "        dout = 1\n",
    "        dout = self.last_layer.backward(dout)\n",
    "\n",
    "        layers = list(self.layers.values())\n",
    "        layers.reverse()\n",
    "        for layer in layers:\n",
    "            dout = layer.backward(dout)\n",
    "\n",
    "        # 設定\n",
    "        grads = {}\n",
    "        grads['W1'], grads['b1'] = self.layers['Conv1'].dW, self.layers['Conv1'].db\n",
    "        grads['W2'], grads['b2'] = self.layers['Affine1'].dW, self.layers['Affine1'].db\n",
    "        grads['W3'], grads['b3'] = self.layers['Affine2'].dW, self.layers['Affine2'].db\n",
    "\n",
    "        return grads\n",
    "        \n",
    "    def save_params(self, file_name=\"params.pkl\"):\n",
    "        params = {}\n",
    "        for key, val in self.params.items():\n",
    "            params[key] = val\n",
    "        with open(file_name, 'wb') as f:\n",
    "            pickle.dump(params, f)\n",
    "\n",
    "    def load_params(self, file_name=\"params.pkl\"):\n",
    "        with open(file_name, 'rb') as f:\n",
    "            params = pickle.load(f)\n",
    "        for key, val in params.items():\n",
    "            self.params[key] = val\n",
    "\n",
    "        for i, key in enumerate(['Conv1', 'Affine1', 'Affine2']):\n",
    "            self.layers[key].W = self.params['W' + str(i+1)]\n",
    "            self.layers[key].b = self.params['b' + str(i+1)]"
   ]
  },
  {
   "cell_type": "code",
   "execution_count": 13,
   "metadata": {},
   "outputs": [
    {
     "name": "stdout",
     "output_type": "stream",
     "text": [
      "train acc, test acc | 0.094050 , 0.098860\n",
      "train acc, test acc | 0.731600 , 0.732120\n",
      "train acc, test acc | 0.916400 , 0.913000\n",
      "train acc, test acc | 0.938600 , 0.931620\n",
      "train acc, test acc | 0.948050 , 0.940820\n",
      "train acc, test acc | 0.958450 , 0.951280\n",
      "train acc, test acc | 0.965750 , 0.956060\n",
      "train acc, test acc | 0.970350 , 0.960120\n",
      "train acc, test acc | 0.976400 , 0.964680\n",
      "train acc, test acc | 0.972100 , 0.962800\n",
      "train acc, test acc | 0.980150 , 0.967940\n",
      "train acc, test acc | 0.984950 , 0.971940\n",
      "train acc, test acc | 0.987100 , 0.973360\n",
      "train acc, test acc | 0.987900 , 0.973080\n",
      "train acc, test acc | 0.987850 , 0.973160\n",
      "train acc, test acc | 0.991400 , 0.975080\n",
      "train acc, test acc | 0.990750 , 0.973460\n",
      "train acc, test acc | 0.993000 , 0.976700\n",
      "train acc, test acc | 0.994550 , 0.976600\n",
      "train acc, test acc | 0.995300 , 0.976360\n",
      "train acc, test acc | 0.996350 , 0.977900\n",
      "train acc, test acc | 0.995600 , 0.976560\n",
      "train acc, test acc | 0.996600 , 0.977100\n",
      "train acc, test acc | 0.996650 , 0.977620\n",
      "train acc, test acc | 0.996300 , 0.976620\n",
      "train acc, test acc | 0.998200 , 0.978300\n",
      "train acc, test acc | 0.998700 , 0.978900\n",
      "train acc, test acc | 0.998100 , 0.978760\n",
      "train acc, test acc | 0.999000 , 0.978640\n",
      "train acc, test acc | 0.998400 , 0.977800\n",
      "train acc, test acc | 0.999400 , 0.979600\n",
      "train acc, test acc | 0.999650 , 0.978980\n",
      "train acc, test acc | 0.999500 , 0.979660\n",
      "train acc, test acc | 0.999800 , 0.979760\n",
      "train acc, test acc | 0.999700 , 0.979380\n",
      "train acc, test acc | 0.999800 , 0.979340\n",
      "train acc, test acc | 0.999750 , 0.979280\n",
      "train acc, test acc | 0.999800 , 0.979260\n",
      "train acc, test acc | 0.999800 , 0.979820\n",
      "train acc, test acc | 0.999800 , 0.979400\n",
      "train acc, test acc | 0.999850 , 0.979640\n",
      "train acc, test acc | 0.999900 , 0.980120\n",
      "train acc, test acc | 0.999900 , 0.979880\n",
      "train acc, test acc | 0.999900 , 0.979860\n",
      "train acc, test acc | 0.999900 , 0.979660\n",
      "train acc, test acc | 0.999900 , 0.980060\n",
      "train acc, test acc | 0.999850 , 0.979660\n",
      "train acc, test acc | 0.999950 , 0.979860\n",
      "train acc, test acc | 0.999900 , 0.980080\n",
      "train acc, test acc | 0.999900 , 0.979560\n"
     ]
    },
    {
     "data": {
      "image/png": "[encoded data removed]",
      "text/plain": [
       "<matplotlib.figure.Figure at 0x10a6c3a20>"
      ]
     },
     "metadata": {},
     "output_type": "display_data"
    }
   ],
   "source": [
    "train_loss_list = []\n",
    "train_acc_list = []\n",
    "test_acc_list = []\n",
    "model2 = SimpleCovNet()\n",
    "iters_num = 20000\n",
    "iters_num = 10000\n",
    "train_size = x_train.shape[0]\n",
    "batch_size = 100\n",
    "learning_rate = 0.1\n",
    "train_loss_list = []\n",
    "train_acc_list = []\n",
    "test_acc_list = []\n",
    "iter_per_epoch = max(train_size/batch_size,1)\n",
    "optimizer = SGD(learning_rate)\n",
    "for i in range(iters_num):\n",
    "    batch_mask = np.random.choice(train_size,batch_size)\n",
    "    x_batch = x_train_2[batch_mask].reshape(-1,1,28,28)\n",
    "    #print(\"batch\")\n",
    "    #print(x_batch.shape)\n",
    "    t_batch = t_train_2[batch_mask]\n",
    "    grad = model2.gradient(x_batch,t_batch)\n",
    "    optimizer.update(model2.params,grad)\n",
    "    #for key in ('W1','b1','W2','b2'):\n",
    "    #    model.params[key] -= learning_rate * grad[key]\n",
    "    #更新參數後的誤差\n",
    "    loss = model2.loss(x_batch,t_batch)\n",
    "    train_loss_list.append(loss)\n",
    "    \n",
    "    if i % iter_per_epoch == 0:\n",
    "        train_acc = model2.accuracy(x_train_2.reshape(-1,1,28,28),t_train_2)\n",
    "        test_acc = model2.accuracy((x_test/255).reshape(-1,1,28,28),one_hot_label(t_test,10))\n",
    "        train_acc_list.append(train_acc)\n",
    "        test_acc_list.append(test_acc)\n",
    "        print(\"train acc, test acc | %f , %f\"%(train_acc,test_acc) )\n",
    "\n",
    "#https://github.com/oreilly-japan/deep-learning-from-scratch/blob/master/ch04/train_neuralnet.py\n",
    "markers = {'train': 'o', 'test': 's'}\n",
    "x = np.arange(len(train_acc_list))\n",
    "plt.plot(x, train_acc_list, label='train acc')\n",
    "plt.plot(x, test_acc_list, label='test acc', linestyle='--')\n",
    "plt.xlabel(\"epochs\")\n",
    "plt.ylabel(\"accuracy\")\n",
    "plt.ylim(0, 1.0)\n",
    "plt.legend(loc='lower right')\n",
    "plt.show()"
   ]
  },
  {
   "cell_type": "code",
   "execution_count": 14,
   "metadata": {},
   "outputs": [],
   "source": [
    "model2.save_params()"
   ]
  },
  {
   "cell_type": "code",
   "execution_count": 21,
   "metadata": {},
   "outputs": [
    {
     "data": {
      "text/plain": [
       "(1, 5, 5)"
      ]
     },
     "execution_count": 21,
     "metadata": {},
     "output_type": "execute_result"
    }
   ],
   "source": [
    "model2.layers['Conv1'].W[0].shape"
   ]
  },
  {
   "cell_type": "code",
   "execution_count": 33,
   "metadata": {},
   "outputs": [
    {
     "data": {
      "image/png": "[encoded data removed]",
      "text/plain": [
       "<matplotlib.figure.Figure at 0x112cf44e0>"
      ]
     },
     "metadata": {},
     "output_type": "display_data"
    }
   ],
   "source": [
    "\n",
    "plt.matshow(np.squeeze(model2.layers['Conv1'].W[7],axis=0), cmap=plt.cm.gray)\n",
    "plt.show()"
   ]
  },
  {
   "cell_type": "code",
   "execution_count": 38,
   "metadata": {},
   "outputs": [
    {
     "data": {
      "image/png": "[encoded data removed]",
      "text/plain": [
       "<matplotlib.figure.Figure at 0x11259eb00>"
      ]
     },
     "metadata": {},
     "output_type": "display_data"
    }
   ],
   "source": [
    "fig=plt.figure(figsize=(6, 5))\n",
    "columns = 5\n",
    "rows = 6\n",
    "for i in range(1, columns*rows +1):\n",
    "    fig.add_subplot(rows, columns, i)\n",
    "    #plt.imshow(img)\n",
    "    plt.imshow(np.squeeze(model2.layers['Conv1'].W[i-1],axis=0), cmap=plt.cm.gray)\n",
    "    #plt.imshow(model2.layers['Conv1'].W[i-1])\n",
    "plt.show()"
   ]
  },
  {
   "cell_type": "code",
   "execution_count": null,
   "metadata": {},
   "outputs": [],
   "source": []
  }
 ],
 "metadata": {
  "kernelspec": {
   "display_name": "Python 3",
   "language": "python",
   "name": "python3"
  },
  "language_info": {
   "codemirror_mode": {
    "name": "ipython",
    "version": 3
   },
   "file_extension": ".py",
   "mimetype": "text/x-python",
   "name": "python",
   "nbconvert_exporter": "python",
   "pygments_lexer": "ipython3",
   "version": "3.6.4"
  }
 },
 "nbformat": 4,
 "nbformat_minor": 2
}
