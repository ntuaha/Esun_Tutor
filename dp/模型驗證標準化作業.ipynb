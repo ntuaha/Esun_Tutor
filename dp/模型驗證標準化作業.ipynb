{
 "cells": [
  {
   "cell_type": "markdown",
   "metadata": {},
   "source": [
    "# 驗證模型的各項指標\n",
    "\n",
    "參考文件\n",
    "1. http://scikit-learn.org/stable/auto_examples/model_selection/plot_roc.html\n",
    "2. https://blog.csdn.net/cherdw/article/details/55813071\n",
    "3. http://alexkong.net/2013/06/introduction-to-auc-and-roc/"
   ]
  },
  {
   "cell_type": "code",
   "execution_count": 28,
   "metadata": {},
   "outputs": [],
   "source": [
    "import numpy as np\n",
    "import matplotlib.pyplot as plt\n",
    "from sklearn.metrics import roc_curve, auc\n",
    "%matplotlib inline\n",
    "import pandas as pd\n",
    "import numpy as np"
   ]
  },
  {
   "cell_type": "code",
   "execution_count": 2,
   "metadata": {},
   "outputs": [],
   "source": [
    "from itertools import cycle\n",
    "from sklearn.model_selection import train_test_split\n",
    "from sklearn.preprocessing import label_binarize\n",
    "from sklearn.multiclass import OneVsRestClassifier\n",
    "from scipy import interp\n",
    "from sklearn import svm, datasets"
   ]
  },
  {
   "cell_type": "markdown",
   "metadata": {},
   "source": [
    "##  範例\n",
    "取得資料集，目標製作一個二元分類器"
   ]
  },
  {
   "cell_type": "code",
   "execution_count": 3,
   "metadata": {},
   "outputs": [],
   "source": [
    "import pandas as pd"
   ]
  },
  {
   "cell_type": "code",
   "execution_count": 4,
   "metadata": {},
   "outputs": [],
   "source": [
    "iris = datasets.load_iris()\n",
    "X = iris.data\n",
    "Y = iris.target"
   ]
  },
  {
   "cell_type": "markdown",
   "metadata": {},
   "source": [
    "將Y轉乘one-hot vector"
   ]
  },
  {
   "cell_type": "code",
   "execution_count": 7,
   "metadata": {},
   "outputs": [
    {
     "name": "stdout",
     "output_type": "stream",
     "text": [
      "n_classes:3\n"
     ]
    }
   ],
   "source": [
    "Y_2 = label_binarize(Y, classes=[0, 1, 2])\n",
    "n_classes = Y_2.shape[1]\n",
    "print(\"n_classes:%d\"%n_classes)"
   ]
  },
  {
   "cell_type": "markdown",
   "metadata": {},
   "source": [
    "無聊增加800個沒意義的變數，讓問題變更難一點，最後產出804個變數(features)"
   ]
  },
  {
   "cell_type": "code",
   "execution_count": 8,
   "metadata": {},
   "outputs": [
    {
     "name": "stdout",
     "output_type": "stream",
     "text": [
      "n_samples:150, n_features:4\n"
     ]
    },
    {
     "data": {
      "text/html": [
       "<div>\n",
       "<style scoped>\n",
       "    .dataframe tbody tr th:only-of-type {\n",
       "        vertical-align: middle;\n",
       "    }\n",
       "\n",
       "    .dataframe tbody tr th {\n",
       "        vertical-align: top;\n",
       "    }\n",
       "\n",
       "    .dataframe thead th {\n",
       "        text-align: right;\n",
       "    }\n",
       "</style>\n",
       "<table border=\"1\" class=\"dataframe\">\n",
       "  <thead>\n",
       "    <tr style=\"text-align: right;\">\n",
       "      <th></th>\n",
       "      <th>0</th>\n",
       "      <th>1</th>\n",
       "      <th>2</th>\n",
       "      <th>3</th>\n",
       "      <th>4</th>\n",
       "      <th>5</th>\n",
       "      <th>6</th>\n",
       "      <th>7</th>\n",
       "      <th>8</th>\n",
       "      <th>9</th>\n",
       "      <th>...</th>\n",
       "      <th>794</th>\n",
       "      <th>795</th>\n",
       "      <th>796</th>\n",
       "      <th>797</th>\n",
       "      <th>798</th>\n",
       "      <th>799</th>\n",
       "      <th>800</th>\n",
       "      <th>801</th>\n",
       "      <th>802</th>\n",
       "      <th>803</th>\n",
       "    </tr>\n",
       "  </thead>\n",
       "  <tbody>\n",
       "    <tr>\n",
       "      <th>0</th>\n",
       "      <td>5.1</td>\n",
       "      <td>3.5</td>\n",
       "      <td>1.4</td>\n",
       "      <td>0.2</td>\n",
       "      <td>1.764052</td>\n",
       "      <td>0.400157</td>\n",
       "      <td>0.978738</td>\n",
       "      <td>2.240893</td>\n",
       "      <td>1.867558</td>\n",
       "      <td>-0.977278</td>\n",
       "      <td>...</td>\n",
       "      <td>-0.757871</td>\n",
       "      <td>-0.050084</td>\n",
       "      <td>-0.897401</td>\n",
       "      <td>1.312470</td>\n",
       "      <td>-0.858972</td>\n",
       "      <td>-0.898942</td>\n",
       "      <td>0.074586</td>\n",
       "      <td>-1.077099</td>\n",
       "      <td>-0.424663</td>\n",
       "      <td>-0.829965</td>\n",
       "    </tr>\n",
       "    <tr>\n",
       "      <th>1</th>\n",
       "      <td>4.9</td>\n",
       "      <td>3.0</td>\n",
       "      <td>1.4</td>\n",
       "      <td>0.2</td>\n",
       "      <td>1.411172</td>\n",
       "      <td>0.785804</td>\n",
       "      <td>-0.057470</td>\n",
       "      <td>-0.391217</td>\n",
       "      <td>0.940918</td>\n",
       "      <td>0.405204</td>\n",
       "      <td>...</td>\n",
       "      <td>-1.116950</td>\n",
       "      <td>-0.035297</td>\n",
       "      <td>0.241204</td>\n",
       "      <td>1.127784</td>\n",
       "      <td>0.881131</td>\n",
       "      <td>1.032989</td>\n",
       "      <td>-0.923912</td>\n",
       "      <td>1.412152</td>\n",
       "      <td>-1.380431</td>\n",
       "      <td>-0.535915</td>\n",
       "    </tr>\n",
       "    <tr>\n",
       "      <th>2</th>\n",
       "      <td>4.7</td>\n",
       "      <td>3.2</td>\n",
       "      <td>1.3</td>\n",
       "      <td>0.2</td>\n",
       "      <td>0.430771</td>\n",
       "      <td>-0.149892</td>\n",
       "      <td>-1.006037</td>\n",
       "      <td>-0.821550</td>\n",
       "      <td>-1.548254</td>\n",
       "      <td>0.531975</td>\n",
       "      <td>...</td>\n",
       "      <td>-0.110591</td>\n",
       "      <td>-0.432432</td>\n",
       "      <td>1.077037</td>\n",
       "      <td>-0.224827</td>\n",
       "      <td>-0.576242</td>\n",
       "      <td>0.574609</td>\n",
       "      <td>-0.489828</td>\n",
       "      <td>0.658802</td>\n",
       "      <td>-0.596917</td>\n",
       "      <td>-0.222959</td>\n",
       "    </tr>\n",
       "    <tr>\n",
       "      <th>3</th>\n",
       "      <td>4.6</td>\n",
       "      <td>3.1</td>\n",
       "      <td>1.5</td>\n",
       "      <td>0.2</td>\n",
       "      <td>0.152177</td>\n",
       "      <td>-0.374126</td>\n",
       "      <td>-0.013451</td>\n",
       "      <td>0.815472</td>\n",
       "      <td>0.410602</td>\n",
       "      <td>0.480970</td>\n",
       "      <td>...</td>\n",
       "      <td>0.847408</td>\n",
       "      <td>-0.198720</td>\n",
       "      <td>1.575307</td>\n",
       "      <td>0.849115</td>\n",
       "      <td>-1.228895</td>\n",
       "      <td>0.888394</td>\n",
       "      <td>-0.516487</td>\n",
       "      <td>-0.083326</td>\n",
       "      <td>0.131054</td>\n",
       "      <td>-0.879096</td>\n",
       "    </tr>\n",
       "    <tr>\n",
       "      <th>4</th>\n",
       "      <td>5.0</td>\n",
       "      <td>3.6</td>\n",
       "      <td>1.4</td>\n",
       "      <td>0.2</td>\n",
       "      <td>-1.333342</td>\n",
       "      <td>0.367784</td>\n",
       "      <td>-1.388233</td>\n",
       "      <td>-2.575203</td>\n",
       "      <td>-0.836106</td>\n",
       "      <td>0.331092</td>\n",
       "      <td>...</td>\n",
       "      <td>-1.468367</td>\n",
       "      <td>0.576479</td>\n",
       "      <td>0.065306</td>\n",
       "      <td>-0.773513</td>\n",
       "      <td>0.394948</td>\n",
       "      <td>-0.503890</td>\n",
       "      <td>1.779559</td>\n",
       "      <td>-0.030572</td>\n",
       "      <td>1.577088</td>\n",
       "      <td>-0.812802</td>\n",
       "    </tr>\n",
       "  </tbody>\n",
       "</table>\n",
       "<p>5 rows × 804 columns</p>\n",
       "</div>"
      ],
      "text/plain": [
       "   0    1    2    3         4         5         6         7         8    \\\n",
       "0  5.1  3.5  1.4  0.2  1.764052  0.400157  0.978738  2.240893  1.867558   \n",
       "1  4.9  3.0  1.4  0.2  1.411172  0.785804 -0.057470 -0.391217  0.940918   \n",
       "2  4.7  3.2  1.3  0.2  0.430771 -0.149892 -1.006037 -0.821550 -1.548254   \n",
       "3  4.6  3.1  1.5  0.2  0.152177 -0.374126 -0.013451  0.815472  0.410602   \n",
       "4  5.0  3.6  1.4  0.2 -1.333342  0.367784 -1.388233 -2.575203 -0.836106   \n",
       "\n",
       "        9      ...          794       795       796       797       798  \\\n",
       "0 -0.977278    ...    -0.757871 -0.050084 -0.897401  1.312470 -0.858972   \n",
       "1  0.405204    ...    -1.116950 -0.035297  0.241204  1.127784  0.881131   \n",
       "2  0.531975    ...    -0.110591 -0.432432  1.077037 -0.224827 -0.576242   \n",
       "3  0.480970    ...     0.847408 -0.198720  1.575307  0.849115 -1.228895   \n",
       "4  0.331092    ...    -1.468367  0.576479  0.065306 -0.773513  0.394948   \n",
       "\n",
       "        799       800       801       802       803  \n",
       "0 -0.898942  0.074586 -1.077099 -0.424663 -0.829965  \n",
       "1  1.032989 -0.923912  1.412152 -1.380431 -0.535915  \n",
       "2  0.574609 -0.489828  0.658802 -0.596917 -0.222959  \n",
       "3  0.888394 -0.516487 -0.083326  0.131054 -0.879096  \n",
       "4 -0.503890  1.779559 -0.030572  1.577088 -0.812802  \n",
       "\n",
       "[5 rows x 804 columns]"
      ]
     },
     "execution_count": 8,
     "metadata": {},
     "output_type": "execute_result"
    }
   ],
   "source": [
    "random_state = np.random.RandomState(0)\n",
    "n_samples, n_features = X.shape\n",
    "print(\"n_samples:%d, n_features:%d\"%X.shape)\n",
    "X_2 = np.c_[X, random_state.randn(n_samples, 200 * n_features)]\n",
    "pd.DataFrame(X_2).head()"
   ]
  },
  {
   "cell_type": "markdown",
   "metadata": {},
   "source": [
    "分割資料為 train 與 test 資料集，比例為0.5,0.5，平均75,75筆"
   ]
  },
  {
   "cell_type": "code",
   "execution_count": 11,
   "metadata": {},
   "outputs": [],
   "source": [
    "X_train, X_test, Y_train, Y_test = train_test_split(X_2, Y_2, test_size=.5,random_state=0)\n",
    "X_test.shape"
   ]
  },
  {
   "cell_type": "markdown",
   "metadata": {},
   "source": [
    "建立模型"
   ]
  },
  {
   "cell_type": "code",
   "execution_count": 13,
   "metadata": {},
   "outputs": [],
   "source": [
    "classifier = OneVsRestClassifier(svm.SVC(kernel='linear', probability=True,random_state=random_state))\n",
    "model = classifier.fit(X_train, Y_train)"
   ]
  },
  {
   "cell_type": "markdown",
   "metadata": {},
   "source": [
    "取得score"
   ]
  },
  {
   "cell_type": "code",
   "execution_count": 17,
   "metadata": {},
   "outputs": [],
   "source": [
    "Y_score = model.decision_function(X_test)"
   ]
  },
  {
   "cell_type": "code",
   "execution_count": 48,
   "metadata": {},
   "outputs": [],
   "source": [
    "Y_score_2 = model.predict_proba(X_test)"
   ]
  },
  {
   "cell_type": "code",
   "execution_count": 53,
   "metadata": {},
   "outputs": [],
   "source": [
    "Y_predict = model.predict(X_test)"
   ]
  },
  {
   "cell_type": "code",
   "execution_count": 54,
   "metadata": {},
   "outputs": [
    {
     "data": {
      "text/plain": [
       "array([[0, 0, 1],\n",
       "       [0, 0, 0],\n",
       "       [1, 0, 0],\n",
       "       [0, 0, 1],\n",
       "       [0, 0, 0]])"
      ]
     },
     "execution_count": 54,
     "metadata": {},
     "output_type": "execute_result"
    }
   ],
   "source": [
    "Y_predict[:5]"
   ]
  },
  {
   "cell_type": "code",
   "execution_count": 49,
   "metadata": {},
   "outputs": [
    {
     "data": {
      "text/plain": [
       "array([[0.08669583, 0.25924479, 0.77485388],\n",
       "       [0.39268523, 0.27973152, 0.48654473],\n",
       "       [0.65825399, 0.29338307, 0.32291824],\n",
       "       [0.05710482, 0.24161451, 0.68607733],\n",
       "       [0.55342814, 0.25288561, 0.07513447],\n",
       "       [0.13998493, 0.25793953, 0.60566473],\n",
       "       [0.58202625, 0.25037944, 0.05806721],\n",
       "       [0.13755949, 0.22036529, 0.13520219],\n",
       "       [0.2626843 , 0.25005352, 0.26037956],\n",
       "       [0.20518789, 0.25127836, 0.37022304],\n",
       "       [0.23337524, 0.25462754, 0.36501396],\n",
       "       [0.29030882, 0.28539371, 0.68946208],\n",
       "       [0.3733499 , 0.28045186, 0.52168785],\n",
       "       [0.5       , 0.26671005, 0.20475722],\n",
       "       [0.17202911, 0.25185705, 0.44887421],\n",
       "       [0.64781592, 0.27362281, 0.14047187],\n",
       "       [0.10105792, 0.23582331, 0.40278691],\n",
       "       [0.1639504 , 0.24260805, 0.33264595],\n",
       "       [0.82497357, 0.30932927, 0.25865055],\n",
       "       [0.46837367, 0.30243898, 0.69505883],\n",
       "       [0.10304186, 0.23737339, 0.43376707],\n",
       "       [0.54239449, 0.2663688 , 0.16473226],\n",
       "       [0.35598277, 0.29325261, 0.70390119],\n",
       "       [0.66498054, 0.28593603, 0.24206922],\n",
       "       [0.11119694, 0.24761887, 0.53749577],\n",
       "       [0.49465671, 0.25941188, 0.13257506],\n",
       "       [0.53518983, 0.24104656, 0.04209655],\n",
       "       [0.52053359, 0.28803067, 0.43117552],\n",
       "       [0.45215773, 0.26014312, 0.17711463],\n",
       "       [0.40026087, 0.28600906, 0.54827708],\n",
       "       [0.27184674, 0.26296262, 0.41948692],\n",
       "       [0.37232235, 0.29234113, 0.68503259],\n",
       "       [0.51025874, 0.2676922 , 0.20878194],\n",
       "       [0.17659558, 0.26682743, 0.66123263],\n",
       "       [0.24686796, 0.28632268, 0.756525  ],\n",
       "       [0.27936335, 0.25524815, 0.30465983],\n",
       "       [0.51371142, 0.27058792, 0.23648285],\n",
       "       [0.0280255 , 0.23337392, 0.77911222],\n",
       "       [0.71536791, 0.281801  , 0.14895757],\n",
       "       [0.52592201, 0.27729529, 0.28708727],\n",
       "       [0.19911825, 0.2484892 , 0.34525716],\n",
       "       [0.70006576, 0.31050801, 0.46985924],\n",
       "       [0.2380713 , 0.27728757, 0.67330027],\n",
       "       [0.55361222, 0.28978822, 0.41785286],\n",
       "       [0.5766175 , 0.2944342 , 0.44504758],\n",
       "       [0.4612879 , 0.29705823, 0.60583047],\n",
       "       [0.10265535, 0.25340307, 0.65311828],\n",
       "       [0.08398601, 0.26432498, 0.83665437],\n",
       "       [0.13616158, 0.24353394, 0.41313856],\n",
       "       [0.04739541, 0.27946878, 0.96383355],\n",
       "       [0.30854574, 0.25410888, 0.25590289],\n",
       "       [0.30139471, 0.25786563, 0.32288385],\n",
       "       [0.27807017, 0.28270771, 0.67230107],\n",
       "       [0.66080943, 0.27920876, 0.17315175],\n",
       "       [0.11746382, 0.24093539, 0.43481476],\n",
       "       [0.16370814, 0.25803451, 0.55349707],\n",
       "       [0.16093232, 0.24232212, 0.34019624],\n",
       "       [0.24000137, 0.27141508, 0.58814808],\n",
       "       [0.19202106, 0.24951467, 0.3670593 ],\n",
       "       [0.62126576, 0.29758704, 0.43107387],\n",
       "       [0.37068251, 0.26855256, 0.36230742],\n",
       "       [0.78375379, 0.29592173, 0.19208737],\n",
       "       [0.70116101, 0.29445245, 0.27238311],\n",
       "       [0.4016853 , 0.28580656, 0.55764706],\n",
       "       [0.22911161, 0.26182635, 0.48305174],\n",
       "       [0.11278034, 0.22650642, 0.25139324],\n",
       "       [0.29427928, 0.27458687, 0.53733724],\n",
       "       [0.04612815, 0.26681252, 0.92627883],\n",
       "       [0.58061171, 0.27485635, 0.21445916],\n",
       "       [0.49305475, 0.27424504, 0.29313572],\n",
       "       [0.23771291, 0.28016179, 0.71110673],\n",
       "       [0.31268725, 0.23878495, 0.1125471 ],\n",
       "       [0.71031704, 0.3003343 , 0.3485448 ],\n",
       "       [0.75126668, 0.29358501, 0.21666536],\n",
       "       [0.24710854, 0.25369222, 0.34229517]])"
      ]
     },
     "execution_count": 49,
     "metadata": {},
     "output_type": "execute_result"
    }
   ],
   "source": [
    "Y_score_2"
   ]
  },
  {
   "cell_type": "markdown",
   "metadata": {},
   "source": [
    "計算作圖資料"
   ]
  },
  {
   "cell_type": "code",
   "execution_count": 50,
   "metadata": {},
   "outputs": [],
   "source": [
    "fpr = dict()\n",
    "tpr = dict()\n",
    "roc_auc = dict()\n",
    "# 針對不同class 給予不同的作圖\n",
    "for i in range(n_classes):\n",
    "    fpr[i], tpr[i], _ = roc_curve(Y_test[:, i], Y_score_2[:, i])\n",
    "    roc_auc[i] = auc(fpr[i], tpr[i])\n",
    "\n",
    "# Compute micro-average ROC curve and ROC area\n",
    "# 其中 np.ravel() 就是做 flatten但不做變數clone，直接回傳reference\n",
    "fpr[\"micro\"], tpr[\"micro\"], _ = roc_curve(Y_test.ravel(), Y_score.ravel())\n",
    "roc_auc[\"micro\"] = auc(fpr[\"micro\"], tpr[\"micro\"])"
   ]
  },
  {
   "cell_type": "code",
   "execution_count": 22,
   "metadata": {},
   "outputs": [
    {
     "data": {
      "text/plain": [
       "array([0, 0, 1, 0, 1, 0, 1, 0, 0, 0, 0, 1, 1, 0, 0, 0, 0, 1, 1, 0, 0, 0,\n",
       "       1, 0, 0, 1, 0, 0, 1, 0, 0, 0, 1, 0, 1, 0, 0, 1, 0, 0, 1, 0, 0, 1,\n",
       "       0, 1, 0, 0, 0, 1, 0, 0, 1, 0, 1, 0, 0, 1, 0, 0, 0, 0, 1, 0, 1, 0,\n",
       "       1, 0, 0, 1, 0, 0, 0, 0, 1, 1, 0, 0, 1, 0, 0, 0, 1, 0, 0, 1, 0, 1,\n",
       "       0, 0, 0, 0, 1, 0, 1, 0, 1, 0, 0, 0, 0, 1, 0, 0, 1, 0, 1, 0, 1, 0,\n",
       "       0, 0, 1, 0, 0, 1, 0, 0, 1, 0, 0, 0, 1, 1, 0, 0, 0, 0, 1, 1, 0, 0,\n",
       "       1, 0, 0, 0, 1, 0, 0, 0, 1, 0, 0, 1, 0, 0, 1, 0, 0, 1, 0, 1, 0, 0,\n",
       "       0, 1, 0, 1, 0, 0, 1, 0, 0, 0, 1, 0, 0, 1, 0, 0, 1, 0, 0, 1, 0, 1,\n",
       "       0, 0, 0, 1, 0, 1, 0, 1, 0, 0, 0, 0, 1, 0, 1, 0, 0, 1, 0, 0, 1, 0,\n",
       "       0, 1, 0, 0, 0, 1, 1, 0, 0, 1, 0, 0, 0, 0, 1, 0, 1, 0, 1, 0, 0, 1,\n",
       "       0, 0, 0, 1, 0])"
      ]
     },
     "execution_count": 22,
     "metadata": {},
     "output_type": "execute_result"
    }
   ],
   "source": [
    "Y_test.ravel()"
   ]
  },
  {
   "cell_type": "code",
   "execution_count": 51,
   "metadata": {},
   "outputs": [
    {
     "data": {
      "text/plain": [
       "{0: 0.9118165784832452,\n",
       " 1: 0.3970370370370371,\n",
       " 2: 0.7859477124183007,\n",
       " 'micro': 0.7274666666666667}"
      ]
     },
     "execution_count": 51,
     "metadata": {},
     "output_type": "execute_result"
    }
   ],
   "source": [
    "roc_auc"
   ]
  },
  {
   "cell_type": "code",
   "execution_count": 52,
   "metadata": {},
   "outputs": [
    {
     "data": {
      "text/plain": [
       "0.7274666666666667"
      ]
     },
     "execution_count": 52,
     "metadata": {},
     "output_type": "execute_result"
    }
   ],
   "source": [
    "roc_auc[\"micro\"]"
   ]
  },
  {
   "cell_type": "markdown",
   "metadata": {},
   "source": [
    "### 作圖"
   ]
  },
  {
   "cell_type": "markdown",
   "metadata": {},
   "source": [
    "- FPR = 預測發生，佔整體不預測發生的比率，表示錯誤預警 = NP / N\n",
    "- TPR = 預測發生，佔整體發生的比率，表示確實預警率 = TP / P\n",
    "- 最理想狀況 (FPR,TPR) = (0,1), 但是最糟糕就是 (FPR,TPR) = (1,0), 然後全部預測不會發生就是(0,0) 預測全部發生就會是(1,1)\n",
    "- 所以最理想的預測就是整個曲線越往左上越好\n",
    "- 基本上在AUC上，y = x (AUC=0.5) 幾乎就是隨機作圖的成果，任一個模型應該都會是比這個好，因為反指標就逆向拿來做就可以了"
   ]
  },
  {
   "cell_type": "code",
   "execution_count": 26,
   "metadata": {},
   "outputs": [
    {
     "data": {
      "image/png": "[encoded data removed]",
      "text/plain": [
       "<matplotlib.figure.Figure at 0x10df5e080>"
      ]
     },
     "metadata": {},
     "output_type": "display_data"
    }
   ],
   "source": [
    "plt.figure()\n",
    "lw = 2\n",
    "plt.plot(fpr[2], tpr[2], color='darkorange',lw=lw, label='ROC curve (area = %0.2f)' % roc_auc[2])\n",
    "plt.plot([0, 1], [0, 1], color='navy', lw=lw, linestyle='--')\n",
    "plt.xlim([0.0, 1.0])\n",
    "plt.ylim([0.0, 1.05])\n",
    "plt.xlabel('False Positive Rate')\n",
    "plt.ylabel('True Positive Rate')\n",
    "plt.title('ROC')\n",
    "plt.legend(loc=\"lower right\")\n",
    "plt.show()"
   ]
  },
  {
   "cell_type": "code",
   "execution_count": 42,
   "metadata": {},
   "outputs": [],
   "source": [
    "from sklearn.metrics import log_loss, recall_score, precision_score, accuracy_score,f1_score\n",
    "from sklearn.metrics import roc_curve, precision_recall_curve, roc_auc_score"
   ]
  },
  {
   "cell_type": "code",
   "execution_count": 55,
   "metadata": {},
   "outputs": [],
   "source": [
    "i = 0\n",
    "y_test,y_test_p,y_test_v = Y_test[:, i], Y_score_2[:, i], Y_predict[:,i]"
   ]
  },
  {
   "cell_type": "code",
   "execution_count": 56,
   "metadata": {},
   "outputs": [
    {
     "name": "stdout",
     "output_type": "stream",
     "text": [
      "auc: 0.911817\n",
      "precision: 0.733333\n",
      "recall: 0.523810\n",
      "accuracy: 0.813333\n",
      "f1_score: 0.611111\n"
     ]
    }
   ],
   "source": [
    "print('auc: %f'%roc_auc_score(y_test, y_test_p))\n",
    "print('precision: %f'%precision_score(y_test, y_test_v))\n",
    "print('recall: %f'%recall_score(y_test, y_test_v))\n",
    "print('accuracy: %f'%accuracy_score(y_test, y_test_v))\n",
    "print('f1_score: %f'%f1_score(y_test, y_test_v))"
   ]
  },
  {
   "cell_type": "code",
   "execution_count": 57,
   "metadata": {},
   "outputs": [
    {
     "data": {
      "text/plain": [
       "array([0, 0, 1, 0, 0, 0, 1, 0, 0, 0, 0, 0, 0, 0, 0, 1, 0, 0, 1, 0, 0, 0,\n",
       "       0, 1, 0, 0, 0, 0, 0, 0, 0, 0, 0, 0, 0, 0, 0, 0, 1, 0, 0, 1, 0, 0,\n",
       "       1, 0, 0, 0, 0, 0, 0, 0, 0, 1, 0, 0, 0, 0, 0, 1, 0, 1, 1, 0, 0, 0,\n",
       "       0, 0, 1, 0, 0, 0, 1, 1, 0])"
      ]
     },
     "execution_count": 57,
     "metadata": {},
     "output_type": "execute_result"
    }
   ],
   "source": [
    "y_test_v"
   ]
  },
  {
   "cell_type": "code",
   "execution_count": 61,
   "metadata": {},
   "outputs": [
    {
     "data": {
      "text/plain": [
       "array([[0, 0, 1],\n",
       "       [0, 0, 0],\n",
       "       [1, 0, 0],\n",
       "       [0, 0, 1],\n",
       "       [0, 0, 0],\n",
       "       [0, 0, 0],\n",
       "       [1, 0, 0],\n",
       "       [0, 1, 0],\n",
       "       [0, 0, 0],\n",
       "       [0, 0, 0],\n",
       "       [0, 0, 0],\n",
       "       [0, 0, 1],\n",
       "       [0, 0, 0],\n",
       "       [0, 0, 0],\n",
       "       [0, 0, 0],\n",
       "       [1, 0, 0],\n",
       "       [0, 0, 0],\n",
       "       [0, 0, 0],\n",
       "       [1, 0, 0],\n",
       "       [0, 0, 1],\n",
       "       [0, 0, 0],\n",
       "       [0, 0, 0],\n",
       "       [0, 0, 1],\n",
       "       [1, 0, 0],\n",
       "       [0, 0, 0],\n",
       "       [0, 0, 0],\n",
       "       [0, 0, 0],\n",
       "       [0, 0, 0],\n",
       "       [0, 0, 0],\n",
       "       [0, 0, 0],\n",
       "       [0, 0, 0],\n",
       "       [0, 0, 1],\n",
       "       [0, 0, 0],\n",
       "       [0, 0, 0],\n",
       "       [0, 0, 1],\n",
       "       [0, 0, 0],\n",
       "       [0, 0, 0],\n",
       "       [0, 0, 1],\n",
       "       [1, 0, 0],\n",
       "       [0, 0, 0],\n",
       "       [0, 0, 0],\n",
       "       [1, 0, 0],\n",
       "       [0, 0, 1],\n",
       "       [0, 0, 0],\n",
       "       [1, 0, 0],\n",
       "       [0, 0, 0],\n",
       "       [0, 0, 0],\n",
       "       [0, 0, 1],\n",
       "       [0, 0, 0],\n",
       "       [0, 0, 1],\n",
       "       [0, 0, 0],\n",
       "       [0, 0, 0],\n",
       "       [0, 0, 1],\n",
       "       [1, 0, 0],\n",
       "       [0, 0, 0],\n",
       "       [0, 0, 0],\n",
       "       [0, 0, 0],\n",
       "       [0, 0, 0],\n",
       "       [0, 0, 0],\n",
       "       [1, 0, 0],\n",
       "       [0, 0, 0],\n",
       "       [1, 0, 0],\n",
       "       [1, 0, 0],\n",
       "       [0, 0, 0],\n",
       "       [0, 0, 0],\n",
       "       [0, 1, 0],\n",
       "       [0, 0, 0],\n",
       "       [0, 0, 1],\n",
       "       [1, 0, 0],\n",
       "       [0, 0, 0],\n",
       "       [0, 0, 1],\n",
       "       [0, 0, 0],\n",
       "       [1, 0, 0],\n",
       "       [1, 0, 0],\n",
       "       [0, 0, 0]])"
      ]
     },
     "execution_count": 61,
     "metadata": {},
     "output_type": "execute_result"
    }
   ],
   "source": [
    "Y_predict"
   ]
  },
  {
   "cell_type": "code",
   "execution_count": 58,
   "metadata": {},
   "outputs": [
    {
     "data": {
      "text/plain": [
       "array([0.08669583, 0.39268523, 0.65825399, 0.05710482, 0.55342814,\n",
       "       0.13998493, 0.58202625, 0.13755949, 0.2626843 , 0.20518789,\n",
       "       0.23337524, 0.29030882, 0.3733499 , 0.5       , 0.17202911,\n",
       "       0.64781592, 0.10105792, 0.1639504 , 0.82497357, 0.46837367,\n",
       "       0.10304186, 0.54239449, 0.35598277, 0.66498054, 0.11119694,\n",
       "       0.49465671, 0.53518983, 0.52053359, 0.45215773, 0.40026087,\n",
       "       0.27184674, 0.37232235, 0.51025874, 0.17659558, 0.24686796,\n",
       "       0.27936335, 0.51371142, 0.0280255 , 0.71536791, 0.52592201,\n",
       "       0.19911825, 0.70006576, 0.2380713 , 0.55361222, 0.5766175 ,\n",
       "       0.4612879 , 0.10265535, 0.08398601, 0.13616158, 0.04739541,\n",
       "       0.30854574, 0.30139471, 0.27807017, 0.66080943, 0.11746382,\n",
       "       0.16370814, 0.16093232, 0.24000137, 0.19202106, 0.62126576,\n",
       "       0.37068251, 0.78375379, 0.70116101, 0.4016853 , 0.22911161,\n",
       "       0.11278034, 0.29427928, 0.04612815, 0.58061171, 0.49305475,\n",
       "       0.23771291, 0.31268725, 0.71031704, 0.75126668, 0.24710854])"
      ]
     },
     "execution_count": 58,
     "metadata": {},
     "output_type": "execute_result"
    }
   ],
   "source": [
    "y_test_p"
   ]
  },
  {
   "cell_type": "code",
   "execution_count": 60,
   "metadata": {},
   "outputs": [
    {
     "data": {
      "text/plain": [
       "array([[0.08669583, 0.25924479, 0.77485388],\n",
       "       [0.39268523, 0.27973152, 0.48654473],\n",
       "       [0.65825399, 0.29338307, 0.32291824],\n",
       "       [0.05710482, 0.24161451, 0.68607733],\n",
       "       [0.55342814, 0.25288561, 0.07513447],\n",
       "       [0.13998493, 0.25793953, 0.60566473],\n",
       "       [0.58202625, 0.25037944, 0.05806721],\n",
       "       [0.13755949, 0.22036529, 0.13520219],\n",
       "       [0.2626843 , 0.25005352, 0.26037956],\n",
       "       [0.20518789, 0.25127836, 0.37022304],\n",
       "       [0.23337524, 0.25462754, 0.36501396],\n",
       "       [0.29030882, 0.28539371, 0.68946208],\n",
       "       [0.3733499 , 0.28045186, 0.52168785],\n",
       "       [0.5       , 0.26671005, 0.20475722],\n",
       "       [0.17202911, 0.25185705, 0.44887421],\n",
       "       [0.64781592, 0.27362281, 0.14047187],\n",
       "       [0.10105792, 0.23582331, 0.40278691],\n",
       "       [0.1639504 , 0.24260805, 0.33264595],\n",
       "       [0.82497357, 0.30932927, 0.25865055],\n",
       "       [0.46837367, 0.30243898, 0.69505883],\n",
       "       [0.10304186, 0.23737339, 0.43376707],\n",
       "       [0.54239449, 0.2663688 , 0.16473226],\n",
       "       [0.35598277, 0.29325261, 0.70390119],\n",
       "       [0.66498054, 0.28593603, 0.24206922],\n",
       "       [0.11119694, 0.24761887, 0.53749577],\n",
       "       [0.49465671, 0.25941188, 0.13257506],\n",
       "       [0.53518983, 0.24104656, 0.04209655],\n",
       "       [0.52053359, 0.28803067, 0.43117552],\n",
       "       [0.45215773, 0.26014312, 0.17711463],\n",
       "       [0.40026087, 0.28600906, 0.54827708],\n",
       "       [0.27184674, 0.26296262, 0.41948692],\n",
       "       [0.37232235, 0.29234113, 0.68503259],\n",
       "       [0.51025874, 0.2676922 , 0.20878194],\n",
       "       [0.17659558, 0.26682743, 0.66123263],\n",
       "       [0.24686796, 0.28632268, 0.756525  ],\n",
       "       [0.27936335, 0.25524815, 0.30465983],\n",
       "       [0.51371142, 0.27058792, 0.23648285],\n",
       "       [0.0280255 , 0.23337392, 0.77911222],\n",
       "       [0.71536791, 0.281801  , 0.14895757],\n",
       "       [0.52592201, 0.27729529, 0.28708727],\n",
       "       [0.19911825, 0.2484892 , 0.34525716],\n",
       "       [0.70006576, 0.31050801, 0.46985924],\n",
       "       [0.2380713 , 0.27728757, 0.67330027],\n",
       "       [0.55361222, 0.28978822, 0.41785286],\n",
       "       [0.5766175 , 0.2944342 , 0.44504758],\n",
       "       [0.4612879 , 0.29705823, 0.60583047],\n",
       "       [0.10265535, 0.25340307, 0.65311828],\n",
       "       [0.08398601, 0.26432498, 0.83665437],\n",
       "       [0.13616158, 0.24353394, 0.41313856],\n",
       "       [0.04739541, 0.27946878, 0.96383355],\n",
       "       [0.30854574, 0.25410888, 0.25590289],\n",
       "       [0.30139471, 0.25786563, 0.32288385],\n",
       "       [0.27807017, 0.28270771, 0.67230107],\n",
       "       [0.66080943, 0.27920876, 0.17315175],\n",
       "       [0.11746382, 0.24093539, 0.43481476],\n",
       "       [0.16370814, 0.25803451, 0.55349707],\n",
       "       [0.16093232, 0.24232212, 0.34019624],\n",
       "       [0.24000137, 0.27141508, 0.58814808],\n",
       "       [0.19202106, 0.24951467, 0.3670593 ],\n",
       "       [0.62126576, 0.29758704, 0.43107387],\n",
       "       [0.37068251, 0.26855256, 0.36230742],\n",
       "       [0.78375379, 0.29592173, 0.19208737],\n",
       "       [0.70116101, 0.29445245, 0.27238311],\n",
       "       [0.4016853 , 0.28580656, 0.55764706],\n",
       "       [0.22911161, 0.26182635, 0.48305174],\n",
       "       [0.11278034, 0.22650642, 0.25139324],\n",
       "       [0.29427928, 0.27458687, 0.53733724],\n",
       "       [0.04612815, 0.26681252, 0.92627883],\n",
       "       [0.58061171, 0.27485635, 0.21445916],\n",
       "       [0.49305475, 0.27424504, 0.29313572],\n",
       "       [0.23771291, 0.28016179, 0.71110673],\n",
       "       [0.31268725, 0.23878495, 0.1125471 ],\n",
       "       [0.71031704, 0.3003343 , 0.3485448 ],\n",
       "       [0.75126668, 0.29358501, 0.21666536],\n",
       "       [0.24710854, 0.25369222, 0.34229517]])"
      ]
     },
     "execution_count": 60,
     "metadata": {},
     "output_type": "execute_result"
    }
   ],
   "source": [
    "Y_score_2"
   ]
  },
  {
   "cell_type": "markdown",
   "metadata": {},
   "source": [
    "## K-S\n",
    "1. https://zhuanlan.zhihu.com/p/25993786\n",
    "2. http://www.cnblogs.com/huadongw/p/6415447.html"
   ]
  },
  {
   "cell_type": "code",
   "execution_count": 162,
   "metadata": {},
   "outputs": [],
   "source": [
    "# a= np.random.rand(100)\n",
    "bins = np.array([0.0,0.1,0.2,0.3,0.4,0.5,0.6,0.7,0.8,0.9,1.0])"
   ]
  },
  {
   "cell_type": "code",
   "execution_count": 32,
   "metadata": {},
   "outputs": [
    {
     "data": {
      "text/plain": [
       "[(-0.1, 0.1], (0.4, 0.5], (0.4, 0.5], (0.4, 0.5], (0.4, 0.5], (0.5, 0.6], (0.5, 0.6], (0.6, 0.7], (0.9, 1.0], (0.9, 1.0]]\n",
       "Categories (10, interval[float64]): [(-0.1, 0.1] < (0.1, 0.2] < (0.2, 0.3] < (0.3, 0.4] ... (0.6, 0.7] < (0.7, 0.8] < (0.8, 0.9] < (0.9, 1.0]]"
      ]
     },
     "execution_count": 32,
     "metadata": {},
     "output_type": "execute_result"
    }
   ],
   "source": [
    "# category.sort_values()"
   ]
  },
  {
   "cell_type": "code",
   "execution_count": 33,
   "metadata": {},
   "outputs": [],
   "source": [
    "# b= category.sort_values()"
   ]
  },
  {
   "cell_type": "code",
   "execution_count": 34,
   "metadata": {},
   "outputs": [
    {
     "data": {
      "text/plain": [
       "11"
      ]
     },
     "execution_count": 34,
     "metadata": {},
     "output_type": "execute_result"
    }
   ],
   "source": [
    "# len(bins)"
   ]
  },
  {
   "cell_type": "code",
   "execution_count": 136,
   "metadata": {},
   "outputs": [
    {
     "data": {
      "text/html": [
       "<div>\n",
       "<style scoped>\n",
       "    .dataframe tbody tr th:only-of-type {\n",
       "        vertical-align: middle;\n",
       "    }\n",
       "\n",
       "    .dataframe tbody tr th {\n",
       "        vertical-align: top;\n",
       "    }\n",
       "\n",
       "    .dataframe thead th {\n",
       "        text-align: right;\n",
       "    }\n",
       "</style>\n",
       "<table border=\"1\" class=\"dataframe\">\n",
       "  <thead>\n",
       "    <tr style=\"text-align: right;\">\n",
       "      <th></th>\n",
       "      <th>Y</th>\n",
       "      <th>Y_hat</th>\n",
       "    </tr>\n",
       "  </thead>\n",
       "  <tbody>\n",
       "    <tr>\n",
       "      <th>0</th>\n",
       "      <td>0</td>\n",
       "      <td>0.086696</td>\n",
       "    </tr>\n",
       "    <tr>\n",
       "      <th>1</th>\n",
       "      <td>0</td>\n",
       "      <td>0.392685</td>\n",
       "    </tr>\n",
       "    <tr>\n",
       "      <th>2</th>\n",
       "      <td>1</td>\n",
       "      <td>0.658254</td>\n",
       "    </tr>\n",
       "    <tr>\n",
       "      <th>3</th>\n",
       "      <td>0</td>\n",
       "      <td>0.057105</td>\n",
       "    </tr>\n",
       "    <tr>\n",
       "      <th>4</th>\n",
       "      <td>1</td>\n",
       "      <td>0.553428</td>\n",
       "    </tr>\n",
       "  </tbody>\n",
       "</table>\n",
       "</div>"
      ],
      "text/plain": [
       "   Y     Y_hat\n",
       "0  0  0.086696\n",
       "1  0  0.392685\n",
       "2  1  0.658254\n",
       "3  0  0.057105\n",
       "4  1  0.553428"
      ]
     },
     "execution_count": 136,
     "metadata": {},
     "output_type": "execute_result"
    }
   ],
   "source": [
    "data = {\"Y\":y_test,\"Y_hat\":y_test_p}\n",
    "df = pd.DataFrame(data)\n",
    "df.head()"
   ]
  },
  {
   "cell_type": "code",
   "execution_count": 137,
   "metadata": {},
   "outputs": [],
   "source": [
    "category = pd.cut(df[\"Y_hat\"],bins=bins)\n",
    "category = category.sort_values()"
   ]
  },
  {
   "cell_type": "code",
   "execution_count": 148,
   "metadata": {},
   "outputs": [
    {
     "data": {
      "text/plain": [
       "0     (-0.1, 0.1]\n",
       "67    (-0.1, 0.1]\n",
       "49    (-0.1, 0.1]\n",
       "47    (-0.1, 0.1]\n",
       "37    (-0.1, 0.1]\n",
       "3     (-0.1, 0.1]\n",
       "5      (0.1, 0.2]\n",
       "40     (0.1, 0.2]\n",
       "24     (0.1, 0.2]\n",
       "46     (0.1, 0.2]\n",
       "48     (0.1, 0.2]\n",
       "20     (0.1, 0.2]\n",
       "54     (0.1, 0.2]\n",
       "16     (0.1, 0.2]\n",
       "55     (0.1, 0.2]\n",
       "17     (0.1, 0.2]\n",
       "56     (0.1, 0.2]\n",
       "58     (0.1, 0.2]\n",
       "65     (0.1, 0.2]\n",
       "7      (0.1, 0.2]\n",
       "14     (0.1, 0.2]\n",
       "33     (0.1, 0.2]\n",
       "34     (0.2, 0.3]\n",
       "57     (0.2, 0.3]\n",
       "52     (0.2, 0.3]\n",
       "64     (0.2, 0.3]\n",
       "66     (0.2, 0.3]\n",
       "42     (0.2, 0.3]\n",
       "70     (0.2, 0.3]\n",
       "35     (0.2, 0.3]\n",
       "         ...     \n",
       "63     (0.4, 0.5]\n",
       "13     (0.4, 0.5]\n",
       "19     (0.4, 0.5]\n",
       "45     (0.4, 0.5]\n",
       "29     (0.4, 0.5]\n",
       "28     (0.4, 0.5]\n",
       "25     (0.4, 0.5]\n",
       "21     (0.5, 0.6]\n",
       "32     (0.5, 0.6]\n",
       "6      (0.5, 0.6]\n",
       "68     (0.5, 0.6]\n",
       "27     (0.5, 0.6]\n",
       "36     (0.5, 0.6]\n",
       "4      (0.5, 0.6]\n",
       "39     (0.5, 0.6]\n",
       "26     (0.5, 0.6]\n",
       "43     (0.5, 0.6]\n",
       "44     (0.5, 0.6]\n",
       "23     (0.6, 0.7]\n",
       "15     (0.6, 0.7]\n",
       "53     (0.6, 0.7]\n",
       "2      (0.6, 0.7]\n",
       "59     (0.6, 0.7]\n",
       "62     (0.7, 0.8]\n",
       "38     (0.7, 0.8]\n",
       "73     (0.7, 0.8]\n",
       "41     (0.7, 0.8]\n",
       "72     (0.7, 0.8]\n",
       "61     (0.7, 0.8]\n",
       "18     (0.8, 0.9]\n",
       "Name: Y_hat, Length: 75, dtype: category\n",
       "Categories (10, interval[float64]): [(-0.1, 0.1] < (0.1, 0.2] < (0.2, 0.3] < (0.3, 0.4] ... (0.6, 0.7] < (0.7, 0.8] < (0.8, 0.9] < (0.9, 1.0]]"
      ]
     },
     "execution_count": 148,
     "metadata": {},
     "output_type": "execute_result"
    }
   ],
   "source": [
    "category"
   ]
  },
  {
   "cell_type": "code",
   "execution_count": 138,
   "metadata": {},
   "outputs": [],
   "source": [
    "# 重新排順序\n",
    "Y = df.loc[category.index,:]['Y']\n",
    "Y_hat = df.loc[category.index,:]['Y_hat']\n",
    "df2 = pd.concat([Y,Y_hat],axis=1)\n",
    "df3 = pd.pivot_table(df2,values = ['Y_hat'],index ='Y_hat',columns='Y',aggfunc=len,fill_value=0)\n",
    "df4 = np.cumsum(df3)\n",
    "df5 = df4/df4.max(axis=0)\n",
    "ks = np.max(abs(df5.iloc[:,0] - df5.iloc[:,1]))"
   ]
  },
  {
   "cell_type": "code",
   "execution_count": 164,
   "metadata": {},
   "outputs": [
    {
     "data": {
      "text/html": [
       "<div>\n",
       "<style scoped>\n",
       "    .dataframe tbody tr th:only-of-type {\n",
       "        vertical-align: middle;\n",
       "    }\n",
       "\n",
       "    .dataframe tbody tr th {\n",
       "        vertical-align: top;\n",
       "    }\n",
       "\n",
       "    .dataframe thead th {\n",
       "        text-align: right;\n",
       "    }\n",
       "</style>\n",
       "<table border=\"1\" class=\"dataframe\">\n",
       "  <thead>\n",
       "    <tr style=\"text-align: right;\">\n",
       "      <th></th>\n",
       "      <th>Y</th>\n",
       "      <th>Y_hat</th>\n",
       "      <th>group</th>\n",
       "    </tr>\n",
       "  </thead>\n",
       "  <tbody>\n",
       "    <tr>\n",
       "      <th>0</th>\n",
       "      <td>0</td>\n",
       "      <td>0.086696</td>\n",
       "      <td>[0.0, 0.1)</td>\n",
       "    </tr>\n",
       "    <tr>\n",
       "      <th>1</th>\n",
       "      <td>0</td>\n",
       "      <td>0.392685</td>\n",
       "      <td>[0.3, 0.4)</td>\n",
       "    </tr>\n",
       "    <tr>\n",
       "      <th>2</th>\n",
       "      <td>1</td>\n",
       "      <td>0.658254</td>\n",
       "      <td>[0.6, 0.7)</td>\n",
       "    </tr>\n",
       "    <tr>\n",
       "      <th>3</th>\n",
       "      <td>0</td>\n",
       "      <td>0.057105</td>\n",
       "      <td>[0.0, 0.1)</td>\n",
       "    </tr>\n",
       "    <tr>\n",
       "      <th>4</th>\n",
       "      <td>1</td>\n",
       "      <td>0.553428</td>\n",
       "      <td>[0.5, 0.6)</td>\n",
       "    </tr>\n",
       "  </tbody>\n",
       "</table>\n",
       "</div>"
      ],
      "text/plain": [
       "   Y     Y_hat       group\n",
       "0  0  0.086696  [0.0, 0.1)\n",
       "1  0  0.392685  [0.3, 0.4)\n",
       "2  1  0.658254  [0.6, 0.7)\n",
       "3  0  0.057105  [0.0, 0.1)\n",
       "4  1  0.553428  [0.5, 0.6)"
      ]
     },
     "execution_count": 164,
     "metadata": {},
     "output_type": "execute_result"
    }
   ],
   "source": [
    "data = {\"Y\":y_test,\"Y_hat\":y_test_p}\n",
    "df = pd.DataFrame(data)\n",
    "df['group'] = pd.cut(df[\"Y_hat\"], bins= bins, right=False)\n",
    "df.head()"
   ]
  },
  {
   "cell_type": "code",
   "execution_count": 167,
   "metadata": {},
   "outputs": [
    {
     "name": "stdout",
     "output_type": "stream",
     "text": [
      "ks: 0.75\n"
     ]
    }
   ],
   "source": [
    "df3 = pd.pivot_table(df.sort_values(by='group'),values = ['group'],index='group',columns='Y',aggfunc=len,fill_value=0)\n",
    "df4 = np.cumsum(df3)\n",
    "df5 = df4/df4.max(axis=0)\n",
    "ks = np.max(abs(df5.iloc[:,0] - df5.iloc[:,1]))\n",
    "print('ks: %0.2f'%ks)"
   ]
  },
  {
   "cell_type": "code",
   "execution_count": 168,
   "metadata": {},
   "outputs": [
    {
     "data": {
      "text/plain": [
       "3"
      ]
     },
     "execution_count": 168,
     "metadata": {},
     "output_type": "execute_result"
    }
   ],
   "source": [
    "ind = abs(df5.iloc[:,0] - df5.iloc[:,1]).values.argmax()\n",
    "ind"
   ]
  },
  {
   "cell_type": "code",
   "execution_count": 140,
   "metadata": {},
   "outputs": [],
   "source": [
    "b = abs(df5.iloc[:,0] - df5.iloc[:,1])"
   ]
  },
  {
   "cell_type": "code",
   "execution_count": 102,
   "metadata": {},
   "outputs": [
    {
     "data": {
      "text/plain": [
       "0.7566137566137566"
      ]
     },
     "execution_count": 102,
     "metadata": {},
     "output_type": "execute_result"
    }
   ],
   "source": [
    "ks"
   ]
  },
  {
   "cell_type": "code",
   "execution_count": 145,
   "metadata": {},
   "outputs": [
    {
     "data": {
      "text/plain": [
       "0     0.086696\n",
       "1     0.046128\n",
       "2     0.047395\n",
       "3     0.083986\n",
       "4     0.028026\n",
       "5     0.057105\n",
       "6     0.139985\n",
       "7     0.199118\n",
       "8     0.111197\n",
       "9     0.102655\n",
       "10    0.136162\n",
       "11    0.103042\n",
       "12    0.117464\n",
       "13    0.101058\n",
       "14    0.163708\n",
       "15    0.163950\n",
       "16    0.160932\n",
       "17    0.192021\n",
       "18    0.112780\n",
       "19    0.137559\n",
       "20    0.172029\n",
       "21    0.176596\n",
       "22    0.246868\n",
       "23    0.240001\n",
       "24    0.278070\n",
       "25    0.229112\n",
       "26    0.294279\n",
       "27    0.238071\n",
       "28    0.237713\n",
       "29    0.279363\n",
       "        ...   \n",
       "45    0.401685\n",
       "46    0.500000\n",
       "47    0.468374\n",
       "48    0.461288\n",
       "49    0.400261\n",
       "50    0.452158\n",
       "51    0.494657\n",
       "52    0.542394\n",
       "53    0.510259\n",
       "54    0.582026\n",
       "55    0.580612\n",
       "56    0.520534\n",
       "57    0.513711\n",
       "58    0.553428\n",
       "59    0.525922\n",
       "60    0.535190\n",
       "61    0.553612\n",
       "62    0.576617\n",
       "63    0.664981\n",
       "64    0.647816\n",
       "65    0.660809\n",
       "66    0.658254\n",
       "67    0.621266\n",
       "68    0.701161\n",
       "69    0.715368\n",
       "70    0.751267\n",
       "71    0.700066\n",
       "72    0.710317\n",
       "73    0.783754\n",
       "74    0.824974\n",
       "Name: Y_hat, Length: 75, dtype: float64"
      ]
     },
     "execution_count": 145,
     "metadata": {},
     "output_type": "execute_result"
    }
   ],
   "source": [
    "Y_hat.reset_index(drop=True)"
   ]
  },
  {
   "cell_type": "code",
   "execution_count": null,
   "metadata": {},
   "outputs": [],
   "source": []
  },
  {
   "cell_type": "code",
   "execution_count": 170,
   "metadata": {},
   "outputs": [
    {
     "data": {
      "image/png": "[encoded data removed]",
      "text/plain": [
       "<matplotlib.figure.Figure at 0x10eb1b278>"
      ]
     },
     "metadata": {},
     "output_type": "display_data"
    }
   ],
   "source": [
    "plt.figure()\n",
    "lw = 2\n",
    "plt.plot(bins[1:],abs(df5.iloc[:,0] - df5.iloc[:,1]), color='darkorange',lw=lw, label='KS curve (KS= %0.2f)' % ks)\n",
    "plt.plot(bins[1:], df5.iloc[:,0].reset_index(drop=True), color='blue',lw=lw, label='fpr')\n",
    "plt.plot(bins[1:], df5.iloc[:,1].reset_index(drop=True), color='green',lw=lw, label='tpr')\n",
    "#plt.plot([0, 1], [0, 1], color='navy', lw=lw, linestyle='--')\n",
    "plt.xlim([0.0, 1.0])\n",
    "plt.ylim([0.0, 1.05])\n",
    "plt.xlabel('Treshold')\n",
    "plt.ylabel('KS-Value')\n",
    "plt.title('KS Curve')\n",
    "plt.legend(loc=\"lower right\")\n",
    "plt.show()"
   ]
  },
  {
   "cell_type": "code",
   "execution_count": 62,
   "metadata": {},
   "outputs": [
    {
     "name": "stderr",
     "output_type": "stream",
     "text": [
      "/usr/local/lib/python3.6/site-packages/ipykernel_launcher.py:10: DeprecationWarning: \n",
      ".ix is deprecated. Please use\n",
      ".loc for label based indexing or\n",
      ".iloc for positional indexing\n",
      "\n",
      "See the documentation here:\n",
      "http://pandas.pydata.org/pandas-docs/stable/indexing.html#ix-indexer-is-deprecated\n",
      "  # Remove the CWD from sys.path while we load stuff.\n"
     ]
    }
   ],
   "source": [
    "# 資料區分原來的Y 與 預測的Y\n",
    "data = {\"Y\":y_test,\"Y_hat\":y_test_p}\n",
    "df = pd.DataFrame(data)\n",
    "# 將資料區分為10等分\n",
    "bins = np.array([-0.1,0.1,0.2,0.3,0.4,0.5,0.6,0.7,0.8,0.9,1.0])\n",
    "\n",
    "category = pd.cut(df[\"Y_hat\"],bins=bins)\n",
    "category = category.sort_values()\n",
    "#max_index = len(np.unique(df[\"Y_hat\"]))\n",
    "Y = df.ix[category.index,:]['Y']\n",
    "Y_hat = df.ix[category.index,:]['Y_hat']\n",
    "df2 = pd.concat([Y,Y_hat],axis=1)\n",
    "df3 = pd.pivot_table(df2,values = ['Y_hat'],index ='Y_hat',columns='Y',aggfunc=len,fill_value=0)\n",
    "df4 = np.cumsum(df3)\n",
    "df5 = df4/df4.iloc[:,1].max()\n",
    "ks = max(abs(df5.iloc[:,0] - df5.iloc[:,1]))\n",
    "#return ks/len(bins)"
   ]
  },
  {
   "cell_type": "code",
   "execution_count": null,
   "metadata": {},
   "outputs": [],
   "source": []
  }
 ],
 "metadata": {
  "kernelspec": {
   "display_name": "Python 3",
   "language": "python",
   "name": "python3"
  },
  "language_info": {
   "codemirror_mode": {
    "name": "ipython",
    "version": 3
   },
   "file_extension": ".py",
   "mimetype": "text/x-python",
   "name": "python",
   "nbconvert_exporter": "python",
   "pygments_lexer": "ipython3",
   "version": "3.6.4"
  }
 },
 "nbformat": 4,
 "nbformat_minor": 2
}
