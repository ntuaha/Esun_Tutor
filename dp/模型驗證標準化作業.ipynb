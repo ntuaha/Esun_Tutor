{
 "cells": [
  {
   "cell_type": "markdown",
   "metadata": {},
   "source": [
    "# 驗證模型的各項指標\n",
    "\n",
    "參考文件\n",
    "1. http://scikit-learn.org/stable/auto_examples/model_selection/plot_roc.html\n",
    "2. https://blog.csdn.net/cherdw/article/details/55813071\n",
    "3. http://alexkong.net/2013/06/introduction-to-auc-and-roc/"
   ]
  },
  {
   "cell_type": "code",
   "execution_count": 2,
   "metadata": {},
   "outputs": [],
   "source": [
    "import numpy as np\n",
    "import matplotlib.pyplot as plt\n",
    "from sklearn.metrics import roc_curve, auc\n",
    "%matplotlib inline"
   ]
  },
  {
   "cell_type": "code",
   "execution_count": 4,
   "metadata": {},
   "outputs": [],
   "source": [
    "from itertools import cycle\n",
    "from sklearn.model_selection import train_test_split\n",
    "from sklearn.preprocessing import label_binarize\n",
    "from sklearn.multiclass import OneVsRestClassifier\n",
    "from scipy import interp\n",
    "from sklearn import svm, datasets"
   ]
  },
  {
   "cell_type": "markdown",
   "metadata": {},
   "source": [
    "##  範例\n",
    "取得資料集"
   ]
  },
  {
   "cell_type": "code",
   "execution_count": 9,
   "metadata": {},
   "outputs": [],
   "source": [
    "import pandas as pd"
   ]
  },
  {
   "cell_type": "code",
   "execution_count": 30,
   "metadata": {},
   "outputs": [],
   "source": [
    "iris = datasets.load_iris()\n",
    "X = iris.data\n",
    "Y = iris.target"
   ]
  },
  {
   "cell_type": "markdown",
   "metadata": {},
   "source": [
    "將Y轉乘one-hot vector"
   ]
  },
  {
   "cell_type": "code",
   "execution_count": 31,
   "metadata": {},
   "outputs": [
    {
     "name": "stdout",
     "output_type": "stream",
     "text": [
      "n_classes:3\n"
     ]
    }
   ],
   "source": [
    "Y_2 = label_binarize(Y, classes=[0, 1, 2])\n",
    "n_classes = y.shape[1]\n",
    "print(\"n_classes:%d\"%n_classes)"
   ]
  },
  {
   "cell_type": "markdown",
   "metadata": {},
   "source": [
    "無聊增加800個沒意義的變數，讓問題變更難一點"
   ]
  },
  {
   "cell_type": "code",
   "execution_count": 34,
   "metadata": {},
   "outputs": [
    {
     "name": "stdout",
     "output_type": "stream",
     "text": [
      "n_samples:150, n_features:4\n"
     ]
    },
    {
     "data": {
      "text/html": [
       "<div>\n",
       "<style scoped>\n",
       "    .dataframe tbody tr th:only-of-type {\n",
       "        vertical-align: middle;\n",
       "    }\n",
       "\n",
       "    .dataframe tbody tr th {\n",
       "        vertical-align: top;\n",
       "    }\n",
       "\n",
       "    .dataframe thead th {\n",
       "        text-align: right;\n",
       "    }\n",
       "</style>\n",
       "<table border=\"1\" class=\"dataframe\">\n",
       "  <thead>\n",
       "    <tr style=\"text-align: right;\">\n",
       "      <th></th>\n",
       "      <th>0</th>\n",
       "      <th>1</th>\n",
       "      <th>2</th>\n",
       "      <th>3</th>\n",
       "      <th>4</th>\n",
       "      <th>5</th>\n",
       "      <th>6</th>\n",
       "      <th>7</th>\n",
       "      <th>8</th>\n",
       "      <th>9</th>\n",
       "      <th>...</th>\n",
       "      <th>794</th>\n",
       "      <th>795</th>\n",
       "      <th>796</th>\n",
       "      <th>797</th>\n",
       "      <th>798</th>\n",
       "      <th>799</th>\n",
       "      <th>800</th>\n",
       "      <th>801</th>\n",
       "      <th>802</th>\n",
       "      <th>803</th>\n",
       "    </tr>\n",
       "  </thead>\n",
       "  <tbody>\n",
       "    <tr>\n",
       "      <th>0</th>\n",
       "      <td>5.1</td>\n",
       "      <td>3.5</td>\n",
       "      <td>1.4</td>\n",
       "      <td>0.2</td>\n",
       "      <td>1.764052</td>\n",
       "      <td>0.400157</td>\n",
       "      <td>0.978738</td>\n",
       "      <td>2.240893</td>\n",
       "      <td>1.867558</td>\n",
       "      <td>-0.977278</td>\n",
       "      <td>...</td>\n",
       "      <td>-0.757871</td>\n",
       "      <td>-0.050084</td>\n",
       "      <td>-0.897401</td>\n",
       "      <td>1.312470</td>\n",
       "      <td>-0.858972</td>\n",
       "      <td>-0.898942</td>\n",
       "      <td>0.074586</td>\n",
       "      <td>-1.077099</td>\n",
       "      <td>-0.424663</td>\n",
       "      <td>-0.829965</td>\n",
       "    </tr>\n",
       "    <tr>\n",
       "      <th>1</th>\n",
       "      <td>4.9</td>\n",
       "      <td>3.0</td>\n",
       "      <td>1.4</td>\n",
       "      <td>0.2</td>\n",
       "      <td>1.411172</td>\n",
       "      <td>0.785804</td>\n",
       "      <td>-0.057470</td>\n",
       "      <td>-0.391217</td>\n",
       "      <td>0.940918</td>\n",
       "      <td>0.405204</td>\n",
       "      <td>...</td>\n",
       "      <td>-1.116950</td>\n",
       "      <td>-0.035297</td>\n",
       "      <td>0.241204</td>\n",
       "      <td>1.127784</td>\n",
       "      <td>0.881131</td>\n",
       "      <td>1.032989</td>\n",
       "      <td>-0.923912</td>\n",
       "      <td>1.412152</td>\n",
       "      <td>-1.380431</td>\n",
       "      <td>-0.535915</td>\n",
       "    </tr>\n",
       "    <tr>\n",
       "      <th>2</th>\n",
       "      <td>4.7</td>\n",
       "      <td>3.2</td>\n",
       "      <td>1.3</td>\n",
       "      <td>0.2</td>\n",
       "      <td>0.430771</td>\n",
       "      <td>-0.149892</td>\n",
       "      <td>-1.006037</td>\n",
       "      <td>-0.821550</td>\n",
       "      <td>-1.548254</td>\n",
       "      <td>0.531975</td>\n",
       "      <td>...</td>\n",
       "      <td>-0.110591</td>\n",
       "      <td>-0.432432</td>\n",
       "      <td>1.077037</td>\n",
       "      <td>-0.224827</td>\n",
       "      <td>-0.576242</td>\n",
       "      <td>0.574609</td>\n",
       "      <td>-0.489828</td>\n",
       "      <td>0.658802</td>\n",
       "      <td>-0.596917</td>\n",
       "      <td>-0.222959</td>\n",
       "    </tr>\n",
       "    <tr>\n",
       "      <th>3</th>\n",
       "      <td>4.6</td>\n",
       "      <td>3.1</td>\n",
       "      <td>1.5</td>\n",
       "      <td>0.2</td>\n",
       "      <td>0.152177</td>\n",
       "      <td>-0.374126</td>\n",
       "      <td>-0.013451</td>\n",
       "      <td>0.815472</td>\n",
       "      <td>0.410602</td>\n",
       "      <td>0.480970</td>\n",
       "      <td>...</td>\n",
       "      <td>0.847408</td>\n",
       "      <td>-0.198720</td>\n",
       "      <td>1.575307</td>\n",
       "      <td>0.849115</td>\n",
       "      <td>-1.228895</td>\n",
       "      <td>0.888394</td>\n",
       "      <td>-0.516487</td>\n",
       "      <td>-0.083326</td>\n",
       "      <td>0.131054</td>\n",
       "      <td>-0.879096</td>\n",
       "    </tr>\n",
       "    <tr>\n",
       "      <th>4</th>\n",
       "      <td>5.0</td>\n",
       "      <td>3.6</td>\n",
       "      <td>1.4</td>\n",
       "      <td>0.2</td>\n",
       "      <td>-1.333342</td>\n",
       "      <td>0.367784</td>\n",
       "      <td>-1.388233</td>\n",
       "      <td>-2.575203</td>\n",
       "      <td>-0.836106</td>\n",
       "      <td>0.331092</td>\n",
       "      <td>...</td>\n",
       "      <td>-1.468367</td>\n",
       "      <td>0.576479</td>\n",
       "      <td>0.065306</td>\n",
       "      <td>-0.773513</td>\n",
       "      <td>0.394948</td>\n",
       "      <td>-0.503890</td>\n",
       "      <td>1.779559</td>\n",
       "      <td>-0.030572</td>\n",
       "      <td>1.577088</td>\n",
       "      <td>-0.812802</td>\n",
       "    </tr>\n",
       "  </tbody>\n",
       "</table>\n",
       "<p>5 rows × 804 columns</p>\n",
       "</div>"
      ],
      "text/plain": [
       "   0    1    2    3         4         5         6         7         8    \\\n",
       "0  5.1  3.5  1.4  0.2  1.764052  0.400157  0.978738  2.240893  1.867558   \n",
       "1  4.9  3.0  1.4  0.2  1.411172  0.785804 -0.057470 -0.391217  0.940918   \n",
       "2  4.7  3.2  1.3  0.2  0.430771 -0.149892 -1.006037 -0.821550 -1.548254   \n",
       "3  4.6  3.1  1.5  0.2  0.152177 -0.374126 -0.013451  0.815472  0.410602   \n",
       "4  5.0  3.6  1.4  0.2 -1.333342  0.367784 -1.388233 -2.575203 -0.836106   \n",
       "\n",
       "        9      ...          794       795       796       797       798  \\\n",
       "0 -0.977278    ...    -0.757871 -0.050084 -0.897401  1.312470 -0.858972   \n",
       "1  0.405204    ...    -1.116950 -0.035297  0.241204  1.127784  0.881131   \n",
       "2  0.531975    ...    -0.110591 -0.432432  1.077037 -0.224827 -0.576242   \n",
       "3  0.480970    ...     0.847408 -0.198720  1.575307  0.849115 -1.228895   \n",
       "4  0.331092    ...    -1.468367  0.576479  0.065306 -0.773513  0.394948   \n",
       "\n",
       "        799       800       801       802       803  \n",
       "0 -0.898942  0.074586 -1.077099 -0.424663 -0.829965  \n",
       "1  1.032989 -0.923912  1.412152 -1.380431 -0.535915  \n",
       "2  0.574609 -0.489828  0.658802 -0.596917 -0.222959  \n",
       "3  0.888394 -0.516487 -0.083326  0.131054 -0.879096  \n",
       "4 -0.503890  1.779559 -0.030572  1.577088 -0.812802  \n",
       "\n",
       "[5 rows x 804 columns]"
      ]
     },
     "execution_count": 34,
     "metadata": {},
     "output_type": "execute_result"
    }
   ],
   "source": [
    "random_state = np.random.RandomState(0)\n",
    "n_samples, n_features = X.shape\n",
    "print(\"n_samples:%d, n_features:%d\"%X.shape)\n",
    "X_2 = np.c_[X, random_state.randn(n_samples, 200 * n_features)]\n",
    "pd.DataFrame(X_2).head()"
   ]
  },
  {
   "cell_type": "markdown",
   "metadata": {},
   "source": [
    "分割資料為 train 與 test 資料集"
   ]
  },
  {
   "cell_type": "code",
   "execution_count": 35,
   "metadata": {},
   "outputs": [],
   "source": [
    "X_train, X_test, Y_train, Y_test = train_test_split(X_2, Y_2, test_size=.5,random_state=0)"
   ]
  },
  {
   "cell_type": "code",
   "execution_count": 38,
   "metadata": {},
   "outputs": [
    {
     "data": {
      "text/plain": [
       "(75, 804)"
      ]
     },
     "execution_count": 38,
     "metadata": {},
     "output_type": "execute_result"
    }
   ],
   "source": [
    "X_test.shape"
   ]
  },
  {
   "cell_type": "markdown",
   "metadata": {},
   "source": [
    "建立模型"
   ]
  },
  {
   "cell_type": "code",
   "execution_count": 40,
   "metadata": {},
   "outputs": [],
   "source": [
    "classifier = OneVsRestClassifier(svm.SVC(kernel='linear', probability=True,random_state=random_state))\n",
    "model = classifier.fit(X_train, Y_train)"
   ]
  },
  {
   "cell_type": "markdown",
   "metadata": {},
   "source": [
    "取得score"
   ]
  },
  {
   "cell_type": "code",
   "execution_count": 43,
   "metadata": {},
   "outputs": [],
   "source": [
    "Y_score = model.decision_function(X_test)"
   ]
  },
  {
   "cell_type": "markdown",
   "metadata": {},
   "source": [
    "計算作圖資料"
   ]
  },
  {
   "cell_type": "code",
   "execution_count": 44,
   "metadata": {},
   "outputs": [],
   "source": [
    "fpr = dict()\n",
    "tpr = dict()\n",
    "roc_auc = dict()\n",
    "for i in range(n_classes):\n",
    "    fpr[i], tpr[i], _ = roc_curve(Y_test[:, i], Y_score[:, i])\n",
    "    roc_auc[i] = auc(fpr[i], tpr[i])\n",
    "\n",
    "# Compute micro-average ROC curve and ROC area\n",
    "# 其中 np.ravel() 就是做 flatten但不做變數clone，直接回傳reference\n",
    "fpr[\"micro\"], tpr[\"micro\"], _ = roc_curve(Y_test.ravel(), Y_score.ravel())\n",
    "roc_auc[\"micro\"] = auc(fpr[\"micro\"], tpr[\"micro\"])"
   ]
  },
  {
   "cell_type": "code",
   "execution_count": 56,
   "metadata": {},
   "outputs": [
    {
     "data": {
      "text/plain": [
       "array([[0, 0, 1],\n",
       "       [0, 1, 0],\n",
       "       [1, 0, 0],\n",
       "       [0, 0, 1],\n",
       "       [1, 0, 0],\n",
       "       [0, 0, 1],\n",
       "       [1, 0, 0],\n",
       "       [0, 1, 0],\n",
       "       [0, 1, 0],\n",
       "       [0, 1, 0],\n",
       "       [0, 0, 1],\n",
       "       [0, 1, 0],\n",
       "       [0, 1, 0],\n",
       "       [0, 1, 0],\n",
       "       [0, 1, 0],\n",
       "       [1, 0, 0],\n",
       "       [0, 1, 0],\n",
       "       [0, 1, 0],\n",
       "       [1, 0, 0],\n",
       "       [1, 0, 0],\n",
       "       [0, 0, 1],\n",
       "       [0, 1, 0],\n",
       "       [1, 0, 0],\n",
       "       [1, 0, 0],\n",
       "       [0, 0, 1],\n",
       "       [1, 0, 0],\n",
       "       [1, 0, 0],\n",
       "       [0, 1, 0],\n",
       "       [0, 1, 0],\n",
       "       [1, 0, 0],\n",
       "       [0, 0, 1],\n",
       "       [0, 1, 0],\n",
       "       [1, 0, 0],\n",
       "       [0, 0, 1],\n",
       "       [0, 0, 1],\n",
       "       [0, 1, 0],\n",
       "       [1, 0, 0],\n",
       "       [0, 1, 0],\n",
       "       [0, 1, 0],\n",
       "       [0, 1, 0],\n",
       "       [0, 0, 1],\n",
       "       [1, 0, 0],\n",
       "       [0, 0, 1],\n",
       "       [1, 0, 0],\n",
       "       [1, 0, 0],\n",
       "       [0, 1, 0],\n",
       "       [0, 0, 1],\n",
       "       [0, 0, 1],\n",
       "       [0, 0, 1],\n",
       "       [0, 0, 1],\n",
       "       [0, 1, 0],\n",
       "       [0, 0, 1],\n",
       "       [0, 1, 0],\n",
       "       [0, 1, 0],\n",
       "       [0, 0, 1],\n",
       "       [0, 0, 1],\n",
       "       [0, 0, 1],\n",
       "       [0, 0, 1],\n",
       "       [0, 1, 0],\n",
       "       [0, 0, 1],\n",
       "       [0, 1, 0],\n",
       "       [1, 0, 0],\n",
       "       [0, 0, 1],\n",
       "       [0, 1, 0],\n",
       "       [0, 1, 0],\n",
       "       [0, 1, 0],\n",
       "       [0, 1, 0],\n",
       "       [0, 0, 1],\n",
       "       [1, 0, 0],\n",
       "       [1, 0, 0],\n",
       "       [0, 0, 1],\n",
       "       [0, 1, 0],\n",
       "       [1, 0, 0],\n",
       "       [1, 0, 0],\n",
       "       [0, 1, 0]])"
      ]
     },
     "execution_count": 56,
     "metadata": {},
     "output_type": "execute_result"
    }
   ],
   "source": [
    "Y_test[:,]"
   ]
  },
  {
   "cell_type": "code",
   "execution_count": 53,
   "metadata": {},
   "outputs": [
    {
     "data": {
      "text/plain": [
       "{0: 0.9118165784832452,\n",
       " 1: 0.6029629629629629,\n",
       " 2: 0.7859477124183007,\n",
       " 'micro': 0.7274666666666667}"
      ]
     },
     "execution_count": 53,
     "metadata": {},
     "output_type": "execute_result"
    }
   ],
   "source": [
    "roc_auc"
   ]
  },
  {
   "cell_type": "code",
   "execution_count": 50,
   "metadata": {},
   "outputs": [
    {
     "data": {
      "text/plain": [
       "0.7274666666666667"
      ]
     },
     "execution_count": 50,
     "metadata": {},
     "output_type": "execute_result"
    }
   ],
   "source": [
    "roc_auc[\"micro\"]"
   ]
  },
  {
   "cell_type": "markdown",
   "metadata": {},
   "source": [
    "作圖"
   ]
  },
  {
   "cell_type": "markdown",
   "metadata": {},
   "source": [
    "- FPR = 不會發生，但預測發生的比率 = NP / N\n",
    "- TPR = 會發生，預測發生的比率 = TP / P\n",
    "- 最理想狀況 (FPR,TPR) = (0,1), 但是最糟糕就是 (FPR,TPR) = (1,0), 然後全部預測不會發生就是(0,0) 預測全部發生就會是(1,1)\n",
    "- 所以最理想的預測就是整個曲線越往左上越好\n",
    "- 基本上在AUC上，y = x 幾乎就是隨機作圖的成果，任一個模型應該都會是比這個好，因為反指標就逆向拿來做就可以了\n"
   ]
  },
  {
   "cell_type": "code",
   "execution_count": 51,
   "metadata": {},
   "outputs": [
    {
     "data": {
      "image/png": "[encoded data removed]",
      "text/plain": [
       "<matplotlib.figure.Figure at 0x1096e5f98>"
      ]
     },
     "metadata": {},
     "output_type": "display_data"
    }
   ],
   "source": [
    "plt.figure()\n",
    "lw = 2\n",
    "plt.plot(fpr[2], tpr[2], color='darkorange',lw=lw, label='ROC curve (area = %0.2f)' % roc_auc[2])\n",
    "plt.plot([0, 1], [0, 1], color='navy', lw=lw, linestyle='--')\n",
    "plt.xlim([0.0, 1.0])\n",
    "plt.ylim([0.0, 1.05])\n",
    "plt.xlabel('False Positive Rate')\n",
    "plt.ylabel('True Positive Rate')\n",
    "plt.title('Receiver operating characteristic example')\n",
    "plt.legend(loc=\"lower right\")\n",
    "plt.show()"
   ]
  },
  {
   "cell_type": "markdown",
   "metadata": {},
   "source": [
    "## K-S\n",
    "1. https://zhuanlan.zhihu.com/p/25993786\n",
    "2. http://www.cnblogs.com/huadongw/p/6415447.html"
   ]
  },
  {
   "cell_type": "code",
   "execution_count": 1,
   "metadata": {},
   "outputs": [],
   "source": [
    "import pandas as pd"
   ]
  },
  {
   "cell_type": "code",
   "execution_count": 4,
   "metadata": {},
   "outputs": [],
   "source": [
    "import numpy as np"
   ]
  },
  {
   "cell_type": "code",
   "execution_count": 5,
   "metadata": {},
   "outputs": [],
   "source": [
    "a= np.random.rand(10)\n",
    "bins = np.array([-0.1,0.1,0.2,0.3,0.4,0.5,0.6,0.7,0.8,0.9,1.0])"
   ]
  },
  {
   "cell_type": "code",
   "execution_count": 10,
   "metadata": {},
   "outputs": [
    {
     "data": {
      "text/plain": [
       "array([0.29966832, 0.40456138, 0.78706707, 0.05517904, 0.4745436 ,\n",
       "       0.04762267, 0.39601571, 0.62956604, 0.38915949, 0.55020499])"
      ]
     },
     "execution_count": 10,
     "metadata": {},
     "output_type": "execute_result"
    }
   ],
   "source": [
    "a"
   ]
  },
  {
   "cell_type": "code",
   "execution_count": 8,
   "metadata": {},
   "outputs": [
    {
     "name": "stdout",
     "output_type": "stream",
     "text": [
      "[(0.2, 0.3], (0.4, 0.5], (0.7, 0.8], (-0.1, 0.1], (0.4, 0.5], (-0.1, 0.1], (0.3, 0.4], (0.6, 0.7], (0.3, 0.4], (0.5, 0.6]]\n",
      "Categories (10, interval[float64]): [(-0.1, 0.1] < (0.1, 0.2] < (0.2, 0.3] < (0.3, 0.4] ... (0.6, 0.7] < (0.7, 0.8] < (0.8, 0.9] < (0.9, 1.0]]\n"
     ]
    }
   ],
   "source": [
    "category = pd.cut(a,bins=bins)\n",
    "print(category)"
   ]
  },
  {
   "cell_type": "code",
   "execution_count": 9,
   "metadata": {},
   "outputs": [
    {
     "data": {
      "text/plain": [
       "[(-0.1, 0.1], (-0.1, 0.1], (0.2, 0.3], (0.3, 0.4], (0.3, 0.4], (0.4, 0.5], (0.4, 0.5], (0.5, 0.6], (0.6, 0.7], (0.7, 0.8]]\n",
       "Categories (10, interval[float64]): [(-0.1, 0.1] < (0.1, 0.2] < (0.2, 0.3] < (0.3, 0.4] ... (0.6, 0.7] < (0.7, 0.8] < (0.8, 0.9] < (0.9, 1.0]]"
      ]
     },
     "execution_count": 9,
     "metadata": {},
     "output_type": "execute_result"
    }
   ],
   "source": [
    "category.sort_values()"
   ]
  },
  {
   "cell_type": "code",
   "execution_count": 13,
   "metadata": {},
   "outputs": [],
   "source": [
    "b= category.sort_values()"
   ]
  },
  {
   "cell_type": "code",
   "execution_count": 16,
   "metadata": {},
   "outputs": [
    {
     "data": {
      "text/plain": [
       "11"
      ]
     },
     "execution_count": 16,
     "metadata": {},
     "output_type": "execute_result"
    }
   ],
   "source": [
    "len(bins)"
   ]
  },
  {
   "cell_type": "code",
   "execution_count": null,
   "metadata": {},
   "outputs": [],
   "source": [
    "# 資料區分原來的Y 與 預測的Y\n",
    "data = {\"Y\":Y,\"Y_hat\":Y_hat}\n",
    "df = pd.DataFrame(data)\n",
    "# 將資料區分為10等分\n",
    "bins = np.array([-0.1,0.1,0.2,0.3,0.4,0.5,0.6,0.7,0.8,0.9,1.0])\n",
    "\n",
    "category = pd.cut(df[\"Y_hat\"],bins=bins)\n",
    "category = category.sort_values()\n",
    "#max_index = len(np.unique(df[\"Y_hat\"]))\n",
    "Y = df.ix[category.index,:]['Y']\n",
    "Y_hat = df.ix[category.index,:]['Y_hat']\n",
    "df2 = pd.concat([Y,Y_hat],axis=1)\n",
    "df3 = pd.pivot_table(df2,values = ['Y_hat'],index ='Y_hat',columns='Y',aggfunc=len,fill_value=0)\n",
    "df4 = np.cumsum(df3)\n",
    "df5 = df4/df4.iloc[:,1].max()\n",
    "ks = max(abs(df5.iloc[:,0] - df5.iloc[:,1]))\n",
    "return ks/len(bins)"
   ]
  }
 ],
 "metadata": {
  "kernelspec": {
   "display_name": "Python 3",
   "language": "python",
   "name": "python3"
  },
  "language_info": {
   "codemirror_mode": {
    "name": "ipython",
    "version": 3
   },
   "file_extension": ".py",
   "mimetype": "text/x-python",
   "name": "python",
   "nbconvert_exporter": "python",
   "pygments_lexer": "ipython3",
   "version": "3.6.4"
  }
 },
 "nbformat": 4,
 "nbformat_minor": 2
}
