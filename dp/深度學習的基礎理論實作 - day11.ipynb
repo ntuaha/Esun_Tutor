{
 "cells": [
  {
   "cell_type": "markdown",
   "metadata": {},
   "source": [
    "20180312"
   ]
  },
  {
   "cell_type": "code",
   "execution_count": 1,
   "metadata": {},
   "outputs": [
    {
     "name": "stderr",
     "output_type": "stream",
     "text": [
      "Using TensorFlow backend.\n"
     ]
    }
   ],
   "source": [
    "#import tensorflow as tf\n",
    "import keras"
   ]
  },
  {
   "cell_type": "code",
   "execution_count": 2,
   "metadata": {},
   "outputs": [],
   "source": [
    "import numpy as np\n",
    "import matplotlib.image as mpimg\n",
    "import matplotlib.pyplot as plt\n",
    "%matplotlib inline"
   ]
  },
  {
   "cell_type": "code",
   "execution_count": 3,
   "metadata": {},
   "outputs": [],
   "source": [
    "from sklearn import datasets\n",
    "def load_data(size):\n",
    "    mnist = datasets.fetch_mldata('MNIST original')\n",
    "    s = mnist.data.shape[0]\n",
    "    c = np.zeros(s)\n",
    "    c[np.random.choice(s,size,replace=False)] = 1\n",
    "    #n_train = size\n",
    "    data_train = mnist.data[c==1]\n",
    "    target_train = mnist.target[c==1]\n",
    "    data_test = mnist.data[c==0]\n",
    "    target_test = mnist.target[c==0]\n",
    "    return (data_train.astype(np.float32), target_train.astype(np.float32),data_test.astype(np.float32), target_test.astype(np.float32))\n"
   ]
  },
  {
   "cell_type": "code",
   "execution_count": 4,
   "metadata": {},
   "outputs": [],
   "source": [
    "(x_train,t_train,x_test,t_test) = load_data(20000)"
   ]
  },
  {
   "cell_type": "code",
   "execution_count": 5,
   "metadata": {},
   "outputs": [],
   "source": [
    "t_train_2 = keras.utils.to_categorical(t_train, num_classes=10)\n",
    "t_test_2 = keras.utils.to_categorical(t_test, num_classes=10)\n",
    "x_train_2 = (x_train/255).reshape(x_train.shape[0],28,28,-1)\n",
    "x_test_2 = (x_test/255).reshape(x_test.shape[0],28,28,1)"
   ]
  },
  {
   "cell_type": "code",
   "execution_count": 6,
   "metadata": {},
   "outputs": [
    {
     "data": {
      "text/plain": [
       "(50000, 28, 28, 1)"
      ]
     },
     "execution_count": 6,
     "metadata": {},
     "output_type": "execute_result"
    }
   ],
   "source": [
    "x_test_2.shape"
   ]
  },
  {
   "cell_type": "code",
   "execution_count": 7,
   "metadata": {},
   "outputs": [],
   "source": [
    "iters_num = 10000\n",
    "batch_size = 100\n",
    "epochs = 50"
   ]
  },
  {
   "cell_type": "code",
   "execution_count": 8,
   "metadata": {},
   "outputs": [
    {
     "name": "stdout",
     "output_type": "stream",
     "text": [
      "Epoch 1/50\n",
      "20000/20000 [==============================] - 43s 2ms/step - loss: nan - acc: 0.1013\n",
      "Epoch 2/50\n",
      "20000/20000 [==============================] - 42s 2ms/step - loss: nan - acc: 0.1022\n",
      "Epoch 3/50\n",
      "20000/20000 [==============================] - 42s 2ms/step - loss: nan - acc: 0.1022\n",
      "Epoch 4/50\n",
      "20000/20000 [==============================] - 42s 2ms/step - loss: nan - acc: 0.1022\n",
      "Epoch 5/50\n",
      "20000/20000 [==============================] - 42s 2ms/step - loss: nan - acc: 0.1022\n",
      "Epoch 6/50\n",
      "20000/20000 [==============================] - 42s 2ms/step - loss: nan - acc: 0.1022\n",
      "Epoch 7/50\n",
      "20000/20000 [==============================] - 42s 2ms/step - loss: nan - acc: 0.1022\n",
      "Epoch 8/50\n",
      "20000/20000 [==============================] - 42s 2ms/step - loss: nan - acc: 0.1022\n",
      "Epoch 9/50\n",
      "20000/20000 [==============================] - 42s 2ms/step - loss: nan - acc: 0.1022\n",
      "Epoch 10/50\n",
      "20000/20000 [==============================] - 42s 2ms/step - loss: nan - acc: 0.1022\n",
      "Epoch 11/50\n",
      "20000/20000 [==============================] - 42s 2ms/step - loss: nan - acc: 0.1022\n",
      "Epoch 12/50\n",
      "20000/20000 [==============================] - 42s 2ms/step - loss: nan - acc: 0.1022\n",
      "Epoch 13/50\n",
      "20000/20000 [==============================] - 42s 2ms/step - loss: nan - acc: 0.1022\n",
      "Epoch 14/50\n",
      "20000/20000 [==============================] - 43s 2ms/step - loss: nan - acc: 0.1022\n",
      "Epoch 15/50\n",
      "20000/20000 [==============================] - 43s 2ms/step - loss: nan - acc: 0.1022\n",
      "Epoch 16/50\n",
      "20000/20000 [==============================] - 42s 2ms/step - loss: nan - acc: 0.1022\n",
      "Epoch 17/50\n",
      "20000/20000 [==============================] - 43s 2ms/step - loss: nan - acc: 0.1022\n",
      "Epoch 18/50\n",
      "20000/20000 [==============================] - 43s 2ms/step - loss: nan - acc: 0.1022\n",
      "Epoch 19/50\n",
      "20000/20000 [==============================] - 43s 2ms/step - loss: nan - acc: 0.1022\n",
      "Epoch 20/50\n",
      "20000/20000 [==============================] - 43s 2ms/step - loss: nan - acc: 0.1022\n",
      "Epoch 21/50\n",
      "20000/20000 [==============================] - 43s 2ms/step - loss: nan - acc: 0.1022\n",
      "Epoch 22/50\n",
      "20000/20000 [==============================] - 43s 2ms/step - loss: nan - acc: 0.1022\n",
      "Epoch 23/50\n",
      "20000/20000 [==============================] - 43s 2ms/step - loss: nan - acc: 0.1022\n",
      "Epoch 24/50\n",
      "20000/20000 [==============================] - 43s 2ms/step - loss: nan - acc: 0.1022\n",
      "Epoch 25/50\n",
      "20000/20000 [==============================] - 43s 2ms/step - loss: nan - acc: 0.1022\n",
      "Epoch 26/50\n",
      "20000/20000 [==============================] - 43s 2ms/step - loss: nan - acc: 0.1022\n",
      "Epoch 27/50\n",
      "20000/20000 [==============================] - 43s 2ms/step - loss: nan - acc: 0.1022\n",
      "Epoch 28/50\n",
      "20000/20000 [==============================] - 43s 2ms/step - loss: nan - acc: 0.1022\n",
      "Epoch 29/50\n",
      "20000/20000 [==============================] - 43s 2ms/step - loss: nan - acc: 0.1022\n",
      "Epoch 30/50\n",
      "20000/20000 [==============================] - 43s 2ms/step - loss: nan - acc: 0.1022\n",
      "Epoch 31/50\n",
      "20000/20000 [==============================] - 43s 2ms/step - loss: nan - acc: 0.1022\n",
      "Epoch 32/50\n",
      "20000/20000 [==============================] - 44s 2ms/step - loss: nan - acc: 0.1022\n",
      "Epoch 33/50\n",
      "20000/20000 [==============================] - 44s 2ms/step - loss: nan - acc: 0.1022\n",
      "Epoch 34/50\n",
      "20000/20000 [==============================] - 44s 2ms/step - loss: nan - acc: 0.1022\n",
      "Epoch 35/50\n",
      "20000/20000 [==============================] - 44s 2ms/step - loss: nan - acc: 0.1022\n",
      "Epoch 36/50\n",
      "20000/20000 [==============================] - 44s 2ms/step - loss: nan - acc: 0.1022\n",
      "Epoch 37/50\n",
      "20000/20000 [==============================] - 44s 2ms/step - loss: nan - acc: 0.1022\n",
      "Epoch 38/50\n",
      "20000/20000 [==============================] - 44s 2ms/step - loss: nan - acc: 0.1022\n",
      "Epoch 39/50\n",
      "20000/20000 [==============================] - 45s 2ms/step - loss: nan - acc: 0.1022\n",
      "Epoch 40/50\n",
      "20000/20000 [==============================] - 45s 2ms/step - loss: nan - acc: 0.1022\n",
      "Epoch 41/50\n",
      "20000/20000 [==============================] - 44s 2ms/step - loss: nan - acc: 0.1022\n",
      "Epoch 42/50\n",
      "20000/20000 [==============================] - 44s 2ms/step - loss: nan - acc: 0.1022\n",
      "Epoch 43/50\n",
      "20000/20000 [==============================] - 45s 2ms/step - loss: nan - acc: 0.1022\n",
      "Epoch 44/50\n",
      "20000/20000 [==============================] - 45s 2ms/step - loss: nan - acc: 0.1022\n",
      "Epoch 45/50\n",
      "20000/20000 [==============================] - 45s 2ms/step - loss: nan - acc: 0.1022\n",
      "Epoch 46/50\n",
      "20000/20000 [==============================] - 45s 2ms/step - loss: nan - acc: 0.1022\n",
      "Epoch 47/50\n",
      "20000/20000 [==============================] - 45s 2ms/step - loss: nan - acc: 0.1022\n",
      "Epoch 48/50\n",
      "20000/20000 [==============================] - 45s 2ms/step - loss: nan - acc: 0.1022\n",
      "Epoch 49/50\n",
      "20000/20000 [==============================] - 45s 2ms/step - loss: nan - acc: 0.1022\n",
      "Epoch 50/50\n",
      "20000/20000 [==============================] - 45s 2ms/step - loss: nan - acc: 0.1022\n"
     ]
    },
    {
     "data": {
      "text/plain": [
       "<keras.callbacks.History at 0x139ebe208>"
      ]
     },
     "execution_count": 8,
     "metadata": {},
     "output_type": "execute_result"
    }
   ],
   "source": [
    "from keras.models import Sequential\n",
    "from keras.optimizers import SGD,Adam\n",
    "from keras.layers import Dense,Conv2D,MaxPooling2D,Flatten,Dropout\n",
    "\n",
    "\n",
    "model = Sequential()\n",
    "model.add(Conv2D(16, (3,3), strides=(1, 1),padding='same',input_shape=(28,28,1),activation='relu', use_bias=True, bias_initializer='zeros'))\n",
    "model.add(Conv2D(16, (3,3), strides=(1, 1),padding='same',activation='relu', use_bias=True, bias_initializer='zeros'))\n",
    "model.add(MaxPooling2D(pool_size=(2, 2), strides=(2,2), padding='valid'))\n",
    "model.add(Conv2D(32, (3,3), strides=(1, 1),padding='same',activation='relu', use_bias=True, bias_initializer='zeros'))\n",
    "model.add(Conv2D(32, (3,3), strides=(1, 1),padding='same',activation='relu', use_bias=True, bias_initializer='zeros'))\n",
    "model.add(MaxPooling2D(pool_size=(2, 2), strides=(2,2), padding='valid'))\n",
    "model.add(Conv2D(64, (3,3), strides=(1, 1),padding='same',activation='relu', use_bias=True, bias_initializer='zeros'))\n",
    "model.add(Conv2D(64, (3,3), strides=(1, 1),padding='same',activation='relu', use_bias=True, bias_initializer='zeros'))\n",
    "model.add(MaxPooling2D(pool_size=(2, 2), strides=(2,2), padding='valid'))\n",
    "model.add(Flatten())\n",
    "model.add(Dense(units=50, activation='relu', use_bias=True)) #output = 100\n",
    "model.add(Dropout(rate=0.5))\n",
    "model.add(Dense(units=10, activation='softmax', use_bias=True)) #output = 10\n",
    "model.add(Dropout(rate=0.5))\n",
    "sgd = SGD(lr=0.01, momentum=0, nesterov=False)\n",
    "#adam = Adam(lr=0.001, beta_1=0.9, beta_2=0.999, epsilon=None, decay=0.0)\n",
    "model.compile(loss='categorical_crossentropy',optimizer=sgd,metrics=['accuracy'])\n",
    "\n",
    "tbCallBack = keras.callbacks.TensorBoard(log_dir='./Graph', histogram_freq=0, write_graph=True, write_images=True)\n",
    "\n",
    "model.fit(x_train_2, t_train_2, epochs=epochs, batch_size=batch_size,callbacks=[tbCallBack])"
   ]
  },
  {
   "cell_type": "code",
   "execution_count": null,
   "metadata": {},
   "outputs": [],
   "source": [
    "score = model.evaluate(x_test_2, t_test_2, batch_size=batch_size)"
   ]
  },
  {
   "cell_type": "code",
   "execution_count": 9,
   "metadata": {},
   "outputs": [
    {
     "data": {
      "text/plain": [
       "[<keras.layers.convolutional.Conv2D at 0x139d35cc0>,\n",
       " <keras.layers.convolutional.Conv2D at 0x139d35d30>,\n",
       " <keras.layers.pooling.MaxPooling2D at 0x139d35f28>,\n",
       " <keras.layers.convolutional.Conv2D at 0x139d35f98>,\n",
       " <keras.layers.convolutional.Conv2D at 0x139d22048>,\n",
       " <keras.layers.pooling.MaxPooling2D at 0x139d6f710>,\n",
       " <keras.layers.convolutional.Conv2D at 0x139d87f98>,\n",
       " <keras.layers.convolutional.Conv2D at 0x139d71048>,\n",
       " <keras.layers.pooling.MaxPooling2D at 0x139dc9438>,\n",
       " <keras.layers.core.Flatten at 0x139ddacf8>,\n",
       " <keras.layers.core.Dense at 0x139e05f28>,\n",
       " <keras.layers.core.Dropout at 0x139e05e80>,\n",
       " <keras.layers.core.Dense at 0x139e34f98>,\n",
       " <keras.layers.core.Dropout at 0x139e348d0>]"
      ]
     },
     "execution_count": 9,
     "metadata": {},
     "output_type": "execute_result"
    }
   ],
   "source": [
    "model.layers"
   ]
  },
  {
   "cell_type": "code",
   "execution_count": 14,
   "metadata": {},
   "outputs": [
    {
     "data": {
      "text/plain": [
       "array([[[[nan, nan, nan, ..., nan, nan, nan],\n",
       "         [nan, nan, nan, ..., nan, nan, nan],\n",
       "         [nan, nan, nan, ..., nan, nan, nan],\n",
       "         ...,\n",
       "         [nan, nan, nan, ..., nan, nan, nan],\n",
       "         [nan, nan, nan, ..., nan, nan, nan],\n",
       "         [nan, nan, nan, ..., nan, nan, nan]],\n",
       "\n",
       "        [[nan, nan, nan, ..., nan, nan, nan],\n",
       "         [nan, nan, nan, ..., nan, nan, nan],\n",
       "         [nan, nan, nan, ..., nan, nan, nan],\n",
       "         ...,\n",
       "         [nan, nan, nan, ..., nan, nan, nan],\n",
       "         [nan, nan, nan, ..., nan, nan, nan],\n",
       "         [nan, nan, nan, ..., nan, nan, nan]],\n",
       "\n",
       "        [[nan, nan, nan, ..., nan, nan, nan],\n",
       "         [nan, nan, nan, ..., nan, nan, nan],\n",
       "         [nan, nan, nan, ..., nan, nan, nan],\n",
       "         ...,\n",
       "         [nan, nan, nan, ..., nan, nan, nan],\n",
       "         [nan, nan, nan, ..., nan, nan, nan],\n",
       "         [nan, nan, nan, ..., nan, nan, nan]]],\n",
       "\n",
       "\n",
       "       [[[nan, nan, nan, ..., nan, nan, nan],\n",
       "         [nan, nan, nan, ..., nan, nan, nan],\n",
       "         [nan, nan, nan, ..., nan, nan, nan],\n",
       "         ...,\n",
       "         [nan, nan, nan, ..., nan, nan, nan],\n",
       "         [nan, nan, nan, ..., nan, nan, nan],\n",
       "         [nan, nan, nan, ..., nan, nan, nan]],\n",
       "\n",
       "        [[nan, nan, nan, ..., nan, nan, nan],\n",
       "         [nan, nan, nan, ..., nan, nan, nan],\n",
       "         [nan, nan, nan, ..., nan, nan, nan],\n",
       "         ...,\n",
       "         [nan, nan, nan, ..., nan, nan, nan],\n",
       "         [nan, nan, nan, ..., nan, nan, nan],\n",
       "         [nan, nan, nan, ..., nan, nan, nan]],\n",
       "\n",
       "        [[nan, nan, nan, ..., nan, nan, nan],\n",
       "         [nan, nan, nan, ..., nan, nan, nan],\n",
       "         [nan, nan, nan, ..., nan, nan, nan],\n",
       "         ...,\n",
       "         [nan, nan, nan, ..., nan, nan, nan],\n",
       "         [nan, nan, nan, ..., nan, nan, nan],\n",
       "         [nan, nan, nan, ..., nan, nan, nan]]],\n",
       "\n",
       "\n",
       "       [[[nan, nan, nan, ..., nan, nan, nan],\n",
       "         [nan, nan, nan, ..., nan, nan, nan],\n",
       "         [nan, nan, nan, ..., nan, nan, nan],\n",
       "         ...,\n",
       "         [nan, nan, nan, ..., nan, nan, nan],\n",
       "         [nan, nan, nan, ..., nan, nan, nan],\n",
       "         [nan, nan, nan, ..., nan, nan, nan]],\n",
       "\n",
       "        [[nan, nan, nan, ..., nan, nan, nan],\n",
       "         [nan, nan, nan, ..., nan, nan, nan],\n",
       "         [nan, nan, nan, ..., nan, nan, nan],\n",
       "         ...,\n",
       "         [nan, nan, nan, ..., nan, nan, nan],\n",
       "         [nan, nan, nan, ..., nan, nan, nan],\n",
       "         [nan, nan, nan, ..., nan, nan, nan]],\n",
       "\n",
       "        [[nan, nan, nan, ..., nan, nan, nan],\n",
       "         [nan, nan, nan, ..., nan, nan, nan],\n",
       "         [nan, nan, nan, ..., nan, nan, nan],\n",
       "         ...,\n",
       "         [nan, nan, nan, ..., nan, nan, nan],\n",
       "         [nan, nan, nan, ..., nan, nan, nan],\n",
       "         [nan, nan, nan, ..., nan, nan, nan]]]], dtype=float32)"
      ]
     },
     "execution_count": 14,
     "metadata": {},
     "output_type": "execute_result"
    }
   ],
   "source": [
    "model.layers[7].get_weights()"
   ]
  },
  {
   "cell_type": "code",
   "execution_count": null,
   "metadata": {},
   "outputs": [],
   "source": []
  }
 ],
 "metadata": {
  "kernelspec": {
   "display_name": "Python 3",
   "language": "python",
   "name": "python3"
  },
  "language_info": {
   "codemirror_mode": {
    "name": "ipython",
    "version": 3
   },
   "file_extension": ".py",
   "mimetype": "text/x-python",
   "name": "python",
   "nbconvert_exporter": "python",
   "pygments_lexer": "ipython3",
   "version": "3.6.4"
  }
 },
 "nbformat": 4,
 "nbformat_minor": 2
}
