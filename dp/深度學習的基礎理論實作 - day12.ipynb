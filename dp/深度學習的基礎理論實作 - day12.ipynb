{
 "cells": [
  {
   "cell_type": "markdown",
   "metadata": {},
   "source": [
    "20180311"
   ]
  },
  {
   "cell_type": "code",
   "execution_count": 1,
   "metadata": {},
   "outputs": [
    {
     "name": "stderr",
     "output_type": "stream",
     "text": [
      "Using TensorFlow backend.\n",
      "/usr/local/Cellar/python3/3.6.4_2/Frameworks/Python.framework/Versions/3.6/lib/python3.6/importlib/_bootstrap.py:219: RuntimeWarning: compiletime version 3.5 of module 'tensorflow.python.framework.fast_tensor_util' does not match runtime version 3.6\n",
      "  return f(*args, **kwds)\n"
     ]
    }
   ],
   "source": [
    "#import tensorflow as tf\n",
    "import keras"
   ]
  },
  {
   "cell_type": "code",
   "execution_count": 2,
   "metadata": {},
   "outputs": [],
   "source": [
    "import numpy as np\n",
    "import matplotlib.image as mpimg\n",
    "import matplotlib.pyplot as plt\n",
    "%matplotlib inline"
   ]
  },
  {
   "cell_type": "code",
   "execution_count": 3,
   "metadata": {},
   "outputs": [],
   "source": [
    "from sklearn import datasets\n",
    "def load_data(size):\n",
    "    mnist = datasets.fetch_mldata('MNIST original')\n",
    "    s = mnist.data.shape[0]\n",
    "    c = np.zeros(s)\n",
    "    c[np.random.choice(s,size,replace=False)] = 1\n",
    "    #n_train = size\n",
    "    data_train = mnist.data[c==1]\n",
    "    target_train = mnist.target[c==1]\n",
    "    data_test = mnist.data[c==0]\n",
    "    target_test = mnist.target[c==0]\n",
    "    return (data_train.astype(np.float32), target_train.astype(np.float32),data_test.astype(np.float32), target_test.astype(np.float32))\n"
   ]
  },
  {
   "cell_type": "code",
   "execution_count": 4,
   "metadata": {},
   "outputs": [],
   "source": [
    "(x_train,t_train,x_test,t_test) = load_data(20000)"
   ]
  },
  {
   "cell_type": "code",
   "execution_count": 5,
   "metadata": {},
   "outputs": [],
   "source": [
    "t_train_2 = keras.utils.to_categorical(t_train, num_classes=10)\n",
    "t_test_2 = keras.utils.to_categorical(t_test, num_classes=10)\n",
    "x_train_2 = (x_train/255).reshape(x_train.shape[0],28,28,-1)\n",
    "x_test_2 = (x_test/255).reshape(x_test.shape[0],28,28,1)"
   ]
  },
  {
   "cell_type": "code",
   "execution_count": 6,
   "metadata": {},
   "outputs": [
    {
     "data": {
      "text/plain": [
       "(50000, 28, 28, 1)"
      ]
     },
     "execution_count": 6,
     "metadata": {},
     "output_type": "execute_result"
    }
   ],
   "source": [
    "x_test_2.shape"
   ]
  },
  {
   "cell_type": "code",
   "execution_count": 7,
   "metadata": {},
   "outputs": [],
   "source": [
    "iters_num = 10000\n",
    "batch_size = 100\n",
    "epochs = 50"
   ]
  },
  {
   "cell_type": "code",
   "execution_count": null,
   "metadata": {},
   "outputs": [
    {
     "name": "stdout",
     "output_type": "stream",
     "text": [
      "Epoch 1/50\n",
      "20000/20000 [==============================] - 6s 319us/step - loss: 1.5622 - acc: 0.6103\n",
      "Epoch 2/50\n",
      "20000/20000 [==============================] - 6s 319us/step - loss: 0.5155 - acc: 0.8613\n",
      "Epoch 3/50\n",
      "20000/20000 [==============================] - 7s 329us/step - loss: 0.3813 - acc: 0.8934\n",
      "Epoch 4/50\n",
      "20000/20000 [==============================] - 7s 337us/step - loss: 0.3349 - acc: 0.9043\n",
      "Epoch 5/50\n",
      "20000/20000 [==============================] - 7s 325us/step - loss: 0.3077 - acc: 0.9120\n",
      "Epoch 6/50\n",
      "20000/20000 [==============================] - 7s 341us/step - loss: 0.2868 - acc: 0.9174\n",
      "Epoch 7/50\n",
      "20000/20000 [==============================] - 7s 345us/step - loss: 0.2702 - acc: 0.9211\n",
      "Epoch 8/50\n",
      "20000/20000 [==============================] - 7s 345us/step - loss: 0.2540 - acc: 0.9262\n",
      "Epoch 9/50\n",
      "20000/20000 [==============================] - 7s 343us/step - loss: 0.2402 - acc: 0.9310\n",
      "Epoch 10/50\n",
      "20000/20000 [==============================] - 7s 347us/step - loss: 0.2277 - acc: 0.9333\n",
      "Epoch 11/50\n",
      "20000/20000 [==============================] - 7s 346us/step - loss: 0.2167 - acc: 0.9383\n",
      "Epoch 12/50\n",
      "20000/20000 [==============================] - 7s 354us/step - loss: 0.2073 - acc: 0.9394\n",
      "Epoch 13/50\n",
      "20000/20000 [==============================] - 7s 354us/step - loss: 0.1973 - acc: 0.9430\n",
      "Epoch 14/50\n",
      "20000/20000 [==============================] - 7s 353us/step - loss: 0.1889 - acc: 0.9445\n",
      "Epoch 15/50\n",
      "20000/20000 [==============================] - 7s 355us/step - loss: 0.1811 - acc: 0.9471\n",
      "Epoch 16/50\n",
      "20000/20000 [==============================] - 7s 354us/step - loss: 0.1734 - acc: 0.9495\n",
      "Epoch 17/50\n",
      "20000/20000 [==============================] - 7s 346us/step - loss: 0.1669 - acc: 0.9521\n",
      "Epoch 18/50\n",
      "20000/20000 [==============================] - 7s 343us/step - loss: 0.1600 - acc: 0.9545\n",
      "Epoch 19/50\n",
      "20000/20000 [==============================] - 7s 348us/step - loss: 0.1542 - acc: 0.9559\n",
      "Epoch 20/50\n",
      "20000/20000 [==============================] - 7s 342us/step - loss: 0.1488 - acc: 0.9578\n",
      "Epoch 21/50\n",
      "20000/20000 [==============================] - 7s 358us/step - loss: 0.1430 - acc: 0.9589\n",
      "Epoch 22/50\n",
      "20000/20000 [==============================] - 7s 343us/step - loss: 0.1380 - acc: 0.9598\n",
      "Epoch 23/50\n",
      "20000/20000 [==============================] - 7s 345us/step - loss: 0.1329 - acc: 0.9632\n",
      "Epoch 24/50\n",
      "20000/20000 [==============================] - 7s 345us/step - loss: 0.1295 - acc: 0.9630\n",
      "Epoch 25/50\n",
      "20000/20000 [==============================] - 7s 345us/step - loss: 0.1249 - acc: 0.9640\n",
      "Epoch 26/50\n",
      "20000/20000 [==============================] - 7s 344us/step - loss: 0.1201 - acc: 0.9648\n",
      "Epoch 27/50\n",
      "20000/20000 [==============================] - 7s 353us/step - loss: 0.1155 - acc: 0.9677\n",
      "Epoch 28/50\n",
      "20000/20000 [==============================] - 7s 353us/step - loss: 0.1126 - acc: 0.9681\n",
      "Epoch 29/50\n",
      "20000/20000 [==============================] - 7s 349us/step - loss: 0.1086 - acc: 0.9699\n",
      "Epoch 30/50\n",
      "20000/20000 [==============================] - 7s 355us/step - loss: 0.1047 - acc: 0.9704\n",
      "Epoch 31/50\n",
      "20000/20000 [==============================] - 7s 357us/step - loss: 0.1013 - acc: 0.9716\n",
      "Epoch 32/50\n",
      "20000/20000 [==============================] - 7s 352us/step - loss: 0.0986 - acc: 0.9723\n",
      "Epoch 33/50\n",
      "20000/20000 [==============================] - 7s 343us/step - loss: 0.0966 - acc: 0.9724\n",
      "Epoch 34/50\n",
      "20000/20000 [==============================] - 7s 345us/step - loss: 0.0927 - acc: 0.9741\n",
      "Epoch 35/50\n",
      "20000/20000 [==============================] - 7s 345us/step - loss: 0.0895 - acc: 0.9746\n",
      "Epoch 36/50\n",
      "20000/20000 [==============================] - 7s 351us/step - loss: 0.0873 - acc: 0.9759\n",
      "Epoch 37/50\n",
      "20000/20000 [==============================] - 7s 354us/step - loss: 0.0843 - acc: 0.9766\n",
      "Epoch 38/50\n",
      "20000/20000 [==============================] - 7s 339us/step - loss: 0.0823 - acc: 0.9776\n",
      "Epoch 39/50\n",
      "20000/20000 [==============================] - 7s 342us/step - loss: 0.0802 - acc: 0.9775\n",
      "Epoch 40/50\n",
      "20000/20000 [==============================] - 7s 344us/step - loss: 0.0775 - acc: 0.9787\n",
      "Epoch 41/50\n",
      "20000/20000 [==============================] - 7s 342us/step - loss: 0.0752 - acc: 0.9796\n",
      "Epoch 42/50\n",
      "20000/20000 [==============================] - 7s 340us/step - loss: 0.0734 - acc: 0.9798\n",
      "Epoch 43/50\n",
      "20000/20000 [==============================] - 7s 359us/step - loss: 0.0710 - acc: 0.9811\n",
      "Epoch 44/50\n",
      "20000/20000 [==============================] - 7s 343us/step - loss: 0.0691 - acc: 0.9807\n",
      "Epoch 45/50\n",
      "20000/20000 [==============================] - 7s 357us/step - loss: 0.0672 - acc: 0.9824\n",
      "Epoch 46/50\n",
      "20000/20000 [==============================] - 7s 344us/step - loss: 0.0665 - acc: 0.9820\n",
      "Epoch 47/50\n",
      "18500/20000 [==========================>...] - ETA: 0s - loss: 0.0627 - acc: 0.9837"
     ]
    }
   ],
   "source": [
    "from keras.models import Sequential\n",
    "from keras.optimizers import SGD\n",
    "from keras.layers import Dense,Conv2D,MaxPooling2D,Flatten\n",
    "\n",
    "\n",
    "model = Sequential()\n",
    "model.add(Conv2D(30, (5,5), strides=(1, 1),input_shape=(28,28,1),activation='relu', use_bias=True, bias_initializer='zeros'))\n",
    "model.add(MaxPooling2D(pool_size=(2, 2), strides=(2,2), padding='valid'))\n",
    "model.add(Flatten())\n",
    "model.add(Dense(units=100, activation='relu', use_bias=True)) #output = 100\n",
    "model.add(Dense(units=10, activation='softmax', use_bias=True)) #output = 10\n",
    "\n",
    "sgd = SGD(lr=0.01, momentum=0, nesterov=False)\n",
    "model.compile(loss='categorical_crossentropy',optimizer=sgd,metrics=['accuracy'])\n",
    "model.fit(x_train_2, t_train_2, epochs=epochs, batch_size=batch_size)"
   ]
  },
  {
   "cell_type": "code",
   "execution_count": null,
   "metadata": {},
   "outputs": [],
   "source": [
    "score = model.evaluate(x_test_2, t_test_2, batch_size=batch_size)"
   ]
  },
  {
   "cell_type": "code",
   "execution_count": null,
   "metadata": {},
   "outputs": [],
   "source": []
  }
 ],
 "metadata": {
  "kernelspec": {
   "display_name": "Python 3",
   "language": "python",
   "name": "python3"
  },
  "language_info": {
   "codemirror_mode": {
    "name": "ipython",
    "version": 3
   },
   "file_extension": ".py",
   "mimetype": "text/x-python",
   "name": "python",
   "nbconvert_exporter": "python",
   "pygments_lexer": "ipython3",
   "version": "3.6.4"
  }
 },
 "nbformat": 4,
 "nbformat_minor": 2
}
